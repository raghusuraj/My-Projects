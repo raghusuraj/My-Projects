{
 "cells": [
  {
   "cell_type": "code",
   "execution_count": 33,
   "id": "4dfd419c",
   "metadata": {},
   "outputs": [],
   "source": [
    "# Libraries Used\n",
    "import requests\n",
    "from bs4 import BeautifulSoup\n",
    "import numpy as np\n",
    "import re\n",
    "import pandas as pd"
   ]
  },
  {
   "cell_type": "markdown",
   "id": "ffb0bf13",
   "metadata": {},
   "source": [
    "### Scraping Data from the IMDB Website"
   ]
  },
  {
   "cell_type": "code",
   "execution_count": 14,
   "id": "1680350f",
   "metadata": {},
   "outputs": [],
   "source": [
    "page=requests.get(\"https://www.imdb.com/list/ls023757565/\")"
   ]
  },
  {
   "cell_type": "code",
   "execution_count": 15,
   "id": "5a004184",
   "metadata": {},
   "outputs": [
    {
     "data": {
      "text/plain": [
       "<Response [200]>"
      ]
     },
     "execution_count": 15,
     "metadata": {},
     "output_type": "execute_result"
    }
   ],
   "source": [
    "page"
   ]
  },
  {
   "cell_type": "code",
   "execution_count": 16,
   "id": "fb43da59",
   "metadata": {},
   "outputs": [],
   "source": [
    "soup=BeautifulSoup(page.text)"
   ]
  },
  {
   "cell_type": "markdown",
   "id": "23139013",
   "metadata": {},
   "source": [
    "### Extracting Columns From Web"
   ]
  },
  {
   "cell_type": "code",
   "execution_count": 18,
   "id": "be55d976",
   "metadata": {},
   "outputs": [],
   "source": [
    "movie=[]\n",
    "for i in soup.find_all(\"h3\",class_=\"lister-item-header\"):\n",
    "    a=i.text\n",
    "    b=re.sub(\"[\\n\\d'.'\\n\\d+'()']\",\"\",a)\n",
    "    movie.append(b)\n"
   ]
  },
  {
   "cell_type": "code",
   "execution_count": 20,
   "id": "4e940a6f",
   "metadata": {
    "scrolled": true
   },
   "outputs": [
    {
     "data": {
      "text/plain": [
       "100"
      ]
     },
     "execution_count": 20,
     "metadata": {},
     "output_type": "execute_result"
    }
   ],
   "source": [
    "len(movie)"
   ]
  },
  {
   "cell_type": "code",
   "execution_count": 34,
   "id": "14bb2415",
   "metadata": {},
   "outputs": [
    {
     "data": {
      "text/plain": [
       "100"
      ]
     },
     "execution_count": 34,
     "metadata": {},
     "output_type": "execute_result"
    }
   ],
   "source": [
    "year=[]\n",
    "for i in soup.find_all(\"span\",class_=\"lister-item-year text-muted unbold\"):\n",
    "    y=i.text\n",
    "    year.append(y)\n",
    "len(year)    "
   ]
  },
  {
   "cell_type": "code",
   "execution_count": 64,
   "id": "53e9cbd7",
   "metadata": {},
   "outputs": [],
   "source": [
    "# Cleaning Year Column By Removing () Braces\n",
    "yr = []\n",
    "for i in df[\"Release_Year\"]:\n",
    "    yr.append(re.sub(\"[()]\",\"\",i))\n",
    "df[\"Release_Year\"]=yr"
   ]
  },
  {
   "cell_type": "code",
   "execution_count": 70,
   "id": "839f5faf",
   "metadata": {},
   "outputs": [
    {
     "data": {
      "text/plain": [
       "100"
      ]
     },
     "execution_count": 70,
     "metadata": {},
     "output_type": "execute_result"
    }
   ],
   "source": [
    "# Cleaning Year Column By Removing \"I\"\n",
    "y=[]\n",
    "for i in df[\"Release_Year\"]:\n",
    "    i = i.replace(\"I\",\"\")\n",
    "    y.append(i)\n",
    "len(y)"
   ]
  },
  {
   "cell_type": "code",
   "execution_count": 73,
   "id": "eb434a95",
   "metadata": {},
   "outputs": [
    {
     "data": {
      "text/plain": [
       "100"
      ]
     },
     "execution_count": 73,
     "metadata": {},
     "output_type": "execute_result"
    }
   ],
   "source": [
    "duration=[]\n",
    "for i in soup.find_all(\"span\",class_=\"runtime\"):\n",
    "    d=i.text\n",
    "    duration.append(d)\n",
    "len(duration)"
   ]
  },
  {
   "cell_type": "code",
   "execution_count": 74,
   "id": "508cc4dc",
   "metadata": {},
   "outputs": [],
   "source": [
    "# Cleaning Duration Column By Removing \"min\"\n",
    "dur=[]\n",
    "for i in df[\"Duration(In Minutes)\"]:\n",
    "    dur.append(i.replace(\"min\",\"\"))\n",
    "df[\"Duration(In Minutes)\"] = dur"
   ]
  },
  {
   "cell_type": "code",
   "execution_count": 37,
   "id": "74963e3c",
   "metadata": {},
   "outputs": [
    {
     "data": {
      "text/plain": [
       "100"
      ]
     },
     "execution_count": 37,
     "metadata": {},
     "output_type": "execute_result"
    }
   ],
   "source": [
    "genre=[]\n",
    "for i in soup.find_all(\"span\",class_=\"genre\"):\n",
    "    g=i.text\n",
    "    f=re.sub(\"[\\n,',']\",\"\",g)\n",
    "    genre.append(f)\n",
    "len(genre)"
   ]
  },
  {
   "cell_type": "code",
   "execution_count": null,
   "id": "55b79cdb",
   "metadata": {},
   "outputs": [],
   "source": []
  },
  {
   "cell_type": "code",
   "execution_count": 338,
   "id": "31dbe39b",
   "metadata": {},
   "outputs": [],
   "source": [
    "# Cleaning Genre column By Removing \"\\n\"\n",
    "gen = []\n",
    "for i in df[\"Genre\"]:\n",
    "    gen.append(i.replace(\"\\n\",\"\"))\n",
    "df[\"Genre\"] = gen"
   ]
  },
  {
   "cell_type": "code",
   "execution_count": 77,
   "id": "dcc1f740",
   "metadata": {},
   "outputs": [],
   "source": [
    "rating=[]\n",
    "rat=soup.find_all(\"span\",class_=\"ipl-rating-star__rating\")\n",
    "for i in rat:\n",
    "    pro=i.text\n",
    "    rating.append(pro.split(\",\")[0].split(\"(\")[0])"
   ]
  },
  {
   "cell_type": "code",
   "execution_count": 78,
   "id": "32f95b5b",
   "metadata": {},
   "outputs": [
    {
     "data": {
      "text/plain": [
       "100"
      ]
     },
     "execution_count": 78,
     "metadata": {},
     "output_type": "execute_result"
    }
   ],
   "source": [
    "Name=[]\n",
    "for i,char in enumerate(rating):\n",
    "    if i%23==0:\n",
    "        Name.append(char)\n",
    "len(Name)"
   ]
  },
  {
   "cell_type": "code",
   "execution_count": 40,
   "id": "85d27fa0",
   "metadata": {},
   "outputs": [],
   "source": [
    "gro=[]\n",
    "for i in soup.find_all('p', class_='text-muted text-small'):\n",
    "    a=i.text\n",
    "    b=a.split('\\n')[-2]\n",
    "    \n",
    "    gro.append(b)"
   ]
  },
  {
   "cell_type": "code",
   "execution_count": 41,
   "id": "afbc36ce",
   "metadata": {},
   "outputs": [],
   "source": [
    "gross=[]\n",
    "for i,x in enumerate(gro):\n",
    "    if i%3==2:\n",
    "        gross.append(x)"
   ]
  },
  {
   "cell_type": "code",
   "execution_count": 42,
   "id": "339df6e0",
   "metadata": {},
   "outputs": [
    {
     "data": {
      "text/plain": [
       "100"
      ]
     },
     "execution_count": 42,
     "metadata": {},
     "output_type": "execute_result"
    }
   ],
   "source": [
    "len(gross)"
   ]
  },
  {
   "cell_type": "code",
   "execution_count": 59,
   "id": "6b8c8986",
   "metadata": {},
   "outputs": [
    {
     "data": {
      "text/plain": [
       "100"
      ]
     },
     "execution_count": 59,
     "metadata": {},
     "output_type": "execute_result"
    }
   ],
   "source": [
    "# Cleaning Gross column by Removing \"$\"\n",
    "Grs=[]\n",
    "for i in df[\"Collection(In Millions)\"]:\n",
    "    i = i.replace(\"$\",\"\")\n",
    "    Grs.append(i)\n",
    "len(Grs)"
   ]
  },
  {
   "cell_type": "code",
   "execution_count": 61,
   "id": "19091652",
   "metadata": {},
   "outputs": [
    {
     "data": {
      "text/plain": [
       "100"
      ]
     },
     "execution_count": 61,
     "metadata": {},
     "output_type": "execute_result"
    }
   ],
   "source": [
    "# Cleaning Gross Column by Removing \"M\"\n",
    "Gr=[]\n",
    "for i in df[\"Collection(In Millions)\"]:\n",
    "    i = i.replace(\"M\",\"\")\n",
    "    Gr.append(i)\n",
    "len(Gr)"
   ]
  },
  {
   "cell_type": "code",
   "execution_count": 43,
   "id": "5e3b07fb",
   "metadata": {},
   "outputs": [],
   "source": [
    "vot=[]\n",
    "for i in soup.find_all('p', class_='text-muted text-small'):\n",
    "    a=i.text\n",
    "    b=a.split('\\n')[-4]\n",
    "    vot.append(b)"
   ]
  },
  {
   "cell_type": "code",
   "execution_count": 44,
   "id": "f8e26ab7",
   "metadata": {},
   "outputs": [],
   "source": [
    "votings=[]\n",
    "for i,x in enumerate(vot):\n",
    "    if i%3==2:\n",
    "        votings.append(x)"
   ]
  },
  {
   "cell_type": "code",
   "execution_count": 283,
   "id": "097b0e0f",
   "metadata": {},
   "outputs": [
    {
     "data": {
      "text/plain": [
       "100"
      ]
     },
     "execution_count": 283,
     "metadata": {},
     "output_type": "execute_result"
    }
   ],
   "source": [
    "len(votings)"
   ]
  },
  {
   "cell_type": "code",
   "execution_count": 45,
   "id": "3bc1850c",
   "metadata": {},
   "outputs": [
    {
     "data": {
      "text/plain": [
       "99"
      ]
     },
     "execution_count": 45,
     "metadata": {},
     "output_type": "execute_result"
    }
   ],
   "source": [
    "mt=[]\n",
    "for i in soup.find_all(\"div\",class_=\"inline-block ratings-metascore\"):\n",
    "    a=i.text.split('\\n')[1]\n",
    "    mot = a.strip()\n",
    "    mt.append(mot)\n",
    "len(mt)"
   ]
  },
  {
   "cell_type": "code",
   "execution_count": 46,
   "id": "652f933f",
   "metadata": {},
   "outputs": [],
   "source": [
    "mt.extend([np.nan])\n",
    "# Added Nan Value in MetaScore"
   ]
  },
  {
   "cell_type": "code",
   "execution_count": 47,
   "id": "9f66f431",
   "metadata": {},
   "outputs": [
    {
     "data": {
      "text/plain": [
       "100"
      ]
     },
     "execution_count": 47,
     "metadata": {},
     "output_type": "execute_result"
    }
   ],
   "source": [
    "len(mt)"
   ]
  },
  {
   "cell_type": "code",
   "execution_count": 105,
   "id": "e4591eab",
   "metadata": {},
   "outputs": [],
   "source": [
    "df=pd.DataFrame({'Movie_Name':movie,\n",
    "     'Release_Year':y,\n",
    "     'Duration(In Minutes)':dur,\n",
    "     'Genre':genre,\n",
    "     'Ratings':Name,\n",
    "     'Collection(In Millions)':Grs,\n",
    "     'Votings':votings,\n",
    "     'MetaScore':mt\n",
    "    })"
   ]
  },
  {
   "cell_type": "markdown",
   "id": "8766199c",
   "metadata": {},
   "source": [
    "#### Converting dataframe with extracted file by using Pandas"
   ]
  },
  {
   "cell_type": "code",
   "execution_count": 106,
   "id": "03ac4ebf",
   "metadata": {},
   "outputs": [
    {
     "data": {
      "text/html": [
       "<div>\n",
       "<style scoped>\n",
       "    .dataframe tbody tr th:only-of-type {\n",
       "        vertical-align: middle;\n",
       "    }\n",
       "\n",
       "    .dataframe tbody tr th {\n",
       "        vertical-align: top;\n",
       "    }\n",
       "\n",
       "    .dataframe thead th {\n",
       "        text-align: right;\n",
       "    }\n",
       "</style>\n",
       "<table border=\"1\" class=\"dataframe\">\n",
       "  <thead>\n",
       "    <tr style=\"text-align: right;\">\n",
       "      <th></th>\n",
       "      <th>Movie_Name</th>\n",
       "      <th>Release_Year</th>\n",
       "      <th>Duration(In Minutes)</th>\n",
       "      <th>Genre</th>\n",
       "      <th>Ratings</th>\n",
       "      <th>Collection(In Millions)</th>\n",
       "      <th>Votings</th>\n",
       "      <th>MetaScore</th>\n",
       "    </tr>\n",
       "  </thead>\n",
       "  <tbody>\n",
       "    <tr>\n",
       "      <th>0</th>\n",
       "      <td>The Matrix</td>\n",
       "      <td>1999</td>\n",
       "      <td>136</td>\n",
       "      <td>[Action, Sci-Fi]</td>\n",
       "      <td>8.7</td>\n",
       "      <td>171.48</td>\n",
       "      <td>1,870,818</td>\n",
       "      <td>73</td>\n",
       "    </tr>\n",
       "    <tr>\n",
       "      <th>1</th>\n",
       "      <td>The Matrix Reloaded</td>\n",
       "      <td>2003</td>\n",
       "      <td>138</td>\n",
       "      <td>[Action, Sci-Fi]</td>\n",
       "      <td>7.2</td>\n",
       "      <td>281.49</td>\n",
       "      <td>587,402</td>\n",
       "      <td>62</td>\n",
       "    </tr>\n",
       "    <tr>\n",
       "      <th>2</th>\n",
       "      <td>The Matrix Revolutions</td>\n",
       "      <td>2003</td>\n",
       "      <td>129</td>\n",
       "      <td>[Action, Sci-Fi]</td>\n",
       "      <td>6.7</td>\n",
       "      <td>139.31</td>\n",
       "      <td>507,016</td>\n",
       "      <td>47</td>\n",
       "    </tr>\n",
       "    <tr>\n",
       "      <th>3</th>\n",
       "      <td>Alien</td>\n",
       "      <td>1979</td>\n",
       "      <td>117</td>\n",
       "      <td>[Horror, Sci-Fi]</td>\n",
       "      <td>8.5</td>\n",
       "      <td>78.90</td>\n",
       "      <td>860,202</td>\n",
       "      <td>89</td>\n",
       "    </tr>\n",
       "    <tr>\n",
       "      <th>4</th>\n",
       "      <td>Aliens</td>\n",
       "      <td>1986</td>\n",
       "      <td>137</td>\n",
       "      <td>[Action, Adventure, Sci-Fi]</td>\n",
       "      <td>8.4</td>\n",
       "      <td>85.16</td>\n",
       "      <td>703,791</td>\n",
       "      <td>84</td>\n",
       "    </tr>\n",
       "    <tr>\n",
       "      <th>...</th>\n",
       "      <td>...</td>\n",
       "      <td>...</td>\n",
       "      <td>...</td>\n",
       "      <td>...</td>\n",
       "      <td>...</td>\n",
       "      <td>...</td>\n",
       "      <td>...</td>\n",
       "      <td>...</td>\n",
       "    </tr>\n",
       "    <tr>\n",
       "      <th>95</th>\n",
       "      <td>The Truman Show</td>\n",
       "      <td>1998</td>\n",
       "      <td>103</td>\n",
       "      <td>[Comedy, Drama]</td>\n",
       "      <td>8.2</td>\n",
       "      <td>125.62</td>\n",
       "      <td>1,047,244</td>\n",
       "      <td>76</td>\n",
       "    </tr>\n",
       "    <tr>\n",
       "      <th>96</th>\n",
       "      <td>Guardians of the Galaxy</td>\n",
       "      <td>2014</td>\n",
       "      <td>121</td>\n",
       "      <td>[Action, Adventure, Comedy]</td>\n",
       "      <td>8</td>\n",
       "      <td>333.18</td>\n",
       "      <td>1,149,401</td>\n",
       "      <td>81</td>\n",
       "    </tr>\n",
       "    <tr>\n",
       "      <th>97</th>\n",
       "      <td>The Exorcist</td>\n",
       "      <td>1973</td>\n",
       "      <td>122</td>\n",
       "      <td>[Horror]</td>\n",
       "      <td>8.1</td>\n",
       "      <td>232.91</td>\n",
       "      <td>396,041</td>\n",
       "      <td>65</td>\n",
       "    </tr>\n",
       "    <tr>\n",
       "      <th>98</th>\n",
       "      <td>I Am Legend</td>\n",
       "      <td>2007</td>\n",
       "      <td>101</td>\n",
       "      <td>[Action, Drama, Sci-Fi]</td>\n",
       "      <td>7.2</td>\n",
       "      <td>256.39</td>\n",
       "      <td>743,427</td>\n",
       "      <td>79</td>\n",
       "    </tr>\n",
       "    <tr>\n",
       "      <th>99</th>\n",
       "      <td>Black Swan</td>\n",
       "      <td>2010</td>\n",
       "      <td>108</td>\n",
       "      <td>[Drama, Thriller]</td>\n",
       "      <td>8</td>\n",
       "      <td>106.95</td>\n",
       "      <td>751,216</td>\n",
       "      <td>NaN</td>\n",
       "    </tr>\n",
       "  </tbody>\n",
       "</table>\n",
       "<p>100 rows × 8 columns</p>\n",
       "</div>"
      ],
      "text/plain": [
       "                 Movie_Name Release_Year Duration(In Minutes)  \\\n",
       "0                The Matrix         1999                 136    \n",
       "1       The Matrix Reloaded         2003                 138    \n",
       "2    The Matrix Revolutions         2003                 129    \n",
       "3                     Alien         1979                 117    \n",
       "4                    Aliens         1986                 137    \n",
       "..                      ...          ...                  ...   \n",
       "95          The Truman Show         1998                 103    \n",
       "96  Guardians of the Galaxy         2014                 121    \n",
       "97             The Exorcist         1973                 122    \n",
       "98              I Am Legend         2007                 101    \n",
       "99               Black Swan         2010                 108    \n",
       "\n",
       "                          Genre Ratings Collection(In Millions)    Votings  \\\n",
       "0              [Action, Sci-Fi]     8.7                  171.48  1,870,818   \n",
       "1              [Action, Sci-Fi]     7.2                  281.49    587,402   \n",
       "2              [Action, Sci-Fi]     6.7                  139.31    507,016   \n",
       "3              [Horror, Sci-Fi]     8.5                   78.90    860,202   \n",
       "4   [Action, Adventure, Sci-Fi]     8.4                   85.16    703,791   \n",
       "..                          ...     ...                     ...        ...   \n",
       "95              [Comedy, Drama]     8.2                  125.62  1,047,244   \n",
       "96  [Action, Adventure, Comedy]       8                  333.18  1,149,401   \n",
       "97                     [Horror]     8.1                  232.91    396,041   \n",
       "98      [Action, Drama, Sci-Fi]     7.2                  256.39    743,427   \n",
       "99            [Drama, Thriller]       8                  106.95    751,216   \n",
       "\n",
       "   MetaScore  \n",
       "0         73  \n",
       "1         62  \n",
       "2         47  \n",
       "3         89  \n",
       "4         84  \n",
       "..       ...  \n",
       "95        76  \n",
       "96        81  \n",
       "97        65  \n",
       "98        79  \n",
       "99       NaN  \n",
       "\n",
       "[100 rows x 8 columns]"
      ]
     },
     "execution_count": 106,
     "metadata": {},
     "output_type": "execute_result"
    }
   ],
   "source": [
    "df"
   ]
  },
  {
   "cell_type": "raw",
   "id": "a77b8193",
   "metadata": {},
   "source": [
    "page2=requests.get(\"https://www.imdb.com/list/ls023757565/?sort=list_order,asc&st_dt=&mode=detail&page=2\")\n",
    "page2"
   ]
  },
  {
   "cell_type": "code",
   "execution_count": 177,
   "id": "f0f72a7a",
   "metadata": {},
   "outputs": [],
   "source": [
    "soup=BeautifulSoup(page2.text)"
   ]
  },
  {
   "cell_type": "code",
   "execution_count": 178,
   "id": "06377ec8",
   "metadata": {},
   "outputs": [
    {
     "data": {
      "text/plain": [
       "100"
      ]
     },
     "execution_count": 178,
     "metadata": {},
     "output_type": "execute_result"
    }
   ],
   "source": [
    "movie=[]\n",
    "for i in soup.find_all(\"h3\",class_=\"lister-item-header\"):\n",
    "    a=i.text\n",
    "    b=re.sub(\"[\\n\\d'.'\\n\\d+'()']\",\"\",a)\n",
    "    movie.append(b)\n",
    "len(movie)"
   ]
  },
  {
   "cell_type": "code",
   "execution_count": 179,
   "id": "7875591d",
   "metadata": {},
   "outputs": [
    {
     "data": {
      "text/plain": [
       "100"
      ]
     },
     "execution_count": 179,
     "metadata": {},
     "output_type": "execute_result"
    }
   ],
   "source": [
    "year=[]\n",
    "for i in soup.find_all(\"span\",class_=\"lister-item-year text-muted unbold\"):\n",
    "    y=i.text\n",
    "    year.append(y)\n",
    "len(year)"
   ]
  },
  {
   "cell_type": "code",
   "execution_count": 180,
   "id": "4f896bfb",
   "metadata": {},
   "outputs": [],
   "source": [
    "yr = []\n",
    "for i in df1[\"Release_Year\"]:\n",
    "    yr.append(re.sub(\"[()]\",\"\",i))\n",
    "df1[\"Release_Year\"]=yr"
   ]
  },
  {
   "cell_type": "code",
   "execution_count": 181,
   "id": "8be27b67",
   "metadata": {},
   "outputs": [
    {
     "data": {
      "text/plain": [
       "100"
      ]
     },
     "execution_count": 181,
     "metadata": {},
     "output_type": "execute_result"
    }
   ],
   "source": [
    "y=[]\n",
    "for i in df1[\"Release_Year\"]:\n",
    "    i = i.replace(\"I\",\"\")\n",
    "    y.append(i)\n",
    "len(y)"
   ]
  },
  {
   "cell_type": "code",
   "execution_count": 182,
   "id": "5e083042",
   "metadata": {},
   "outputs": [
    {
     "data": {
      "text/plain": [
       "100"
      ]
     },
     "execution_count": 182,
     "metadata": {},
     "output_type": "execute_result"
    }
   ],
   "source": [
    "duration=[]\n",
    "for i in soup.find_all(\"span\",class_=\"runtime\"):\n",
    "    d=i.text\n",
    "    duration.append(d)\n",
    "len(duration)"
   ]
  },
  {
   "cell_type": "code",
   "execution_count": 183,
   "id": "b5aabeda",
   "metadata": {},
   "outputs": [],
   "source": [
    "dur=[]\n",
    "for i in df1[\"Duration(In Minutes)\"]:\n",
    "    dur.append(i.replace(\"min\",\"\"))\n",
    "df1[\"Duration(In Minutes)\"] = dur"
   ]
  },
  {
   "cell_type": "code",
   "execution_count": 184,
   "id": "6e43d28f",
   "metadata": {},
   "outputs": [
    {
     "data": {
      "text/plain": [
       "100"
      ]
     },
     "execution_count": 184,
     "metadata": {},
     "output_type": "execute_result"
    }
   ],
   "source": [
    "genre=[]\n",
    "for i in soup.find_all(\"span\",class_=\"genre\"):\n",
    "    g=i.text\n",
    "    genre.append(g)\n",
    "len(genre)"
   ]
  },
  {
   "cell_type": "code",
   "execution_count": 185,
   "id": "b567f3c1",
   "metadata": {},
   "outputs": [],
   "source": [
    "gen = []\n",
    "for i in df1[\"Genre\"]:\n",
    "    gen.append(i.replace(\"\\n\",\"\"))\n",
    "df1[\"Genre\"] = gen"
   ]
  },
  {
   "cell_type": "code",
   "execution_count": 186,
   "id": "5990eec8",
   "metadata": {},
   "outputs": [
    {
     "data": {
      "text/plain": [
       "100"
      ]
     },
     "execution_count": 186,
     "metadata": {},
     "output_type": "execute_result"
    }
   ],
   "source": [
    "gro=[]\n",
    "for i in soup.find_all('p', class_='text-muted text-small'):\n",
    "    a=i.text\n",
    "    b=a.split('\\n')[-2]\n",
    "    \n",
    "    gro.append(b)\n",
    "    \n",
    "gross=[]\n",
    "for i,x in enumerate(gro):\n",
    "    if i%3==2:\n",
    "        gross.append(x)\n",
    "        \n",
    "len(gross)"
   ]
  },
  {
   "cell_type": "code",
   "execution_count": 187,
   "id": "b83d6418",
   "metadata": {},
   "outputs": [
    {
     "data": {
      "text/plain": [
       "100"
      ]
     },
     "execution_count": 187,
     "metadata": {},
     "output_type": "execute_result"
    }
   ],
   "source": [
    "Grs=[]\n",
    "for i in df1[\"Collection(In Millions)\"]:\n",
    "    i = i.replace(\"$\",\"\")\n",
    "    Grs.append(i)\n",
    "len(Grs)"
   ]
  },
  {
   "cell_type": "code",
   "execution_count": 188,
   "id": "fc612fc2",
   "metadata": {},
   "outputs": [
    {
     "data": {
      "text/plain": [
       "100"
      ]
     },
     "execution_count": 188,
     "metadata": {},
     "output_type": "execute_result"
    }
   ],
   "source": [
    "Gr=[]\n",
    "for i in df1[\"Collection(In Millions)\"]:\n",
    "    i = i.replace(\"M\",\"\")\n",
    "    Gr.append(i)\n",
    "len(Gr)"
   ]
  },
  {
   "cell_type": "code",
   "execution_count": 286,
   "id": "fb7b4cf5",
   "metadata": {},
   "outputs": [
    {
     "data": {
      "text/plain": [
       "100"
      ]
     },
     "execution_count": 286,
     "metadata": {},
     "output_type": "execute_result"
    }
   ],
   "source": [
    "vot=[]\n",
    "for i in soup.find_all('p', class_='text-muted text-small'):\n",
    "    a=i.text\n",
    "    b=a.split('\\n')[-4]\n",
    "    \n",
    "    vot.append(b)\n",
    "    \n",
    "votings=[]\n",
    "for i,x in enumerate(vot):\n",
    "    if i%3==2:\n",
    "        votings.append(x)\n",
    "len(votings)"
   ]
  },
  {
   "cell_type": "code",
   "execution_count": 190,
   "id": "77c3eaa1",
   "metadata": {},
   "outputs": [
    {
     "data": {
      "text/plain": [
       "97"
      ]
     },
     "execution_count": 190,
     "metadata": {},
     "output_type": "execute_result"
    }
   ],
   "source": [
    "mt=[]\n",
    "for i in soup.find_all(\"div\",class_=\"inline-block ratings-metascore\"):\n",
    "    a=i.text.split('\\n')[1]\n",
    "    mot = a.strip()\n",
    "    mt.append(mot)\n",
    "len(mt)"
   ]
  },
  {
   "cell_type": "code",
   "execution_count": 191,
   "id": "beb04c48",
   "metadata": {},
   "outputs": [
    {
     "data": {
      "text/plain": [
       "100"
      ]
     },
     "execution_count": 191,
     "metadata": {},
     "output_type": "execute_result"
    }
   ],
   "source": [
    "mt.extend([np.nan,np.nan,np.nan])\n",
    "len(mt)"
   ]
  },
  {
   "cell_type": "code",
   "execution_count": 192,
   "id": "74f42678",
   "metadata": {},
   "outputs": [],
   "source": [
    "df1=pd.DataFrame({'Movie_Name':movie,\n",
    "     'Release_Year':y,\n",
    "     'Duration(In Minutes)':dur,\n",
    "     'Genre':gen,\n",
    "     'Ratings':Name,\n",
    "     'Collection(In Millions)':Gr,\n",
    "     'Votings':votings,\n",
    "     'MetaScore':mt\n",
    "    })"
   ]
  },
  {
   "cell_type": "code",
   "execution_count": 193,
   "id": "248ee71d",
   "metadata": {},
   "outputs": [
    {
     "data": {
      "text/html": [
       "<div>\n",
       "<style scoped>\n",
       "    .dataframe tbody tr th:only-of-type {\n",
       "        vertical-align: middle;\n",
       "    }\n",
       "\n",
       "    .dataframe tbody tr th {\n",
       "        vertical-align: top;\n",
       "    }\n",
       "\n",
       "    .dataframe thead th {\n",
       "        text-align: right;\n",
       "    }\n",
       "</style>\n",
       "<table border=\"1\" class=\"dataframe\">\n",
       "  <thead>\n",
       "    <tr style=\"text-align: right;\">\n",
       "      <th></th>\n",
       "      <th>Movie_Name</th>\n",
       "      <th>Release_Year</th>\n",
       "      <th>Duration(In Minutes)</th>\n",
       "      <th>Genre</th>\n",
       "      <th>Ratings</th>\n",
       "      <th>Collection(In Millions)</th>\n",
       "      <th>Votings</th>\n",
       "      <th>MetaScore</th>\n",
       "    </tr>\n",
       "  </thead>\n",
       "  <tbody>\n",
       "    <tr>\n",
       "      <th>0</th>\n",
       "      <td>Man of Steel</td>\n",
       "      <td>1980</td>\n",
       "      <td>136</td>\n",
       "      <td>Biography, Drama, Sport</td>\n",
       "      <td>8.7</td>\n",
       "      <td>171.48</td>\n",
       "      <td>757,672</td>\n",
       "      <td>55</td>\n",
       "    </tr>\n",
       "    <tr>\n",
       "      <th>1</th>\n",
       "      <td>The Thing</td>\n",
       "      <td>2019</td>\n",
       "      <td>138</td>\n",
       "      <td>Action, Drama, War</td>\n",
       "      <td>7.2</td>\n",
       "      <td>281.49</td>\n",
       "      <td>412,795</td>\n",
       "      <td>57</td>\n",
       "    </tr>\n",
       "    <tr>\n",
       "      <th>2</th>\n",
       "      <td>American Gangster</td>\n",
       "      <td>2003</td>\n",
       "      <td>129</td>\n",
       "      <td>Biography, Drama, Sport</td>\n",
       "      <td>6.7</td>\n",
       "      <td>139.31</td>\n",
       "      <td>421,342</td>\n",
       "      <td>76</td>\n",
       "    </tr>\n",
       "    <tr>\n",
       "      <th>3</th>\n",
       "      <td>The Banker</td>\n",
       "      <td>2004</td>\n",
       "      <td>117</td>\n",
       "      <td>Drama</td>\n",
       "      <td>8.5</td>\n",
       "      <td>78.90</td>\n",
       "      <td></td>\n",
       "      <td>59</td>\n",
       "    </tr>\n",
       "    <tr>\n",
       "      <th>4</th>\n",
       "      <td>Out of the Furnace</td>\n",
       "      <td>2006</td>\n",
       "      <td>137</td>\n",
       "      <td>Crime, Drama</td>\n",
       "      <td>8.4</td>\n",
       "      <td>85.16</td>\n",
       "      <td>115,216</td>\n",
       "      <td>63</td>\n",
       "    </tr>\n",
       "    <tr>\n",
       "      <th>...</th>\n",
       "      <td>...</td>\n",
       "      <td>...</td>\n",
       "      <td>...</td>\n",
       "      <td>...</td>\n",
       "      <td>...</td>\n",
       "      <td>...</td>\n",
       "      <td>...</td>\n",
       "      <td>...</td>\n",
       "    </tr>\n",
       "    <tr>\n",
       "      <th>95</th>\n",
       "      <td>Home Alone</td>\n",
       "      <td>2021</td>\n",
       "      <td>103</td>\n",
       "      <td>Action, Crime, Thriller</td>\n",
       "      <td>8.2</td>\n",
       "      <td>125.62</td>\n",
       "      <td>555,506</td>\n",
       "      <td>55</td>\n",
       "    </tr>\n",
       "    <tr>\n",
       "      <th>96</th>\n",
       "      <td>The Fly</td>\n",
       "      <td>2017</td>\n",
       "      <td>121</td>\n",
       "      <td>Drama, War</td>\n",
       "      <td>8</td>\n",
       "      <td>333.18</td>\n",
       "      <td>178,258</td>\n",
       "      <td>49</td>\n",
       "    </tr>\n",
       "    <tr>\n",
       "      <th>97</th>\n",
       "      <td>Weird Science</td>\n",
       "      <td>2018</td>\n",
       "      <td>122</td>\n",
       "      <td>Crime, Drama, Thriller</td>\n",
       "      <td>8.1</td>\n",
       "      <td>232.91</td>\n",
       "      <td>88,007</td>\n",
       "      <td>NaN</td>\n",
       "    </tr>\n",
       "    <tr>\n",
       "      <th>98</th>\n",
       "      <td>National Lampoons Vacation</td>\n",
       "      <td>2014</td>\n",
       "      <td>101</td>\n",
       "      <td>Adventure, Comedy, Drama</td>\n",
       "      <td>7.2</td>\n",
       "      <td>256.39</td>\n",
       "      <td>107,715</td>\n",
       "      <td>NaN</td>\n",
       "    </tr>\n",
       "    <tr>\n",
       "      <th>99</th>\n",
       "      <td>National Lampoons Christmas Vacation</td>\n",
       "      <td>2017</td>\n",
       "      <td>108</td>\n",
       "      <td>Horror, Mystery, Thriller</td>\n",
       "      <td>8</td>\n",
       "      <td>106.95</td>\n",
       "      <td>185,646</td>\n",
       "      <td>NaN</td>\n",
       "    </tr>\n",
       "  </tbody>\n",
       "</table>\n",
       "<p>100 rows × 8 columns</p>\n",
       "</div>"
      ],
      "text/plain": [
       "                              Movie_Name Release_Year Duration(In Minutes)  \\\n",
       "0                           Man of Steel         1980                 136    \n",
       "1                              The Thing         2019                 138    \n",
       "2                      American Gangster         2003                 129    \n",
       "3                             The Banker         2004                 117    \n",
       "4                     Out of the Furnace         2006                 137    \n",
       "..                                   ...          ...                  ...   \n",
       "95                            Home Alone         2021                 103    \n",
       "96                               The Fly         2017                 121    \n",
       "97                         Weird Science         2018                 122    \n",
       "98            National Lampoons Vacation         2014                 101    \n",
       "99  National Lampoons Christmas Vacation         2017                 108    \n",
       "\n",
       "                                    Genre Ratings Collection(In Millions)  \\\n",
       "0     Biography, Drama, Sport                 8.7                  171.48   \n",
       "1          Action, Drama, War                 7.2                  281.49   \n",
       "2     Biography, Drama, Sport                 6.7                  139.31   \n",
       "3                       Drama                 8.5                   78.90   \n",
       "4                Crime, Drama                 8.4                   85.16   \n",
       "..                                    ...     ...                     ...   \n",
       "95    Action, Crime, Thriller                 8.2                  125.62   \n",
       "96                 Drama, War                   8                  333.18   \n",
       "97     Crime, Drama, Thriller                 8.1                  232.91   \n",
       "98   Adventure, Comedy, Drama                 7.2                  256.39   \n",
       "99  Horror, Mystery, Thriller                   8                  106.95   \n",
       "\n",
       "    Votings MetaScore  \n",
       "0   757,672        55  \n",
       "1   412,795        57  \n",
       "2   421,342        76  \n",
       "3                  59  \n",
       "4   115,216        63  \n",
       "..      ...       ...  \n",
       "95  555,506        55  \n",
       "96  178,258        49  \n",
       "97   88,007       NaN  \n",
       "98  107,715       NaN  \n",
       "99  185,646       NaN  \n",
       "\n",
       "[100 rows x 8 columns]"
      ]
     },
     "execution_count": 193,
     "metadata": {},
     "output_type": "execute_result"
    }
   ],
   "source": [
    "df1"
   ]
  },
  {
   "cell_type": "code",
   "execution_count": 346,
   "id": "5d0163a6",
   "metadata": {},
   "outputs": [
    {
     "data": {
      "text/plain": [
       "<Response [200]>"
      ]
     },
     "execution_count": 346,
     "metadata": {},
     "output_type": "execute_result"
    }
   ],
   "source": [
    "page3=requests.get(\"https://www.imdb.com/list/ls023757565/?sort=list_order,asc&st_dt=&mode=detail&page=3\")\n",
    "page3"
   ]
  },
  {
   "cell_type": "code",
   "execution_count": 347,
   "id": "a17d08fd",
   "metadata": {},
   "outputs": [],
   "source": [
    "soup=BeautifulSoup(page3.text)"
   ]
  },
  {
   "cell_type": "code",
   "execution_count": 348,
   "id": "5207db11",
   "metadata": {},
   "outputs": [
    {
     "data": {
      "text/plain": [
       "100"
      ]
     },
     "execution_count": 348,
     "metadata": {},
     "output_type": "execute_result"
    }
   ],
   "source": [
    "movie=[]\n",
    "for i in soup.find_all(\"h3\",class_=\"lister-item-header\"):\n",
    "    a=i.text\n",
    "    b=re.sub(\"[\\n\\d'.'\\n\\d+'()']\",\"\",a)\n",
    "    movie.append(b)\n",
    "len(movie)"
   ]
  },
  {
   "cell_type": "code",
   "execution_count": 350,
   "id": "123a7011",
   "metadata": {},
   "outputs": [
    {
     "data": {
      "text/plain": [
       "100"
      ]
     },
     "execution_count": 350,
     "metadata": {},
     "output_type": "execute_result"
    }
   ],
   "source": [
    "year=[]\n",
    "for i in soup.find_all(\"span\",class_=\"lister-item-year text-muted unbold\"):\n",
    "    y=i.text\n",
    "    year.append(y)\n",
    "len(year)"
   ]
  },
  {
   "cell_type": "code",
   "execution_count": 359,
   "id": "362caa5d",
   "metadata": {},
   "outputs": [],
   "source": [
    "yr = []\n",
    "for i in df2[\"Release_Year\"]:\n",
    "    yr.append(re.sub(\"[()]\",\"\",i))\n",
    "df2[\"Release_Year\"]=yr"
   ]
  },
  {
   "cell_type": "code",
   "execution_count": null,
   "id": "3194a400",
   "metadata": {},
   "outputs": [],
   "source": [
    "y=[]\n",
    "for i in df2[\"Release_Year\"]:\n",
    "    i = i.replace(\"I\",\"\")\n",
    "    y.append(i)\n",
    "len(y)"
   ]
  },
  {
   "cell_type": "code",
   "execution_count": 351,
   "id": "0cdaefe4",
   "metadata": {},
   "outputs": [
    {
     "data": {
      "text/plain": [
       "100"
      ]
     },
     "execution_count": 351,
     "metadata": {},
     "output_type": "execute_result"
    }
   ],
   "source": [
    "duration=[]\n",
    "for i in soup.find_all(\"span\",class_=\"runtime\"):\n",
    "    d=i.text\n",
    "    duration.append(d)\n",
    "len(duration)"
   ]
  },
  {
   "cell_type": "code",
   "execution_count": 360,
   "id": "e64ec849",
   "metadata": {},
   "outputs": [],
   "source": [
    "dur=[]\n",
    "for i in df2[\"Duration(In Minutes)\"]:\n",
    "    dur.append(i.replace(\"min\",\"\"))\n",
    "df2[\"Duration\"] = dur"
   ]
  },
  {
   "cell_type": "code",
   "execution_count": 352,
   "id": "c8583547",
   "metadata": {},
   "outputs": [
    {
     "data": {
      "text/plain": [
       "100"
      ]
     },
     "execution_count": 352,
     "metadata": {},
     "output_type": "execute_result"
    }
   ],
   "source": [
    "genre=[]\n",
    "for i in soup.find_all(\"span\",class_=\"genre\"):\n",
    "    g=i.text\n",
    "    genre.append(g)\n",
    "len(genre)"
   ]
  },
  {
   "cell_type": "code",
   "execution_count": 361,
   "id": "2dfaf7ca",
   "metadata": {},
   "outputs": [],
   "source": [
    "gen = []\n",
    "for i in df2[\"Genre\"]:\n",
    "    gen.append(i.replace(\"\\n\",\"\"))\n",
    "df2[\"Genre\"] = gen"
   ]
  },
  {
   "cell_type": "code",
   "execution_count": 353,
   "id": "27809058",
   "metadata": {},
   "outputs": [
    {
     "data": {
      "text/plain": [
       "100"
      ]
     },
     "execution_count": 353,
     "metadata": {},
     "output_type": "execute_result"
    }
   ],
   "source": [
    "gro=[]\n",
    "for i in soup.find_all('p', class_='text-muted text-small'):\n",
    "    a=i.text\n",
    "    b=a.split('\\n')[-2]\n",
    "    \n",
    "    gro.append(b)\n",
    "    \n",
    "gross=[]\n",
    "for i,x in enumerate(gro):\n",
    "    if i%3==2:\n",
    "        gross.append(x)\n",
    "        \n",
    "len(gross)"
   ]
  },
  {
   "cell_type": "code",
   "execution_count": 362,
   "id": "6dfc85f8",
   "metadata": {},
   "outputs": [
    {
     "data": {
      "text/plain": [
       "100"
      ]
     },
     "execution_count": 362,
     "metadata": {},
     "output_type": "execute_result"
    }
   ],
   "source": [
    "Grs=[]\n",
    "for i in df2[\"Collection(In Millions)\"]:\n",
    "    i = i.replace(\"$\",\"\")\n",
    "    Grs.append(i)\n",
    "len(Grs)"
   ]
  },
  {
   "cell_type": "code",
   "execution_count": 365,
   "id": "001d9f7d",
   "metadata": {},
   "outputs": [
    {
     "data": {
      "text/plain": [
       "100"
      ]
     },
     "execution_count": 365,
     "metadata": {},
     "output_type": "execute_result"
    }
   ],
   "source": [
    "Gr=[]\n",
    "for i in df2[\"Collection(In Millions)\"]:\n",
    "    i = i.replace(\"M\",\"\")\n",
    "    Gr.append(i)\n",
    "len(Gr)"
   ]
  },
  {
   "cell_type": "code",
   "execution_count": 354,
   "id": "a4f1d45c",
   "metadata": {},
   "outputs": [
    {
     "data": {
      "text/plain": [
       "100"
      ]
     },
     "execution_count": 354,
     "metadata": {},
     "output_type": "execute_result"
    }
   ],
   "source": [
    "vot=[]\n",
    "for i in soup.find_all('p', class_='text-muted text-small'):\n",
    "    a=i.text\n",
    "    b=a.split('\\n')[-4]\n",
    "    \n",
    "    vot.append(b)\n",
    "    \n",
    "votings=[]\n",
    "for i,x in enumerate(vot):\n",
    "    if i%3==2:\n",
    "        votings.append(x)\n",
    "len(votings)"
   ]
  },
  {
   "cell_type": "code",
   "execution_count": 355,
   "id": "7fce2873",
   "metadata": {},
   "outputs": [
    {
     "data": {
      "text/plain": [
       "97"
      ]
     },
     "execution_count": 355,
     "metadata": {},
     "output_type": "execute_result"
    }
   ],
   "source": [
    "mt=[]\n",
    "for i in soup.find_all(\"div\",class_=\"inline-block ratings-metascore\"):\n",
    "    a=i.text.split('\\n')[1]\n",
    "    mot = a.strip()\n",
    "    mt.append(mot)\n",
    "len(mt)"
   ]
  },
  {
   "cell_type": "code",
   "execution_count": 356,
   "id": "70a65bb3",
   "metadata": {},
   "outputs": [
    {
     "data": {
      "text/plain": [
       "100"
      ]
     },
     "execution_count": 356,
     "metadata": {},
     "output_type": "execute_result"
    }
   ],
   "source": [
    "mt.extend([np.nan,np.nan,np.nan])\n",
    "len(mt)"
   ]
  },
  {
   "cell_type": "code",
   "execution_count": 366,
   "id": "cbe4931a",
   "metadata": {},
   "outputs": [],
   "source": [
    "df2=pd.DataFrame({'Movie_Name':movie,\n",
    "     'Release_Year':yr,\n",
    "     'Duration(In Minutes)':dur,\n",
    "     'Genre':gen,\n",
    "     'Ratings':Name,\n",
    "     'Collection(In Millions)':Gr,\n",
    "     'Votings':votings,\n",
    "     'MetaScore':mt\n",
    "    })"
   ]
  },
  {
   "cell_type": "code",
   "execution_count": 367,
   "id": "3702ff63",
   "metadata": {},
   "outputs": [
    {
     "data": {
      "text/html": [
       "<div>\n",
       "<style scoped>\n",
       "    .dataframe tbody tr th:only-of-type {\n",
       "        vertical-align: middle;\n",
       "    }\n",
       "\n",
       "    .dataframe tbody tr th {\n",
       "        vertical-align: top;\n",
       "    }\n",
       "\n",
       "    .dataframe thead th {\n",
       "        text-align: right;\n",
       "    }\n",
       "</style>\n",
       "<table border=\"1\" class=\"dataframe\">\n",
       "  <thead>\n",
       "    <tr style=\"text-align: right;\">\n",
       "      <th></th>\n",
       "      <th>Movie_Name</th>\n",
       "      <th>Release_Year</th>\n",
       "      <th>Duration(In Minutes)</th>\n",
       "      <th>Genre</th>\n",
       "      <th>Ratings</th>\n",
       "      <th>Collection(In Millions)</th>\n",
       "      <th>Votings</th>\n",
       "      <th>MetaScore</th>\n",
       "    </tr>\n",
       "  </thead>\n",
       "  <tbody>\n",
       "    <tr>\n",
       "      <th>0</th>\n",
       "      <td>Raging Bull</td>\n",
       "      <td>1980</td>\n",
       "      <td>129</td>\n",
       "      <td>Biography, Drama, Sport</td>\n",
       "      <td>8.7</td>\n",
       "      <td>23.38</td>\n",
       "      <td>348,070</td>\n",
       "      <td>89</td>\n",
       "    </tr>\n",
       "    <tr>\n",
       "      <th>1</th>\n",
       "      <td></td>\n",
       "      <td>2019</td>\n",
       "      <td>119</td>\n",
       "      <td>Action, Drama, War</td>\n",
       "      <td>7.2</td>\n",
       "      <td>159.23</td>\n",
       "      <td>558,564</td>\n",
       "      <td>78</td>\n",
       "    </tr>\n",
       "    <tr>\n",
       "      <th>2</th>\n",
       "      <td>Radio</td>\n",
       "      <td>2003</td>\n",
       "      <td>109</td>\n",
       "      <td>Biography, Drama, Sport</td>\n",
       "      <td>6.7</td>\n",
       "      <td>52.28</td>\n",
       "      <td>40,698</td>\n",
       "      <td>38</td>\n",
       "    </tr>\n",
       "    <tr>\n",
       "      <th>3</th>\n",
       "      <td>Bullet Boy</td>\n",
       "      <td>2004</td>\n",
       "      <td>89</td>\n",
       "      <td>Drama</td>\n",
       "      <td>8.5</td>\n",
       "      <td>2,616</td>\n",
       "      <td></td>\n",
       "      <td>86</td>\n",
       "    </tr>\n",
       "    <tr>\n",
       "      <th>4</th>\n",
       "      <td>This Is England</td>\n",
       "      <td>2006</td>\n",
       "      <td>101</td>\n",
       "      <td>Crime, Drama</td>\n",
       "      <td>8.4</td>\n",
       "      <td>0.33</td>\n",
       "      <td>121,722</td>\n",
       "      <td>72</td>\n",
       "    </tr>\n",
       "    <tr>\n",
       "      <th>...</th>\n",
       "      <td>...</td>\n",
       "      <td>...</td>\n",
       "      <td>...</td>\n",
       "      <td>...</td>\n",
       "      <td>...</td>\n",
       "      <td>...</td>\n",
       "      <td>...</td>\n",
       "      <td>...</td>\n",
       "    </tr>\n",
       "    <tr>\n",
       "      <th>95</th>\n",
       "      <td>Wrath of Man</td>\n",
       "      <td>2021</td>\n",
       "      <td>119</td>\n",
       "      <td>Action, Crime, Thriller</td>\n",
       "      <td>8.2</td>\n",
       "      <td>166,111</td>\n",
       "      <td></td>\n",
       "      <td>68</td>\n",
       "    </tr>\n",
       "    <tr>\n",
       "      <th>96</th>\n",
       "      <td>Mudbound</td>\n",
       "      <td>2017</td>\n",
       "      <td>134</td>\n",
       "      <td>Drama, War</td>\n",
       "      <td>8</td>\n",
       "      <td>48,743</td>\n",
       "      <td></td>\n",
       "      <td>85</td>\n",
       "    </tr>\n",
       "    <tr>\n",
       "      <th>97</th>\n",
       "      <td>The Mule</td>\n",
       "      <td>2018</td>\n",
       "      <td>116</td>\n",
       "      <td>Crime, Drama, Thriller</td>\n",
       "      <td>8.1</td>\n",
       "      <td>103.80</td>\n",
       "      <td>134,569</td>\n",
       "      <td>NaN</td>\n",
       "    </tr>\n",
       "    <tr>\n",
       "      <th>98</th>\n",
       "      <td>Chef</td>\n",
       "      <td>2014</td>\n",
       "      <td>114</td>\n",
       "      <td>Adventure, Comedy, Drama</td>\n",
       "      <td>7.2</td>\n",
       "      <td>30.64</td>\n",
       "      <td>213,390</td>\n",
       "      <td>NaN</td>\n",
       "    </tr>\n",
       "    <tr>\n",
       "      <th>99</th>\n",
       "      <td>Get OutI</td>\n",
       "      <td>I 2017</td>\n",
       "      <td>104</td>\n",
       "      <td>Horror, Mystery, Thriller</td>\n",
       "      <td>8</td>\n",
       "      <td>176.04</td>\n",
       "      <td>567,120</td>\n",
       "      <td>NaN</td>\n",
       "    </tr>\n",
       "  </tbody>\n",
       "</table>\n",
       "<p>100 rows × 8 columns</p>\n",
       "</div>"
      ],
      "text/plain": [
       "         Movie_Name Release_Year Duration(In Minutes)  \\\n",
       "0       Raging Bull         1980                 129    \n",
       "1                           2019                 119    \n",
       "2             Radio         2003                 109    \n",
       "3        Bullet Boy         2004                  89    \n",
       "4   This Is England         2006                 101    \n",
       "..              ...          ...                  ...   \n",
       "95     Wrath of Man         2021                 119    \n",
       "96         Mudbound         2017                 134    \n",
       "97         The Mule         2018                 116    \n",
       "98             Chef         2014                 114    \n",
       "99        Get OutI        I 2017                 104    \n",
       "\n",
       "                                    Genre Ratings Collection(In Millions)  \\\n",
       "0     Biography, Drama, Sport                 8.7                   23.38   \n",
       "1          Action, Drama, War                 7.2                  159.23   \n",
       "2     Biography, Drama, Sport                 6.7                   52.28   \n",
       "3                       Drama                 8.5                   2,616   \n",
       "4                Crime, Drama                 8.4                    0.33   \n",
       "..                                    ...     ...                     ...   \n",
       "95    Action, Crime, Thriller                 8.2                 166,111   \n",
       "96                 Drama, War                   8                  48,743   \n",
       "97     Crime, Drama, Thriller                 8.1                  103.80   \n",
       "98   Adventure, Comedy, Drama                 7.2                   30.64   \n",
       "99  Horror, Mystery, Thriller                   8                  176.04   \n",
       "\n",
       "    Votings MetaScore  \n",
       "0   348,070        89  \n",
       "1   558,564        78  \n",
       "2    40,698        38  \n",
       "3                  86  \n",
       "4   121,722        72  \n",
       "..      ...       ...  \n",
       "95                 68  \n",
       "96                 85  \n",
       "97  134,569       NaN  \n",
       "98  213,390       NaN  \n",
       "99  567,120       NaN  \n",
       "\n",
       "[100 rows x 8 columns]"
      ]
     },
     "execution_count": 367,
     "metadata": {},
     "output_type": "execute_result"
    }
   ],
   "source": [
    "df2"
   ]
  },
  {
   "cell_type": "code",
   "execution_count": 299,
   "id": "fb95732b",
   "metadata": {},
   "outputs": [
    {
     "data": {
      "text/plain": [
       "<Response [200]>"
      ]
     },
     "execution_count": 299,
     "metadata": {},
     "output_type": "execute_result"
    }
   ],
   "source": [
    "page4=requests.get(\"https://www.imdb.com/list/ls023757565/?sort=list_order,asc&st_dt=&mode=detail&page=4\")\n",
    "page4"
   ]
  },
  {
   "cell_type": "code",
   "execution_count": 300,
   "id": "359138a6",
   "metadata": {},
   "outputs": [],
   "source": [
    "soup=BeautifulSoup(page4.text)"
   ]
  },
  {
   "cell_type": "code",
   "execution_count": 301,
   "id": "2e9c668a",
   "metadata": {},
   "outputs": [
    {
     "data": {
      "text/plain": [
       "100"
      ]
     },
     "execution_count": 301,
     "metadata": {},
     "output_type": "execute_result"
    }
   ],
   "source": [
    "movie=[]\n",
    "for i in soup.find_all(\"h3\",class_=\"lister-item-header\"):\n",
    "    a=i.text\n",
    "    b=re.sub(\"[\\n\\d'.'\\n\\d+'()']\",\"\",a)\n",
    "    movie.append(b)\n",
    "len(movie)"
   ]
  },
  {
   "cell_type": "code",
   "execution_count": 302,
   "id": "87262595",
   "metadata": {},
   "outputs": [
    {
     "data": {
      "text/plain": [
       "100"
      ]
     },
     "execution_count": 302,
     "metadata": {},
     "output_type": "execute_result"
    }
   ],
   "source": [
    "year=[]\n",
    "for i in soup.find_all(\"span\",class_=\"lister-item-year text-muted unbold\"):\n",
    "    y=i.text\n",
    "    year.append(y)\n",
    "len(year)"
   ]
  },
  {
   "cell_type": "code",
   "execution_count": 308,
   "id": "4c17a6e6",
   "metadata": {},
   "outputs": [],
   "source": [
    "yr = []\n",
    "for i in df3[\"Release_Year\"]:\n",
    "    yr.append(re.sub(\"[()]\",\"\",i))\n",
    "df3[\"Release_Year\"]=yr"
   ]
  },
  {
   "cell_type": "code",
   "execution_count": 309,
   "id": "fc60d2ad",
   "metadata": {},
   "outputs": [
    {
     "data": {
      "text/plain": [
       "100"
      ]
     },
     "execution_count": 309,
     "metadata": {},
     "output_type": "execute_result"
    }
   ],
   "source": [
    "y=[]\n",
    "for i in df3[\"Release_Year\"]:\n",
    "    i = i.replace(\"I\",\"\")\n",
    "    y.append(i)\n",
    "len(y)"
   ]
  },
  {
   "cell_type": "code",
   "execution_count": 310,
   "id": "096c5123",
   "metadata": {},
   "outputs": [
    {
     "data": {
      "text/plain": [
       "100"
      ]
     },
     "execution_count": 310,
     "metadata": {},
     "output_type": "execute_result"
    }
   ],
   "source": [
    "duration=[]\n",
    "for i in soup.find_all(\"span\",class_=\"runtime\"):\n",
    "    d=i.text\n",
    "    duration.append(d)\n",
    "len(duration)"
   ]
  },
  {
   "cell_type": "code",
   "execution_count": 311,
   "id": "72426f9f",
   "metadata": {},
   "outputs": [],
   "source": [
    "dur=[]\n",
    "for i in df3[\"Duration(In Minutes)\"]:\n",
    "    dur.append(i.replace(\"min\",\"\"))\n",
    "df3[\"Duration\"] = dur"
   ]
  },
  {
   "cell_type": "code",
   "execution_count": 312,
   "id": "9a953c44",
   "metadata": {},
   "outputs": [
    {
     "data": {
      "text/plain": [
       "100"
      ]
     },
     "execution_count": 312,
     "metadata": {},
     "output_type": "execute_result"
    }
   ],
   "source": [
    "genre=[]\n",
    "for i in soup.find_all(\"span\",class_=\"genre\"):\n",
    "    g=i.text\n",
    "    genre.append(g)\n",
    "len(genre)"
   ]
  },
  {
   "cell_type": "code",
   "execution_count": 313,
   "id": "0cb38a65",
   "metadata": {},
   "outputs": [],
   "source": [
    "gen = []\n",
    "for i in df3[\"Genre\"]:\n",
    "    gen.append(i.replace(\"\\n\",\"\"))\n",
    "df3[\"Genre\"] = gen"
   ]
  },
  {
   "cell_type": "code",
   "execution_count": 314,
   "id": "7db8dc4f",
   "metadata": {},
   "outputs": [
    {
     "data": {
      "text/plain": [
       "100"
      ]
     },
     "execution_count": 314,
     "metadata": {},
     "output_type": "execute_result"
    }
   ],
   "source": [
    "gro=[]\n",
    "for i in soup.find_all('p', class_='text-muted text-small'):\n",
    "    a=i.text\n",
    "    b=a.split('\\n')[-2]\n",
    "    \n",
    "    gro.append(b)\n",
    "    \n",
    "gross=[]\n",
    "for i,x in enumerate(gro):\n",
    "    if i%3==2:\n",
    "        gross.append(x)\n",
    "        \n",
    "len(gross)"
   ]
  },
  {
   "cell_type": "code",
   "execution_count": 315,
   "id": "fae6d6d0",
   "metadata": {},
   "outputs": [
    {
     "data": {
      "text/plain": [
       "100"
      ]
     },
     "execution_count": 315,
     "metadata": {},
     "output_type": "execute_result"
    }
   ],
   "source": [
    "Grs=[]\n",
    "for i in df3[\"Collection(In Millions)\"]:\n",
    "    i = i.replace(\"$\",\"\")\n",
    "    Grs.append(i)\n",
    "len(Grs)"
   ]
  },
  {
   "cell_type": "code",
   "execution_count": 316,
   "id": "0a27e52a",
   "metadata": {},
   "outputs": [
    {
     "data": {
      "text/plain": [
       "100"
      ]
     },
     "execution_count": 316,
     "metadata": {},
     "output_type": "execute_result"
    }
   ],
   "source": [
    "Gr=[]\n",
    "for i in df3[\"Collection(In Millions)\"]:\n",
    "    i = i.replace(\"M\",\"\")\n",
    "    Gr.append(i)\n",
    "len(Gr)"
   ]
  },
  {
   "cell_type": "code",
   "execution_count": 317,
   "id": "df30ef5f",
   "metadata": {},
   "outputs": [
    {
     "data": {
      "text/plain": [
       "100"
      ]
     },
     "execution_count": 317,
     "metadata": {},
     "output_type": "execute_result"
    }
   ],
   "source": [
    "vot=[]\n",
    "for i in soup.find_all('p', class_='text-muted text-small'):\n",
    "    a=i.text\n",
    "    b=a.split('\\n')[-4]\n",
    "    \n",
    "    vot.append(b)\n",
    "    \n",
    "votings=[]\n",
    "for i,x in enumerate(vot):\n",
    "    if i%3==2:\n",
    "        votings.append(x)\n",
    "len(votings)"
   ]
  },
  {
   "cell_type": "code",
   "execution_count": 318,
   "id": "eb46716b",
   "metadata": {},
   "outputs": [
    {
     "data": {
      "text/plain": [
       "98"
      ]
     },
     "execution_count": 318,
     "metadata": {},
     "output_type": "execute_result"
    }
   ],
   "source": [
    "mt=[]\n",
    "for i in soup.find_all(\"div\",class_=\"inline-block ratings-metascore\"):\n",
    "    a=i.text.split('\\n')[1]\n",
    "    mot = a.strip()\n",
    "    mt.append(mot)\n",
    "len(mt)"
   ]
  },
  {
   "cell_type": "code",
   "execution_count": 319,
   "id": "8c4e87d4",
   "metadata": {},
   "outputs": [
    {
     "data": {
      "text/plain": [
       "100"
      ]
     },
     "execution_count": 319,
     "metadata": {},
     "output_type": "execute_result"
    }
   ],
   "source": [
    "mt.extend([np.nan,np.nan])\n",
    "len(mt)"
   ]
  },
  {
   "cell_type": "code",
   "execution_count": 320,
   "id": "93a89022",
   "metadata": {},
   "outputs": [],
   "source": [
    "df3=pd.DataFrame({'Movie_Name':movie,\n",
    "     'Release_Year':y,\n",
    "     'Duration(In Minutes)':dur,\n",
    "     'Genre':gen,\n",
    "     'Ratings':Name,\n",
    "     'Collection(In Millions)':Gr,\n",
    "     'Votings':votings,\n",
    "     'MetaScore':mt\n",
    "    })"
   ]
  },
  {
   "cell_type": "code",
   "execution_count": 321,
   "id": "8f15dc91",
   "metadata": {},
   "outputs": [
    {
     "data": {
      "text/html": [
       "<div>\n",
       "<style scoped>\n",
       "    .dataframe tbody tr th:only-of-type {\n",
       "        vertical-align: middle;\n",
       "    }\n",
       "\n",
       "    .dataframe tbody tr th {\n",
       "        vertical-align: top;\n",
       "    }\n",
       "\n",
       "    .dataframe thead th {\n",
       "        text-align: right;\n",
       "    }\n",
       "</style>\n",
       "<table border=\"1\" class=\"dataframe\">\n",
       "  <thead>\n",
       "    <tr style=\"text-align: right;\">\n",
       "      <th></th>\n",
       "      <th>Movie_Name</th>\n",
       "      <th>Release_Year</th>\n",
       "      <th>Duration(In Minutes)</th>\n",
       "      <th>Genre</th>\n",
       "      <th>Ratings</th>\n",
       "      <th>Collection(In Millions)</th>\n",
       "      <th>Votings</th>\n",
       "      <th>MetaScore</th>\n",
       "    </tr>\n",
       "  </thead>\n",
       "  <tbody>\n",
       "    <tr>\n",
       "      <th>0</th>\n",
       "      <td>Deliverance</td>\n",
       "      <td>2015</td>\n",
       "      <td>129</td>\n",
       "      <td>Biography, Drama, Sport</td>\n",
       "      <td>8.7</td>\n",
       "      <td>23.38</td>\n",
       "      <td>107,441</td>\n",
       "      <td>80</td>\n",
       "    </tr>\n",
       "    <tr>\n",
       "      <th>1</th>\n",
       "      <td>Goldfinger</td>\n",
       "      <td>2015</td>\n",
       "      <td>119</td>\n",
       "      <td>Action, Drama, War</td>\n",
       "      <td>7.2</td>\n",
       "      <td>159.23</td>\n",
       "      <td>188,485</td>\n",
       "      <td>87</td>\n",
       "    </tr>\n",
       "    <tr>\n",
       "      <th>2</th>\n",
       "      <td>The Omen</td>\n",
       "      <td>2015</td>\n",
       "      <td>109</td>\n",
       "      <td>Biography, Drama, Sport</td>\n",
       "      <td>6.7</td>\n",
       "      <td>52.28</td>\n",
       "      <td>117,321</td>\n",
       "      <td>62</td>\n",
       "    </tr>\n",
       "    <tr>\n",
       "      <th>3</th>\n",
       "      <td>Lone Survivor</td>\n",
       "      <td>2015</td>\n",
       "      <td>89</td>\n",
       "      <td>Drama</td>\n",
       "      <td>8.5</td>\n",
       "      <td>2,616</td>\n",
       "      <td>284,124</td>\n",
       "      <td>60</td>\n",
       "    </tr>\n",
       "    <tr>\n",
       "      <th>4</th>\n",
       "      <td>WonderI</td>\n",
       "      <td>2015</td>\n",
       "      <td>101</td>\n",
       "      <td>Crime, Drama</td>\n",
       "      <td>8.4</td>\n",
       "      <td>0.33</td>\n",
       "      <td>161,012</td>\n",
       "      <td>66</td>\n",
       "    </tr>\n",
       "    <tr>\n",
       "      <th>...</th>\n",
       "      <td>...</td>\n",
       "      <td>...</td>\n",
       "      <td>...</td>\n",
       "      <td>...</td>\n",
       "      <td>...</td>\n",
       "      <td>...</td>\n",
       "      <td>...</td>\n",
       "      <td>...</td>\n",
       "    </tr>\n",
       "    <tr>\n",
       "      <th>95</th>\n",
       "      <td>Takers</td>\n",
       "      <td>2015</td>\n",
       "      <td>119</td>\n",
       "      <td>Action, Crime, Thriller</td>\n",
       "      <td>8.2</td>\n",
       "      <td>166,102</td>\n",
       "      <td>62,404</td>\n",
       "      <td>54</td>\n",
       "    </tr>\n",
       "    <tr>\n",
       "      <th>96</th>\n",
       "      <td>Triple</td>\n",
       "      <td>2015</td>\n",
       "      <td>134</td>\n",
       "      <td>Drama, War</td>\n",
       "      <td>8</td>\n",
       "      <td>48,743</td>\n",
       "      <td>71,934</td>\n",
       "      <td>69</td>\n",
       "    </tr>\n",
       "    <tr>\n",
       "      <th>97</th>\n",
       "      <td>*batteries not included</td>\n",
       "      <td>2015</td>\n",
       "      <td>116</td>\n",
       "      <td>Crime, Drama, Thriller</td>\n",
       "      <td>8.1</td>\n",
       "      <td>103.80</td>\n",
       "      <td>35,469</td>\n",
       "      <td>51</td>\n",
       "    </tr>\n",
       "    <tr>\n",
       "      <th>98</th>\n",
       "      <td>The Drop</td>\n",
       "      <td>2015</td>\n",
       "      <td>114</td>\n",
       "      <td>Adventure, Comedy, Drama</td>\n",
       "      <td>7.2</td>\n",
       "      <td>30.64</td>\n",
       "      <td>151,395</td>\n",
       "      <td>NaN</td>\n",
       "    </tr>\n",
       "    <tr>\n",
       "      <th>99</th>\n",
       "      <td>The InternI</td>\n",
       "      <td>2015</td>\n",
       "      <td>104</td>\n",
       "      <td>Horror, Mystery, Thriller</td>\n",
       "      <td>8</td>\n",
       "      <td>176.04</td>\n",
       "      <td>248,313</td>\n",
       "      <td>NaN</td>\n",
       "    </tr>\n",
       "  </tbody>\n",
       "</table>\n",
       "<p>100 rows × 8 columns</p>\n",
       "</div>"
      ],
      "text/plain": [
       "                 Movie_Name Release_Year Duration(In Minutes)  \\\n",
       "0               Deliverance         2015                 129    \n",
       "1                Goldfinger         2015                 119    \n",
       "2                  The Omen         2015                 109    \n",
       "3             Lone Survivor         2015                  89    \n",
       "4                  WonderI          2015                 101    \n",
       "..                      ...          ...                  ...   \n",
       "95                   Takers         2015                 119    \n",
       "96                  Triple          2015                 134    \n",
       "97  *batteries not included         2015                 116    \n",
       "98                 The Drop         2015                 114    \n",
       "99             The InternI          2015                 104    \n",
       "\n",
       "                                    Genre Ratings Collection(In Millions)  \\\n",
       "0     Biography, Drama, Sport                 8.7                   23.38   \n",
       "1          Action, Drama, War                 7.2                  159.23   \n",
       "2     Biography, Drama, Sport                 6.7                   52.28   \n",
       "3                       Drama                 8.5                   2,616   \n",
       "4                Crime, Drama                 8.4                    0.33   \n",
       "..                                    ...     ...                     ...   \n",
       "95    Action, Crime, Thriller                 8.2                 166,102   \n",
       "96                 Drama, War                   8                  48,743   \n",
       "97     Crime, Drama, Thriller                 8.1                  103.80   \n",
       "98   Adventure, Comedy, Drama                 7.2                   30.64   \n",
       "99  Horror, Mystery, Thriller                   8                  176.04   \n",
       "\n",
       "    Votings MetaScore  \n",
       "0   107,441        80  \n",
       "1   188,485        87  \n",
       "2   117,321        62  \n",
       "3   284,124        60  \n",
       "4   161,012        66  \n",
       "..      ...       ...  \n",
       "95   62,404        54  \n",
       "96   71,934        69  \n",
       "97   35,469        51  \n",
       "98  151,395       NaN  \n",
       "99  248,313       NaN  \n",
       "\n",
       "[100 rows x 8 columns]"
      ]
     },
     "execution_count": 321,
     "metadata": {},
     "output_type": "execute_result"
    }
   ],
   "source": [
    "df3"
   ]
  },
  {
   "cell_type": "markdown",
   "id": "5905f4a8",
   "metadata": {},
   "source": [
    "#### Concating all the dataframes by using concat function"
   ]
  },
  {
   "cell_type": "code",
   "execution_count": 368,
   "id": "eab03aff",
   "metadata": {},
   "outputs": [
    {
     "data": {
      "text/html": [
       "<div>\n",
       "<style scoped>\n",
       "    .dataframe tbody tr th:only-of-type {\n",
       "        vertical-align: middle;\n",
       "    }\n",
       "\n",
       "    .dataframe tbody tr th {\n",
       "        vertical-align: top;\n",
       "    }\n",
       "\n",
       "    .dataframe thead th {\n",
       "        text-align: right;\n",
       "    }\n",
       "</style>\n",
       "<table border=\"1\" class=\"dataframe\">\n",
       "  <thead>\n",
       "    <tr style=\"text-align: right;\">\n",
       "      <th></th>\n",
       "      <th>Movie_Name</th>\n",
       "      <th>Release_Year</th>\n",
       "      <th>Duration(In Minutes)</th>\n",
       "      <th>Genre</th>\n",
       "      <th>Ratings</th>\n",
       "      <th>Collection(In Millions)</th>\n",
       "      <th>Votings</th>\n",
       "      <th>MetaScore</th>\n",
       "    </tr>\n",
       "  </thead>\n",
       "  <tbody>\n",
       "    <tr>\n",
       "      <th>0</th>\n",
       "      <td>The Matrix</td>\n",
       "      <td>1999</td>\n",
       "      <td>109</td>\n",
       "      <td>Adventure, Drama, Thriller</td>\n",
       "      <td>8.7</td>\n",
       "      <td>7.06</td>\n",
       "      <td>107,441</td>\n",
       "      <td>80</td>\n",
       "    </tr>\n",
       "    <tr>\n",
       "      <th>1</th>\n",
       "      <td>The Matrix Reloaded</td>\n",
       "      <td>2003</td>\n",
       "      <td>110</td>\n",
       "      <td>Action, Adventure, Thriller</td>\n",
       "      <td>7.2</td>\n",
       "      <td>51.08</td>\n",
       "      <td>188,485</td>\n",
       "      <td>87</td>\n",
       "    </tr>\n",
       "    <tr>\n",
       "      <th>2</th>\n",
       "      <td>The Matrix Revolutions</td>\n",
       "      <td>2003</td>\n",
       "      <td>111</td>\n",
       "      <td>Horror, Mystery</td>\n",
       "      <td>6.7</td>\n",
       "      <td>4.27</td>\n",
       "      <td>117,321</td>\n",
       "      <td>62</td>\n",
       "    </tr>\n",
       "    <tr>\n",
       "      <th>3</th>\n",
       "      <td>Alien</td>\n",
       "      <td>1979</td>\n",
       "      <td>121</td>\n",
       "      <td>Action, Biography, Drama</td>\n",
       "      <td>8.5</td>\n",
       "      <td>125.10</td>\n",
       "      <td>284,124</td>\n",
       "      <td>60</td>\n",
       "    </tr>\n",
       "    <tr>\n",
       "      <th>4</th>\n",
       "      <td>Aliens</td>\n",
       "      <td>1986</td>\n",
       "      <td>113</td>\n",
       "      <td>Drama, Family</td>\n",
       "      <td>8.4</td>\n",
       "      <td>132.42</td>\n",
       "      <td>161,012</td>\n",
       "      <td>66</td>\n",
       "    </tr>\n",
       "    <tr>\n",
       "      <th>...</th>\n",
       "      <td>...</td>\n",
       "      <td>...</td>\n",
       "      <td>...</td>\n",
       "      <td>...</td>\n",
       "      <td>...</td>\n",
       "      <td>...</td>\n",
       "      <td>...</td>\n",
       "      <td>...</td>\n",
       "    </tr>\n",
       "    <tr>\n",
       "      <th>195</th>\n",
       "      <td>Home Alone</td>\n",
       "      <td>2021</td>\n",
       "      <td>103</td>\n",
       "      <td>Action, Crime, Thriller</td>\n",
       "      <td>8.2</td>\n",
       "      <td>125.62</td>\n",
       "      <td>555,506</td>\n",
       "      <td>55</td>\n",
       "    </tr>\n",
       "    <tr>\n",
       "      <th>196</th>\n",
       "      <td>The Fly</td>\n",
       "      <td>2017</td>\n",
       "      <td>121</td>\n",
       "      <td>Drama, War</td>\n",
       "      <td>8</td>\n",
       "      <td>333.18</td>\n",
       "      <td>178,258</td>\n",
       "      <td>49</td>\n",
       "    </tr>\n",
       "    <tr>\n",
       "      <th>197</th>\n",
       "      <td>Weird Science</td>\n",
       "      <td>2018</td>\n",
       "      <td>122</td>\n",
       "      <td>Crime, Drama, Thriller</td>\n",
       "      <td>8.1</td>\n",
       "      <td>232.91</td>\n",
       "      <td>88,007</td>\n",
       "      <td>NaN</td>\n",
       "    </tr>\n",
       "    <tr>\n",
       "      <th>198</th>\n",
       "      <td>National Lampoons Vacation</td>\n",
       "      <td>2014</td>\n",
       "      <td>101</td>\n",
       "      <td>Adventure, Comedy, Drama</td>\n",
       "      <td>7.2</td>\n",
       "      <td>256.39</td>\n",
       "      <td>107,715</td>\n",
       "      <td>NaN</td>\n",
       "    </tr>\n",
       "    <tr>\n",
       "      <th>199</th>\n",
       "      <td>National Lampoons Christmas Vacation</td>\n",
       "      <td>2017</td>\n",
       "      <td>108</td>\n",
       "      <td>Horror, Mystery, Thriller</td>\n",
       "      <td>8</td>\n",
       "      <td>106.95</td>\n",
       "      <td>185,646</td>\n",
       "      <td>NaN</td>\n",
       "    </tr>\n",
       "  </tbody>\n",
       "</table>\n",
       "<p>200 rows × 8 columns</p>\n",
       "</div>"
      ],
      "text/plain": [
       "                               Movie_Name Release_Year Duration(In Minutes)  \\\n",
       "0                              The Matrix         1999                 109    \n",
       "1                     The Matrix Reloaded         2003                 110    \n",
       "2                  The Matrix Revolutions         2003                 111    \n",
       "3                                   Alien         1979                 121    \n",
       "4                                  Aliens         1986                 113    \n",
       "..                                    ...          ...                  ...   \n",
       "195                            Home Alone         2021                 103    \n",
       "196                               The Fly         2017                 121    \n",
       "197                         Weird Science         2018                 122    \n",
       "198            National Lampoons Vacation         2014                 101    \n",
       "199  National Lampoons Christmas Vacation         2017                 108    \n",
       "\n",
       "                                       Genre Ratings Collection(In Millions)  \\\n",
       "0     Adventure, Drama, Thriller                 8.7                    7.06   \n",
       "1    Action, Adventure, Thriller                 7.2                   51.08   \n",
       "2                Horror, Mystery                 6.7                    4.27   \n",
       "3       Action, Biography, Drama                 8.5                  125.10   \n",
       "4                  Drama, Family                 8.4                  132.42   \n",
       "..                                       ...     ...                     ...   \n",
       "195      Action, Crime, Thriller                 8.2                  125.62   \n",
       "196                   Drama, War                   8                  333.18   \n",
       "197       Crime, Drama, Thriller                 8.1                  232.91   \n",
       "198     Adventure, Comedy, Drama                 7.2                  256.39   \n",
       "199    Horror, Mystery, Thriller                   8                  106.95   \n",
       "\n",
       "     Votings MetaScore  \n",
       "0    107,441        80  \n",
       "1    188,485        87  \n",
       "2    117,321        62  \n",
       "3    284,124        60  \n",
       "4    161,012        66  \n",
       "..       ...       ...  \n",
       "195  555,506        55  \n",
       "196  178,258        49  \n",
       "197   88,007       NaN  \n",
       "198  107,715       NaN  \n",
       "199  185,646       NaN  \n",
       "\n",
       "[200 rows x 8 columns]"
      ]
     },
     "execution_count": 368,
     "metadata": {},
     "output_type": "execute_result"
    }
   ],
   "source": [
    "dfj = pd.concat([df,df1], axis= 0)\n",
    "\n",
    "dfj.reset_index(drop=True)"
   ]
  },
  {
   "cell_type": "code",
   "execution_count": 369,
   "id": "6d510c29",
   "metadata": {},
   "outputs": [
    {
     "data": {
      "text/html": [
       "<div>\n",
       "<style scoped>\n",
       "    .dataframe tbody tr th:only-of-type {\n",
       "        vertical-align: middle;\n",
       "    }\n",
       "\n",
       "    .dataframe tbody tr th {\n",
       "        vertical-align: top;\n",
       "    }\n",
       "\n",
       "    .dataframe thead th {\n",
       "        text-align: right;\n",
       "    }\n",
       "</style>\n",
       "<table border=\"1\" class=\"dataframe\">\n",
       "  <thead>\n",
       "    <tr style=\"text-align: right;\">\n",
       "      <th></th>\n",
       "      <th>Movie_Name</th>\n",
       "      <th>Release_Year</th>\n",
       "      <th>Duration(In Minutes)</th>\n",
       "      <th>Genre</th>\n",
       "      <th>Ratings</th>\n",
       "      <th>Collection(In Millions)</th>\n",
       "      <th>Votings</th>\n",
       "      <th>MetaScore</th>\n",
       "    </tr>\n",
       "  </thead>\n",
       "  <tbody>\n",
       "    <tr>\n",
       "      <th>0</th>\n",
       "      <td>The Matrix</td>\n",
       "      <td>1999</td>\n",
       "      <td>109</td>\n",
       "      <td>Adventure, Drama, Thriller</td>\n",
       "      <td>8.7</td>\n",
       "      <td>7.06</td>\n",
       "      <td>107,441</td>\n",
       "      <td>80</td>\n",
       "    </tr>\n",
       "    <tr>\n",
       "      <th>1</th>\n",
       "      <td>The Matrix Reloaded</td>\n",
       "      <td>2003</td>\n",
       "      <td>110</td>\n",
       "      <td>Action, Adventure, Thriller</td>\n",
       "      <td>7.2</td>\n",
       "      <td>51.08</td>\n",
       "      <td>188,485</td>\n",
       "      <td>87</td>\n",
       "    </tr>\n",
       "    <tr>\n",
       "      <th>2</th>\n",
       "      <td>The Matrix Revolutions</td>\n",
       "      <td>2003</td>\n",
       "      <td>111</td>\n",
       "      <td>Horror, Mystery</td>\n",
       "      <td>6.7</td>\n",
       "      <td>4.27</td>\n",
       "      <td>117,321</td>\n",
       "      <td>62</td>\n",
       "    </tr>\n",
       "    <tr>\n",
       "      <th>3</th>\n",
       "      <td>Alien</td>\n",
       "      <td>1979</td>\n",
       "      <td>121</td>\n",
       "      <td>Action, Biography, Drama</td>\n",
       "      <td>8.5</td>\n",
       "      <td>125.10</td>\n",
       "      <td>284,124</td>\n",
       "      <td>60</td>\n",
       "    </tr>\n",
       "    <tr>\n",
       "      <th>4</th>\n",
       "      <td>Aliens</td>\n",
       "      <td>1986</td>\n",
       "      <td>113</td>\n",
       "      <td>Drama, Family</td>\n",
       "      <td>8.4</td>\n",
       "      <td>132.42</td>\n",
       "      <td>161,012</td>\n",
       "      <td>66</td>\n",
       "    </tr>\n",
       "    <tr>\n",
       "      <th>...</th>\n",
       "      <td>...</td>\n",
       "      <td>...</td>\n",
       "      <td>...</td>\n",
       "      <td>...</td>\n",
       "      <td>...</td>\n",
       "      <td>...</td>\n",
       "      <td>...</td>\n",
       "      <td>...</td>\n",
       "    </tr>\n",
       "    <tr>\n",
       "      <th>295</th>\n",
       "      <td>Wrath of Man</td>\n",
       "      <td>2021</td>\n",
       "      <td>119</td>\n",
       "      <td>Action, Crime, Thriller</td>\n",
       "      <td>8.2</td>\n",
       "      <td>166,111</td>\n",
       "      <td></td>\n",
       "      <td>68</td>\n",
       "    </tr>\n",
       "    <tr>\n",
       "      <th>296</th>\n",
       "      <td>Mudbound</td>\n",
       "      <td>2017</td>\n",
       "      <td>134</td>\n",
       "      <td>Drama, War</td>\n",
       "      <td>8</td>\n",
       "      <td>48,743</td>\n",
       "      <td></td>\n",
       "      <td>85</td>\n",
       "    </tr>\n",
       "    <tr>\n",
       "      <th>297</th>\n",
       "      <td>The Mule</td>\n",
       "      <td>2018</td>\n",
       "      <td>116</td>\n",
       "      <td>Crime, Drama, Thriller</td>\n",
       "      <td>8.1</td>\n",
       "      <td>103.80</td>\n",
       "      <td>134,569</td>\n",
       "      <td>NaN</td>\n",
       "    </tr>\n",
       "    <tr>\n",
       "      <th>298</th>\n",
       "      <td>Chef</td>\n",
       "      <td>2014</td>\n",
       "      <td>114</td>\n",
       "      <td>Adventure, Comedy, Drama</td>\n",
       "      <td>7.2</td>\n",
       "      <td>30.64</td>\n",
       "      <td>213,390</td>\n",
       "      <td>NaN</td>\n",
       "    </tr>\n",
       "    <tr>\n",
       "      <th>299</th>\n",
       "      <td>Get OutI</td>\n",
       "      <td>I 2017</td>\n",
       "      <td>104</td>\n",
       "      <td>Horror, Mystery, Thriller</td>\n",
       "      <td>8</td>\n",
       "      <td>176.04</td>\n",
       "      <td>567,120</td>\n",
       "      <td>NaN</td>\n",
       "    </tr>\n",
       "  </tbody>\n",
       "</table>\n",
       "<p>300 rows × 8 columns</p>\n",
       "</div>"
      ],
      "text/plain": [
       "                 Movie_Name Release_Year Duration(In Minutes)  \\\n",
       "0                The Matrix         1999                 109    \n",
       "1       The Matrix Reloaded         2003                 110    \n",
       "2    The Matrix Revolutions         2003                 111    \n",
       "3                     Alien         1979                 121    \n",
       "4                    Aliens         1986                 113    \n",
       "..                      ...          ...                  ...   \n",
       "295            Wrath of Man         2021                 119    \n",
       "296                Mudbound         2017                 134    \n",
       "297                The Mule         2018                 116    \n",
       "298                    Chef         2014                 114    \n",
       "299               Get OutI        I 2017                 104    \n",
       "\n",
       "                                       Genre Ratings Collection(In Millions)  \\\n",
       "0     Adventure, Drama, Thriller                 8.7                    7.06   \n",
       "1    Action, Adventure, Thriller                 7.2                   51.08   \n",
       "2                Horror, Mystery                 6.7                    4.27   \n",
       "3       Action, Biography, Drama                 8.5                  125.10   \n",
       "4                  Drama, Family                 8.4                  132.42   \n",
       "..                                       ...     ...                     ...   \n",
       "295      Action, Crime, Thriller                 8.2                 166,111   \n",
       "296                   Drama, War                   8                  48,743   \n",
       "297       Crime, Drama, Thriller                 8.1                  103.80   \n",
       "298     Adventure, Comedy, Drama                 7.2                   30.64   \n",
       "299    Horror, Mystery, Thriller                   8                  176.04   \n",
       "\n",
       "     Votings MetaScore  \n",
       "0    107,441        80  \n",
       "1    188,485        87  \n",
       "2    117,321        62  \n",
       "3    284,124        60  \n",
       "4    161,012        66  \n",
       "..       ...       ...  \n",
       "295                 68  \n",
       "296                 85  \n",
       "297  134,569       NaN  \n",
       "298  213,390       NaN  \n",
       "299  567,120       NaN  \n",
       "\n",
       "[300 rows x 8 columns]"
      ]
     },
     "execution_count": 369,
     "metadata": {},
     "output_type": "execute_result"
    }
   ],
   "source": [
    "dfj1 = pd.concat([dfj,df2], axis= 0)\n",
    "\n",
    "dfj1.reset_index(drop=True)"
   ]
  },
  {
   "cell_type": "markdown",
   "id": "23153f7e",
   "metadata": {},
   "source": [
    "#### Final Dataframe before cleaning"
   ]
  },
  {
   "cell_type": "code",
   "execution_count": 370,
   "id": "50f4a3d9",
   "metadata": {},
   "outputs": [
    {
     "data": {
      "text/html": [
       "<div>\n",
       "<style scoped>\n",
       "    .dataframe tbody tr th:only-of-type {\n",
       "        vertical-align: middle;\n",
       "    }\n",
       "\n",
       "    .dataframe tbody tr th {\n",
       "        vertical-align: top;\n",
       "    }\n",
       "\n",
       "    .dataframe thead th {\n",
       "        text-align: right;\n",
       "    }\n",
       "</style>\n",
       "<table border=\"1\" class=\"dataframe\">\n",
       "  <thead>\n",
       "    <tr style=\"text-align: right;\">\n",
       "      <th></th>\n",
       "      <th>Movie_Name</th>\n",
       "      <th>Release_Year</th>\n",
       "      <th>Duration(In Minutes)</th>\n",
       "      <th>Genre</th>\n",
       "      <th>Ratings</th>\n",
       "      <th>Collection(In Millions)</th>\n",
       "      <th>Votings</th>\n",
       "      <th>MetaScore</th>\n",
       "    </tr>\n",
       "  </thead>\n",
       "  <tbody>\n",
       "    <tr>\n",
       "      <th>0</th>\n",
       "      <td>The Matrix</td>\n",
       "      <td>1999</td>\n",
       "      <td>109</td>\n",
       "      <td>Adventure, Drama, Thriller</td>\n",
       "      <td>8.7</td>\n",
       "      <td>7.06</td>\n",
       "      <td>107,441</td>\n",
       "      <td>80</td>\n",
       "    </tr>\n",
       "    <tr>\n",
       "      <th>1</th>\n",
       "      <td>The Matrix Reloaded</td>\n",
       "      <td>2003</td>\n",
       "      <td>110</td>\n",
       "      <td>Action, Adventure, Thriller</td>\n",
       "      <td>7.2</td>\n",
       "      <td>51.08</td>\n",
       "      <td>188,485</td>\n",
       "      <td>87</td>\n",
       "    </tr>\n",
       "    <tr>\n",
       "      <th>2</th>\n",
       "      <td>The Matrix Revolutions</td>\n",
       "      <td>2003</td>\n",
       "      <td>111</td>\n",
       "      <td>Horror, Mystery</td>\n",
       "      <td>6.7</td>\n",
       "      <td>4.27</td>\n",
       "      <td>117,321</td>\n",
       "      <td>62</td>\n",
       "    </tr>\n",
       "    <tr>\n",
       "      <th>3</th>\n",
       "      <td>Alien</td>\n",
       "      <td>1979</td>\n",
       "      <td>121</td>\n",
       "      <td>Action, Biography, Drama</td>\n",
       "      <td>8.5</td>\n",
       "      <td>125.10</td>\n",
       "      <td>284,124</td>\n",
       "      <td>60</td>\n",
       "    </tr>\n",
       "    <tr>\n",
       "      <th>4</th>\n",
       "      <td>Aliens</td>\n",
       "      <td>1986</td>\n",
       "      <td>113</td>\n",
       "      <td>Drama, Family</td>\n",
       "      <td>8.4</td>\n",
       "      <td>132.42</td>\n",
       "      <td>161,012</td>\n",
       "      <td>66</td>\n",
       "    </tr>\n",
       "    <tr>\n",
       "      <th>...</th>\n",
       "      <td>...</td>\n",
       "      <td>...</td>\n",
       "      <td>...</td>\n",
       "      <td>...</td>\n",
       "      <td>...</td>\n",
       "      <td>...</td>\n",
       "      <td>...</td>\n",
       "      <td>...</td>\n",
       "    </tr>\n",
       "    <tr>\n",
       "      <th>395</th>\n",
       "      <td>Takers</td>\n",
       "      <td>2015</td>\n",
       "      <td>119</td>\n",
       "      <td>Action, Crime, Thriller</td>\n",
       "      <td>8.2</td>\n",
       "      <td>166,102</td>\n",
       "      <td>62,404</td>\n",
       "      <td>54</td>\n",
       "    </tr>\n",
       "    <tr>\n",
       "      <th>396</th>\n",
       "      <td>Triple</td>\n",
       "      <td>2015</td>\n",
       "      <td>134</td>\n",
       "      <td>Drama, War</td>\n",
       "      <td>8</td>\n",
       "      <td>48,743</td>\n",
       "      <td>71,934</td>\n",
       "      <td>69</td>\n",
       "    </tr>\n",
       "    <tr>\n",
       "      <th>397</th>\n",
       "      <td>*batteries not included</td>\n",
       "      <td>2015</td>\n",
       "      <td>116</td>\n",
       "      <td>Crime, Drama, Thriller</td>\n",
       "      <td>8.1</td>\n",
       "      <td>103.80</td>\n",
       "      <td>35,469</td>\n",
       "      <td>51</td>\n",
       "    </tr>\n",
       "    <tr>\n",
       "      <th>398</th>\n",
       "      <td>The Drop</td>\n",
       "      <td>2015</td>\n",
       "      <td>114</td>\n",
       "      <td>Adventure, Comedy, Drama</td>\n",
       "      <td>7.2</td>\n",
       "      <td>30.64</td>\n",
       "      <td>151,395</td>\n",
       "      <td>NaN</td>\n",
       "    </tr>\n",
       "    <tr>\n",
       "      <th>399</th>\n",
       "      <td>The InternI</td>\n",
       "      <td>2015</td>\n",
       "      <td>104</td>\n",
       "      <td>Horror, Mystery, Thriller</td>\n",
       "      <td>8</td>\n",
       "      <td>176.04</td>\n",
       "      <td>248,313</td>\n",
       "      <td>NaN</td>\n",
       "    </tr>\n",
       "  </tbody>\n",
       "</table>\n",
       "<p>400 rows × 8 columns</p>\n",
       "</div>"
      ],
      "text/plain": [
       "                  Movie_Name Release_Year Duration(In Minutes)  \\\n",
       "0                 The Matrix         1999                 109    \n",
       "1        The Matrix Reloaded         2003                 110    \n",
       "2     The Matrix Revolutions         2003                 111    \n",
       "3                      Alien         1979                 121    \n",
       "4                     Aliens         1986                 113    \n",
       "..                       ...          ...                  ...   \n",
       "395                   Takers         2015                 119    \n",
       "396                  Triple          2015                 134    \n",
       "397  *batteries not included         2015                 116    \n",
       "398                 The Drop         2015                 114    \n",
       "399             The InternI          2015                 104    \n",
       "\n",
       "                                       Genre Ratings Collection(In Millions)  \\\n",
       "0     Adventure, Drama, Thriller                 8.7                    7.06   \n",
       "1    Action, Adventure, Thriller                 7.2                   51.08   \n",
       "2                Horror, Mystery                 6.7                    4.27   \n",
       "3       Action, Biography, Drama                 8.5                  125.10   \n",
       "4                  Drama, Family                 8.4                  132.42   \n",
       "..                                       ...     ...                     ...   \n",
       "395      Action, Crime, Thriller                 8.2                 166,102   \n",
       "396                   Drama, War                   8                  48,743   \n",
       "397       Crime, Drama, Thriller                 8.1                  103.80   \n",
       "398     Adventure, Comedy, Drama                 7.2                   30.64   \n",
       "399    Horror, Mystery, Thriller                   8                  176.04   \n",
       "\n",
       "     Votings MetaScore  \n",
       "0    107,441        80  \n",
       "1    188,485        87  \n",
       "2    117,321        62  \n",
       "3    284,124        60  \n",
       "4    161,012        66  \n",
       "..       ...       ...  \n",
       "395   62,404        54  \n",
       "396   71,934        69  \n",
       "397   35,469        51  \n",
       "398  151,395       NaN  \n",
       "399  248,313       NaN  \n",
       "\n",
       "[400 rows x 8 columns]"
      ]
     },
     "execution_count": 370,
     "metadata": {},
     "output_type": "execute_result"
    }
   ],
   "source": [
    "dfj2 = pd.concat([dfj1,df3], axis= 0)\n",
    "\n",
    "dfj2.reset_index(drop=True)"
   ]
  },
  {
   "cell_type": "code",
   "execution_count": 371,
   "id": "b4439f37",
   "metadata": {},
   "outputs": [
    {
     "data": {
      "text/html": [
       "<div>\n",
       "<style scoped>\n",
       "    .dataframe tbody tr th:only-of-type {\n",
       "        vertical-align: middle;\n",
       "    }\n",
       "\n",
       "    .dataframe tbody tr th {\n",
       "        vertical-align: top;\n",
       "    }\n",
       "\n",
       "    .dataframe thead th {\n",
       "        text-align: right;\n",
       "    }\n",
       "</style>\n",
       "<table border=\"1\" class=\"dataframe\">\n",
       "  <thead>\n",
       "    <tr style=\"text-align: right;\">\n",
       "      <th></th>\n",
       "      <th>Movie_Name</th>\n",
       "      <th>Release_Year</th>\n",
       "      <th>Duration(In Minutes)</th>\n",
       "      <th>Genre</th>\n",
       "      <th>Ratings</th>\n",
       "      <th>Collection(In Millions)</th>\n",
       "      <th>Votings</th>\n",
       "      <th>MetaScore</th>\n",
       "    </tr>\n",
       "  </thead>\n",
       "  <tbody>\n",
       "    <tr>\n",
       "      <th>count</th>\n",
       "      <td>400</td>\n",
       "      <td>400</td>\n",
       "      <td>400</td>\n",
       "      <td>400</td>\n",
       "      <td>400</td>\n",
       "      <td>400</td>\n",
       "      <td>400</td>\n",
       "      <td>390</td>\n",
       "    </tr>\n",
       "    <tr>\n",
       "      <th>unique</th>\n",
       "      <td>397</td>\n",
       "      <td>70</td>\n",
       "      <td>82</td>\n",
       "      <td>83</td>\n",
       "      <td>27</td>\n",
       "      <td>302</td>\n",
       "      <td>271</td>\n",
       "      <td>64</td>\n",
       "    </tr>\n",
       "    <tr>\n",
       "      <th>top</th>\n",
       "      <td>The Hunger Games: Mockingjay - Part</td>\n",
       "      <td>2015</td>\n",
       "      <td>101</td>\n",
       "      <td>Drama</td>\n",
       "      <td>8.2</td>\n",
       "      <td>39.57</td>\n",
       "      <td></td>\n",
       "      <td>64</td>\n",
       "    </tr>\n",
       "    <tr>\n",
       "      <th>freq</th>\n",
       "      <td>2</td>\n",
       "      <td>101</td>\n",
       "      <td>14</td>\n",
       "      <td>29</td>\n",
       "      <td>44</td>\n",
       "      <td>3</td>\n",
       "      <td>35</td>\n",
       "      <td>19</td>\n",
       "    </tr>\n",
       "  </tbody>\n",
       "</table>\n",
       "</div>"
      ],
      "text/plain": [
       "                                  Movie_Name Release_Year  \\\n",
       "count                                    400          400   \n",
       "unique                                   397           70   \n",
       "top     The Hunger Games: Mockingjay - Part          2015   \n",
       "freq                                       2          101   \n",
       "\n",
       "       Duration(In Minutes)              Genre Ratings  \\\n",
       "count                   400                400     400   \n",
       "unique                   82                 83      27   \n",
       "top                    101   Drama                 8.2   \n",
       "freq                     14                 29      44   \n",
       "\n",
       "       Collection(In Millions) Votings MetaScore  \n",
       "count                      400     400       390  \n",
       "unique                     302     271        64  \n",
       "top                      39.57                64  \n",
       "freq                         3      35        19  "
      ]
     },
     "execution_count": 371,
     "metadata": {},
     "output_type": "execute_result"
    }
   ],
   "source": [
    "dfj2.describe()"
   ]
  },
  {
   "cell_type": "code",
   "execution_count": 372,
   "id": "edccf5f9",
   "metadata": {},
   "outputs": [
    {
     "data": {
      "text/plain": [
       "Movie_Name                 object\n",
       "Release_Year               object\n",
       "Duration(In Minutes)       object\n",
       "Genre                      object\n",
       "Ratings                    object\n",
       "Collection(In Millions)    object\n",
       "Votings                    object\n",
       "MetaScore                  object\n",
       "dtype: object"
      ]
     },
     "execution_count": 372,
     "metadata": {},
     "output_type": "execute_result"
    }
   ],
   "source": [
    "dfj2.dtypes"
   ]
  },
  {
   "cell_type": "markdown",
   "id": "c3a6fc82",
   "metadata": {},
   "source": [
    "#### Converting DataFrame into CSV File"
   ]
  },
  {
   "cell_type": "code",
   "execution_count": null,
   "id": "08098fc9",
   "metadata": {},
   "outputs": [],
   "source": [
    "df.to_csv(\"IMDB List.csv\")"
   ]
  },
  {
   "cell_type": "code",
   "execution_count": 3,
   "id": "60a893ff",
   "metadata": {},
   "outputs": [],
   "source": [
    "df = pd.read_csv(\"IMDB List.csv\")"
   ]
  },
  {
   "cell_type": "code",
   "execution_count": 33,
   "id": "63cc41d9",
   "metadata": {},
   "outputs": [
    {
     "data": {
      "text/html": [
       "<div>\n",
       "<style scoped>\n",
       "    .dataframe tbody tr th:only-of-type {\n",
       "        vertical-align: middle;\n",
       "    }\n",
       "\n",
       "    .dataframe tbody tr th {\n",
       "        vertical-align: top;\n",
       "    }\n",
       "\n",
       "    .dataframe thead th {\n",
       "        text-align: right;\n",
       "    }\n",
       "</style>\n",
       "<table border=\"1\" class=\"dataframe\">\n",
       "  <thead>\n",
       "    <tr style=\"text-align: right;\">\n",
       "      <th></th>\n",
       "      <th>Unnamed: 0</th>\n",
       "      <th>Movie_Name</th>\n",
       "      <th>Release_Year</th>\n",
       "      <th>Duration(In Minutes)</th>\n",
       "      <th>Genre</th>\n",
       "      <th>Ratings</th>\n",
       "      <th>Collection(In Millions)</th>\n",
       "      <th>Votings</th>\n",
       "      <th>MetaScore</th>\n",
       "    </tr>\n",
       "  </thead>\n",
       "  <tbody>\n",
       "    <tr>\n",
       "      <th>0</th>\n",
       "      <td>0</td>\n",
       "      <td>The Matrix</td>\n",
       "      <td>1980</td>\n",
       "      <td>129</td>\n",
       "      <td>Biography, Drama, Sport</td>\n",
       "      <td>8.7</td>\n",
       "      <td>171.48</td>\n",
       "      <td>348069</td>\n",
       "      <td>89</td>\n",
       "    </tr>\n",
       "    <tr>\n",
       "      <th>1</th>\n",
       "      <td>1</td>\n",
       "      <td>The Matrix Reloaded</td>\n",
       "      <td>2019</td>\n",
       "      <td>119</td>\n",
       "      <td>Action, Drama, War</td>\n",
       "      <td>7.2</td>\n",
       "      <td>281.49</td>\n",
       "      <td>558558</td>\n",
       "      <td>78</td>\n",
       "    </tr>\n",
       "    <tr>\n",
       "      <th>2</th>\n",
       "      <td>2</td>\n",
       "      <td>The Matrix Revolutions</td>\n",
       "      <td>2003</td>\n",
       "      <td>109</td>\n",
       "      <td>Biography, Drama, Sport</td>\n",
       "      <td>6.7</td>\n",
       "      <td>139.31</td>\n",
       "      <td>40698</td>\n",
       "      <td>38</td>\n",
       "    </tr>\n",
       "    <tr>\n",
       "      <th>3</th>\n",
       "      <td>3</td>\n",
       "      <td>Alien</td>\n",
       "      <td>2004</td>\n",
       "      <td>89</td>\n",
       "      <td>Drama</td>\n",
       "      <td>8.5</td>\n",
       "      <td>78.90</td>\n",
       "      <td>0</td>\n",
       "      <td>86</td>\n",
       "    </tr>\n",
       "    <tr>\n",
       "      <th>4</th>\n",
       "      <td>4</td>\n",
       "      <td>Aliens</td>\n",
       "      <td>2006</td>\n",
       "      <td>101</td>\n",
       "      <td>Crime, Drama</td>\n",
       "      <td>8.4</td>\n",
       "      <td>85.16</td>\n",
       "      <td>121722</td>\n",
       "      <td>72</td>\n",
       "    </tr>\n",
       "    <tr>\n",
       "      <th>...</th>\n",
       "      <td>...</td>\n",
       "      <td>...</td>\n",
       "      <td>...</td>\n",
       "      <td>...</td>\n",
       "      <td>...</td>\n",
       "      <td>...</td>\n",
       "      <td>...</td>\n",
       "      <td>...</td>\n",
       "      <td>...</td>\n",
       "    </tr>\n",
       "    <tr>\n",
       "      <th>395</th>\n",
       "      <td>395</td>\n",
       "      <td>Takers</td>\n",
       "      <td>2021</td>\n",
       "      <td>119</td>\n",
       "      <td>Action, Crime, Thriller</td>\n",
       "      <td>8.2</td>\n",
       "      <td>166102.00</td>\n",
       "      <td>62404</td>\n",
       "      <td>54</td>\n",
       "    </tr>\n",
       "    <tr>\n",
       "      <th>396</th>\n",
       "      <td>396</td>\n",
       "      <td>Triple</td>\n",
       "      <td>2017</td>\n",
       "      <td>134</td>\n",
       "      <td>Drama, War</td>\n",
       "      <td>8.0</td>\n",
       "      <td>48743.00</td>\n",
       "      <td>71934</td>\n",
       "      <td>69</td>\n",
       "    </tr>\n",
       "    <tr>\n",
       "      <th>397</th>\n",
       "      <td>397</td>\n",
       "      <td>*batteries not included</td>\n",
       "      <td>2018</td>\n",
       "      <td>116</td>\n",
       "      <td>Crime, Drama, Thriller</td>\n",
       "      <td>8.1</td>\n",
       "      <td>103.80</td>\n",
       "      <td>35469</td>\n",
       "      <td>51</td>\n",
       "    </tr>\n",
       "    <tr>\n",
       "      <th>398</th>\n",
       "      <td>398</td>\n",
       "      <td>The Drop</td>\n",
       "      <td>2014</td>\n",
       "      <td>114</td>\n",
       "      <td>Adventure, Comedy, Drama</td>\n",
       "      <td>7.2</td>\n",
       "      <td>30.64</td>\n",
       "      <td>151395</td>\n",
       "      <td>0</td>\n",
       "    </tr>\n",
       "    <tr>\n",
       "      <th>399</th>\n",
       "      <td>399</td>\n",
       "      <td>The InternI</td>\n",
       "      <td>2017</td>\n",
       "      <td>104</td>\n",
       "      <td>Horror, Mystery, Thriller</td>\n",
       "      <td>8.0</td>\n",
       "      <td>176.04</td>\n",
       "      <td>248313</td>\n",
       "      <td>0</td>\n",
       "    </tr>\n",
       "  </tbody>\n",
       "</table>\n",
       "<p>400 rows × 9 columns</p>\n",
       "</div>"
      ],
      "text/plain": [
       "     Unnamed: 0               Movie_Name  Release_Year  Duration(In Minutes)  \\\n",
       "0             0               The Matrix          1980                   129   \n",
       "1             1      The Matrix Reloaded          2019                   119   \n",
       "2             2   The Matrix Revolutions          2003                   109   \n",
       "3             3                    Alien          2004                    89   \n",
       "4             4                   Aliens          2006                   101   \n",
       "..          ...                      ...           ...                   ...   \n",
       "395         395                   Takers          2021                   119   \n",
       "396         396                  Triple           2017                   134   \n",
       "397         397  *batteries not included          2018                   116   \n",
       "398         398                 The Drop          2014                   114   \n",
       "399         399             The InternI           2017                   104   \n",
       "\n",
       "                                     Genre  Ratings  Collection(In Millions)  \\\n",
       "0      Biography, Drama, Sport                  8.7                   171.48   \n",
       "1           Action, Drama, War                  7.2                   281.49   \n",
       "2      Biography, Drama, Sport                  6.7                   139.31   \n",
       "3                        Drama                  8.5                    78.90   \n",
       "4                 Crime, Drama                  8.4                    85.16   \n",
       "..                                     ...      ...                      ...   \n",
       "395    Action, Crime, Thriller                  8.2                166102.00   \n",
       "396                 Drama, War                  8.0                 48743.00   \n",
       "397     Crime, Drama, Thriller                  8.1                   103.80   \n",
       "398   Adventure, Comedy, Drama                  7.2                    30.64   \n",
       "399  Horror, Mystery, Thriller                  8.0                   176.04   \n",
       "\n",
       "     Votings  MetaScore  \n",
       "0     348069         89  \n",
       "1     558558         78  \n",
       "2      40698         38  \n",
       "3          0         86  \n",
       "4     121722         72  \n",
       "..       ...        ...  \n",
       "395    62404         54  \n",
       "396    71934         69  \n",
       "397    35469         51  \n",
       "398   151395          0  \n",
       "399   248313          0  \n",
       "\n",
       "[400 rows x 9 columns]"
      ]
     },
     "execution_count": 33,
     "metadata": {},
     "output_type": "execute_result"
    }
   ],
   "source": [
    "df"
   ]
  },
  {
   "cell_type": "code",
   "execution_count": 38,
   "id": "f664df6f",
   "metadata": {
    "scrolled": true
   },
   "outputs": [
    {
     "name": "stdout",
     "output_type": "stream",
     "text": [
      "<class 'pandas.core.frame.DataFrame'>\n",
      "RangeIndex: 400 entries, 0 to 399\n",
      "Data columns (total 9 columns):\n",
      " #   Column                   Non-Null Count  Dtype \n",
      "---  ------                   --------------  ----- \n",
      " 0   Unnamed: 0               400 non-null    int64 \n",
      " 1   Movie_Name               400 non-null    object\n",
      " 2   Release_Year             400 non-null    int64 \n",
      " 3   Duration(In Minutes)     400 non-null    int64 \n",
      " 4   Genre                    400 non-null    object\n",
      " 5   Ratings                  400 non-null    int32 \n",
      " 6   Collection(In Millions)  400 non-null    int32 \n",
      " 7   Votings                  400 non-null    int64 \n",
      " 8   MetaScore                400 non-null    int64 \n",
      "dtypes: int32(2), int64(5), object(2)\n",
      "memory usage: 25.1+ KB\n"
     ]
    }
   ],
   "source": [
    "df.info()"
   ]
  },
  {
   "cell_type": "code",
   "execution_count": 9,
   "id": "66d3f3b5",
   "metadata": {},
   "outputs": [],
   "source": [
    "df.drop(\"Unnamed: 0\",axis=1,inplace=True)"
   ]
  },
  {
   "cell_type": "code",
   "execution_count": 10,
   "id": "e023a4ce",
   "metadata": {},
   "outputs": [
    {
     "data": {
      "text/html": [
       "<div>\n",
       "<style scoped>\n",
       "    .dataframe tbody tr th:only-of-type {\n",
       "        vertical-align: middle;\n",
       "    }\n",
       "\n",
       "    .dataframe tbody tr th {\n",
       "        vertical-align: top;\n",
       "    }\n",
       "\n",
       "    .dataframe thead th {\n",
       "        text-align: right;\n",
       "    }\n",
       "</style>\n",
       "<table border=\"1\" class=\"dataframe\">\n",
       "  <thead>\n",
       "    <tr style=\"text-align: right;\">\n",
       "      <th></th>\n",
       "      <th>Movie_Name</th>\n",
       "      <th>Release_Year</th>\n",
       "      <th>Duration(In Minutes)</th>\n",
       "      <th>Genre</th>\n",
       "      <th>Ratings</th>\n",
       "      <th>Collection(In Millions)</th>\n",
       "      <th>Votings</th>\n",
       "      <th>MetaScore</th>\n",
       "    </tr>\n",
       "  </thead>\n",
       "  <tbody>\n",
       "    <tr>\n",
       "      <th>0</th>\n",
       "      <td>The Matrix</td>\n",
       "      <td>1980</td>\n",
       "      <td>129</td>\n",
       "      <td>Biography, Drama, Sport</td>\n",
       "      <td>8.7</td>\n",
       "      <td>171.48</td>\n",
       "      <td>348069</td>\n",
       "      <td>89</td>\n",
       "    </tr>\n",
       "    <tr>\n",
       "      <th>1</th>\n",
       "      <td>The Matrix Reloaded</td>\n",
       "      <td>2019</td>\n",
       "      <td>119</td>\n",
       "      <td>Action, Drama, War</td>\n",
       "      <td>7.2</td>\n",
       "      <td>281.49</td>\n",
       "      <td>558558</td>\n",
       "      <td>78</td>\n",
       "    </tr>\n",
       "    <tr>\n",
       "      <th>2</th>\n",
       "      <td>The Matrix Revolutions</td>\n",
       "      <td>2003</td>\n",
       "      <td>109</td>\n",
       "      <td>Biography, Drama, Sport</td>\n",
       "      <td>6.7</td>\n",
       "      <td>139.31</td>\n",
       "      <td>40698</td>\n",
       "      <td>38</td>\n",
       "    </tr>\n",
       "    <tr>\n",
       "      <th>3</th>\n",
       "      <td>Alien</td>\n",
       "      <td>2004</td>\n",
       "      <td>89</td>\n",
       "      <td>Drama</td>\n",
       "      <td>8.5</td>\n",
       "      <td>78.90</td>\n",
       "      <td>0</td>\n",
       "      <td>86</td>\n",
       "    </tr>\n",
       "    <tr>\n",
       "      <th>4</th>\n",
       "      <td>Aliens</td>\n",
       "      <td>2006</td>\n",
       "      <td>101</td>\n",
       "      <td>Crime, Drama</td>\n",
       "      <td>8.4</td>\n",
       "      <td>85.16</td>\n",
       "      <td>121722</td>\n",
       "      <td>72</td>\n",
       "    </tr>\n",
       "    <tr>\n",
       "      <th>...</th>\n",
       "      <td>...</td>\n",
       "      <td>...</td>\n",
       "      <td>...</td>\n",
       "      <td>...</td>\n",
       "      <td>...</td>\n",
       "      <td>...</td>\n",
       "      <td>...</td>\n",
       "      <td>...</td>\n",
       "    </tr>\n",
       "    <tr>\n",
       "      <th>395</th>\n",
       "      <td>Takers</td>\n",
       "      <td>2021</td>\n",
       "      <td>119</td>\n",
       "      <td>Action, Crime, Thriller</td>\n",
       "      <td>8.2</td>\n",
       "      <td>166102.00</td>\n",
       "      <td>62404</td>\n",
       "      <td>54</td>\n",
       "    </tr>\n",
       "    <tr>\n",
       "      <th>396</th>\n",
       "      <td>Triple</td>\n",
       "      <td>2017</td>\n",
       "      <td>134</td>\n",
       "      <td>Drama, War</td>\n",
       "      <td>8.0</td>\n",
       "      <td>48743.00</td>\n",
       "      <td>71934</td>\n",
       "      <td>69</td>\n",
       "    </tr>\n",
       "    <tr>\n",
       "      <th>397</th>\n",
       "      <td>*batteries not included</td>\n",
       "      <td>2018</td>\n",
       "      <td>116</td>\n",
       "      <td>Crime, Drama, Thriller</td>\n",
       "      <td>8.1</td>\n",
       "      <td>103.80</td>\n",
       "      <td>35469</td>\n",
       "      <td>51</td>\n",
       "    </tr>\n",
       "    <tr>\n",
       "      <th>398</th>\n",
       "      <td>The Drop</td>\n",
       "      <td>2014</td>\n",
       "      <td>114</td>\n",
       "      <td>Adventure, Comedy, Drama</td>\n",
       "      <td>7.2</td>\n",
       "      <td>30.64</td>\n",
       "      <td>151395</td>\n",
       "      <td>0</td>\n",
       "    </tr>\n",
       "    <tr>\n",
       "      <th>399</th>\n",
       "      <td>The InternI</td>\n",
       "      <td>2017</td>\n",
       "      <td>104</td>\n",
       "      <td>Horror, Mystery, Thriller</td>\n",
       "      <td>8.0</td>\n",
       "      <td>176.04</td>\n",
       "      <td>248313</td>\n",
       "      <td>0</td>\n",
       "    </tr>\n",
       "  </tbody>\n",
       "</table>\n",
       "<p>400 rows × 8 columns</p>\n",
       "</div>"
      ],
      "text/plain": [
       "                  Movie_Name  Release_Year  Duration(In Minutes)  \\\n",
       "0                 The Matrix          1980                   129   \n",
       "1        The Matrix Reloaded          2019                   119   \n",
       "2     The Matrix Revolutions          2003                   109   \n",
       "3                      Alien          2004                    89   \n",
       "4                     Aliens          2006                   101   \n",
       "..                       ...           ...                   ...   \n",
       "395                   Takers          2021                   119   \n",
       "396                  Triple           2017                   134   \n",
       "397  *batteries not included          2018                   116   \n",
       "398                 The Drop          2014                   114   \n",
       "399             The InternI           2017                   104   \n",
       "\n",
       "                                     Genre  Ratings  Collection(In Millions)  \\\n",
       "0      Biography, Drama, Sport                  8.7                   171.48   \n",
       "1           Action, Drama, War                  7.2                   281.49   \n",
       "2      Biography, Drama, Sport                  6.7                   139.31   \n",
       "3                        Drama                  8.5                    78.90   \n",
       "4                 Crime, Drama                  8.4                    85.16   \n",
       "..                                     ...      ...                      ...   \n",
       "395    Action, Crime, Thriller                  8.2                166102.00   \n",
       "396                 Drama, War                  8.0                 48743.00   \n",
       "397     Crime, Drama, Thriller                  8.1                   103.80   \n",
       "398   Adventure, Comedy, Drama                  7.2                    30.64   \n",
       "399  Horror, Mystery, Thriller                  8.0                   176.04   \n",
       "\n",
       "     Votings  MetaScore  \n",
       "0     348069         89  \n",
       "1     558558         78  \n",
       "2      40698         38  \n",
       "3          0         86  \n",
       "4     121722         72  \n",
       "..       ...        ...  \n",
       "395    62404         54  \n",
       "396    71934         69  \n",
       "397    35469         51  \n",
       "398   151395          0  \n",
       "399   248313          0  \n",
       "\n",
       "[400 rows x 8 columns]"
      ]
     },
     "execution_count": 10,
     "metadata": {},
     "output_type": "execute_result"
    }
   ],
   "source": [
    "df"
   ]
  },
  {
   "cell_type": "code",
   "execution_count": 11,
   "id": "b3062d1e",
   "metadata": {},
   "outputs": [
    {
     "data": {
      "text/html": [
       "<div>\n",
       "<style scoped>\n",
       "    .dataframe tbody tr th:only-of-type {\n",
       "        vertical-align: middle;\n",
       "    }\n",
       "\n",
       "    .dataframe tbody tr th {\n",
       "        vertical-align: top;\n",
       "    }\n",
       "\n",
       "    .dataframe thead th {\n",
       "        text-align: right;\n",
       "    }\n",
       "</style>\n",
       "<table border=\"1\" class=\"dataframe\">\n",
       "  <thead>\n",
       "    <tr style=\"text-align: right;\">\n",
       "      <th></th>\n",
       "      <th>Movie_Name</th>\n",
       "      <th>Release_Year</th>\n",
       "      <th>Duration(In Minutes)</th>\n",
       "      <th>Genre</th>\n",
       "      <th>Ratings</th>\n",
       "      <th>Collection(In Millions)</th>\n",
       "      <th>Votings</th>\n",
       "      <th>MetaScore</th>\n",
       "    </tr>\n",
       "  </thead>\n",
       "  <tbody>\n",
       "    <tr>\n",
       "      <th>37</th>\n",
       "      <td>The Godfather</td>\n",
       "      <td>2012</td>\n",
       "      <td>119</td>\n",
       "      <td>Action, Drama, Sci-Fi</td>\n",
       "      <td>9.2</td>\n",
       "      <td>134.97</td>\n",
       "      <td>569473</td>\n",
       "      <td>70</td>\n",
       "    </tr>\n",
       "    <tr>\n",
       "      <th>137</th>\n",
       "      <td>Django Unchained</td>\n",
       "      <td>2012</td>\n",
       "      <td>175</td>\n",
       "      <td>Action, Drama, Sci-Fi</td>\n",
       "      <td>9.2</td>\n",
       "      <td>134.97</td>\n",
       "      <td>1506861</td>\n",
       "      <td>59</td>\n",
       "    </tr>\n",
       "    <tr>\n",
       "      <th>237</th>\n",
       "      <td>Looper</td>\n",
       "      <td>2012</td>\n",
       "      <td>119</td>\n",
       "      <td>Action, Drama, Sci-Fi</td>\n",
       "      <td>9.2</td>\n",
       "      <td>134.97</td>\n",
       "      <td>569475</td>\n",
       "      <td>70</td>\n",
       "    </tr>\n",
       "    <tr>\n",
       "      <th>337</th>\n",
       "      <td>Fright Night</td>\n",
       "      <td>2012</td>\n",
       "      <td>119</td>\n",
       "      <td>Action, Drama, Sci-Fi</td>\n",
       "      <td>9.2</td>\n",
       "      <td>66.49</td>\n",
       "      <td>69025</td>\n",
       "      <td>62</td>\n",
       "    </tr>\n",
       "  </tbody>\n",
       "</table>\n",
       "</div>"
      ],
      "text/plain": [
       "           Movie_Name  Release_Year  Duration(In Minutes)  \\\n",
       "37      The Godfather          2012                   119   \n",
       "137  Django Unchained          2012                   175   \n",
       "237            Looper          2012                   119   \n",
       "337      Fright Night          2012                   119   \n",
       "\n",
       "                                 Genre  Ratings  Collection(In Millions)  \\\n",
       "37   Action, Drama, Sci-Fi                  9.2                   134.97   \n",
       "137  Action, Drama, Sci-Fi                  9.2                   134.97   \n",
       "237  Action, Drama, Sci-Fi                  9.2                   134.97   \n",
       "337  Action, Drama, Sci-Fi                  9.2                    66.49   \n",
       "\n",
       "     Votings  MetaScore  \n",
       "37    569473         70  \n",
       "137  1506861         59  \n",
       "237   569475         70  \n",
       "337    69025         62  "
      ]
     },
     "execution_count": 11,
     "metadata": {},
     "output_type": "execute_result"
    }
   ],
   "source": [
    "df[(df[\"Ratings\"]>9)&(df[\"Ratings\"]<10)]"
   ]
  },
  {
   "cell_type": "code",
   "execution_count": 15,
   "id": "9bada790",
   "metadata": {},
   "outputs": [
    {
     "data": {
      "text/html": [
       "<div>\n",
       "<style scoped>\n",
       "    .dataframe tbody tr th:only-of-type {\n",
       "        vertical-align: middle;\n",
       "    }\n",
       "\n",
       "    .dataframe tbody tr th {\n",
       "        vertical-align: top;\n",
       "    }\n",
       "\n",
       "    .dataframe thead th {\n",
       "        text-align: right;\n",
       "    }\n",
       "</style>\n",
       "<table border=\"1\" class=\"dataframe\">\n",
       "  <thead>\n",
       "    <tr style=\"text-align: right;\">\n",
       "      <th></th>\n",
       "      <th>Movie_Name</th>\n",
       "      <th>Release_Year</th>\n",
       "      <th>Duration(In Minutes)</th>\n",
       "      <th>Genre</th>\n",
       "      <th>Ratings</th>\n",
       "      <th>Collection(In Millions)</th>\n",
       "      <th>Votings</th>\n",
       "      <th>MetaScore</th>\n",
       "    </tr>\n",
       "  </thead>\n",
       "  <tbody>\n",
       "    <tr>\n",
       "      <th>0</th>\n",
       "      <td>The Matrix</td>\n",
       "      <td>1980</td>\n",
       "      <td>129</td>\n",
       "      <td>Biography, Drama, Sport</td>\n",
       "      <td>8.7</td>\n",
       "      <td>171.48</td>\n",
       "      <td>348069</td>\n",
       "      <td>89</td>\n",
       "    </tr>\n",
       "    <tr>\n",
       "      <th>3</th>\n",
       "      <td>Alien</td>\n",
       "      <td>2004</td>\n",
       "      <td>89</td>\n",
       "      <td>Drama</td>\n",
       "      <td>8.5</td>\n",
       "      <td>78.90</td>\n",
       "      <td>0</td>\n",
       "      <td>86</td>\n",
       "    </tr>\n",
       "    <tr>\n",
       "      <th>4</th>\n",
       "      <td>Aliens</td>\n",
       "      <td>2006</td>\n",
       "      <td>101</td>\n",
       "      <td>Crime, Drama</td>\n",
       "      <td>8.4</td>\n",
       "      <td>85.16</td>\n",
       "      <td>121722</td>\n",
       "      <td>72</td>\n",
       "    </tr>\n",
       "    <tr>\n",
       "      <th>7</th>\n",
       "      <td>Scarface</td>\n",
       "      <td>2005</td>\n",
       "      <td>116</td>\n",
       "      <td>Comedy, Romance</td>\n",
       "      <td>8.3</td>\n",
       "      <td>45.60</td>\n",
       "      <td>429938</td>\n",
       "      <td>62</td>\n",
       "    </tr>\n",
       "    <tr>\n",
       "      <th>8</th>\n",
       "      <td>Inception</td>\n",
       "      <td>1997</td>\n",
       "      <td>150</td>\n",
       "      <td>Drama, Mystery, Sci-Fi</td>\n",
       "      <td>8.8</td>\n",
       "      <td>292.58</td>\n",
       "      <td>271717</td>\n",
       "      <td>52</td>\n",
       "    </tr>\n",
       "    <tr>\n",
       "      <th>...</th>\n",
       "      <td>...</td>\n",
       "      <td>...</td>\n",
       "      <td>...</td>\n",
       "      <td>...</td>\n",
       "      <td>...</td>\n",
       "      <td>...</td>\n",
       "      <td>...</td>\n",
       "      <td>...</td>\n",
       "    </tr>\n",
       "    <tr>\n",
       "      <th>383</th>\n",
       "      <td>Jerry Maguire</td>\n",
       "      <td>1967</td>\n",
       "      <td>105</td>\n",
       "      <td>Drama</td>\n",
       "      <td>8.8</td>\n",
       "      <td>42.43</td>\n",
       "      <td>262876</td>\n",
       "      <td>64</td>\n",
       "    </tr>\n",
       "    <tr>\n",
       "      <th>387</th>\n",
       "      <td>Cocoon</td>\n",
       "      <td>1984</td>\n",
       "      <td>116</td>\n",
       "      <td>Adventure, Mystery, Sci-Fi</td>\n",
       "      <td>8.2</td>\n",
       "      <td>40.20</td>\n",
       "      <td>63035</td>\n",
       "      <td>53</td>\n",
       "    </tr>\n",
       "    <tr>\n",
       "      <th>393</th>\n",
       "      <td>Irrational Man</td>\n",
       "      <td>2011</td>\n",
       "      <td>101</td>\n",
       "      <td>Action, Crime, Thriller</td>\n",
       "      <td>8.5</td>\n",
       "      <td>4.11</td>\n",
       "      <td>62984</td>\n",
       "      <td>45</td>\n",
       "    </tr>\n",
       "    <tr>\n",
       "      <th>395</th>\n",
       "      <td>Takers</td>\n",
       "      <td>2021</td>\n",
       "      <td>119</td>\n",
       "      <td>Action, Crime, Thriller</td>\n",
       "      <td>8.2</td>\n",
       "      <td>166102.00</td>\n",
       "      <td>62404</td>\n",
       "      <td>54</td>\n",
       "    </tr>\n",
       "    <tr>\n",
       "      <th>397</th>\n",
       "      <td>*batteries not included</td>\n",
       "      <td>2018</td>\n",
       "      <td>116</td>\n",
       "      <td>Crime, Drama, Thriller</td>\n",
       "      <td>8.1</td>\n",
       "      <td>103.80</td>\n",
       "      <td>35469</td>\n",
       "      <td>51</td>\n",
       "    </tr>\n",
       "  </tbody>\n",
       "</table>\n",
       "<p>180 rows × 8 columns</p>\n",
       "</div>"
      ],
      "text/plain": [
       "                  Movie_Name  Release_Year  Duration(In Minutes)  \\\n",
       "0                 The Matrix          1980                   129   \n",
       "3                      Alien          2004                    89   \n",
       "4                     Aliens          2006                   101   \n",
       "7                   Scarface          2005                   116   \n",
       "8                  Inception          1997                   150   \n",
       "..                       ...           ...                   ...   \n",
       "383            Jerry Maguire          1967                   105   \n",
       "387                   Cocoon          1984                   116   \n",
       "393           Irrational Man          2011                   101   \n",
       "395                   Takers          2021                   119   \n",
       "397  *batteries not included          2018                   116   \n",
       "\n",
       "                                      Genre  Ratings  Collection(In Millions)  \\\n",
       "0       Biography, Drama, Sport                  8.7                   171.48   \n",
       "3                         Drama                  8.5                    78.90   \n",
       "4                  Crime, Drama                  8.4                    85.16   \n",
       "7               Comedy, Romance                  8.3                    45.60   \n",
       "8        Drama, Mystery, Sci-Fi                  8.8                   292.58   \n",
       "..                                      ...      ...                      ...   \n",
       "383                       Drama                  8.8                    42.43   \n",
       "387  Adventure, Mystery, Sci-Fi                  8.2                    40.20   \n",
       "393     Action, Crime, Thriller                  8.5                     4.11   \n",
       "395     Action, Crime, Thriller                  8.2                166102.00   \n",
       "397      Crime, Drama, Thriller                  8.1                   103.80   \n",
       "\n",
       "     Votings  MetaScore  \n",
       "0     348069         89  \n",
       "3          0         86  \n",
       "4     121722         72  \n",
       "7     429938         62  \n",
       "8     271717         52  \n",
       "..       ...        ...  \n",
       "383   262876         64  \n",
       "387    63035         53  \n",
       "393    62984         45  \n",
       "395    62404         54  \n",
       "397    35469         51  \n",
       "\n",
       "[180 rows x 8 columns]"
      ]
     },
     "execution_count": 15,
     "metadata": {},
     "output_type": "execute_result"
    }
   ],
   "source": [
    "df[(df[\"Ratings\"]>8)&(df[\"Ratings\"]<9)]"
   ]
  },
  {
   "cell_type": "code",
   "execution_count": 16,
   "id": "b01dcfe7",
   "metadata": {},
   "outputs": [
    {
     "data": {
      "text/html": [
       "<div>\n",
       "<style scoped>\n",
       "    .dataframe tbody tr th:only-of-type {\n",
       "        vertical-align: middle;\n",
       "    }\n",
       "\n",
       "    .dataframe tbody tr th {\n",
       "        vertical-align: top;\n",
       "    }\n",
       "\n",
       "    .dataframe thead th {\n",
       "        text-align: right;\n",
       "    }\n",
       "</style>\n",
       "<table border=\"1\" class=\"dataframe\">\n",
       "  <thead>\n",
       "    <tr style=\"text-align: right;\">\n",
       "      <th></th>\n",
       "      <th>Movie_Name</th>\n",
       "      <th>Release_Year</th>\n",
       "      <th>Duration(In Minutes)</th>\n",
       "      <th>Genre</th>\n",
       "      <th>Ratings</th>\n",
       "      <th>Collection(In Millions)</th>\n",
       "      <th>Votings</th>\n",
       "      <th>MetaScore</th>\n",
       "    </tr>\n",
       "  </thead>\n",
       "  <tbody>\n",
       "    <tr>\n",
       "      <th>1</th>\n",
       "      <td>The Matrix Reloaded</td>\n",
       "      <td>2019</td>\n",
       "      <td>119</td>\n",
       "      <td>Action, Drama, War</td>\n",
       "      <td>7.2</td>\n",
       "      <td>281.49</td>\n",
       "      <td>558558</td>\n",
       "      <td>78</td>\n",
       "    </tr>\n",
       "    <tr>\n",
       "      <th>9</th>\n",
       "      <td>Rise of the Planet of the Apes</td>\n",
       "      <td>1990</td>\n",
       "      <td>127</td>\n",
       "      <td>Drama, Fantasy, Romance</td>\n",
       "      <td>7.6</td>\n",
       "      <td>176.76</td>\n",
       "      <td>213995</td>\n",
       "      <td>65</td>\n",
       "    </tr>\n",
       "    <tr>\n",
       "      <th>10</th>\n",
       "      <td>Dawn of the Planet of the Apes</td>\n",
       "      <td>1987</td>\n",
       "      <td>100</td>\n",
       "      <td>Drama, Music, Romance</td>\n",
       "      <td>7.6</td>\n",
       "      <td>208.55</td>\n",
       "      <td>227221</td>\n",
       "      <td>70</td>\n",
       "    </tr>\n",
       "    <tr>\n",
       "      <th>11</th>\n",
       "      <td>War for the Planet of the Apes</td>\n",
       "      <td>1988</td>\n",
       "      <td>92</td>\n",
       "      <td>Comedy, Fantasy</td>\n",
       "      <td>7.4</td>\n",
       "      <td>146.88</td>\n",
       "      <td>294012</td>\n",
       "      <td>50</td>\n",
       "    </tr>\n",
       "    <tr>\n",
       "      <th>15</th>\n",
       "      <td>ET the Extra-Terrestrial</td>\n",
       "      <td>1990</td>\n",
       "      <td>96</td>\n",
       "      <td>Comedy, Horror</td>\n",
       "      <td>7.9</td>\n",
       "      <td>435.11</td>\n",
       "      <td>136310</td>\n",
       "      <td>75</td>\n",
       "    </tr>\n",
       "    <tr>\n",
       "      <th>...</th>\n",
       "      <td>...</td>\n",
       "      <td>...</td>\n",
       "      <td>...</td>\n",
       "      <td>...</td>\n",
       "      <td>...</td>\n",
       "      <td>...</td>\n",
       "      <td>...</td>\n",
       "      <td>...</td>\n",
       "    </tr>\n",
       "    <tr>\n",
       "      <th>390</th>\n",
       "      <td>Ouija: Origin of Evil</td>\n",
       "      <td>2019</td>\n",
       "      <td>83</td>\n",
       "      <td>Drama</td>\n",
       "      <td>7.6</td>\n",
       "      <td>5275.00</td>\n",
       "      <td>63383</td>\n",
       "      <td>33</td>\n",
       "    </tr>\n",
       "    <tr>\n",
       "      <th>391</th>\n",
       "      <td>Resident Evil</td>\n",
       "      <td>2019</td>\n",
       "      <td>122</td>\n",
       "      <td>Action, Adventure, Sci-Fi</td>\n",
       "      <td>7.5</td>\n",
       "      <td>85.71</td>\n",
       "      <td>267261</td>\n",
       "      <td>53</td>\n",
       "    </tr>\n",
       "    <tr>\n",
       "      <th>392</th>\n",
       "      <td>Above the Rim</td>\n",
       "      <td>2020</td>\n",
       "      <td>115</td>\n",
       "      <td>Drama</td>\n",
       "      <td>7.2</td>\n",
       "      <td>76345.00</td>\n",
       "      <td>15515</td>\n",
       "      <td>62</td>\n",
       "    </tr>\n",
       "    <tr>\n",
       "      <th>394</th>\n",
       "      <td>The Woman in Black</td>\n",
       "      <td>2000</td>\n",
       "      <td>94</td>\n",
       "      <td>Biography, Crime, Drama</td>\n",
       "      <td>7.7</td>\n",
       "      <td>0.23</td>\n",
       "      <td>182407</td>\n",
       "      <td>52</td>\n",
       "    </tr>\n",
       "    <tr>\n",
       "      <th>398</th>\n",
       "      <td>The Drop</td>\n",
       "      <td>2014</td>\n",
       "      <td>114</td>\n",
       "      <td>Adventure, Comedy, Drama</td>\n",
       "      <td>7.2</td>\n",
       "      <td>30.64</td>\n",
       "      <td>151395</td>\n",
       "      <td>0</td>\n",
       "    </tr>\n",
       "  </tbody>\n",
       "</table>\n",
       "<p>160 rows × 8 columns</p>\n",
       "</div>"
      ],
      "text/plain": [
       "                         Movie_Name  Release_Year  Duration(In Minutes)  \\\n",
       "1               The Matrix Reloaded          2019                   119   \n",
       "9    Rise of the Planet of the Apes          1990                   127   \n",
       "10   Dawn of the Planet of the Apes          1987                   100   \n",
       "11   War for the Planet of the Apes          1988                    92   \n",
       "15         ET the Extra-Terrestrial          1990                    96   \n",
       "..                              ...           ...                   ...   \n",
       "390           Ouija: Origin of Evil          2019                    83   \n",
       "391                   Resident Evil          2019                   122   \n",
       "392                   Above the Rim          2020                   115   \n",
       "394              The Woman in Black          2000                    94   \n",
       "398                        The Drop          2014                   114   \n",
       "\n",
       "                                     Genre  Ratings  Collection(In Millions)  \\\n",
       "1           Action, Drama, War                  7.2                   281.49   \n",
       "9      Drama, Fantasy, Romance                  7.6                   176.76   \n",
       "10       Drama, Music, Romance                  7.6                   208.55   \n",
       "11             Comedy, Fantasy                  7.4                   146.88   \n",
       "15              Comedy, Horror                  7.9                   435.11   \n",
       "..                                     ...      ...                      ...   \n",
       "390                      Drama                  7.6                  5275.00   \n",
       "391  Action, Adventure, Sci-Fi                  7.5                    85.71   \n",
       "392                      Drama                  7.2                 76345.00   \n",
       "394    Biography, Crime, Drama                  7.7                     0.23   \n",
       "398   Adventure, Comedy, Drama                  7.2                    30.64   \n",
       "\n",
       "     Votings  MetaScore  \n",
       "1     558558         78  \n",
       "9     213995         65  \n",
       "10    227221         70  \n",
       "11    294012         50  \n",
       "15    136310         75  \n",
       "..       ...        ...  \n",
       "390    63383         33  \n",
       "391   267261         53  \n",
       "392    15515         62  \n",
       "394   182407         52  \n",
       "398   151395          0  \n",
       "\n",
       "[160 rows x 8 columns]"
      ]
     },
     "execution_count": 16,
     "metadata": {},
     "output_type": "execute_result"
    }
   ],
   "source": [
    "df[(df[\"Ratings\"]>7)&(df[\"Ratings\"]<8)]"
   ]
  },
  {
   "cell_type": "code",
   "execution_count": 17,
   "id": "2ab1e897",
   "metadata": {},
   "outputs": [
    {
     "data": {
      "text/html": [
       "<div>\n",
       "<style scoped>\n",
       "    .dataframe tbody tr th:only-of-type {\n",
       "        vertical-align: middle;\n",
       "    }\n",
       "\n",
       "    .dataframe tbody tr th {\n",
       "        vertical-align: top;\n",
       "    }\n",
       "\n",
       "    .dataframe thead th {\n",
       "        text-align: right;\n",
       "    }\n",
       "</style>\n",
       "<table border=\"1\" class=\"dataframe\">\n",
       "  <thead>\n",
       "    <tr style=\"text-align: right;\">\n",
       "      <th></th>\n",
       "      <th>Movie_Name</th>\n",
       "      <th>Release_Year</th>\n",
       "      <th>Duration(In Minutes)</th>\n",
       "      <th>Genre</th>\n",
       "      <th>Ratings</th>\n",
       "      <th>Collection(In Millions)</th>\n",
       "      <th>Votings</th>\n",
       "      <th>MetaScore</th>\n",
       "    </tr>\n",
       "  </thead>\n",
       "  <tbody>\n",
       "    <tr>\n",
       "      <th>2</th>\n",
       "      <td>The Matrix Revolutions</td>\n",
       "      <td>2003</td>\n",
       "      <td>109</td>\n",
       "      <td>Biography, Drama, Sport</td>\n",
       "      <td>6.7</td>\n",
       "      <td>139.31</td>\n",
       "      <td>40698</td>\n",
       "      <td>38</td>\n",
       "    </tr>\n",
       "    <tr>\n",
       "      <th>5</th>\n",
       "      <td>Alien³</td>\n",
       "      <td>2008</td>\n",
       "      <td>116</td>\n",
       "      <td>Drama</td>\n",
       "      <td>6.4</td>\n",
       "      <td>55.47</td>\n",
       "      <td>765172</td>\n",
       "      <td>51</td>\n",
       "    </tr>\n",
       "    <tr>\n",
       "      <th>43</th>\n",
       "      <td>Predator</td>\n",
       "      <td>2019</td>\n",
       "      <td>209</td>\n",
       "      <td>Biography, Crime, Drama</td>\n",
       "      <td>6.2</td>\n",
       "      <td>30.67</td>\n",
       "      <td>375697</td>\n",
       "      <td>87</td>\n",
       "    </tr>\n",
       "    <tr>\n",
       "      <th>60</th>\n",
       "      <td>Signs</td>\n",
       "      <td>2019</td>\n",
       "      <td>113</td>\n",
       "      <td>Action, Comedy, Crime</td>\n",
       "      <td>6.8</td>\n",
       "      <td>227.97</td>\n",
       "      <td>0</td>\n",
       "      <td>92</td>\n",
       "    </tr>\n",
       "    <tr>\n",
       "      <th>67</th>\n",
       "      <td>The Conjuring: The Devil Made Me Do It</td>\n",
       "      <td>2008</td>\n",
       "      <td>92</td>\n",
       "      <td>Action, Drama, Fantasy</td>\n",
       "      <td>6.3</td>\n",
       "      <td>100.60</td>\n",
       "      <td>475451</td>\n",
       "      <td>52</td>\n",
       "    </tr>\n",
       "    <tr>\n",
       "      <th>68</th>\n",
       "      <td>It Follows</td>\n",
       "      <td>2015</td>\n",
       "      <td>124</td>\n",
       "      <td>Biography, Drama</td>\n",
       "      <td>6.8</td>\n",
       "      <td>14.67</td>\n",
       "      <td>135936</td>\n",
       "      <td>35</td>\n",
       "    </tr>\n",
       "    <tr>\n",
       "      <th>102</th>\n",
       "      <td>American Gangster</td>\n",
       "      <td>2003</td>\n",
       "      <td>129</td>\n",
       "      <td>Biography, Drama, Sport</td>\n",
       "      <td>6.7</td>\n",
       "      <td>139.31</td>\n",
       "      <td>421342</td>\n",
       "      <td>76</td>\n",
       "    </tr>\n",
       "    <tr>\n",
       "      <th>105</th>\n",
       "      <td>Carlitos Way</td>\n",
       "      <td>2008</td>\n",
       "      <td>114</td>\n",
       "      <td>Drama</td>\n",
       "      <td>6.4</td>\n",
       "      <td>55.47</td>\n",
       "      <td>215466</td>\n",
       "      <td>65</td>\n",
       "    </tr>\n",
       "    <tr>\n",
       "      <th>143</th>\n",
       "      <td>Shaun of the Dead</td>\n",
       "      <td>2019</td>\n",
       "      <td>108</td>\n",
       "      <td>Biography, Crime, Drama</td>\n",
       "      <td>6.2</td>\n",
       "      <td>30.67</td>\n",
       "      <td>549342</td>\n",
       "      <td>59</td>\n",
       "    </tr>\n",
       "    <tr>\n",
       "      <th>160</th>\n",
       "      <td>Rogue One</td>\n",
       "      <td>2019</td>\n",
       "      <td>106</td>\n",
       "      <td>Action, Comedy, Crime</td>\n",
       "      <td>6.8</td>\n",
       "      <td>227.97</td>\n",
       "      <td>613423</td>\n",
       "      <td>61</td>\n",
       "    </tr>\n",
       "    <tr>\n",
       "      <th>167</th>\n",
       "      <td>The Abyss</td>\n",
       "      <td>2008</td>\n",
       "      <td>112</td>\n",
       "      <td>Action, Drama, Fantasy</td>\n",
       "      <td>6.3</td>\n",
       "      <td>108698.00</td>\n",
       "      <td>175870</td>\n",
       "      <td>61</td>\n",
       "    </tr>\n",
       "    <tr>\n",
       "      <th>168</th>\n",
       "      <td>World War Z</td>\n",
       "      <td>2015</td>\n",
       "      <td>100</td>\n",
       "      <td>Biography, Drama</td>\n",
       "      <td>6.8</td>\n",
       "      <td>14.67</td>\n",
       "      <td>652619</td>\n",
       "      <td>68</td>\n",
       "    </tr>\n",
       "    <tr>\n",
       "      <th>202</th>\n",
       "      <td>Radio</td>\n",
       "      <td>2003</td>\n",
       "      <td>109</td>\n",
       "      <td>Biography, Drama, Sport</td>\n",
       "      <td>6.7</td>\n",
       "      <td>139.31</td>\n",
       "      <td>40698</td>\n",
       "      <td>38</td>\n",
       "    </tr>\n",
       "    <tr>\n",
       "      <th>205</th>\n",
       "      <td>Gran Torino</td>\n",
       "      <td>2008</td>\n",
       "      <td>116</td>\n",
       "      <td>Drama</td>\n",
       "      <td>6.4</td>\n",
       "      <td>55.47</td>\n",
       "      <td>765174</td>\n",
       "      <td>51</td>\n",
       "    </tr>\n",
       "    <tr>\n",
       "      <th>243</th>\n",
       "      <td>The Irishman</td>\n",
       "      <td>2019</td>\n",
       "      <td>209</td>\n",
       "      <td>Biography, Crime, Drama</td>\n",
       "      <td>6.2</td>\n",
       "      <td>30.67</td>\n",
       "      <td>375698</td>\n",
       "      <td>87</td>\n",
       "    </tr>\n",
       "    <tr>\n",
       "      <th>260</th>\n",
       "      <td>The Gentlemen</td>\n",
       "      <td>2019</td>\n",
       "      <td>113</td>\n",
       "      <td>Action, Comedy, Crime</td>\n",
       "      <td>6.8</td>\n",
       "      <td>227.97</td>\n",
       "      <td>0</td>\n",
       "      <td>92</td>\n",
       "    </tr>\n",
       "    <tr>\n",
       "      <th>267</th>\n",
       "      <td>Hancock</td>\n",
       "      <td>2008</td>\n",
       "      <td>92</td>\n",
       "      <td>Action, Drama, Fantasy</td>\n",
       "      <td>6.3</td>\n",
       "      <td>108698.00</td>\n",
       "      <td>475455</td>\n",
       "      <td>52</td>\n",
       "    </tr>\n",
       "    <tr>\n",
       "      <th>268</th>\n",
       "      <td>JoyI</td>\n",
       "      <td>2015</td>\n",
       "      <td>124</td>\n",
       "      <td>Biography, Drama</td>\n",
       "      <td>6.8</td>\n",
       "      <td>14.67</td>\n",
       "      <td>135936</td>\n",
       "      <td>35</td>\n",
       "    </tr>\n",
       "    <tr>\n",
       "      <th>302</th>\n",
       "      <td>The Omen</td>\n",
       "      <td>2003</td>\n",
       "      <td>109</td>\n",
       "      <td>Biography, Drama, Sport</td>\n",
       "      <td>6.7</td>\n",
       "      <td>52.28</td>\n",
       "      <td>117321</td>\n",
       "      <td>62</td>\n",
       "    </tr>\n",
       "    <tr>\n",
       "      <th>305</th>\n",
       "      <td>The Big Sick</td>\n",
       "      <td>2008</td>\n",
       "      <td>116</td>\n",
       "      <td>Drama</td>\n",
       "      <td>6.4</td>\n",
       "      <td>148.10</td>\n",
       "      <td>133771</td>\n",
       "      <td>86</td>\n",
       "    </tr>\n",
       "    <tr>\n",
       "      <th>343</th>\n",
       "      <td>SuperI</td>\n",
       "      <td>2019</td>\n",
       "      <td>209</td>\n",
       "      <td>Biography, Crime, Drama</td>\n",
       "      <td>6.2</td>\n",
       "      <td>7.00</td>\n",
       "      <td>79828</td>\n",
       "      <td>50</td>\n",
       "    </tr>\n",
       "    <tr>\n",
       "      <th>360</th>\n",
       "      <td>Kids</td>\n",
       "      <td>2019</td>\n",
       "      <td>113</td>\n",
       "      <td>Action, Comedy, Crime</td>\n",
       "      <td>6.8</td>\n",
       "      <td>323054.00</td>\n",
       "      <td>78255</td>\n",
       "      <td>63</td>\n",
       "    </tr>\n",
       "    <tr>\n",
       "      <th>367</th>\n",
       "      <td>The Hunger Games: Catching Fire</td>\n",
       "      <td>2008</td>\n",
       "      <td>92</td>\n",
       "      <td>Action, Drama, Fantasy</td>\n",
       "      <td>6.3</td>\n",
       "      <td>227.95</td>\n",
       "      <td>654490</td>\n",
       "      <td>64</td>\n",
       "    </tr>\n",
       "    <tr>\n",
       "      <th>368</th>\n",
       "      <td>The Hunger Games: Mockingjay - Part</td>\n",
       "      <td>2015</td>\n",
       "      <td>124</td>\n",
       "      <td>Biography, Drama</td>\n",
       "      <td>6.8</td>\n",
       "      <td>56.45</td>\n",
       "      <td>447797</td>\n",
       "      <td>65</td>\n",
       "    </tr>\n",
       "  </tbody>\n",
       "</table>\n",
       "</div>"
      ],
      "text/plain": [
       "                                 Movie_Name  Release_Year  \\\n",
       "2                    The Matrix Revolutions          2003   \n",
       "5                                    Alien³          2008   \n",
       "43                                Predator           2019   \n",
       "60                                    Signs          2019   \n",
       "67   The Conjuring: The Devil Made Me Do It          2008   \n",
       "68                               It Follows          2015   \n",
       "102                       American Gangster          2003   \n",
       "105                            Carlitos Way          2008   \n",
       "143                       Shaun of the Dead          2019   \n",
       "160                               Rogue One          2019   \n",
       "167                               The Abyss          2008   \n",
       "168                             World War Z          2015   \n",
       "202                                   Radio          2003   \n",
       "205                             Gran Torino          2008   \n",
       "243                            The Irishman          2019   \n",
       "260                           The Gentlemen          2019   \n",
       "267                                 Hancock          2008   \n",
       "268                                   JoyI           2015   \n",
       "302                                The Omen          2003   \n",
       "305                            The Big Sick          2008   \n",
       "343                                 SuperI           2019   \n",
       "360                                    Kids          2019   \n",
       "367         The Hunger Games: Catching Fire          2008   \n",
       "368    The Hunger Games: Mockingjay - Part           2015   \n",
       "\n",
       "     Duration(In Minutes)                                Genre  Ratings  \\\n",
       "2                     109  Biography, Drama, Sport                  6.7   \n",
       "5                     116                    Drama                  6.4   \n",
       "43                    209  Biography, Crime, Drama                  6.2   \n",
       "60                    113    Action, Comedy, Crime                  6.8   \n",
       "67                     92   Action, Drama, Fantasy                  6.3   \n",
       "68                    124         Biography, Drama                  6.8   \n",
       "102                   129  Biography, Drama, Sport                  6.7   \n",
       "105                   114                    Drama                  6.4   \n",
       "143                   108  Biography, Crime, Drama                  6.2   \n",
       "160                   106    Action, Comedy, Crime                  6.8   \n",
       "167                   112   Action, Drama, Fantasy                  6.3   \n",
       "168                   100         Biography, Drama                  6.8   \n",
       "202                   109  Biography, Drama, Sport                  6.7   \n",
       "205                   116                    Drama                  6.4   \n",
       "243                   209  Biography, Crime, Drama                  6.2   \n",
       "260                   113    Action, Comedy, Crime                  6.8   \n",
       "267                    92   Action, Drama, Fantasy                  6.3   \n",
       "268                   124         Biography, Drama                  6.8   \n",
       "302                   109  Biography, Drama, Sport                  6.7   \n",
       "305                   116                    Drama                  6.4   \n",
       "343                   209  Biography, Crime, Drama                  6.2   \n",
       "360                   113    Action, Comedy, Crime                  6.8   \n",
       "367                    92   Action, Drama, Fantasy                  6.3   \n",
       "368                   124         Biography, Drama                  6.8   \n",
       "\n",
       "     Collection(In Millions)  Votings  MetaScore  \n",
       "2                     139.31    40698         38  \n",
       "5                      55.47   765172         51  \n",
       "43                     30.67   375697         87  \n",
       "60                    227.97        0         92  \n",
       "67                    100.60   475451         52  \n",
       "68                     14.67   135936         35  \n",
       "102                   139.31   421342         76  \n",
       "105                    55.47   215466         65  \n",
       "143                    30.67   549342         59  \n",
       "160                   227.97   613423         61  \n",
       "167                108698.00   175870         61  \n",
       "168                    14.67   652619         68  \n",
       "202                   139.31    40698         38  \n",
       "205                    55.47   765174         51  \n",
       "243                    30.67   375698         87  \n",
       "260                   227.97        0         92  \n",
       "267                108698.00   475455         52  \n",
       "268                    14.67   135936         35  \n",
       "302                    52.28   117321         62  \n",
       "305                   148.10   133771         86  \n",
       "343                     7.00    79828         50  \n",
       "360                323054.00    78255         63  \n",
       "367                   227.95   654490         64  \n",
       "368                    56.45   447797         65  "
      ]
     },
     "execution_count": 17,
     "metadata": {},
     "output_type": "execute_result"
    }
   ],
   "source": [
    "df[(df[\"Ratings\"]>6)&(df[\"Ratings\"]<7)]"
   ]
  },
  {
   "cell_type": "code",
   "execution_count": 18,
   "id": "4bd5d9e0",
   "metadata": {},
   "outputs": [],
   "source": [
    "tdf=df[(df[\"Collection(In Millions)\"]>300)&(df[\"Collection(In Millions)\"]<400)]"
   ]
  },
  {
   "cell_type": "code",
   "execution_count": 19,
   "id": "be5b701e",
   "metadata": {},
   "outputs": [
    {
     "data": {
      "text/html": [
       "<div>\n",
       "<style scoped>\n",
       "    .dataframe tbody tr th:only-of-type {\n",
       "        vertical-align: middle;\n",
       "    }\n",
       "\n",
       "    .dataframe tbody tr th {\n",
       "        vertical-align: top;\n",
       "    }\n",
       "\n",
       "    .dataframe thead th {\n",
       "        text-align: right;\n",
       "    }\n",
       "</style>\n",
       "<table border=\"1\" class=\"dataframe\">\n",
       "  <thead>\n",
       "    <tr style=\"text-align: right;\">\n",
       "      <th></th>\n",
       "      <th>Movie_Name</th>\n",
       "      <th>Release_Year</th>\n",
       "      <th>Duration(In Minutes)</th>\n",
       "      <th>Genre</th>\n",
       "      <th>Ratings</th>\n",
       "      <th>Collection(In Millions)</th>\n",
       "      <th>Votings</th>\n",
       "      <th>MetaScore</th>\n",
       "    </tr>\n",
       "  </thead>\n",
       "  <tbody>\n",
       "    <tr>\n",
       "      <th>27</th>\n",
       "      <td>Star Wars</td>\n",
       "      <td>2014</td>\n",
       "      <td>113</td>\n",
       "      <td>Action, Adventure, Sci-Fi</td>\n",
       "      <td>8.6</td>\n",
       "      <td>322.74</td>\n",
       "      <td>661851</td>\n",
       "      <td>85</td>\n",
       "    </tr>\n",
       "    <tr>\n",
       "      <th>29</th>\n",
       "      <td>Star Wars: Episode VI - Return of the Jedi</td>\n",
       "      <td>2012</td>\n",
       "      <td>110</td>\n",
       "      <td>Horror, Mystery, Thriller</td>\n",
       "      <td>8.3</td>\n",
       "      <td>309.13</td>\n",
       "      <td>245838</td>\n",
       "      <td>69</td>\n",
       "    </tr>\n",
       "    <tr>\n",
       "      <th>78</th>\n",
       "      <td>Forrest Gump</td>\n",
       "      <td>2019</td>\n",
       "      <td>161</td>\n",
       "      <td>Comedy, Drama</td>\n",
       "      <td>8.8</td>\n",
       "      <td>330.25</td>\n",
       "      <td>697146</td>\n",
       "      <td>91</td>\n",
       "    </tr>\n",
       "    <tr>\n",
       "      <th>96</th>\n",
       "      <td>Guardians of the Galaxy</td>\n",
       "      <td>2017</td>\n",
       "      <td>134</td>\n",
       "      <td>Drama, War</td>\n",
       "      <td>8.0</td>\n",
       "      <td>333.18</td>\n",
       "      <td>0</td>\n",
       "      <td>85</td>\n",
       "    </tr>\n",
       "    <tr>\n",
       "      <th>127</th>\n",
       "      <td>The Hobbit: An Unexpected Journey</td>\n",
       "      <td>2014</td>\n",
       "      <td>121</td>\n",
       "      <td>Action, Adventure, Sci-Fi</td>\n",
       "      <td>8.6</td>\n",
       "      <td>322.74</td>\n",
       "      <td>807325</td>\n",
       "      <td>66</td>\n",
       "    </tr>\n",
       "    <tr>\n",
       "      <th>129</th>\n",
       "      <td>The Hobbit: The Battle of the Five Armies</td>\n",
       "      <td>2012</td>\n",
       "      <td>131</td>\n",
       "      <td>Horror, Mystery, Thriller</td>\n",
       "      <td>8.3</td>\n",
       "      <td>309.13</td>\n",
       "      <td>517153</td>\n",
       "      <td>86</td>\n",
       "    </tr>\n",
       "    <tr>\n",
       "      <th>178</th>\n",
       "      <td>LucyI</td>\n",
       "      <td>2019</td>\n",
       "      <td>142</td>\n",
       "      <td>Comedy, Drama</td>\n",
       "      <td>8.8</td>\n",
       "      <td>330.25</td>\n",
       "      <td>487081</td>\n",
       "      <td>76</td>\n",
       "    </tr>\n",
       "    <tr>\n",
       "      <th>196</th>\n",
       "      <td>The Fly</td>\n",
       "      <td>2017</td>\n",
       "      <td>121</td>\n",
       "      <td>Drama, War</td>\n",
       "      <td>8.0</td>\n",
       "      <td>333.18</td>\n",
       "      <td>178258</td>\n",
       "      <td>49</td>\n",
       "    </tr>\n",
       "    <tr>\n",
       "      <th>227</th>\n",
       "      <td>Edge of Tomorrow</td>\n",
       "      <td>2014</td>\n",
       "      <td>113</td>\n",
       "      <td>Action, Adventure, Sci-Fi</td>\n",
       "      <td>8.6</td>\n",
       "      <td>322.74</td>\n",
       "      <td>661856</td>\n",
       "      <td>85</td>\n",
       "    </tr>\n",
       "    <tr>\n",
       "      <th>229</th>\n",
       "      <td>SinisterI</td>\n",
       "      <td>2012</td>\n",
       "      <td>110</td>\n",
       "      <td>Horror, Mystery, Thriller</td>\n",
       "      <td>8.3</td>\n",
       "      <td>309.13</td>\n",
       "      <td>245841</td>\n",
       "      <td>69</td>\n",
       "    </tr>\n",
       "    <tr>\n",
       "      <th>278</th>\n",
       "      <td>Once Upon a Time in Hollywood</td>\n",
       "      <td>2019</td>\n",
       "      <td>161</td>\n",
       "      <td>Comedy, Drama</td>\n",
       "      <td>8.8</td>\n",
       "      <td>330.25</td>\n",
       "      <td>697164</td>\n",
       "      <td>91</td>\n",
       "    </tr>\n",
       "    <tr>\n",
       "      <th>296</th>\n",
       "      <td>Mudbound</td>\n",
       "      <td>2017</td>\n",
       "      <td>134</td>\n",
       "      <td>Drama, War</td>\n",
       "      <td>8.0</td>\n",
       "      <td>333.18</td>\n",
       "      <td>0</td>\n",
       "      <td>85</td>\n",
       "    </tr>\n",
       "  </tbody>\n",
       "</table>\n",
       "</div>"
      ],
      "text/plain": [
       "                                     Movie_Name  Release_Year  \\\n",
       "27                                    Star Wars          2014   \n",
       "29   Star Wars: Episode VI - Return of the Jedi          2012   \n",
       "78                                 Forrest Gump          2019   \n",
       "96                      Guardians of the Galaxy          2017   \n",
       "127           The Hobbit: An Unexpected Journey          2014   \n",
       "129   The Hobbit: The Battle of the Five Armies          2012   \n",
       "178                                      LucyI           2019   \n",
       "196                                     The Fly          2017   \n",
       "227                            Edge of Tomorrow          2014   \n",
       "229                                  SinisterI           2012   \n",
       "278               Once Upon a Time in Hollywood          2019   \n",
       "296                                    Mudbound          2017   \n",
       "\n",
       "     Duration(In Minutes)                                  Genre  Ratings  \\\n",
       "27                    113  Action, Adventure, Sci-Fi                  8.6   \n",
       "29                    110  Horror, Mystery, Thriller                  8.3   \n",
       "78                    161              Comedy, Drama                  8.8   \n",
       "96                    134                 Drama, War                  8.0   \n",
       "127                   121  Action, Adventure, Sci-Fi                  8.6   \n",
       "129                   131  Horror, Mystery, Thriller                  8.3   \n",
       "178                   142              Comedy, Drama                  8.8   \n",
       "196                   121                 Drama, War                  8.0   \n",
       "227                   113  Action, Adventure, Sci-Fi                  8.6   \n",
       "229                   110  Horror, Mystery, Thriller                  8.3   \n",
       "278                   161              Comedy, Drama                  8.8   \n",
       "296                   134                 Drama, War                  8.0   \n",
       "\n",
       "     Collection(In Millions)  Votings  MetaScore  \n",
       "27                    322.74   661851         85  \n",
       "29                    309.13   245838         69  \n",
       "78                    330.25   697146         91  \n",
       "96                    333.18        0         85  \n",
       "127                   322.74   807325         66  \n",
       "129                   309.13   517153         86  \n",
       "178                   330.25   487081         76  \n",
       "196                   333.18   178258         49  \n",
       "227                   322.74   661856         85  \n",
       "229                   309.13   245841         69  \n",
       "278                   330.25   697164         91  \n",
       "296                   333.18        0         85  "
      ]
     },
     "execution_count": 19,
     "metadata": {},
     "output_type": "execute_result"
    }
   ],
   "source": [
    "tdf"
   ]
  },
  {
   "cell_type": "code",
   "execution_count": 28,
   "id": "74369bbe",
   "metadata": {},
   "outputs": [
    {
     "data": {
      "text/html": [
       "<div>\n",
       "<style scoped>\n",
       "    .dataframe tbody tr th:only-of-type {\n",
       "        vertical-align: middle;\n",
       "    }\n",
       "\n",
       "    .dataframe tbody tr th {\n",
       "        vertical-align: top;\n",
       "    }\n",
       "\n",
       "    .dataframe thead th {\n",
       "        text-align: right;\n",
       "    }\n",
       "</style>\n",
       "<table border=\"1\" class=\"dataframe\">\n",
       "  <thead>\n",
       "    <tr style=\"text-align: right;\">\n",
       "      <th></th>\n",
       "      <th>Movie_Name</th>\n",
       "      <th>Release_Year</th>\n",
       "      <th>Duration(In Minutes)</th>\n",
       "      <th>Genre</th>\n",
       "      <th>Ratings</th>\n",
       "      <th>Collection(In Millions)</th>\n",
       "      <th>Votings</th>\n",
       "      <th>MetaScore</th>\n",
       "    </tr>\n",
       "  </thead>\n",
       "  <tbody>\n",
       "    <tr>\n",
       "      <th>1</th>\n",
       "      <td>The Matrix Reloaded</td>\n",
       "      <td>2019</td>\n",
       "      <td>119</td>\n",
       "      <td>Action, Drama, War</td>\n",
       "      <td>7.2</td>\n",
       "      <td>281.49</td>\n",
       "      <td>558558</td>\n",
       "      <td>78</td>\n",
       "    </tr>\n",
       "    <tr>\n",
       "      <th>8</th>\n",
       "      <td>Inception</td>\n",
       "      <td>1997</td>\n",
       "      <td>150</td>\n",
       "      <td>Drama, Mystery, Sci-Fi</td>\n",
       "      <td>8.8</td>\n",
       "      <td>292.58</td>\n",
       "      <td>271717</td>\n",
       "      <td>52</td>\n",
       "    </tr>\n",
       "    <tr>\n",
       "      <th>10</th>\n",
       "      <td>Dawn of the Planet of the Apes</td>\n",
       "      <td>1987</td>\n",
       "      <td>100</td>\n",
       "      <td>Drama, Music, Romance</td>\n",
       "      <td>7.6</td>\n",
       "      <td>208.55</td>\n",
       "      <td>227221</td>\n",
       "      <td>70</td>\n",
       "    </tr>\n",
       "    <tr>\n",
       "      <th>14</th>\n",
       "      <td>Terminator : Judgment Day</td>\n",
       "      <td>2004</td>\n",
       "      <td>96</td>\n",
       "      <td>Comedy</td>\n",
       "      <td>8.6</td>\n",
       "      <td>204.84</td>\n",
       "      <td>216317</td>\n",
       "      <td>65</td>\n",
       "    </tr>\n",
       "    <tr>\n",
       "      <th>22</th>\n",
       "      <td>Cast Away</td>\n",
       "      <td>1990</td>\n",
       "      <td>93</td>\n",
       "      <td>Action, Adventure, Comedy</td>\n",
       "      <td>7.8</td>\n",
       "      <td>233.63</td>\n",
       "      <td>93463</td>\n",
       "      <td>57</td>\n",
       "    </tr>\n",
       "    <tr>\n",
       "      <th>24</th>\n",
       "      <td>Batman Begins</td>\n",
       "      <td>1982</td>\n",
       "      <td>129</td>\n",
       "      <td>Action, Adventure, Fantasy</td>\n",
       "      <td>8.2</td>\n",
       "      <td>206.85</td>\n",
       "      <td>147841</td>\n",
       "      <td>53</td>\n",
       "    </tr>\n",
       "    <tr>\n",
       "      <th>28</th>\n",
       "      <td>The Empire Strikes Back</td>\n",
       "      <td>2006</td>\n",
       "      <td>120</td>\n",
       "      <td>Action, Drama, Horror</td>\n",
       "      <td>8.7</td>\n",
       "      <td>290.48</td>\n",
       "      <td>119759</td>\n",
       "      <td>53</td>\n",
       "    </tr>\n",
       "    <tr>\n",
       "      <th>31</th>\n",
       "      <td>Back to the Future</td>\n",
       "      <td>1992</td>\n",
       "      <td>126</td>\n",
       "      <td>Action, Crime, Fantasy</td>\n",
       "      <td>8.5</td>\n",
       "      <td>210.61</td>\n",
       "      <td>301378</td>\n",
       "      <td>68</td>\n",
       "    </tr>\n",
       "    <tr>\n",
       "      <th>52</th>\n",
       "      <td>Jaws</td>\n",
       "      <td>1999</td>\n",
       "      <td>122</td>\n",
       "      <td>Drama</td>\n",
       "      <td>8.1</td>\n",
       "      <td>260.00</td>\n",
       "      <td>1136372</td>\n",
       "      <td>75</td>\n",
       "    </tr>\n",
       "    <tr>\n",
       "      <th>59</th>\n",
       "      <td>300</td>\n",
       "      <td>2008</td>\n",
       "      <td>114</td>\n",
       "      <td>Action, Crime, Thriller</td>\n",
       "      <td>7.6</td>\n",
       "      <td>210.61</td>\n",
       "      <td>249882</td>\n",
       "      <td>60</td>\n",
       "    </tr>\n",
       "    <tr>\n",
       "      <th>60</th>\n",
       "      <td>Signs</td>\n",
       "      <td>2019</td>\n",
       "      <td>113</td>\n",
       "      <td>Action, Comedy, Crime</td>\n",
       "      <td>6.8</td>\n",
       "      <td>227.97</td>\n",
       "      <td>0</td>\n",
       "      <td>92</td>\n",
       "    </tr>\n",
       "    <tr>\n",
       "      <th>72</th>\n",
       "      <td>Raiders of the Lost Ark</td>\n",
       "      <td>2000</td>\n",
       "      <td>109</td>\n",
       "      <td>Action, Horror, Sci-Fi</td>\n",
       "      <td>8.4</td>\n",
       "      <td>248.16</td>\n",
       "      <td>237801</td>\n",
       "      <td>79</td>\n",
       "    </tr>\n",
       "    <tr>\n",
       "      <th>97</th>\n",
       "      <td>The Exorcist</td>\n",
       "      <td>2018</td>\n",
       "      <td>116</td>\n",
       "      <td>Crime, Drama, Thriller</td>\n",
       "      <td>8.1</td>\n",
       "      <td>232.91</td>\n",
       "      <td>134565</td>\n",
       "      <td>0</td>\n",
       "    </tr>\n",
       "    <tr>\n",
       "      <th>98</th>\n",
       "      <td>I Am Legend</td>\n",
       "      <td>2014</td>\n",
       "      <td>114</td>\n",
       "      <td>Adventure, Comedy, Drama</td>\n",
       "      <td>7.2</td>\n",
       "      <td>256.39</td>\n",
       "      <td>213386</td>\n",
       "      <td>0</td>\n",
       "    </tr>\n",
       "    <tr>\n",
       "      <th>101</th>\n",
       "      <td>The Thing</td>\n",
       "      <td>2019</td>\n",
       "      <td>138</td>\n",
       "      <td>Action, Drama, War</td>\n",
       "      <td>7.2</td>\n",
       "      <td>281.49</td>\n",
       "      <td>412795</td>\n",
       "      <td>57</td>\n",
       "    </tr>\n",
       "    <tr>\n",
       "      <th>108</th>\n",
       "      <td>Saving Private Ryan</td>\n",
       "      <td>1997</td>\n",
       "      <td>148</td>\n",
       "      <td>Drama, Mystery, Sci-Fi</td>\n",
       "      <td>8.8</td>\n",
       "      <td>292.58</td>\n",
       "      <td>1356389</td>\n",
       "      <td>50</td>\n",
       "    </tr>\n",
       "    <tr>\n",
       "      <th>110</th>\n",
       "      <td>Young Guns II</td>\n",
       "      <td>1987</td>\n",
       "      <td>130</td>\n",
       "      <td>Drama, Music, Romance</td>\n",
       "      <td>7.6</td>\n",
       "      <td>208.55</td>\n",
       "      <td>35990</td>\n",
       "      <td>58</td>\n",
       "    </tr>\n",
       "    <tr>\n",
       "      <th>114</th>\n",
       "      <td>Tenet</td>\n",
       "      <td>2004</td>\n",
       "      <td>137</td>\n",
       "      <td>Comedy</td>\n",
       "      <td>8.6</td>\n",
       "      <td>204.84</td>\n",
       "      <td>474311</td>\n",
       "      <td>58</td>\n",
       "    </tr>\n",
       "    <tr>\n",
       "      <th>122</th>\n",
       "      <td>Blade II</td>\n",
       "      <td>1990</td>\n",
       "      <td>143</td>\n",
       "      <td>Action, Adventure, Comedy</td>\n",
       "      <td>7.8</td>\n",
       "      <td>233.63</td>\n",
       "      <td>215823</td>\n",
       "      <td>74</td>\n",
       "    </tr>\n",
       "    <tr>\n",
       "      <th>124</th>\n",
       "      <td>The Lord of the Rings: The Fellowship of the Ring</td>\n",
       "      <td>1982</td>\n",
       "      <td>140</td>\n",
       "      <td>Action, Adventure, Fantasy</td>\n",
       "      <td>8.2</td>\n",
       "      <td>206.85</td>\n",
       "      <td>1809804</td>\n",
       "      <td>87</td>\n",
       "    </tr>\n",
       "    <tr>\n",
       "      <th>128</th>\n",
       "      <td>The Hobbit: The Desolation of Smaug</td>\n",
       "      <td>2006</td>\n",
       "      <td>124</td>\n",
       "      <td>Action, Drama, Horror</td>\n",
       "      <td>8.7</td>\n",
       "      <td>290.48</td>\n",
       "      <td>646410</td>\n",
       "      <td>59</td>\n",
       "    </tr>\n",
       "    <tr>\n",
       "      <th>131</th>\n",
       "      <td>Hereditary</td>\n",
       "      <td>1992</td>\n",
       "      <td>116</td>\n",
       "      <td>Action, Crime, Fantasy</td>\n",
       "      <td>8.5</td>\n",
       "      <td>210.61</td>\n",
       "      <td>297189</td>\n",
       "      <td>79</td>\n",
       "    </tr>\n",
       "    <tr>\n",
       "      <th>152</th>\n",
       "      <td>The Terminal</td>\n",
       "      <td>1999</td>\n",
       "      <td>124</td>\n",
       "      <td>Drama</td>\n",
       "      <td>8.1</td>\n",
       "      <td>260.00</td>\n",
       "      <td>449852</td>\n",
       "      <td>96</td>\n",
       "    </tr>\n",
       "    <tr>\n",
       "      <th>159</th>\n",
       "      <td>The Devils Rejects</td>\n",
       "      <td>2008</td>\n",
       "      <td>117</td>\n",
       "      <td>Action, Crime, Thriller</td>\n",
       "      <td>7.6</td>\n",
       "      <td>210.61</td>\n",
       "      <td>99371</td>\n",
       "      <td>72</td>\n",
       "    </tr>\n",
       "    <tr>\n",
       "      <th>160</th>\n",
       "      <td>Rogue One</td>\n",
       "      <td>2019</td>\n",
       "      <td>106</td>\n",
       "      <td>Action, Comedy, Crime</td>\n",
       "      <td>6.8</td>\n",
       "      <td>227.97</td>\n",
       "      <td>613423</td>\n",
       "      <td>61</td>\n",
       "    </tr>\n",
       "    <tr>\n",
       "      <th>172</th>\n",
       "      <td>Hell or High WaterII</td>\n",
       "      <td>2000</td>\n",
       "      <td>115</td>\n",
       "      <td>Action, Horror, Sci-Fi</td>\n",
       "      <td>8.4</td>\n",
       "      <td>248.16</td>\n",
       "      <td>227052</td>\n",
       "      <td>55</td>\n",
       "    </tr>\n",
       "    <tr>\n",
       "      <th>197</th>\n",
       "      <td>Weird Science</td>\n",
       "      <td>2018</td>\n",
       "      <td>122</td>\n",
       "      <td>Crime, Drama, Thriller</td>\n",
       "      <td>8.1</td>\n",
       "      <td>232.91</td>\n",
       "      <td>88007</td>\n",
       "      <td>0</td>\n",
       "    </tr>\n",
       "    <tr>\n",
       "      <th>198</th>\n",
       "      <td>National Lampoons Vacation</td>\n",
       "      <td>2014</td>\n",
       "      <td>101</td>\n",
       "      <td>Adventure, Comedy, Drama</td>\n",
       "      <td>7.2</td>\n",
       "      <td>256.39</td>\n",
       "      <td>107715</td>\n",
       "      <td>0</td>\n",
       "    </tr>\n",
       "    <tr>\n",
       "      <th>201</th>\n",
       "      <td>1917</td>\n",
       "      <td>2019</td>\n",
       "      <td>119</td>\n",
       "      <td>Action, Drama, War</td>\n",
       "      <td>7.2</td>\n",
       "      <td>281.49</td>\n",
       "      <td>558564</td>\n",
       "      <td>78</td>\n",
       "    </tr>\n",
       "    <tr>\n",
       "      <th>208</th>\n",
       "      <td>Contact</td>\n",
       "      <td>1997</td>\n",
       "      <td>150</td>\n",
       "      <td>Drama, Mystery, Sci-Fi</td>\n",
       "      <td>8.8</td>\n",
       "      <td>292.58</td>\n",
       "      <td>271721</td>\n",
       "      <td>52</td>\n",
       "    </tr>\n",
       "    <tr>\n",
       "      <th>210</th>\n",
       "      <td>Dirty DancingI</td>\n",
       "      <td>1987</td>\n",
       "      <td>100</td>\n",
       "      <td>Drama, Music, Romance</td>\n",
       "      <td>7.6</td>\n",
       "      <td>208.55</td>\n",
       "      <td>227224</td>\n",
       "      <td>70</td>\n",
       "    </tr>\n",
       "    <tr>\n",
       "      <th>214</th>\n",
       "      <td>Napoleon Dynamite</td>\n",
       "      <td>2004</td>\n",
       "      <td>96</td>\n",
       "      <td>Comedy</td>\n",
       "      <td>8.6</td>\n",
       "      <td>204.84</td>\n",
       "      <td>216320</td>\n",
       "      <td>65</td>\n",
       "    </tr>\n",
       "    <tr>\n",
       "      <th>222</th>\n",
       "      <td>Teenage Mutant Ninja Turtles</td>\n",
       "      <td>1990</td>\n",
       "      <td>93</td>\n",
       "      <td>Action, Adventure, Comedy</td>\n",
       "      <td>7.8</td>\n",
       "      <td>233.63</td>\n",
       "      <td>93464</td>\n",
       "      <td>57</td>\n",
       "    </tr>\n",
       "    <tr>\n",
       "      <th>224</th>\n",
       "      <td>Conan the Barbarian</td>\n",
       "      <td>1982</td>\n",
       "      <td>129</td>\n",
       "      <td>Action, Adventure, Fantasy</td>\n",
       "      <td>8.2</td>\n",
       "      <td>206.85</td>\n",
       "      <td>147842</td>\n",
       "      <td>53</td>\n",
       "    </tr>\n",
       "    <tr>\n",
       "      <th>228</th>\n",
       "      <td>Gwoemul</td>\n",
       "      <td>2006</td>\n",
       "      <td>120</td>\n",
       "      <td>Action, Drama, Horror</td>\n",
       "      <td>8.7</td>\n",
       "      <td>290.48</td>\n",
       "      <td>119761</td>\n",
       "      <td>53</td>\n",
       "    </tr>\n",
       "    <tr>\n",
       "      <th>231</th>\n",
       "      <td>Batman Returns</td>\n",
       "      <td>1992</td>\n",
       "      <td>126</td>\n",
       "      <td>Action, Crime, Fantasy</td>\n",
       "      <td>8.5</td>\n",
       "      <td>210.61</td>\n",
       "      <td>301379</td>\n",
       "      <td>68</td>\n",
       "    </tr>\n",
       "    <tr>\n",
       "      <th>252</th>\n",
       "      <td>American Beauty</td>\n",
       "      <td>1999</td>\n",
       "      <td>122</td>\n",
       "      <td>Drama</td>\n",
       "      <td>8.1</td>\n",
       "      <td>260.00</td>\n",
       "      <td>1136374</td>\n",
       "      <td>75</td>\n",
       "    </tr>\n",
       "    <tr>\n",
       "      <th>259</th>\n",
       "      <td>RocknRolla</td>\n",
       "      <td>2008</td>\n",
       "      <td>114</td>\n",
       "      <td>Action, Crime, Thriller</td>\n",
       "      <td>7.6</td>\n",
       "      <td>210.61</td>\n",
       "      <td>249883</td>\n",
       "      <td>60</td>\n",
       "    </tr>\n",
       "    <tr>\n",
       "      <th>260</th>\n",
       "      <td>The Gentlemen</td>\n",
       "      <td>2019</td>\n",
       "      <td>113</td>\n",
       "      <td>Action, Comedy, Crime</td>\n",
       "      <td>6.8</td>\n",
       "      <td>227.97</td>\n",
       "      <td>0</td>\n",
       "      <td>92</td>\n",
       "    </tr>\n",
       "    <tr>\n",
       "      <th>272</th>\n",
       "      <td>Pitch Black</td>\n",
       "      <td>2000</td>\n",
       "      <td>109</td>\n",
       "      <td>Action, Horror, Sci-Fi</td>\n",
       "      <td>8.4</td>\n",
       "      <td>248.16</td>\n",
       "      <td>237802</td>\n",
       "      <td>79</td>\n",
       "    </tr>\n",
       "    <tr>\n",
       "      <th>297</th>\n",
       "      <td>The Mule</td>\n",
       "      <td>2018</td>\n",
       "      <td>116</td>\n",
       "      <td>Crime, Drama, Thriller</td>\n",
       "      <td>8.1</td>\n",
       "      <td>232.91</td>\n",
       "      <td>134569</td>\n",
       "      <td>0</td>\n",
       "    </tr>\n",
       "    <tr>\n",
       "      <th>298</th>\n",
       "      <td>Chef</td>\n",
       "      <td>2014</td>\n",
       "      <td>114</td>\n",
       "      <td>Adventure, Comedy, Drama</td>\n",
       "      <td>7.2</td>\n",
       "      <td>256.39</td>\n",
       "      <td>213390</td>\n",
       "      <td>0</td>\n",
       "    </tr>\n",
       "    <tr>\n",
       "      <th>309</th>\n",
       "      <td>The FighterI</td>\n",
       "      <td>1990</td>\n",
       "      <td>127</td>\n",
       "      <td>Drama, Fantasy, Romance</td>\n",
       "      <td>7.6</td>\n",
       "      <td>217.63</td>\n",
       "      <td>362315</td>\n",
       "      <td>79</td>\n",
       "    </tr>\n",
       "    <tr>\n",
       "      <th>317</th>\n",
       "      <td>Falling Down</td>\n",
       "      <td>1984</td>\n",
       "      <td>105</td>\n",
       "      <td>Action, Comedy, Fantasy</td>\n",
       "      <td>8.4</td>\n",
       "      <td>238.63</td>\n",
       "      <td>187615</td>\n",
       "      <td>56</td>\n",
       "    </tr>\n",
       "    <tr>\n",
       "      <th>330</th>\n",
       "      <td>Reservoir Dogs</td>\n",
       "      <td>1989</td>\n",
       "      <td>126</td>\n",
       "      <td>Action, Adventure</td>\n",
       "      <td>7.8</td>\n",
       "      <td>251.19</td>\n",
       "      <td>996089</td>\n",
       "      <td>79</td>\n",
       "    </tr>\n",
       "    <tr>\n",
       "      <th>365</th>\n",
       "      <td>Juice</td>\n",
       "      <td>2018</td>\n",
       "      <td>135</td>\n",
       "      <td>Action, Adventure, Sci-Fi</td>\n",
       "      <td>7.5</td>\n",
       "      <td>213.77</td>\n",
       "      <td>27025</td>\n",
       "      <td>68</td>\n",
       "    </tr>\n",
       "    <tr>\n",
       "      <th>367</th>\n",
       "      <td>The Hunger Games: Catching Fire</td>\n",
       "      <td>2008</td>\n",
       "      <td>92</td>\n",
       "      <td>Action, Drama, Fantasy</td>\n",
       "      <td>6.3</td>\n",
       "      <td>227.95</td>\n",
       "      <td>654490</td>\n",
       "      <td>64</td>\n",
       "    </tr>\n",
       "    <tr>\n",
       "      <th>388</th>\n",
       "      <td>Days of Night</td>\n",
       "      <td>2014</td>\n",
       "      <td>123</td>\n",
       "      <td>Action, Adventure, Sci-Fi</td>\n",
       "      <td>7.3</td>\n",
       "      <td>200.68</td>\n",
       "      <td>175401</td>\n",
       "      <td>68</td>\n",
       "    </tr>\n",
       "  </tbody>\n",
       "</table>\n",
       "</div>"
      ],
      "text/plain": [
       "                                            Movie_Name  Release_Year  \\\n",
       "1                                  The Matrix Reloaded          2019   \n",
       "8                                            Inception          1997   \n",
       "10                      Dawn of the Planet of the Apes          1987   \n",
       "14                           Terminator : Judgment Day          2004   \n",
       "22                                           Cast Away          1990   \n",
       "24                                       Batman Begins          1982   \n",
       "28                             The Empire Strikes Back          2006   \n",
       "31                                  Back to the Future          1992   \n",
       "52                                                Jaws          1999   \n",
       "59                                                 300          2008   \n",
       "60                                               Signs          2019   \n",
       "72                             Raiders of the Lost Ark          2000   \n",
       "97                                        The Exorcist          2018   \n",
       "98                                         I Am Legend          2014   \n",
       "101                                          The Thing          2019   \n",
       "108                                Saving Private Ryan          1997   \n",
       "110                                      Young Guns II          1987   \n",
       "114                                              Tenet          2004   \n",
       "122                                           Blade II          1990   \n",
       "124  The Lord of the Rings: The Fellowship of the Ring          1982   \n",
       "128                The Hobbit: The Desolation of Smaug          2006   \n",
       "131                                         Hereditary          1992   \n",
       "152                                       The Terminal          1999   \n",
       "159                                 The Devils Rejects          2008   \n",
       "160                                          Rogue One          2019   \n",
       "172                              Hell or High WaterII           2000   \n",
       "197                                      Weird Science          2018   \n",
       "198                         National Lampoons Vacation          2014   \n",
       "201                                               1917          2019   \n",
       "208                                            Contact          1997   \n",
       "210                                    Dirty DancingI           1987   \n",
       "214                                  Napoleon Dynamite          2004   \n",
       "222                       Teenage Mutant Ninja Turtles          1990   \n",
       "224                                Conan the Barbarian          1982   \n",
       "228                                            Gwoemul          2006   \n",
       "231                                     Batman Returns          1992   \n",
       "252                                    American Beauty          1999   \n",
       "259                                         RocknRolla          2008   \n",
       "260                                      The Gentlemen          2019   \n",
       "272                                        Pitch Black          2000   \n",
       "297                                           The Mule          2018   \n",
       "298                                               Chef          2014   \n",
       "309                                      The FighterI           1990   \n",
       "317                                       Falling Down          1984   \n",
       "330                                     Reservoir Dogs          1989   \n",
       "365                                              Juice          2018   \n",
       "367                    The Hunger Games: Catching Fire          2008   \n",
       "388                                      Days of Night          2014   \n",
       "\n",
       "     Duration(In Minutes)                                   Genre  Ratings  \\\n",
       "1                     119          Action, Drama, War                  7.2   \n",
       "8                     150      Drama, Mystery, Sci-Fi                  8.8   \n",
       "10                    100       Drama, Music, Romance                  7.6   \n",
       "14                     96                      Comedy                  8.6   \n",
       "22                     93   Action, Adventure, Comedy                  7.8   \n",
       "24                    129  Action, Adventure, Fantasy                  8.2   \n",
       "28                    120       Action, Drama, Horror                  8.7   \n",
       "31                    126      Action, Crime, Fantasy                  8.5   \n",
       "52                    122                       Drama                  8.1   \n",
       "59                    114     Action, Crime, Thriller                  7.6   \n",
       "60                    113       Action, Comedy, Crime                  6.8   \n",
       "72                    109      Action, Horror, Sci-Fi                  8.4   \n",
       "97                    116      Crime, Drama, Thriller                  8.1   \n",
       "98                    114    Adventure, Comedy, Drama                  7.2   \n",
       "101                   138          Action, Drama, War                  7.2   \n",
       "108                   148      Drama, Mystery, Sci-Fi                  8.8   \n",
       "110                   130       Drama, Music, Romance                  7.6   \n",
       "114                   137                      Comedy                  8.6   \n",
       "122                   143   Action, Adventure, Comedy                  7.8   \n",
       "124                   140  Action, Adventure, Fantasy                  8.2   \n",
       "128                   124       Action, Drama, Horror                  8.7   \n",
       "131                   116      Action, Crime, Fantasy                  8.5   \n",
       "152                   124                       Drama                  8.1   \n",
       "159                   117     Action, Crime, Thriller                  7.6   \n",
       "160                   106       Action, Comedy, Crime                  6.8   \n",
       "172                   115      Action, Horror, Sci-Fi                  8.4   \n",
       "197                   122      Crime, Drama, Thriller                  8.1   \n",
       "198                   101    Adventure, Comedy, Drama                  7.2   \n",
       "201                   119          Action, Drama, War                  7.2   \n",
       "208                   150      Drama, Mystery, Sci-Fi                  8.8   \n",
       "210                   100       Drama, Music, Romance                  7.6   \n",
       "214                    96                      Comedy                  8.6   \n",
       "222                    93   Action, Adventure, Comedy                  7.8   \n",
       "224                   129  Action, Adventure, Fantasy                  8.2   \n",
       "228                   120       Action, Drama, Horror                  8.7   \n",
       "231                   126      Action, Crime, Fantasy                  8.5   \n",
       "252                   122                       Drama                  8.1   \n",
       "259                   114     Action, Crime, Thriller                  7.6   \n",
       "260                   113       Action, Comedy, Crime                  6.8   \n",
       "272                   109      Action, Horror, Sci-Fi                  8.4   \n",
       "297                   116      Crime, Drama, Thriller                  8.1   \n",
       "298                   114    Adventure, Comedy, Drama                  7.2   \n",
       "309                   127     Drama, Fantasy, Romance                  7.6   \n",
       "317                   105     Action, Comedy, Fantasy                  8.4   \n",
       "330                   126           Action, Adventure                  7.8   \n",
       "365                   135   Action, Adventure, Sci-Fi                  7.5   \n",
       "367                    92      Action, Drama, Fantasy                  6.3   \n",
       "388                   123   Action, Adventure, Sci-Fi                  7.3   \n",
       "\n",
       "     Collection(In Millions)  Votings  MetaScore  \n",
       "1                     281.49   558558         78  \n",
       "8                     292.58   271717         52  \n",
       "10                    208.55   227221         70  \n",
       "14                    204.84   216317         65  \n",
       "22                    233.63    93463         57  \n",
       "24                    206.85   147841         53  \n",
       "28                    290.48   119759         53  \n",
       "31                    210.61   301378         68  \n",
       "52                    260.00  1136372         75  \n",
       "59                    210.61   249882         60  \n",
       "60                    227.97        0         92  \n",
       "72                    248.16   237801         79  \n",
       "97                    232.91   134565          0  \n",
       "98                    256.39   213386          0  \n",
       "101                   281.49   412795         57  \n",
       "108                   292.58  1356389         50  \n",
       "110                   208.55    35990         58  \n",
       "114                   204.84   474311         58  \n",
       "122                   233.63   215823         74  \n",
       "124                   206.85  1809804         87  \n",
       "128                   290.48   646410         59  \n",
       "131                   210.61   297189         79  \n",
       "152                   260.00   449852         96  \n",
       "159                   210.61    99371         72  \n",
       "160                   227.97   613423         61  \n",
       "172                   248.16   227052         55  \n",
       "197                   232.91    88007          0  \n",
       "198                   256.39   107715          0  \n",
       "201                   281.49   558564         78  \n",
       "208                   292.58   271721         52  \n",
       "210                   208.55   227224         70  \n",
       "214                   204.84   216320         65  \n",
       "222                   233.63    93464         57  \n",
       "224                   206.85   147842         53  \n",
       "228                   290.48   119761         53  \n",
       "231                   210.61   301379         68  \n",
       "252                   260.00  1136374         75  \n",
       "259                   210.61   249883         60  \n",
       "260                   227.97        0         92  \n",
       "272                   248.16   237802         79  \n",
       "297                   232.91   134569          0  \n",
       "298                   256.39   213390          0  \n",
       "309                   217.63   362315         79  \n",
       "317                   238.63   187615         56  \n",
       "330                   251.19   996089         79  \n",
       "365                   213.77    27025         68  \n",
       "367                   227.95   654490         64  \n",
       "388                   200.68   175401         68  "
      ]
     },
     "execution_count": 28,
     "metadata": {},
     "output_type": "execute_result"
    }
   ],
   "source": [
    "rdf=df[(df[\"Collection(In Millions)\"]>200)&(df[\"Collection(In Millions)\"]<300)]\n",
    "rdf"
   ]
  },
  {
   "cell_type": "code",
   "execution_count": 21,
   "id": "19f9d93c",
   "metadata": {},
   "outputs": [
    {
     "data": {
      "text/html": [
       "<div>\n",
       "<style scoped>\n",
       "    .dataframe tbody tr th:only-of-type {\n",
       "        vertical-align: middle;\n",
       "    }\n",
       "\n",
       "    .dataframe tbody tr th {\n",
       "        vertical-align: top;\n",
       "    }\n",
       "\n",
       "    .dataframe thead th {\n",
       "        text-align: right;\n",
       "    }\n",
       "</style>\n",
       "<table border=\"1\" class=\"dataframe\">\n",
       "  <thead>\n",
       "    <tr style=\"text-align: right;\">\n",
       "      <th></th>\n",
       "      <th>Movie_Name</th>\n",
       "      <th>Release_Year</th>\n",
       "      <th>Duration(In Minutes)</th>\n",
       "      <th>Genre</th>\n",
       "      <th>Ratings</th>\n",
       "      <th>Collection(In Millions)</th>\n",
       "      <th>Votings</th>\n",
       "      <th>MetaScore</th>\n",
       "    </tr>\n",
       "  </thead>\n",
       "  <tbody>\n",
       "    <tr>\n",
       "      <th>0</th>\n",
       "      <td>The Matrix</td>\n",
       "      <td>1980</td>\n",
       "      <td>129</td>\n",
       "      <td>Biography, Drama, Sport</td>\n",
       "      <td>8.7</td>\n",
       "      <td>171.48</td>\n",
       "      <td>348069</td>\n",
       "      <td>89</td>\n",
       "    </tr>\n",
       "    <tr>\n",
       "      <th>2</th>\n",
       "      <td>The Matrix Revolutions</td>\n",
       "      <td>2003</td>\n",
       "      <td>109</td>\n",
       "      <td>Biography, Drama, Sport</td>\n",
       "      <td>6.7</td>\n",
       "      <td>139.31</td>\n",
       "      <td>40698</td>\n",
       "      <td>38</td>\n",
       "    </tr>\n",
       "    <tr>\n",
       "      <th>6</th>\n",
       "      <td>PrometheusI</td>\n",
       "      <td>2016</td>\n",
       "      <td>117</td>\n",
       "      <td>Horror, Thriller</td>\n",
       "      <td>7.0</td>\n",
       "      <td>126.48</td>\n",
       "      <td>94168</td>\n",
       "      <td>73</td>\n",
       "    </tr>\n",
       "    <tr>\n",
       "      <th>9</th>\n",
       "      <td>Rise of the Planet of the Apes</td>\n",
       "      <td>1990</td>\n",
       "      <td>127</td>\n",
       "      <td>Drama, Fantasy, Romance</td>\n",
       "      <td>7.6</td>\n",
       "      <td>176.76</td>\n",
       "      <td>213995</td>\n",
       "      <td>65</td>\n",
       "    </tr>\n",
       "    <tr>\n",
       "      <th>11</th>\n",
       "      <td>War for the Planet of the Apes</td>\n",
       "      <td>1988</td>\n",
       "      <td>92</td>\n",
       "      <td>Comedy, Fantasy</td>\n",
       "      <td>7.4</td>\n",
       "      <td>146.88</td>\n",
       "      <td>294012</td>\n",
       "      <td>50</td>\n",
       "    </tr>\n",
       "    <tr>\n",
       "      <th>...</th>\n",
       "      <td>...</td>\n",
       "      <td>...</td>\n",
       "      <td>...</td>\n",
       "      <td>...</td>\n",
       "      <td>...</td>\n",
       "      <td>...</td>\n",
       "      <td>...</td>\n",
       "      <td>...</td>\n",
       "    </tr>\n",
       "    <tr>\n",
       "      <th>378</th>\n",
       "      <td>Flight of the Navigator</td>\n",
       "      <td>2019</td>\n",
       "      <td>161</td>\n",
       "      <td>Comedy, Drama</td>\n",
       "      <td>8.8</td>\n",
       "      <td>142.50</td>\n",
       "      <td>48017</td>\n",
       "      <td>59</td>\n",
       "    </tr>\n",
       "    <tr>\n",
       "      <th>380</th>\n",
       "      <td>Dick Tracy</td>\n",
       "      <td>1990</td>\n",
       "      <td>119</td>\n",
       "      <td>Comedy, Romance</td>\n",
       "      <td>7.5</td>\n",
       "      <td>178.41</td>\n",
       "      <td>61653</td>\n",
       "      <td>59</td>\n",
       "    </tr>\n",
       "    <tr>\n",
       "      <th>386</th>\n",
       "      <td>Hellraiser</td>\n",
       "      <td>1978</td>\n",
       "      <td>143</td>\n",
       "      <td>Action, Adventure, Sci-Fi</td>\n",
       "      <td>8.0</td>\n",
       "      <td>134.22</td>\n",
       "      <td>118765</td>\n",
       "      <td>65</td>\n",
       "    </tr>\n",
       "    <tr>\n",
       "      <th>397</th>\n",
       "      <td>*batteries not included</td>\n",
       "      <td>2018</td>\n",
       "      <td>116</td>\n",
       "      <td>Crime, Drama, Thriller</td>\n",
       "      <td>8.1</td>\n",
       "      <td>103.80</td>\n",
       "      <td>35469</td>\n",
       "      <td>51</td>\n",
       "    </tr>\n",
       "    <tr>\n",
       "      <th>399</th>\n",
       "      <td>The InternI</td>\n",
       "      <td>2017</td>\n",
       "      <td>104</td>\n",
       "      <td>Horror, Mystery, Thriller</td>\n",
       "      <td>8.0</td>\n",
       "      <td>176.04</td>\n",
       "      <td>248313</td>\n",
       "      <td>0</td>\n",
       "    </tr>\n",
       "  </tbody>\n",
       "</table>\n",
       "<p>113 rows × 8 columns</p>\n",
       "</div>"
      ],
      "text/plain": [
       "                         Movie_Name  Release_Year  Duration(In Minutes)  \\\n",
       "0                        The Matrix          1980                   129   \n",
       "2            The Matrix Revolutions          2003                   109   \n",
       "6                      PrometheusI           2016                   117   \n",
       "9    Rise of the Planet of the Apes          1990                   127   \n",
       "11   War for the Planet of the Apes          1988                    92   \n",
       "..                              ...           ...                   ...   \n",
       "378         Flight of the Navigator          2019                   161   \n",
       "380                      Dick Tracy          1990                   119   \n",
       "386                      Hellraiser          1978                   143   \n",
       "397         *batteries not included          2018                   116   \n",
       "399                    The InternI           2017                   104   \n",
       "\n",
       "                                     Genre  Ratings  Collection(In Millions)  \\\n",
       "0      Biography, Drama, Sport                  8.7                   171.48   \n",
       "2      Biography, Drama, Sport                  6.7                   139.31   \n",
       "6             Horror, Thriller                  7.0                   126.48   \n",
       "9      Drama, Fantasy, Romance                  7.6                   176.76   \n",
       "11             Comedy, Fantasy                  7.4                   146.88   \n",
       "..                                     ...      ...                      ...   \n",
       "378              Comedy, Drama                  8.8                   142.50   \n",
       "380            Comedy, Romance                  7.5                   178.41   \n",
       "386  Action, Adventure, Sci-Fi                  8.0                   134.22   \n",
       "397     Crime, Drama, Thriller                  8.1                   103.80   \n",
       "399  Horror, Mystery, Thriller                  8.0                   176.04   \n",
       "\n",
       "     Votings  MetaScore  \n",
       "0     348069         89  \n",
       "2      40698         38  \n",
       "6      94168         73  \n",
       "9     213995         65  \n",
       "11    294012         50  \n",
       "..       ...        ...  \n",
       "378    48017         59  \n",
       "380    61653         59  \n",
       "386   118765         65  \n",
       "397    35469         51  \n",
       "399   248313          0  \n",
       "\n",
       "[113 rows x 8 columns]"
      ]
     },
     "execution_count": 21,
     "metadata": {},
     "output_type": "execute_result"
    }
   ],
   "source": [
    "df[(df[\"Collection(In Millions)\"]>100)&(df[\"Collection(In Millions)\"]<200)]"
   ]
  },
  {
   "cell_type": "code",
   "execution_count": 22,
   "id": "11aa2889",
   "metadata": {},
   "outputs": [
    {
     "data": {
      "text/html": [
       "<div>\n",
       "<style scoped>\n",
       "    .dataframe tbody tr th:only-of-type {\n",
       "        vertical-align: middle;\n",
       "    }\n",
       "\n",
       "    .dataframe tbody tr th {\n",
       "        vertical-align: top;\n",
       "    }\n",
       "\n",
       "    .dataframe thead th {\n",
       "        text-align: right;\n",
       "    }\n",
       "</style>\n",
       "<table border=\"1\" class=\"dataframe\">\n",
       "  <thead>\n",
       "    <tr style=\"text-align: right;\">\n",
       "      <th></th>\n",
       "      <th>Movie_Name</th>\n",
       "      <th>Release_Year</th>\n",
       "      <th>Duration(In Minutes)</th>\n",
       "      <th>Genre</th>\n",
       "      <th>Ratings</th>\n",
       "      <th>Collection(In Millions)</th>\n",
       "      <th>Votings</th>\n",
       "      <th>MetaScore</th>\n",
       "    </tr>\n",
       "  </thead>\n",
       "  <tbody>\n",
       "    <tr>\n",
       "      <th>3</th>\n",
       "      <td>Alien</td>\n",
       "      <td>2004</td>\n",
       "      <td>89</td>\n",
       "      <td>Drama</td>\n",
       "      <td>8.5</td>\n",
       "      <td>78.90</td>\n",
       "      <td>0</td>\n",
       "      <td>86</td>\n",
       "    </tr>\n",
       "    <tr>\n",
       "      <th>4</th>\n",
       "      <td>Aliens</td>\n",
       "      <td>2006</td>\n",
       "      <td>101</td>\n",
       "      <td>Crime, Drama</td>\n",
       "      <td>8.4</td>\n",
       "      <td>85.16</td>\n",
       "      <td>121722</td>\n",
       "      <td>72</td>\n",
       "    </tr>\n",
       "    <tr>\n",
       "      <th>5</th>\n",
       "      <td>Alien³</td>\n",
       "      <td>2008</td>\n",
       "      <td>116</td>\n",
       "      <td>Drama</td>\n",
       "      <td>6.4</td>\n",
       "      <td>55.47</td>\n",
       "      <td>765172</td>\n",
       "      <td>51</td>\n",
       "    </tr>\n",
       "    <tr>\n",
       "      <th>7</th>\n",
       "      <td>Scarface</td>\n",
       "      <td>2005</td>\n",
       "      <td>116</td>\n",
       "      <td>Comedy, Romance</td>\n",
       "      <td>8.3</td>\n",
       "      <td>45.60</td>\n",
       "      <td>429938</td>\n",
       "      <td>62</td>\n",
       "    </tr>\n",
       "    <tr>\n",
       "      <th>12</th>\n",
       "      <td>Schindlers List</td>\n",
       "      <td>1986</td>\n",
       "      <td>101</td>\n",
       "      <td>Adventure, Family, Fantasy</td>\n",
       "      <td>9.0</td>\n",
       "      <td>96.90</td>\n",
       "      <td>135164</td>\n",
       "      <td>57</td>\n",
       "    </tr>\n",
       "    <tr>\n",
       "      <th>...</th>\n",
       "      <td>...</td>\n",
       "      <td>...</td>\n",
       "      <td>...</td>\n",
       "      <td>...</td>\n",
       "      <td>...</td>\n",
       "      <td>...</td>\n",
       "      <td>...</td>\n",
       "      <td>...</td>\n",
       "    </tr>\n",
       "    <tr>\n",
       "      <th>387</th>\n",
       "      <td>Cocoon</td>\n",
       "      <td>1984</td>\n",
       "      <td>116</td>\n",
       "      <td>Adventure, Mystery, Sci-Fi</td>\n",
       "      <td>8.2</td>\n",
       "      <td>40.20</td>\n",
       "      <td>63035</td>\n",
       "      <td>53</td>\n",
       "    </tr>\n",
       "    <tr>\n",
       "      <th>391</th>\n",
       "      <td>Resident Evil</td>\n",
       "      <td>2019</td>\n",
       "      <td>122</td>\n",
       "      <td>Action, Adventure, Sci-Fi</td>\n",
       "      <td>7.5</td>\n",
       "      <td>85.71</td>\n",
       "      <td>267261</td>\n",
       "      <td>53</td>\n",
       "    </tr>\n",
       "    <tr>\n",
       "      <th>393</th>\n",
       "      <td>Irrational Man</td>\n",
       "      <td>2011</td>\n",
       "      <td>101</td>\n",
       "      <td>Action, Crime, Thriller</td>\n",
       "      <td>8.5</td>\n",
       "      <td>4.11</td>\n",
       "      <td>62984</td>\n",
       "      <td>45</td>\n",
       "    </tr>\n",
       "    <tr>\n",
       "      <th>394</th>\n",
       "      <td>The Woman in Black</td>\n",
       "      <td>2000</td>\n",
       "      <td>94</td>\n",
       "      <td>Biography, Crime, Drama</td>\n",
       "      <td>7.7</td>\n",
       "      <td>0.23</td>\n",
       "      <td>182407</td>\n",
       "      <td>52</td>\n",
       "    </tr>\n",
       "    <tr>\n",
       "      <th>398</th>\n",
       "      <td>The Drop</td>\n",
       "      <td>2014</td>\n",
       "      <td>114</td>\n",
       "      <td>Adventure, Comedy, Drama</td>\n",
       "      <td>7.2</td>\n",
       "      <td>30.64</td>\n",
       "      <td>151395</td>\n",
       "      <td>0</td>\n",
       "    </tr>\n",
       "  </tbody>\n",
       "</table>\n",
       "<p>191 rows × 8 columns</p>\n",
       "</div>"
      ],
      "text/plain": [
       "             Movie_Name  Release_Year  Duration(In Minutes)  \\\n",
       "3                 Alien          2004                    89   \n",
       "4                Aliens          2006                   101   \n",
       "5                Alien³          2008                   116   \n",
       "7              Scarface          2005                   116   \n",
       "12      Schindlers List          1986                   101   \n",
       "..                  ...           ...                   ...   \n",
       "387              Cocoon          1984                   116   \n",
       "391       Resident Evil          2019                   122   \n",
       "393      Irrational Man          2011                   101   \n",
       "394  The Woman in Black          2000                    94   \n",
       "398            The Drop          2014                   114   \n",
       "\n",
       "                                      Genre  Ratings  Collection(In Millions)  \\\n",
       "3                         Drama                  8.5                    78.90   \n",
       "4                  Crime, Drama                  8.4                    85.16   \n",
       "5                         Drama                  6.4                    55.47   \n",
       "7               Comedy, Romance                  8.3                    45.60   \n",
       "12   Adventure, Family, Fantasy                  9.0                    96.90   \n",
       "..                                      ...      ...                      ...   \n",
       "387  Adventure, Mystery, Sci-Fi                  8.2                    40.20   \n",
       "391   Action, Adventure, Sci-Fi                  7.5                    85.71   \n",
       "393     Action, Crime, Thriller                  8.5                     4.11   \n",
       "394     Biography, Crime, Drama                  7.7                     0.23   \n",
       "398    Adventure, Comedy, Drama                  7.2                    30.64   \n",
       "\n",
       "     Votings  MetaScore  \n",
       "3          0         86  \n",
       "4     121722         72  \n",
       "5     765172         51  \n",
       "7     429938         62  \n",
       "12    135164         57  \n",
       "..       ...        ...  \n",
       "387    63035         53  \n",
       "391   267261         53  \n",
       "393    62984         45  \n",
       "394   182407         52  \n",
       "398   151395          0  \n",
       "\n",
       "[191 rows x 8 columns]"
      ]
     },
     "execution_count": 22,
     "metadata": {},
     "output_type": "execute_result"
    }
   ],
   "source": [
    "df[(df[\"Collection(In Millions)\"]>0)&(df[\"Collection(In Millions)\"]<100)]"
   ]
  },
  {
   "cell_type": "markdown",
   "id": "23e864a0",
   "metadata": {},
   "source": [
    "#### Cleaning Final Dataframe by converting objects into Intiger"
   ]
  },
  {
   "cell_type": "code",
   "execution_count": 23,
   "id": "fce36093",
   "metadata": {},
   "outputs": [],
   "source": [
    "df[\"Collection(In Millions)\"] = df[\"Collection(In Millions)\"]"
   ]
  },
  {
   "cell_type": "code",
   "execution_count": 35,
   "id": "312e1442",
   "metadata": {},
   "outputs": [],
   "source": [
    "df[\"MetaScore\"] = df[\"MetaScore\"].astype(int)"
   ]
  },
  {
   "cell_type": "code",
   "execution_count": 9,
   "id": "ed9e13e4",
   "metadata": {},
   "outputs": [
    {
     "data": {
      "text/plain": [
       "8.2    44\n",
       "7.6    32\n",
       "8.1    32\n",
       "7.8    28\n",
       "8.6    24\n",
       "7.5    24\n",
       "7.7    24\n",
       "8.4    20\n",
       "7.2    16\n",
       "8.0    16\n",
       "8.5    16\n",
       "8.3    16\n",
       "7.3    12\n",
       "8.7    12\n",
       "9.0    12\n",
       "7.4    12\n",
       "8.8    12\n",
       "7.1     8\n",
       "6.8     8\n",
       "7.9     4\n",
       "7.0     4\n",
       "9.2     4\n",
       "6.2     4\n",
       "6.4     4\n",
       "6.3     4\n",
       "6.7     4\n",
       "8.9     4\n",
       "Name: Ratings, dtype: int64"
      ]
     },
     "execution_count": 9,
     "metadata": {},
     "output_type": "execute_result"
    }
   ],
   "source": [
    "df[\"Ratings\"].value_counts()"
   ]
  },
  {
   "cell_type": "code",
   "execution_count": 8,
   "id": "53612825",
   "metadata": {
    "scrolled": true
   },
   "outputs": [
    {
     "data": {
      "text/plain": [
       "188.02    6\n",
       "210.61    6\n",
       "248.16    3\n",
       "42.44     3\n",
       "92.19     3\n",
       "         ..\n",
       "100.21    1\n",
       "26.39     1\n",
       "31.04     1\n",
       "39.57     1\n",
       "176.04    1\n",
       "Name: Collection(In Millions), Length: 202, dtype: int64"
      ]
     },
     "execution_count": 8,
     "metadata": {},
     "output_type": "execute_result"
    }
   ],
   "source": [
    "df[\"Collection(In Millions)\"].value_counts()"
   ]
  },
  {
   "cell_type": "code",
   "execution_count": 36,
   "id": "05e7cbb1",
   "metadata": {},
   "outputs": [
    {
     "data": {
      "text/plain": [
       "2019    32\n",
       "2017    28\n",
       "1990    28\n",
       "1997    24\n",
       "2000    16\n",
       "2015    16\n",
       "2014    16\n",
       "1984    16\n",
       "2006    12\n",
       "2008    12\n",
       "2018    12\n",
       "2004    12\n",
       "1978    12\n",
       "1982    12\n",
       "1999    12\n",
       "2013     8\n",
       "2012     8\n",
       "1989     8\n",
       "1992     8\n",
       "1987     8\n",
       "2020     8\n",
       "1998     4\n",
       "2010     4\n",
       "2002     4\n",
       "1956     4\n",
       "1967     4\n",
       "1939     4\n",
       "1954     4\n",
       "2011     4\n",
       "1993     4\n",
       "1980     4\n",
       "1963     4\n",
       "1985     4\n",
       "1979     4\n",
       "1976     4\n",
       "1973     4\n",
       "1991     4\n",
       "1983     4\n",
       "1986     4\n",
       "1988     4\n",
       "2005     4\n",
       "2016     4\n",
       "2003     4\n",
       "2021     4\n",
       "Name: Release_Year, dtype: int64"
      ]
     },
     "execution_count": 36,
     "metadata": {},
     "output_type": "execute_result"
    }
   ],
   "source": [
    "df[\"Release_Year\"].value_counts()"
   ]
  },
  {
   "cell_type": "markdown",
   "id": "cf448f2e",
   "metadata": {},
   "source": [
    "## Exploratory Data Analysis"
   ]
  },
  {
   "cell_type": "code",
   "execution_count": 34,
   "id": "436b09f1",
   "metadata": {},
   "outputs": [],
   "source": [
    "import pandas as pd\n",
    "import seaborn as sns\n",
    "import matplotlib.pyplot as plt\n",
    "import plotly.express as px"
   ]
  },
  {
   "cell_type": "markdown",
   "id": "be1e957a",
   "metadata": {},
   "source": [
    "### For Rating and Gross"
   ]
  },
  {
   "cell_type": "markdown",
   "id": "1d3da98d",
   "metadata": {},
   "source": [
    "## Univariate Analysis"
   ]
  },
  {
   "cell_type": "markdown",
   "id": "9a28288f",
   "metadata": {},
   "source": [
    "### Bar Plot"
   ]
  },
  {
   "cell_type": "code",
   "execution_count": 41,
   "id": "4be5c321",
   "metadata": {},
   "outputs": [
    {
     "data": {
      "text/plain": [
       "<AxesSubplot:>"
      ]
     },
     "execution_count": 41,
     "metadata": {},
     "output_type": "execute_result"
    },
    {
     "data": {
      "image/png": "[encoded data removed]",
      "text/plain": [
       "<Figure size 432x288 with 1 Axes>"
      ]
     },
     "metadata": {
      "needs_background": "light"
     },
     "output_type": "display_data"
    }
   ],
   "source": [
    "df['Ratings'].value_counts().plot.bar()"
   ]
  },
  {
   "cell_type": "code",
   "execution_count": 31,
   "id": "fed71b4e",
   "metadata": {},
   "outputs": [
    {
     "data": {
      "text/plain": [
       "<AxesSubplot:>"
      ]
     },
     "execution_count": 31,
     "metadata": {},
     "output_type": "execute_result"
    },
    {
     "data": {
      "image/png": "[encoded data removed]",
      "text/plain": [
       "<Figure size 720x360 with 1 Axes>"
      ]
     },
     "metadata": {
      "needs_background": "light"
     },
     "output_type": "display_data"
    }
   ],
   "source": [
    "plt.figure(figsize=(10,5))\n",
    "plt.xticks(rotation=90)\n",
    "rdf['Collection(In Millions)'].value_counts().plot.bar()"
   ]
  },
  {
   "cell_type": "markdown",
   "id": "6ebdff74",
   "metadata": {},
   "source": [
    "### Histogram"
   ]
  },
  {
   "cell_type": "code",
   "execution_count": 27,
   "id": "1157df64",
   "metadata": {},
   "outputs": [
    {
     "data": {
      "text/plain": [
       "<AxesSubplot:>"
      ]
     },
     "execution_count": 27,
     "metadata": {},
     "output_type": "execute_result"
    },
    {
     "data": {
      "image/png": "[encoded data removed]",
      "text/plain": [
       "<Figure size 432x288 with 1 Axes>"
      ]
     },
     "metadata": {
      "needs_background": "light"
     },
     "output_type": "display_data"
    }
   ],
   "source": [
    "df[\"Ratings\"].hist(bins=4)"
   ]
  },
  {
   "cell_type": "code",
   "execution_count": 17,
   "id": "b24ccfd4",
   "metadata": {},
   "outputs": [
    {
     "data": {
      "text/plain": [
       "<AxesSubplot:>"
      ]
     },
     "execution_count": 17,
     "metadata": {},
     "output_type": "execute_result"
    },
    {
     "data": {
      "image/png": "[encoded data removed]",
      "text/plain": [
       "<Figure size 432x288 with 1 Axes>"
      ]
     },
     "metadata": {
      "needs_background": "light"
     },
     "output_type": "display_data"
    }
   ],
   "source": [
    "df[\"Collection(In Millions)\"].hist(bins=2)"
   ]
  },
  {
   "cell_type": "markdown",
   "id": "6e0e63a1",
   "metadata": {},
   "source": [
    "### Count Plot"
   ]
  },
  {
   "cell_type": "code",
   "execution_count": 43,
   "id": "ebd4c181",
   "metadata": {},
   "outputs": [
    {
     "data": {
      "text/plain": [
       "<AxesSubplot:xlabel='Ratings', ylabel='count'>"
      ]
     },
     "execution_count": 43,
     "metadata": {},
     "output_type": "execute_result"
    },
    {
     "data": {
      "image/png": "[encoded data removed]",
      "text/plain": [
       "<Figure size 720x360 with 1 Axes>"
      ]
     },
     "metadata": {
      "needs_background": "light"
     },
     "output_type": "display_data"
    }
   ],
   "source": [
    "plt.figure(figsize=(10,5))\n",
    "plt.xticks(rotation = 90)\n",
    "sns.countplot(x='Ratings',data=df)"
   ]
  },
  {
   "cell_type": "code",
   "execution_count": 44,
   "id": "79c311dc",
   "metadata": {},
   "outputs": [
    {
     "data": {
      "text/plain": [
       "<AxesSubplot:xlabel='Collection(In Millions)', ylabel='count'>"
      ]
     },
     "execution_count": 44,
     "metadata": {},
     "output_type": "execute_result"
    },
    {
     "data": {
      "image/png": "[encoded data removed]",
      "text/plain": [
       "<Figure size 720x360 with 1 Axes>"
      ]
     },
     "metadata": {
      "needs_background": "light"
     },
     "output_type": "display_data"
    }
   ],
   "source": [
    "plt.figure(figsize=(10,5))\n",
    "plt.xticks(rotation = 90)\n",
    "sns.countplot(x='Collection(In Millions)',data=rdf)"
   ]
  },
  {
   "cell_type": "markdown",
   "id": "833505dd",
   "metadata": {},
   "source": [
    "### Pie Chart"
   ]
  },
  {
   "cell_type": "code",
   "execution_count": 45,
   "id": "5d53c539",
   "metadata": {},
   "outputs": [
    {
     "data": {
      "text/plain": [
       "<AxesSubplot:ylabel='Ratings'>"
      ]
     },
     "execution_count": 45,
     "metadata": {},
     "output_type": "execute_result"
    },
    {
     "data": {
      "image/png": "[encoded data removed]",
      "text/plain": [
       "<Figure size 432x288 with 1 Axes>"
      ]
     },
     "metadata": {},
     "output_type": "display_data"
    }
   ],
   "source": [
    "df['Ratings'].value_counts().plot.pie(autopct=\"%.1f%%\")"
   ]
  },
  {
   "cell_type": "markdown",
   "id": "d869335e",
   "metadata": {},
   "source": [
    "### Box Plot"
   ]
  },
  {
   "cell_type": "code",
   "execution_count": 20,
   "id": "333817bb",
   "metadata": {},
   "outputs": [
    {
     "name": "stderr",
     "output_type": "stream",
     "text": [
      "C:\\Users\\User\\anaconda3\\lib\\site-packages\\seaborn\\_decorators.py:36: FutureWarning: Pass the following variable as a keyword arg: x. From version 0.12, the only valid positional argument will be `data`, and passing other arguments without an explicit keyword will result in an error or misinterpretation.\n",
      "  warnings.warn(\n"
     ]
    },
    {
     "data": {
      "text/plain": [
       "<AxesSubplot:xlabel='Ratings'>"
      ]
     },
     "execution_count": 20,
     "metadata": {},
     "output_type": "execute_result"
    },
    {
     "data": {
      "image/png": "[encoded data removed]",
      "text/plain": [
       "<Figure size 720x360 with 1 Axes>"
      ]
     },
     "metadata": {
      "needs_background": "light"
     },
     "output_type": "display_data"
    }
   ],
   "source": [
    "plt.figure(figsize=(10,5))\n",
    "sns.boxplot(df[\"Ratings\"])"
   ]
  },
  {
   "cell_type": "code",
   "execution_count": 24,
   "id": "f5d9f067",
   "metadata": {},
   "outputs": [
    {
     "name": "stderr",
     "output_type": "stream",
     "text": [
      "C:\\Users\\User\\anaconda3\\lib\\site-packages\\seaborn\\_decorators.py:36: FutureWarning: Pass the following variable as a keyword arg: x. From version 0.12, the only valid positional argument will be `data`, and passing other arguments without an explicit keyword will result in an error or misinterpretation.\n",
      "  warnings.warn(\n"
     ]
    },
    {
     "data": {
      "text/plain": [
       "<AxesSubplot:xlabel='Collection(In Millions)'>"
      ]
     },
     "execution_count": 24,
     "metadata": {},
     "output_type": "execute_result"
    },
    {
     "data": {
      "image/png": "[encoded data removed]",
      "text/plain": [
       "<Figure size 720x360 with 1 Axes>"
      ]
     },
     "metadata": {
      "needs_background": "light"
     },
     "output_type": "display_data"
    }
   ],
   "source": [
    "plt.figure(figsize=(10,5))\n",
    "sns.boxplot(rdf[\"Collection(In Millions)\"])"
   ]
  },
  {
   "cell_type": "markdown",
   "id": "616debaf",
   "metadata": {},
   "source": [
    "### Violin Plot"
   ]
  },
  {
   "cell_type": "code",
   "execution_count": 35,
   "id": "796c43cd",
   "metadata": {},
   "outputs": [
    {
     "name": "stderr",
     "output_type": "stream",
     "text": [
      "C:\\Users\\User\\anaconda3\\lib\\site-packages\\seaborn\\_decorators.py:36: FutureWarning: Pass the following variable as a keyword arg: x. From version 0.12, the only valid positional argument will be `data`, and passing other arguments without an explicit keyword will result in an error or misinterpretation.\n",
      "  warnings.warn(\n"
     ]
    },
    {
     "data": {
      "text/plain": [
       "<AxesSubplot:xlabel='Release_Year'>"
      ]
     },
     "execution_count": 35,
     "metadata": {},
     "output_type": "execute_result"
    },
    {
     "data": {
      "image/png": "[encoded data removed]",
      "text/plain": [
       "<Figure size 720x360 with 1 Axes>"
      ]
     },
     "metadata": {
      "needs_background": "light"
     },
     "output_type": "display_data"
    }
   ],
   "source": [
    "plt.figure(figsize=(10,5))\n",
    "sns.violinplot(df[\"Release_Year\"])"
   ]
  },
  {
   "cell_type": "code",
   "execution_count": 32,
   "id": "c1c4a107",
   "metadata": {},
   "outputs": [
    {
     "name": "stderr",
     "output_type": "stream",
     "text": [
      "C:\\Users\\User\\anaconda3\\lib\\site-packages\\seaborn\\_decorators.py:36: FutureWarning: Pass the following variable as a keyword arg: x. From version 0.12, the only valid positional argument will be `data`, and passing other arguments without an explicit keyword will result in an error or misinterpretation.\n",
      "  warnings.warn(\n"
     ]
    },
    {
     "data": {
      "text/plain": [
       "<AxesSubplot:xlabel='Collection(In Millions)'>"
      ]
     },
     "execution_count": 32,
     "metadata": {},
     "output_type": "execute_result"
    },
    {
     "data": {
      "image/png": "[encoded data removed]",
      "text/plain": [
       "<Figure size 720x360 with 1 Axes>"
      ]
     },
     "metadata": {
      "needs_background": "light"
     },
     "output_type": "display_data"
    }
   ],
   "source": [
    "plt.figure(figsize=(10,5))\n",
    "sns.violinplot(df[\"Collection(In Millions)\"])"
   ]
  },
  {
   "cell_type": "markdown",
   "id": "07b01abb",
   "metadata": {},
   "source": [
    "## Bi-Variate Analysis"
   ]
  },
  {
   "cell_type": "markdown",
   "id": "aad199cd",
   "metadata": {},
   "source": [
    "### Num vs Num"
   ]
  },
  {
   "cell_type": "markdown",
   "id": "a0af55bf",
   "metadata": {},
   "source": [
    "### Scatterplot"
   ]
  },
  {
   "cell_type": "code",
   "execution_count": 51,
   "id": "70a3b50e",
   "metadata": {},
   "outputs": [
    {
     "data": {
      "text/plain": [
       "<matplotlib.collections.PathCollection at 0x1fe2a780eb0>"
      ]
     },
     "execution_count": 51,
     "metadata": {},
     "output_type": "execute_result"
    },
    {
     "data": {
      "image/png": "[encoded data removed]",
      "text/plain": [
       "<Figure size 720x360 with 1 Axes>"
      ]
     },
     "metadata": {
      "needs_background": "light"
     },
     "output_type": "display_data"
    }
   ],
   "source": [
    "plt.figure(figsize=(10,5))\n",
    "plt.xticks(rotation=90)\n",
    "plt.scatter(df[\"Release_Year\"],df[\"Ratings\"])"
   ]
  },
  {
   "cell_type": "code",
   "execution_count": 52,
   "id": "cc98c67b",
   "metadata": {},
   "outputs": [
    {
     "data": {
      "text/plain": [
       "<matplotlib.collections.PathCollection at 0x1fe2a55dd00>"
      ]
     },
     "execution_count": 52,
     "metadata": {},
     "output_type": "execute_result"
    },
    {
     "data": {
      "image/png": "[encoded data removed]",
      "text/plain": [
       "<Figure size 720x360 with 1 Axes>"
      ]
     },
     "metadata": {
      "needs_background": "light"
     },
     "output_type": "display_data"
    }
   ],
   "source": [
    "plt.figure(figsize=(10,5))\n",
    "plt.xticks(rotation=90)\n",
    "plt.scatter(df[\"Release_Year\"],df[\"Collection(In Millions)\"])"
   ]
  },
  {
   "cell_type": "code",
   "execution_count": 33,
   "id": "b18308c7",
   "metadata": {},
   "outputs": [
    {
     "data": {
      "text/plain": [
       "-0.20216961880118134"
      ]
     },
     "execution_count": 33,
     "metadata": {},
     "output_type": "execute_result"
    }
   ],
   "source": [
    "df[\"Release_Year\"].corr(df[\"Ratings\"])"
   ]
  },
  {
   "cell_type": "markdown",
   "id": "788e0bf8",
   "metadata": {},
   "source": [
    "### Line Chart"
   ]
  },
  {
   "cell_type": "code",
   "execution_count": 53,
   "id": "04aa2afa",
   "metadata": {},
   "outputs": [
    {
     "data": {
      "text/plain": [
       "<AxesSubplot:xlabel='Release_Year', ylabel='Ratings'>"
      ]
     },
     "execution_count": 53,
     "metadata": {},
     "output_type": "execute_result"
    },
    {
     "data": {
      "image/png": "[encoded data removed]",
      "text/plain": [
       "<Figure size 720x360 with 1 Axes>"
      ]
     },
     "metadata": {
      "needs_background": "light"
     },
     "output_type": "display_data"
    }
   ],
   "source": [
    "plt.figure(figsize=(10,5))\n",
    "sns.lineplot(x=\"Release_Year\",y=\"Ratings\",data=df)"
   ]
  },
  {
   "cell_type": "code",
   "execution_count": 55,
   "id": "e9fa7568",
   "metadata": {},
   "outputs": [
    {
     "data": {
      "text/plain": [
       "<AxesSubplot:xlabel='Release_Year', ylabel='Collection(In Millions)'>"
      ]
     },
     "execution_count": 55,
     "metadata": {},
     "output_type": "execute_result"
    },
    {
     "data": {
      "image/png": "[encoded data removed]",
      "text/plain": [
       "<Figure size 720x360 with 1 Axes>"
      ]
     },
     "metadata": {
      "needs_background": "light"
     },
     "output_type": "display_data"
    }
   ],
   "source": [
    "plt.figure(figsize=(10,5))\n",
    "sns.lineplot(x=\"Release_Year\",y=\"Collection(In Millions)\",data=df)"
   ]
  },
  {
   "cell_type": "markdown",
   "id": "b7dda4c4",
   "metadata": {},
   "source": [
    "### Category Vs Num"
   ]
  },
  {
   "cell_type": "markdown",
   "id": "9285722b",
   "metadata": {},
   "source": [
    "#### Boxplot"
   ]
  },
  {
   "cell_type": "code",
   "execution_count": 35,
   "id": "311fc743",
   "metadata": {},
   "outputs": [
    {
     "data": {
      "text/plain": [
       "<AxesSubplot:xlabel='Genre', ylabel='Ratings'>"
      ]
     },
     "execution_count": 35,
     "metadata": {},
     "output_type": "execute_result"
    },
    {
     "data": {
      "image/png": "[encoded data removed]",
      "text/plain": [
       "<Figure size 1440x720 with 1 Axes>"
      ]
     },
     "metadata": {
      "needs_background": "light"
     },
     "output_type": "display_data"
    }
   ],
   "source": [
    "plt.figure(figsize=(20,10))\n",
    "plt.xticks(rotation=90)\n",
    "sns.boxplot(x=\"Genre\",y=\"Ratings\",data=df)"
   ]
  },
  {
   "cell_type": "code",
   "execution_count": 10,
   "id": "aebd9b31",
   "metadata": {},
   "outputs": [
    {
     "data": {
      "text/plain": [
       "<AxesSubplot:xlabel='Genre', ylabel='Collection(In Millions)'>"
      ]
     },
     "execution_count": 10,
     "metadata": {},
     "output_type": "execute_result"
    },
    {
     "data": {
      "image/png": "[encoded data removed]",
      "text/plain": [
       "<Figure size 1440x720 with 1 Axes>"
      ]
     },
     "metadata": {
      "needs_background": "light"
     },
     "output_type": "display_data"
    }
   ],
   "source": [
    "plt.figure(figsize=(20,10))\n",
    "plt.xticks(rotation=90)\n",
    "sns.boxplot(x=\"Genre\",y=\"Collection(In Millions)\",data=rdf)"
   ]
  },
  {
   "cell_type": "markdown",
   "id": "53a9810f",
   "metadata": {},
   "source": [
    "### BarPlot"
   ]
  },
  {
   "cell_type": "code",
   "execution_count": 36,
   "id": "cf3afc3e",
   "metadata": {},
   "outputs": [
    {
     "data": {
      "text/plain": [
       "<AxesSubplot:xlabel='Genre', ylabel='Ratings'>"
      ]
     },
     "execution_count": 36,
     "metadata": {},
     "output_type": "execute_result"
    },
    {
     "data": {
      "image/png": "[encoded data removed]",
      "text/plain": [
       "<Figure size 1440x720 with 1 Axes>"
      ]
     },
     "metadata": {
      "needs_background": "light"
     },
     "output_type": "display_data"
    }
   ],
   "source": [
    "plt.figure(figsize=(20,10))\n",
    "plt.xticks(rotation=90)\n",
    "sns.barplot(x=\"Genre\",y=\"Ratings\",data=df)"
   ]
  },
  {
   "cell_type": "code",
   "execution_count": 56,
   "id": "db6d5cdf",
   "metadata": {},
   "outputs": [
    {
     "data": {
      "text/plain": [
       "<AxesSubplot:xlabel='Genre', ylabel='Collection(In Millions)'>"
      ]
     },
     "execution_count": 56,
     "metadata": {},
     "output_type": "execute_result"
    },
    {
     "data": {
      "image/png": "[encoded data removed]",
      "text/plain": [
       "<Figure size 1440x720 with 1 Axes>"
      ]
     },
     "metadata": {
      "needs_background": "light"
     },
     "output_type": "display_data"
    }
   ],
   "source": [
    "plt.figure(figsize=(20,10))\n",
    "plt.xticks(rotation=90)\n",
    "sns.barplot(x=\"Genre\",y=\"Collection(In Millions)\",data=df)"
   ]
  },
  {
   "cell_type": "markdown",
   "id": "7d1033eb",
   "metadata": {},
   "source": [
    "## Multi-Variate"
   ]
  },
  {
   "cell_type": "markdown",
   "id": "33ff033e",
   "metadata": {},
   "source": [
    "### HeatMap"
   ]
  },
  {
   "cell_type": "code",
   "execution_count": 27,
   "id": "2ef4f664",
   "metadata": {},
   "outputs": [
    {
     "data": {
      "text/html": [
       "<div>\n",
       "<style scoped>\n",
       "    .dataframe tbody tr th:only-of-type {\n",
       "        vertical-align: middle;\n",
       "    }\n",
       "\n",
       "    .dataframe tbody tr th {\n",
       "        vertical-align: top;\n",
       "    }\n",
       "\n",
       "    .dataframe thead th {\n",
       "        text-align: right;\n",
       "    }\n",
       "</style>\n",
       "<table border=\"1\" class=\"dataframe\">\n",
       "  <thead>\n",
       "    <tr style=\"text-align: right;\">\n",
       "      <th></th>\n",
       "      <th>Release_Year</th>\n",
       "      <th>Duration(In Minutes)</th>\n",
       "      <th>Ratings</th>\n",
       "      <th>Collection(In Millions)</th>\n",
       "      <th>Votings</th>\n",
       "      <th>MetaScore</th>\n",
       "    </tr>\n",
       "  </thead>\n",
       "  <tbody>\n",
       "    <tr>\n",
       "      <th>Release_Year</th>\n",
       "      <td>1.000000</td>\n",
       "      <td>0.111235</td>\n",
       "      <td>-0.202170</td>\n",
       "      <td>0.028140</td>\n",
       "      <td>0.030358</td>\n",
       "      <td>-0.045277</td>\n",
       "    </tr>\n",
       "    <tr>\n",
       "      <th>Duration(In Minutes)</th>\n",
       "      <td>0.111235</td>\n",
       "      <td>1.000000</td>\n",
       "      <td>0.056632</td>\n",
       "      <td>0.015389</td>\n",
       "      <td>0.279814</td>\n",
       "      <td>0.150863</td>\n",
       "    </tr>\n",
       "    <tr>\n",
       "      <th>Ratings</th>\n",
       "      <td>-0.202170</td>\n",
       "      <td>0.056632</td>\n",
       "      <td>1.000000</td>\n",
       "      <td>-0.112230</td>\n",
       "      <td>0.042995</td>\n",
       "      <td>0.117973</td>\n",
       "    </tr>\n",
       "    <tr>\n",
       "      <th>Collection(In Millions)</th>\n",
       "      <td>0.028140</td>\n",
       "      <td>0.015389</td>\n",
       "      <td>-0.112230</td>\n",
       "      <td>1.000000</td>\n",
       "      <td>-0.013475</td>\n",
       "      <td>-0.048949</td>\n",
       "    </tr>\n",
       "    <tr>\n",
       "      <th>Votings</th>\n",
       "      <td>0.030358</td>\n",
       "      <td>0.279814</td>\n",
       "      <td>0.042995</td>\n",
       "      <td>-0.013475</td>\n",
       "      <td>1.000000</td>\n",
       "      <td>0.073450</td>\n",
       "    </tr>\n",
       "    <tr>\n",
       "      <th>MetaScore</th>\n",
       "      <td>-0.045277</td>\n",
       "      <td>0.150863</td>\n",
       "      <td>0.117973</td>\n",
       "      <td>-0.048949</td>\n",
       "      <td>0.073450</td>\n",
       "      <td>1.000000</td>\n",
       "    </tr>\n",
       "  </tbody>\n",
       "</table>\n",
       "</div>"
      ],
      "text/plain": [
       "                         Release_Year  Duration(In Minutes)   Ratings  \\\n",
       "Release_Year                 1.000000              0.111235 -0.202170   \n",
       "Duration(In Minutes)         0.111235              1.000000  0.056632   \n",
       "Ratings                     -0.202170              0.056632  1.000000   \n",
       "Collection(In Millions)      0.028140              0.015389 -0.112230   \n",
       "Votings                      0.030358              0.279814  0.042995   \n",
       "MetaScore                   -0.045277              0.150863  0.117973   \n",
       "\n",
       "                         Collection(In Millions)   Votings  MetaScore  \n",
       "Release_Year                            0.028140  0.030358  -0.045277  \n",
       "Duration(In Minutes)                    0.015389  0.279814   0.150863  \n",
       "Ratings                                -0.112230  0.042995   0.117973  \n",
       "Collection(In Millions)                 1.000000 -0.013475  -0.048949  \n",
       "Votings                                -0.013475  1.000000   0.073450  \n",
       "MetaScore                              -0.048949  0.073450   1.000000  "
      ]
     },
     "execution_count": 27,
     "metadata": {},
     "output_type": "execute_result"
    }
   ],
   "source": [
    "num_df=df.select_dtypes(include=['number'])\n",
    "num_df.corr()"
   ]
  },
  {
   "cell_type": "code",
   "execution_count": 28,
   "id": "61de2a7b",
   "metadata": {},
   "outputs": [
    {
     "data": {
      "image/png": "[encoded data removed]",
      "text/plain": [
       "<Figure size 1080x720 with 2 Axes>"
      ]
     },
     "metadata": {
      "needs_background": "light"
     },
     "output_type": "display_data"
    }
   ],
   "source": [
    "plt.figure(figsize=(15,10))\n",
    "sns.heatmap(num_df.corr(),annot=True)\n",
    "plt.show()"
   ]
  },
  {
   "cell_type": "markdown",
   "id": "0dff10be",
   "metadata": {},
   "source": [
    "### PairPlot"
   ]
  },
  {
   "cell_type": "code",
   "execution_count": 57,
   "id": "33cfa4d2",
   "metadata": {},
   "outputs": [
    {
     "data": {
      "image/png": "[encoded data removed]",
      "text/plain": [
       "<Figure size 540x540 with 12 Axes>"
      ]
     },
     "metadata": {
      "needs_background": "light"
     },
     "output_type": "display_data"
    }
   ],
   "source": [
    "sns.pairplot(data = df, vars=['Ratings','Votings','Release_Year'])\n",
    "plt.show()"
   ]
  },
  {
   "cell_type": "code",
   "execution_count": null,
   "id": "a2048e48",
   "metadata": {},
   "outputs": [],
   "source": []
  }
 ],
 "metadata": {
  "kernelspec": {
   "display_name": "Python 3 (ipykernel)",
   "language": "python",
   "name": "python3"
  },
  "language_info": {
   "codemirror_mode": {
    "name": "ipython",
    "version": 3
   },
   "file_extension": ".py",
   "mimetype": "text/x-python",
   "name": "python",
   "nbconvert_exporter": "python",
   "pygments_lexer": "ipython3",
   "version": "3.9.7"
  }
 },
 "nbformat": 4,
 "nbformat_minor": 5
}
