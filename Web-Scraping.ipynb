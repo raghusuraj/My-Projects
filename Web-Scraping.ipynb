{
 "cells": [
  {
   "cell_type": "code",
   "execution_count": 1,
   "id": "4dfd419c",
   "metadata": {},
   "outputs": [],
   "source": [
    "import requests\n",
    "from bs4 import BeautifulSoup\n",
    "import numpy as np\n",
    "import re\n",
    "import pandas as pd"
   ]
  },
  {
   "cell_type": "code",
   "execution_count": 2,
   "id": "1680350f",
   "metadata": {},
   "outputs": [],
   "source": [
    "page=requests.get(\"https://www.imdb.com/list/ls023757565/\")"
   ]
  },
  {
   "cell_type": "code",
   "execution_count": 326,
   "id": "5a004184",
   "metadata": {},
   "outputs": [
    {
     "data": {
      "text/plain": [
       "<Response [200]>"
      ]
     },
     "execution_count": 326,
     "metadata": {},
     "output_type": "execute_result"
    }
   ],
   "source": [
    "page"
   ]
  },
  {
   "cell_type": "code",
   "execution_count": 327,
   "id": "fb43da59",
   "metadata": {},
   "outputs": [],
   "source": [
    "soup=BeautifulSoup(page.text)"
   ]
  },
  {
   "cell_type": "code",
   "execution_count": 328,
   "id": "8dcc6f39",
   "metadata": {},
   "outputs": [
    {
     "data": {
      "text/plain": [
       "'\\n2.\\nThe Matrix Reloaded\\n(2003)\\n'"
      ]
     },
     "execution_count": 328,
     "metadata": {},
     "output_type": "execute_result"
    }
   ],
   "source": [
    "hok=soup.find_all(\"h3\",class_=\"lister-item-header\")[1].text\n",
    "hok"
   ]
  },
  {
   "cell_type": "code",
   "execution_count": 329,
   "id": "d216b481",
   "metadata": {},
   "outputs": [],
   "source": [
    "a=re.sub(\"[\\n\\d'.'\\n\\d+'()']\",\"\",hok)"
   ]
  },
  {
   "cell_type": "code",
   "execution_count": null,
   "id": "3e7ecacc",
   "metadata": {},
   "outputs": [],
   "source": []
  },
  {
   "cell_type": "code",
   "execution_count": 330,
   "id": "be55d976",
   "metadata": {},
   "outputs": [],
   "source": [
    "movie=[]\n",
    "for i in soup.find_all(\"h3\",class_=\"lister-item-header\"):\n",
    "    a=i.text\n",
    "    b=re.sub(\"[\\n\\d'.'\\n\\d+'()']\",\"\",a)\n",
    "    movie.append(b)"
   ]
  },
  {
   "cell_type": "code",
   "execution_count": 331,
   "id": "4e940a6f",
   "metadata": {
    "scrolled": true
   },
   "outputs": [
    {
     "data": {
      "text/plain": [
       "100"
      ]
     },
     "execution_count": 331,
     "metadata": {},
     "output_type": "execute_result"
    }
   ],
   "source": [
    "len(movie)"
   ]
  },
  {
   "cell_type": "code",
   "execution_count": null,
   "id": "af434bd6",
   "metadata": {},
   "outputs": [],
   "source": []
  },
  {
   "cell_type": "code",
   "execution_count": 332,
   "id": "0444020f",
   "metadata": {},
   "outputs": [],
   "source": [
    "yor=soup.find_all(\"span\",class_=\"lister-item-year text-muted unbold\")"
   ]
  },
  {
   "cell_type": "code",
   "execution_count": 333,
   "id": "14bb2415",
   "metadata": {},
   "outputs": [
    {
     "data": {
      "text/plain": [
       "100"
      ]
     },
     "execution_count": 333,
     "metadata": {},
     "output_type": "execute_result"
    }
   ],
   "source": [
    "year=[]\n",
    "for i in soup.find_all(\"span\",class_=\"lister-item-year text-muted unbold\"):\n",
    "    y=i.text\n",
    "    year.append(y)\n",
    "len(year)    "
   ]
  },
  {
   "cell_type": "code",
   "execution_count": 336,
   "id": "53e9cbd7",
   "metadata": {},
   "outputs": [],
   "source": [
    "yr = []\n",
    "for i in df[\"Release_Year\"]:\n",
    "    yr.append(re.sub(\"[()]\",\"\",i))\n",
    "df[\"Release_Year\"]=yr"
   ]
  },
  {
   "cell_type": "code",
   "execution_count": null,
   "id": "839f5faf",
   "metadata": {},
   "outputs": [],
   "source": [
    "y=[]\n",
    "for i in df[\"Release_Year\"]:\n",
    "    i = i.replace(\"I\",\"\")\n",
    "    y.append(i)\n",
    "len(y)"
   ]
  },
  {
   "cell_type": "code",
   "execution_count": null,
   "id": "9ce2ae89",
   "metadata": {},
   "outputs": [],
   "source": [
    "dur=soup.find_all(\"span\",class_=\"runtime\")"
   ]
  },
  {
   "cell_type": "code",
   "execution_count": 169,
   "id": "eb434a95",
   "metadata": {},
   "outputs": [
    {
     "data": {
      "text/plain": [
       "100"
      ]
     },
     "execution_count": 169,
     "metadata": {},
     "output_type": "execute_result"
    }
   ],
   "source": [
    "duration=[]\n",
    "for i in soup.find_all(\"span\",class_=\"runtime\"):\n",
    "    d=i.text\n",
    "    duration.append(d)\n",
    "len(duration)"
   ]
  },
  {
   "cell_type": "code",
   "execution_count": 337,
   "id": "508cc4dc",
   "metadata": {},
   "outputs": [],
   "source": [
    "dur=[]\n",
    "for i in df[\"Duration(In Minutes)\"]:\n",
    "    dur.append(i.replace(\"min\",\"\"))\n",
    "df[\"Duration(In Minutes)\"] = dur"
   ]
  },
  {
   "cell_type": "code",
   "execution_count": 13,
   "id": "39f4b97b",
   "metadata": {},
   "outputs": [],
   "source": [
    "vis=soup.find_all(\"span\",class_=\"genre\")"
   ]
  },
  {
   "cell_type": "code",
   "execution_count": 18,
   "id": "74963e3c",
   "metadata": {},
   "outputs": [
    {
     "data": {
      "text/plain": [
       "100"
      ]
     },
     "execution_count": 18,
     "metadata": {},
     "output_type": "execute_result"
    }
   ],
   "source": [
    "genre=[]\n",
    "for i in soup.find_all(\"span\",class_=\"genre\"):\n",
    "    g=i.text\n",
    "    genre.append(g)\n",
    "len(genre)"
   ]
  },
  {
   "cell_type": "code",
   "execution_count": 338,
   "id": "31dbe39b",
   "metadata": {},
   "outputs": [],
   "source": [
    "gen = []\n",
    "for i in df[\"Genre\"]:\n",
    "    gen.append(i.replace(\"\\n\",\"\"))\n",
    "df[\"Genre\"] = gen"
   ]
  },
  {
   "cell_type": "code",
   "execution_count": 19,
   "id": "dcc1f740",
   "metadata": {},
   "outputs": [],
   "source": [
    "rating=[]\n",
    "rat=soup.find_all(\"span\",class_=\"ipl-rating-star__rating\")\n",
    "for i in rat:\n",
    "    pro=i.text\n",
    "    rating.append(pro.split(\",\")[0].split(\"(\")[0])"
   ]
  },
  {
   "cell_type": "code",
   "execution_count": null,
   "id": "8a99f6b1",
   "metadata": {},
   "outputs": [],
   "source": []
  },
  {
   "cell_type": "code",
   "execution_count": 20,
   "id": "32f95b5b",
   "metadata": {},
   "outputs": [
    {
     "data": {
      "text/plain": [
       "100"
      ]
     },
     "execution_count": 20,
     "metadata": {},
     "output_type": "execute_result"
    }
   ],
   "source": [
    "Name=[]\n",
    "for i,char in enumerate(rating):\n",
    "    if i%23==0:\n",
    "        Name.append(char)\n",
    "len(Name)"
   ]
  },
  {
   "cell_type": "code",
   "execution_count": 21,
   "id": "85d27fa0",
   "metadata": {},
   "outputs": [],
   "source": [
    "gro=[]\n",
    "for i in soup.find_all('p', class_='text-muted text-small'):\n",
    "    a=i.text\n",
    "    b=a.split('\\n')[-2]\n",
    "    \n",
    "    gro.append(b)\n",
    "    #gro.append(a)\n",
    "    \n",
    "    #b=a.split('|')[1].split(':')[1].strip().replace('$','').replace('M','')\n",
    "    #gro.append(b[::2])    \n",
    "    "
   ]
  },
  {
   "cell_type": "code",
   "execution_count": 22,
   "id": "469558c4",
   "metadata": {},
   "outputs": [],
   "source": [
    "#gro"
   ]
  },
  {
   "cell_type": "code",
   "execution_count": 23,
   "id": "afbc36ce",
   "metadata": {},
   "outputs": [],
   "source": [
    "gross=[]\n",
    "for i,x in enumerate(gro):\n",
    "    if i%3==2:\n",
    "        gross.append(x)"
   ]
  },
  {
   "cell_type": "code",
   "execution_count": 23,
   "id": "339df6e0",
   "metadata": {},
   "outputs": [
    {
     "data": {
      "text/plain": [
       "100"
      ]
     },
     "execution_count": 23,
     "metadata": {},
     "output_type": "execute_result"
    }
   ],
   "source": [
    "len(gross)"
   ]
  },
  {
   "cell_type": "code",
   "execution_count": 339,
   "id": "6b8c8986",
   "metadata": {},
   "outputs": [
    {
     "data": {
      "text/plain": [
       "100"
      ]
     },
     "execution_count": 339,
     "metadata": {},
     "output_type": "execute_result"
    }
   ],
   "source": [
    "Grs=[]\n",
    "for i in df[\"Collection(In Millions)\"]:\n",
    "    i = i.replace(\"$\",\"\")\n",
    "    Grs.append(i)\n",
    "len(Grs)"
   ]
  },
  {
   "cell_type": "code",
   "execution_count": 342,
   "id": "19091652",
   "metadata": {},
   "outputs": [
    {
     "data": {
      "text/plain": [
       "100"
      ]
     },
     "execution_count": 342,
     "metadata": {},
     "output_type": "execute_result"
    }
   ],
   "source": [
    "Gr=[]\n",
    "for i in df[\"Collection(In Millions)\"]:\n",
    "    i = i.replace(\"M\",\"\")\n",
    "    Gr.append(i)\n",
    "len(Gr)"
   ]
  },
  {
   "cell_type": "code",
   "execution_count": 24,
   "id": "5e3b07fb",
   "metadata": {},
   "outputs": [],
   "source": [
    "vot=[]\n",
    "for i in soup.find_all('p', class_='text-muted text-small'):\n",
    "    a=i.text\n",
    "    b=a.split('\\n')[-4]\n",
    "    \n",
    "    vot.append(b)\n",
    "    \n"
   ]
  },
  {
   "cell_type": "code",
   "execution_count": 282,
   "id": "f8e26ab7",
   "metadata": {},
   "outputs": [],
   "source": [
    "votings=[]\n",
    "for i,x in enumerate(vot):\n",
    "    if i%3==2:\n",
    "        votings.append(x)"
   ]
  },
  {
   "cell_type": "code",
   "execution_count": 283,
   "id": "097b0e0f",
   "metadata": {},
   "outputs": [
    {
     "data": {
      "text/plain": [
       "100"
      ]
     },
     "execution_count": 283,
     "metadata": {},
     "output_type": "execute_result"
    }
   ],
   "source": [
    "len(votings)"
   ]
  },
  {
   "cell_type": "code",
   "execution_count": 29,
   "id": "3bc1850c",
   "metadata": {},
   "outputs": [
    {
     "data": {
      "text/plain": [
       "99"
      ]
     },
     "execution_count": 29,
     "metadata": {},
     "output_type": "execute_result"
    }
   ],
   "source": [
    "mt=[]\n",
    "for i in soup.find_all(\"div\",class_=\"inline-block ratings-metascore\"):\n",
    "    a=i.text.split('\\n')[1]\n",
    "    mot = a.strip()\n",
    "    mt.append(mot)\n",
    "len(mt)"
   ]
  },
  {
   "cell_type": "code",
   "execution_count": 32,
   "id": "652f933f",
   "metadata": {},
   "outputs": [],
   "source": [
    "mt.extend([np.nan])"
   ]
  },
  {
   "cell_type": "code",
   "execution_count": 33,
   "id": "9f66f431",
   "metadata": {},
   "outputs": [
    {
     "data": {
      "text/plain": [
       "100"
      ]
     },
     "execution_count": 33,
     "metadata": {},
     "output_type": "execute_result"
    }
   ],
   "source": [
    "len(mt)"
   ]
  },
  {
   "cell_type": "code",
   "execution_count": null,
   "id": "cd4bc58c",
   "metadata": {},
   "outputs": [],
   "source": []
  },
  {
   "cell_type": "code",
   "execution_count": null,
   "id": "74a9d8de",
   "metadata": {},
   "outputs": [],
   "source": []
  },
  {
   "cell_type": "code",
   "execution_count": 343,
   "id": "e4591eab",
   "metadata": {},
   "outputs": [],
   "source": [
    "df=pd.DataFrame({'Movie_Name':movie,\n",
    "     'Release_Year':yr,\n",
    "     'Duration(In Minutes)':dur,\n",
    "     'Genre':gen,\n",
    "     'Ratings':Name,\n",
    "     'Collection(In Millions)':Gr,\n",
    "     'Votings':votings,\n",
    "     'MetaScore':mt\n",
    "    })"
   ]
  },
  {
   "cell_type": "code",
   "execution_count": 344,
   "id": "03ac4ebf",
   "metadata": {},
   "outputs": [
    {
     "data": {
      "text/html": [
       "<div>\n",
       "<style scoped>\n",
       "    .dataframe tbody tr th:only-of-type {\n",
       "        vertical-align: middle;\n",
       "    }\n",
       "\n",
       "    .dataframe tbody tr th {\n",
       "        vertical-align: top;\n",
       "    }\n",
       "\n",
       "    .dataframe thead th {\n",
       "        text-align: right;\n",
       "    }\n",
       "</style>\n",
       "<table border=\"1\" class=\"dataframe\">\n",
       "  <thead>\n",
       "    <tr style=\"text-align: right;\">\n",
       "      <th></th>\n",
       "      <th>Movie_Name</th>\n",
       "      <th>Release_Year</th>\n",
       "      <th>Duration(In Minutes)</th>\n",
       "      <th>Genre</th>\n",
       "      <th>Ratings</th>\n",
       "      <th>Collection(In Millions)</th>\n",
       "      <th>Votings</th>\n",
       "      <th>MetaScore</th>\n",
       "    </tr>\n",
       "  </thead>\n",
       "  <tbody>\n",
       "    <tr>\n",
       "      <th>0</th>\n",
       "      <td>The Matrix</td>\n",
       "      <td>1999</td>\n",
       "      <td>109</td>\n",
       "      <td>Adventure, Drama, Thriller</td>\n",
       "      <td>8.7</td>\n",
       "      <td>7.06</td>\n",
       "      <td>107,441</td>\n",
       "      <td>80</td>\n",
       "    </tr>\n",
       "    <tr>\n",
       "      <th>1</th>\n",
       "      <td>The Matrix Reloaded</td>\n",
       "      <td>2003</td>\n",
       "      <td>110</td>\n",
       "      <td>Action, Adventure, Thriller</td>\n",
       "      <td>7.2</td>\n",
       "      <td>51.08</td>\n",
       "      <td>188,485</td>\n",
       "      <td>87</td>\n",
       "    </tr>\n",
       "    <tr>\n",
       "      <th>2</th>\n",
       "      <td>The Matrix Revolutions</td>\n",
       "      <td>2003</td>\n",
       "      <td>111</td>\n",
       "      <td>Horror, Mystery</td>\n",
       "      <td>6.7</td>\n",
       "      <td>4.27</td>\n",
       "      <td>117,321</td>\n",
       "      <td>62</td>\n",
       "    </tr>\n",
       "    <tr>\n",
       "      <th>3</th>\n",
       "      <td>Alien</td>\n",
       "      <td>1979</td>\n",
       "      <td>121</td>\n",
       "      <td>Action, Biography, Drama</td>\n",
       "      <td>8.5</td>\n",
       "      <td>125.10</td>\n",
       "      <td>284,124</td>\n",
       "      <td>60</td>\n",
       "    </tr>\n",
       "    <tr>\n",
       "      <th>4</th>\n",
       "      <td>Aliens</td>\n",
       "      <td>1986</td>\n",
       "      <td>113</td>\n",
       "      <td>Drama, Family</td>\n",
       "      <td>8.4</td>\n",
       "      <td>132.42</td>\n",
       "      <td>161,012</td>\n",
       "      <td>66</td>\n",
       "    </tr>\n",
       "    <tr>\n",
       "      <th>...</th>\n",
       "      <td>...</td>\n",
       "      <td>...</td>\n",
       "      <td>...</td>\n",
       "      <td>...</td>\n",
       "      <td>...</td>\n",
       "      <td>...</td>\n",
       "      <td>...</td>\n",
       "      <td>...</td>\n",
       "    </tr>\n",
       "    <tr>\n",
       "      <th>95</th>\n",
       "      <td>The Truman Show</td>\n",
       "      <td>1998</td>\n",
       "      <td>107</td>\n",
       "      <td>Action, Crime, Thriller</td>\n",
       "      <td>8.2</td>\n",
       "      <td>57.74</td>\n",
       "      <td>62,404</td>\n",
       "      <td>54</td>\n",
       "    </tr>\n",
       "    <tr>\n",
       "      <th>96</th>\n",
       "      <td>Guardians of the Galaxy</td>\n",
       "      <td>2014</td>\n",
       "      <td>115</td>\n",
       "      <td>Action, Crime, Thriller</td>\n",
       "      <td>8</td>\n",
       "      <td>12.63</td>\n",
       "      <td>71,934</td>\n",
       "      <td>69</td>\n",
       "    </tr>\n",
       "    <tr>\n",
       "      <th>97</th>\n",
       "      <td>The Exorcist</td>\n",
       "      <td>1973</td>\n",
       "      <td>106</td>\n",
       "      <td>Comedy, Family, Fantasy</td>\n",
       "      <td>8.1</td>\n",
       "      <td>32.95</td>\n",
       "      <td>35,469</td>\n",
       "      <td>51</td>\n",
       "    </tr>\n",
       "    <tr>\n",
       "      <th>98</th>\n",
       "      <td>I Am Legend</td>\n",
       "      <td>2007</td>\n",
       "      <td>106</td>\n",
       "      <td>Crime, Drama, Thriller</td>\n",
       "      <td>7.2</td>\n",
       "      <td>10.72</td>\n",
       "      <td>151,395</td>\n",
       "      <td>NaN</td>\n",
       "    </tr>\n",
       "    <tr>\n",
       "      <th>99</th>\n",
       "      <td>Black Swan</td>\n",
       "      <td>2010</td>\n",
       "      <td>121</td>\n",
       "      <td>Comedy, Drama</td>\n",
       "      <td>8</td>\n",
       "      <td>75.76</td>\n",
       "      <td>248,313</td>\n",
       "      <td>NaN</td>\n",
       "    </tr>\n",
       "  </tbody>\n",
       "</table>\n",
       "<p>100 rows × 8 columns</p>\n",
       "</div>"
      ],
      "text/plain": [
       "                 Movie_Name Release_Year Duration(In Minutes)  \\\n",
       "0                The Matrix         1999                 109    \n",
       "1       The Matrix Reloaded         2003                 110    \n",
       "2    The Matrix Revolutions         2003                 111    \n",
       "3                     Alien         1979                 121    \n",
       "4                    Aliens         1986                 113    \n",
       "..                      ...          ...                  ...   \n",
       "95          The Truman Show         1998                 107    \n",
       "96  Guardians of the Galaxy         2014                 115    \n",
       "97             The Exorcist         1973                 106    \n",
       "98              I Am Legend         2007                 106    \n",
       "99               Black Swan         2010                 121    \n",
       "\n",
       "                                      Genre Ratings Collection(In Millions)  \\\n",
       "0    Adventure, Drama, Thriller                 8.7                    7.06   \n",
       "1   Action, Adventure, Thriller                 7.2                   51.08   \n",
       "2               Horror, Mystery                 6.7                    4.27   \n",
       "3      Action, Biography, Drama                 8.5                  125.10   \n",
       "4                 Drama, Family                 8.4                  132.42   \n",
       "..                                      ...     ...                     ...   \n",
       "95      Action, Crime, Thriller                 8.2                   57.74   \n",
       "96      Action, Crime, Thriller                   8                   12.63   \n",
       "97      Comedy, Family, Fantasy                 8.1                   32.95   \n",
       "98       Crime, Drama, Thriller                 7.2                   10.72   \n",
       "99                Comedy, Drama                   8                   75.76   \n",
       "\n",
       "    Votings MetaScore  \n",
       "0   107,441        80  \n",
       "1   188,485        87  \n",
       "2   117,321        62  \n",
       "3   284,124        60  \n",
       "4   161,012        66  \n",
       "..      ...       ...  \n",
       "95   62,404        54  \n",
       "96   71,934        69  \n",
       "97   35,469        51  \n",
       "98  151,395       NaN  \n",
       "99  248,313       NaN  \n",
       "\n",
       "[100 rows x 8 columns]"
      ]
     },
     "execution_count": 344,
     "metadata": {},
     "output_type": "execute_result"
    }
   ],
   "source": [
    "df"
   ]
  },
  {
   "cell_type": "code",
   "execution_count": 345,
   "id": "daeb9eb3",
   "metadata": {},
   "outputs": [
    {
     "data": {
      "text/plain": [
       "<Response [200]>"
      ]
     },
     "execution_count": 345,
     "metadata": {},
     "output_type": "execute_result"
    }
   ],
   "source": [
    "page2=requests.get(\"https://www.imdb.com/list/ls023757565/?sort=list_order,asc&st_dt=&mode=detail&page=2\")\n",
    "page2"
   ]
  },
  {
   "cell_type": "code",
   "execution_count": 177,
   "id": "f0f72a7a",
   "metadata": {},
   "outputs": [],
   "source": [
    "soup=BeautifulSoup(page2.text)"
   ]
  },
  {
   "cell_type": "code",
   "execution_count": 178,
   "id": "06377ec8",
   "metadata": {},
   "outputs": [
    {
     "data": {
      "text/plain": [
       "100"
      ]
     },
     "execution_count": 178,
     "metadata": {},
     "output_type": "execute_result"
    }
   ],
   "source": [
    "movie=[]\n",
    "for i in soup.find_all(\"h3\",class_=\"lister-item-header\"):\n",
    "    a=i.text\n",
    "    b=re.sub(\"[\\n\\d'.'\\n\\d+'()']\",\"\",a)\n",
    "    movie.append(b)\n",
    "len(movie)"
   ]
  },
  {
   "cell_type": "code",
   "execution_count": 179,
   "id": "7875591d",
   "metadata": {},
   "outputs": [
    {
     "data": {
      "text/plain": [
       "100"
      ]
     },
     "execution_count": 179,
     "metadata": {},
     "output_type": "execute_result"
    }
   ],
   "source": [
    "year=[]\n",
    "for i in soup.find_all(\"span\",class_=\"lister-item-year text-muted unbold\"):\n",
    "    y=i.text\n",
    "    year.append(y)\n",
    "len(year)"
   ]
  },
  {
   "cell_type": "code",
   "execution_count": 180,
   "id": "4f896bfb",
   "metadata": {},
   "outputs": [],
   "source": [
    "yr = []\n",
    "for i in df1[\"Release_Year\"]:\n",
    "    yr.append(re.sub(\"[()]\",\"\",i))\n",
    "df1[\"Release_Year\"]=yr"
   ]
  },
  {
   "cell_type": "code",
   "execution_count": 181,
   "id": "8be27b67",
   "metadata": {},
   "outputs": [
    {
     "data": {
      "text/plain": [
       "100"
      ]
     },
     "execution_count": 181,
     "metadata": {},
     "output_type": "execute_result"
    }
   ],
   "source": [
    "y=[]\n",
    "for i in df1[\"Release_Year\"]:\n",
    "    i = i.replace(\"I\",\"\")\n",
    "    y.append(i)\n",
    "len(y)"
   ]
  },
  {
   "cell_type": "code",
   "execution_count": 182,
   "id": "5e083042",
   "metadata": {},
   "outputs": [
    {
     "data": {
      "text/plain": [
       "100"
      ]
     },
     "execution_count": 182,
     "metadata": {},
     "output_type": "execute_result"
    }
   ],
   "source": [
    "duration=[]\n",
    "for i in soup.find_all(\"span\",class_=\"runtime\"):\n",
    "    d=i.text\n",
    "    duration.append(d)\n",
    "len(duration)"
   ]
  },
  {
   "cell_type": "code",
   "execution_count": 183,
   "id": "b5aabeda",
   "metadata": {},
   "outputs": [],
   "source": [
    "dur=[]\n",
    "for i in df1[\"Duration(In Minutes)\"]:\n",
    "    dur.append(i.replace(\"min\",\"\"))\n",
    "df1[\"Duration(In Minutes)\"] = dur"
   ]
  },
  {
   "cell_type": "code",
   "execution_count": 184,
   "id": "6e43d28f",
   "metadata": {},
   "outputs": [
    {
     "data": {
      "text/plain": [
       "100"
      ]
     },
     "execution_count": 184,
     "metadata": {},
     "output_type": "execute_result"
    }
   ],
   "source": [
    "genre=[]\n",
    "for i in soup.find_all(\"span\",class_=\"genre\"):\n",
    "    g=i.text\n",
    "    genre.append(g)\n",
    "len(genre)"
   ]
  },
  {
   "cell_type": "code",
   "execution_count": 185,
   "id": "b567f3c1",
   "metadata": {},
   "outputs": [],
   "source": [
    "gen = []\n",
    "for i in df1[\"Genre\"]:\n",
    "    gen.append(i.replace(\"\\n\",\"\"))\n",
    "df1[\"Genre\"] = gen"
   ]
  },
  {
   "cell_type": "code",
   "execution_count": 186,
   "id": "5990eec8",
   "metadata": {},
   "outputs": [
    {
     "data": {
      "text/plain": [
       "100"
      ]
     },
     "execution_count": 186,
     "metadata": {},
     "output_type": "execute_result"
    }
   ],
   "source": [
    "gro=[]\n",
    "for i in soup.find_all('p', class_='text-muted text-small'):\n",
    "    a=i.text\n",
    "    b=a.split('\\n')[-2]\n",
    "    \n",
    "    gro.append(b)\n",
    "    \n",
    "gross=[]\n",
    "for i,x in enumerate(gro):\n",
    "    if i%3==2:\n",
    "        gross.append(x)\n",
    "        \n",
    "len(gross)"
   ]
  },
  {
   "cell_type": "code",
   "execution_count": 187,
   "id": "b83d6418",
   "metadata": {},
   "outputs": [
    {
     "data": {
      "text/plain": [
       "100"
      ]
     },
     "execution_count": 187,
     "metadata": {},
     "output_type": "execute_result"
    }
   ],
   "source": [
    "Grs=[]\n",
    "for i in df1[\"Collection(In Millions)\"]:\n",
    "    i = i.replace(\"$\",\"\")\n",
    "    Grs.append(i)\n",
    "len(Grs)"
   ]
  },
  {
   "cell_type": "code",
   "execution_count": 188,
   "id": "fc612fc2",
   "metadata": {},
   "outputs": [
    {
     "data": {
      "text/plain": [
       "100"
      ]
     },
     "execution_count": 188,
     "metadata": {},
     "output_type": "execute_result"
    }
   ],
   "source": [
    "Gr=[]\n",
    "for i in df1[\"Collection(In Millions)\"]:\n",
    "    i = i.replace(\"M\",\"\")\n",
    "    Gr.append(i)\n",
    "len(Gr)"
   ]
  },
  {
   "cell_type": "code",
   "execution_count": 286,
   "id": "fb7b4cf5",
   "metadata": {},
   "outputs": [
    {
     "data": {
      "text/plain": [
       "100"
      ]
     },
     "execution_count": 286,
     "metadata": {},
     "output_type": "execute_result"
    }
   ],
   "source": [
    "vot=[]\n",
    "for i in soup.find_all('p', class_='text-muted text-small'):\n",
    "    a=i.text\n",
    "    b=a.split('\\n')[-4]\n",
    "    \n",
    "    vot.append(b)\n",
    "    \n",
    "votings=[]\n",
    "for i,x in enumerate(vot):\n",
    "    if i%3==2:\n",
    "        votings.append(x)\n",
    "len(votings)"
   ]
  },
  {
   "cell_type": "code",
   "execution_count": 190,
   "id": "77c3eaa1",
   "metadata": {},
   "outputs": [
    {
     "data": {
      "text/plain": [
       "97"
      ]
     },
     "execution_count": 190,
     "metadata": {},
     "output_type": "execute_result"
    }
   ],
   "source": [
    "mt=[]\n",
    "for i in soup.find_all(\"div\",class_=\"inline-block ratings-metascore\"):\n",
    "    a=i.text.split('\\n')[1]\n",
    "    mot = a.strip()\n",
    "    mt.append(mot)\n",
    "len(mt)"
   ]
  },
  {
   "cell_type": "code",
   "execution_count": 191,
   "id": "beb04c48",
   "metadata": {},
   "outputs": [
    {
     "data": {
      "text/plain": [
       "100"
      ]
     },
     "execution_count": 191,
     "metadata": {},
     "output_type": "execute_result"
    }
   ],
   "source": [
    "mt.extend([np.nan,np.nan,np.nan])\n",
    "len(mt)"
   ]
  },
  {
   "cell_type": "code",
   "execution_count": 192,
   "id": "74f42678",
   "metadata": {},
   "outputs": [],
   "source": [
    "df1=pd.DataFrame({'Movie_Name':movie,\n",
    "     'Release_Year':y,\n",
    "     'Duration(In Minutes)':dur,\n",
    "     'Genre':gen,\n",
    "     'Ratings':Name,\n",
    "     'Collection(In Millions)':Gr,\n",
    "     'Votings':votings,\n",
    "     'MetaScore':mt\n",
    "    })"
   ]
  },
  {
   "cell_type": "code",
   "execution_count": 193,
   "id": "248ee71d",
   "metadata": {},
   "outputs": [
    {
     "data": {
      "text/html": [
       "<div>\n",
       "<style scoped>\n",
       "    .dataframe tbody tr th:only-of-type {\n",
       "        vertical-align: middle;\n",
       "    }\n",
       "\n",
       "    .dataframe tbody tr th {\n",
       "        vertical-align: top;\n",
       "    }\n",
       "\n",
       "    .dataframe thead th {\n",
       "        text-align: right;\n",
       "    }\n",
       "</style>\n",
       "<table border=\"1\" class=\"dataframe\">\n",
       "  <thead>\n",
       "    <tr style=\"text-align: right;\">\n",
       "      <th></th>\n",
       "      <th>Movie_Name</th>\n",
       "      <th>Release_Year</th>\n",
       "      <th>Duration(In Minutes)</th>\n",
       "      <th>Genre</th>\n",
       "      <th>Ratings</th>\n",
       "      <th>Collection(In Millions)</th>\n",
       "      <th>Votings</th>\n",
       "      <th>MetaScore</th>\n",
       "    </tr>\n",
       "  </thead>\n",
       "  <tbody>\n",
       "    <tr>\n",
       "      <th>0</th>\n",
       "      <td>Man of Steel</td>\n",
       "      <td>1980</td>\n",
       "      <td>136</td>\n",
       "      <td>Biography, Drama, Sport</td>\n",
       "      <td>8.7</td>\n",
       "      <td>171.48</td>\n",
       "      <td>757,672</td>\n",
       "      <td>55</td>\n",
       "    </tr>\n",
       "    <tr>\n",
       "      <th>1</th>\n",
       "      <td>The Thing</td>\n",
       "      <td>2019</td>\n",
       "      <td>138</td>\n",
       "      <td>Action, Drama, War</td>\n",
       "      <td>7.2</td>\n",
       "      <td>281.49</td>\n",
       "      <td>412,795</td>\n",
       "      <td>57</td>\n",
       "    </tr>\n",
       "    <tr>\n",
       "      <th>2</th>\n",
       "      <td>American Gangster</td>\n",
       "      <td>2003</td>\n",
       "      <td>129</td>\n",
       "      <td>Biography, Drama, Sport</td>\n",
       "      <td>6.7</td>\n",
       "      <td>139.31</td>\n",
       "      <td>421,342</td>\n",
       "      <td>76</td>\n",
       "    </tr>\n",
       "    <tr>\n",
       "      <th>3</th>\n",
       "      <td>The Banker</td>\n",
       "      <td>2004</td>\n",
       "      <td>117</td>\n",
       "      <td>Drama</td>\n",
       "      <td>8.5</td>\n",
       "      <td>78.90</td>\n",
       "      <td></td>\n",
       "      <td>59</td>\n",
       "    </tr>\n",
       "    <tr>\n",
       "      <th>4</th>\n",
       "      <td>Out of the Furnace</td>\n",
       "      <td>2006</td>\n",
       "      <td>137</td>\n",
       "      <td>Crime, Drama</td>\n",
       "      <td>8.4</td>\n",
       "      <td>85.16</td>\n",
       "      <td>115,216</td>\n",
       "      <td>63</td>\n",
       "    </tr>\n",
       "    <tr>\n",
       "      <th>...</th>\n",
       "      <td>...</td>\n",
       "      <td>...</td>\n",
       "      <td>...</td>\n",
       "      <td>...</td>\n",
       "      <td>...</td>\n",
       "      <td>...</td>\n",
       "      <td>...</td>\n",
       "      <td>...</td>\n",
       "    </tr>\n",
       "    <tr>\n",
       "      <th>95</th>\n",
       "      <td>Home Alone</td>\n",
       "      <td>2021</td>\n",
       "      <td>103</td>\n",
       "      <td>Action, Crime, Thriller</td>\n",
       "      <td>8.2</td>\n",
       "      <td>125.62</td>\n",
       "      <td>555,506</td>\n",
       "      <td>55</td>\n",
       "    </tr>\n",
       "    <tr>\n",
       "      <th>96</th>\n",
       "      <td>The Fly</td>\n",
       "      <td>2017</td>\n",
       "      <td>121</td>\n",
       "      <td>Drama, War</td>\n",
       "      <td>8</td>\n",
       "      <td>333.18</td>\n",
       "      <td>178,258</td>\n",
       "      <td>49</td>\n",
       "    </tr>\n",
       "    <tr>\n",
       "      <th>97</th>\n",
       "      <td>Weird Science</td>\n",
       "      <td>2018</td>\n",
       "      <td>122</td>\n",
       "      <td>Crime, Drama, Thriller</td>\n",
       "      <td>8.1</td>\n",
       "      <td>232.91</td>\n",
       "      <td>88,007</td>\n",
       "      <td>NaN</td>\n",
       "    </tr>\n",
       "    <tr>\n",
       "      <th>98</th>\n",
       "      <td>National Lampoons Vacation</td>\n",
       "      <td>2014</td>\n",
       "      <td>101</td>\n",
       "      <td>Adventure, Comedy, Drama</td>\n",
       "      <td>7.2</td>\n",
       "      <td>256.39</td>\n",
       "      <td>107,715</td>\n",
       "      <td>NaN</td>\n",
       "    </tr>\n",
       "    <tr>\n",
       "      <th>99</th>\n",
       "      <td>National Lampoons Christmas Vacation</td>\n",
       "      <td>2017</td>\n",
       "      <td>108</td>\n",
       "      <td>Horror, Mystery, Thriller</td>\n",
       "      <td>8</td>\n",
       "      <td>106.95</td>\n",
       "      <td>185,646</td>\n",
       "      <td>NaN</td>\n",
       "    </tr>\n",
       "  </tbody>\n",
       "</table>\n",
       "<p>100 rows × 8 columns</p>\n",
       "</div>"
      ],
      "text/plain": [
       "                              Movie_Name Release_Year Duration(In Minutes)  \\\n",
       "0                           Man of Steel         1980                 136    \n",
       "1                              The Thing         2019                 138    \n",
       "2                      American Gangster         2003                 129    \n",
       "3                             The Banker         2004                 117    \n",
       "4                     Out of the Furnace         2006                 137    \n",
       "..                                   ...          ...                  ...   \n",
       "95                            Home Alone         2021                 103    \n",
       "96                               The Fly         2017                 121    \n",
       "97                         Weird Science         2018                 122    \n",
       "98            National Lampoons Vacation         2014                 101    \n",
       "99  National Lampoons Christmas Vacation         2017                 108    \n",
       "\n",
       "                                    Genre Ratings Collection(In Millions)  \\\n",
       "0     Biography, Drama, Sport                 8.7                  171.48   \n",
       "1          Action, Drama, War                 7.2                  281.49   \n",
       "2     Biography, Drama, Sport                 6.7                  139.31   \n",
       "3                       Drama                 8.5                   78.90   \n",
       "4                Crime, Drama                 8.4                   85.16   \n",
       "..                                    ...     ...                     ...   \n",
       "95    Action, Crime, Thriller                 8.2                  125.62   \n",
       "96                 Drama, War                   8                  333.18   \n",
       "97     Crime, Drama, Thriller                 8.1                  232.91   \n",
       "98   Adventure, Comedy, Drama                 7.2                  256.39   \n",
       "99  Horror, Mystery, Thriller                   8                  106.95   \n",
       "\n",
       "    Votings MetaScore  \n",
       "0   757,672        55  \n",
       "1   412,795        57  \n",
       "2   421,342        76  \n",
       "3                  59  \n",
       "4   115,216        63  \n",
       "..      ...       ...  \n",
       "95  555,506        55  \n",
       "96  178,258        49  \n",
       "97   88,007       NaN  \n",
       "98  107,715       NaN  \n",
       "99  185,646       NaN  \n",
       "\n",
       "[100 rows x 8 columns]"
      ]
     },
     "execution_count": 193,
     "metadata": {},
     "output_type": "execute_result"
    }
   ],
   "source": [
    "df1"
   ]
  },
  {
   "cell_type": "code",
   "execution_count": 346,
   "id": "5d0163a6",
   "metadata": {},
   "outputs": [
    {
     "data": {
      "text/plain": [
       "<Response [200]>"
      ]
     },
     "execution_count": 346,
     "metadata": {},
     "output_type": "execute_result"
    }
   ],
   "source": [
    "page3=requests.get(\"https://www.imdb.com/list/ls023757565/?sort=list_order,asc&st_dt=&mode=detail&page=3\")\n",
    "page3"
   ]
  },
  {
   "cell_type": "code",
   "execution_count": 347,
   "id": "a17d08fd",
   "metadata": {},
   "outputs": [],
   "source": [
    "soup=BeautifulSoup(page3.text)"
   ]
  },
  {
   "cell_type": "code",
   "execution_count": 348,
   "id": "5207db11",
   "metadata": {},
   "outputs": [
    {
     "data": {
      "text/plain": [
       "100"
      ]
     },
     "execution_count": 348,
     "metadata": {},
     "output_type": "execute_result"
    }
   ],
   "source": [
    "movie=[]\n",
    "for i in soup.find_all(\"h3\",class_=\"lister-item-header\"):\n",
    "    a=i.text\n",
    "    b=re.sub(\"[\\n\\d'.'\\n\\d+'()']\",\"\",a)\n",
    "    movie.append(b)\n",
    "len(movie)"
   ]
  },
  {
   "cell_type": "code",
   "execution_count": 350,
   "id": "123a7011",
   "metadata": {},
   "outputs": [
    {
     "data": {
      "text/plain": [
       "100"
      ]
     },
     "execution_count": 350,
     "metadata": {},
     "output_type": "execute_result"
    }
   ],
   "source": [
    "year=[]\n",
    "for i in soup.find_all(\"span\",class_=\"lister-item-year text-muted unbold\"):\n",
    "    y=i.text\n",
    "    year.append(y)\n",
    "len(year)"
   ]
  },
  {
   "cell_type": "code",
   "execution_count": 359,
   "id": "362caa5d",
   "metadata": {},
   "outputs": [],
   "source": [
    "yr = []\n",
    "for i in df2[\"Release_Year\"]:\n",
    "    yr.append(re.sub(\"[()]\",\"\",i))\n",
    "df2[\"Release_Year\"]=yr"
   ]
  },
  {
   "cell_type": "code",
   "execution_count": 199,
   "id": "3194a400",
   "metadata": {},
   "outputs": [
    {
     "data": {
      "text/plain": [
       "100"
      ]
     },
     "execution_count": 199,
     "metadata": {},
     "output_type": "execute_result"
    }
   ],
   "source": [
    "y=[]\n",
    "for i in df2[\"Release_Year\"]:\n",
    "    i = i.replace(\"I\",\"\")\n",
    "    y.append(i)\n",
    "len(y)"
   ]
  },
  {
   "cell_type": "code",
   "execution_count": 351,
   "id": "0cdaefe4",
   "metadata": {},
   "outputs": [
    {
     "data": {
      "text/plain": [
       "100"
      ]
     },
     "execution_count": 351,
     "metadata": {},
     "output_type": "execute_result"
    }
   ],
   "source": [
    "duration=[]\n",
    "for i in soup.find_all(\"span\",class_=\"runtime\"):\n",
    "    d=i.text\n",
    "    duration.append(d)\n",
    "len(duration)"
   ]
  },
  {
   "cell_type": "code",
   "execution_count": 360,
   "id": "e64ec849",
   "metadata": {},
   "outputs": [],
   "source": [
    "dur=[]\n",
    "for i in df2[\"Duration(In Minutes)\"]:\n",
    "    dur.append(i.replace(\"min\",\"\"))\n",
    "df2[\"Duration\"] = dur"
   ]
  },
  {
   "cell_type": "code",
   "execution_count": 352,
   "id": "c8583547",
   "metadata": {},
   "outputs": [
    {
     "data": {
      "text/plain": [
       "100"
      ]
     },
     "execution_count": 352,
     "metadata": {},
     "output_type": "execute_result"
    }
   ],
   "source": [
    "genre=[]\n",
    "for i in soup.find_all(\"span\",class_=\"genre\"):\n",
    "    g=i.text\n",
    "    genre.append(g)\n",
    "len(genre)"
   ]
  },
  {
   "cell_type": "code",
   "execution_count": 361,
   "id": "2dfaf7ca",
   "metadata": {},
   "outputs": [],
   "source": [
    "gen = []\n",
    "for i in df2[\"Genre\"]:\n",
    "    gen.append(i.replace(\"\\n\",\"\"))\n",
    "df2[\"Genre\"] = gen"
   ]
  },
  {
   "cell_type": "code",
   "execution_count": 353,
   "id": "27809058",
   "metadata": {},
   "outputs": [
    {
     "data": {
      "text/plain": [
       "100"
      ]
     },
     "execution_count": 353,
     "metadata": {},
     "output_type": "execute_result"
    }
   ],
   "source": [
    "gro=[]\n",
    "for i in soup.find_all('p', class_='text-muted text-small'):\n",
    "    a=i.text\n",
    "    b=a.split('\\n')[-2]\n",
    "    \n",
    "    gro.append(b)\n",
    "    \n",
    "gross=[]\n",
    "for i,x in enumerate(gro):\n",
    "    if i%3==2:\n",
    "        gross.append(x)\n",
    "        \n",
    "len(gross)"
   ]
  },
  {
   "cell_type": "code",
   "execution_count": 362,
   "id": "6dfc85f8",
   "metadata": {},
   "outputs": [
    {
     "data": {
      "text/plain": [
       "100"
      ]
     },
     "execution_count": 362,
     "metadata": {},
     "output_type": "execute_result"
    }
   ],
   "source": [
    "Grs=[]\n",
    "for i in df2[\"Collection(In Millions)\"]:\n",
    "    i = i.replace(\"$\",\"\")\n",
    "    Grs.append(i)\n",
    "len(Grs)"
   ]
  },
  {
   "cell_type": "code",
   "execution_count": 365,
   "id": "001d9f7d",
   "metadata": {},
   "outputs": [
    {
     "data": {
      "text/plain": [
       "100"
      ]
     },
     "execution_count": 365,
     "metadata": {},
     "output_type": "execute_result"
    }
   ],
   "source": [
    "Gr=[]\n",
    "for i in df2[\"Collection(In Millions)\"]:\n",
    "    i = i.replace(\"M\",\"\")\n",
    "    Gr.append(i)\n",
    "len(Gr)"
   ]
  },
  {
   "cell_type": "code",
   "execution_count": 354,
   "id": "a4f1d45c",
   "metadata": {},
   "outputs": [
    {
     "data": {
      "text/plain": [
       "100"
      ]
     },
     "execution_count": 354,
     "metadata": {},
     "output_type": "execute_result"
    }
   ],
   "source": [
    "vot=[]\n",
    "for i in soup.find_all('p', class_='text-muted text-small'):\n",
    "    a=i.text\n",
    "    b=a.split('\\n')[-4]\n",
    "    \n",
    "    vot.append(b)\n",
    "    \n",
    "votings=[]\n",
    "for i,x in enumerate(vot):\n",
    "    if i%3==2:\n",
    "        votings.append(x)\n",
    "len(votings)"
   ]
  },
  {
   "cell_type": "code",
   "execution_count": 355,
   "id": "7fce2873",
   "metadata": {},
   "outputs": [
    {
     "data": {
      "text/plain": [
       "97"
      ]
     },
     "execution_count": 355,
     "metadata": {},
     "output_type": "execute_result"
    }
   ],
   "source": [
    "mt=[]\n",
    "for i in soup.find_all(\"div\",class_=\"inline-block ratings-metascore\"):\n",
    "    a=i.text.split('\\n')[1]\n",
    "    mot = a.strip()\n",
    "    mt.append(mot)\n",
    "len(mt)"
   ]
  },
  {
   "cell_type": "code",
   "execution_count": 356,
   "id": "70a65bb3",
   "metadata": {},
   "outputs": [
    {
     "data": {
      "text/plain": [
       "100"
      ]
     },
     "execution_count": 356,
     "metadata": {},
     "output_type": "execute_result"
    }
   ],
   "source": [
    "mt.extend([np.nan,np.nan,np.nan])\n",
    "len(mt)"
   ]
  },
  {
   "cell_type": "code",
   "execution_count": 366,
   "id": "cbe4931a",
   "metadata": {},
   "outputs": [],
   "source": [
    "df2=pd.DataFrame({'Movie_Name':movie,\n",
    "     'Release_Year':yr,\n",
    "     'Duration(In Minutes)':dur,\n",
    "     'Genre':gen,\n",
    "     'Ratings':Name,\n",
    "     'Collection(In Millions)':Gr,\n",
    "     'Votings':votings,\n",
    "     'MetaScore':mt\n",
    "    })"
   ]
  },
  {
   "cell_type": "code",
   "execution_count": 367,
   "id": "3702ff63",
   "metadata": {},
   "outputs": [
    {
     "data": {
      "text/html": [
       "<div>\n",
       "<style scoped>\n",
       "    .dataframe tbody tr th:only-of-type {\n",
       "        vertical-align: middle;\n",
       "    }\n",
       "\n",
       "    .dataframe tbody tr th {\n",
       "        vertical-align: top;\n",
       "    }\n",
       "\n",
       "    .dataframe thead th {\n",
       "        text-align: right;\n",
       "    }\n",
       "</style>\n",
       "<table border=\"1\" class=\"dataframe\">\n",
       "  <thead>\n",
       "    <tr style=\"text-align: right;\">\n",
       "      <th></th>\n",
       "      <th>Movie_Name</th>\n",
       "      <th>Release_Year</th>\n",
       "      <th>Duration(In Minutes)</th>\n",
       "      <th>Genre</th>\n",
       "      <th>Ratings</th>\n",
       "      <th>Collection(In Millions)</th>\n",
       "      <th>Votings</th>\n",
       "      <th>MetaScore</th>\n",
       "    </tr>\n",
       "  </thead>\n",
       "  <tbody>\n",
       "    <tr>\n",
       "      <th>0</th>\n",
       "      <td>Raging Bull</td>\n",
       "      <td>1980</td>\n",
       "      <td>129</td>\n",
       "      <td>Biography, Drama, Sport</td>\n",
       "      <td>8.7</td>\n",
       "      <td>23.38</td>\n",
       "      <td>348,070</td>\n",
       "      <td>89</td>\n",
       "    </tr>\n",
       "    <tr>\n",
       "      <th>1</th>\n",
       "      <td></td>\n",
       "      <td>2019</td>\n",
       "      <td>119</td>\n",
       "      <td>Action, Drama, War</td>\n",
       "      <td>7.2</td>\n",
       "      <td>159.23</td>\n",
       "      <td>558,564</td>\n",
       "      <td>78</td>\n",
       "    </tr>\n",
       "    <tr>\n",
       "      <th>2</th>\n",
       "      <td>Radio</td>\n",
       "      <td>2003</td>\n",
       "      <td>109</td>\n",
       "      <td>Biography, Drama, Sport</td>\n",
       "      <td>6.7</td>\n",
       "      <td>52.28</td>\n",
       "      <td>40,698</td>\n",
       "      <td>38</td>\n",
       "    </tr>\n",
       "    <tr>\n",
       "      <th>3</th>\n",
       "      <td>Bullet Boy</td>\n",
       "      <td>2004</td>\n",
       "      <td>89</td>\n",
       "      <td>Drama</td>\n",
       "      <td>8.5</td>\n",
       "      <td>2,616</td>\n",
       "      <td></td>\n",
       "      <td>86</td>\n",
       "    </tr>\n",
       "    <tr>\n",
       "      <th>4</th>\n",
       "      <td>This Is England</td>\n",
       "      <td>2006</td>\n",
       "      <td>101</td>\n",
       "      <td>Crime, Drama</td>\n",
       "      <td>8.4</td>\n",
       "      <td>0.33</td>\n",
       "      <td>121,722</td>\n",
       "      <td>72</td>\n",
       "    </tr>\n",
       "    <tr>\n",
       "      <th>...</th>\n",
       "      <td>...</td>\n",
       "      <td>...</td>\n",
       "      <td>...</td>\n",
       "      <td>...</td>\n",
       "      <td>...</td>\n",
       "      <td>...</td>\n",
       "      <td>...</td>\n",
       "      <td>...</td>\n",
       "    </tr>\n",
       "    <tr>\n",
       "      <th>95</th>\n",
       "      <td>Wrath of Man</td>\n",
       "      <td>2021</td>\n",
       "      <td>119</td>\n",
       "      <td>Action, Crime, Thriller</td>\n",
       "      <td>8.2</td>\n",
       "      <td>166,111</td>\n",
       "      <td></td>\n",
       "      <td>68</td>\n",
       "    </tr>\n",
       "    <tr>\n",
       "      <th>96</th>\n",
       "      <td>Mudbound</td>\n",
       "      <td>2017</td>\n",
       "      <td>134</td>\n",
       "      <td>Drama, War</td>\n",
       "      <td>8</td>\n",
       "      <td>48,743</td>\n",
       "      <td></td>\n",
       "      <td>85</td>\n",
       "    </tr>\n",
       "    <tr>\n",
       "      <th>97</th>\n",
       "      <td>The Mule</td>\n",
       "      <td>2018</td>\n",
       "      <td>116</td>\n",
       "      <td>Crime, Drama, Thriller</td>\n",
       "      <td>8.1</td>\n",
       "      <td>103.80</td>\n",
       "      <td>134,569</td>\n",
       "      <td>NaN</td>\n",
       "    </tr>\n",
       "    <tr>\n",
       "      <th>98</th>\n",
       "      <td>Chef</td>\n",
       "      <td>2014</td>\n",
       "      <td>114</td>\n",
       "      <td>Adventure, Comedy, Drama</td>\n",
       "      <td>7.2</td>\n",
       "      <td>30.64</td>\n",
       "      <td>213,390</td>\n",
       "      <td>NaN</td>\n",
       "    </tr>\n",
       "    <tr>\n",
       "      <th>99</th>\n",
       "      <td>Get OutI</td>\n",
       "      <td>I 2017</td>\n",
       "      <td>104</td>\n",
       "      <td>Horror, Mystery, Thriller</td>\n",
       "      <td>8</td>\n",
       "      <td>176.04</td>\n",
       "      <td>567,120</td>\n",
       "      <td>NaN</td>\n",
       "    </tr>\n",
       "  </tbody>\n",
       "</table>\n",
       "<p>100 rows × 8 columns</p>\n",
       "</div>"
      ],
      "text/plain": [
       "         Movie_Name Release_Year Duration(In Minutes)  \\\n",
       "0       Raging Bull         1980                 129    \n",
       "1                           2019                 119    \n",
       "2             Radio         2003                 109    \n",
       "3        Bullet Boy         2004                  89    \n",
       "4   This Is England         2006                 101    \n",
       "..              ...          ...                  ...   \n",
       "95     Wrath of Man         2021                 119    \n",
       "96         Mudbound         2017                 134    \n",
       "97         The Mule         2018                 116    \n",
       "98             Chef         2014                 114    \n",
       "99        Get OutI        I 2017                 104    \n",
       "\n",
       "                                    Genre Ratings Collection(In Millions)  \\\n",
       "0     Biography, Drama, Sport                 8.7                   23.38   \n",
       "1          Action, Drama, War                 7.2                  159.23   \n",
       "2     Biography, Drama, Sport                 6.7                   52.28   \n",
       "3                       Drama                 8.5                   2,616   \n",
       "4                Crime, Drama                 8.4                    0.33   \n",
       "..                                    ...     ...                     ...   \n",
       "95    Action, Crime, Thriller                 8.2                 166,111   \n",
       "96                 Drama, War                   8                  48,743   \n",
       "97     Crime, Drama, Thriller                 8.1                  103.80   \n",
       "98   Adventure, Comedy, Drama                 7.2                   30.64   \n",
       "99  Horror, Mystery, Thriller                   8                  176.04   \n",
       "\n",
       "    Votings MetaScore  \n",
       "0   348,070        89  \n",
       "1   558,564        78  \n",
       "2    40,698        38  \n",
       "3                  86  \n",
       "4   121,722        72  \n",
       "..      ...       ...  \n",
       "95                 68  \n",
       "96                 85  \n",
       "97  134,569       NaN  \n",
       "98  213,390       NaN  \n",
       "99  567,120       NaN  \n",
       "\n",
       "[100 rows x 8 columns]"
      ]
     },
     "execution_count": 367,
     "metadata": {},
     "output_type": "execute_result"
    }
   ],
   "source": [
    "df2"
   ]
  },
  {
   "cell_type": "code",
   "execution_count": 299,
   "id": "fb95732b",
   "metadata": {},
   "outputs": [
    {
     "data": {
      "text/plain": [
       "<Response [200]>"
      ]
     },
     "execution_count": 299,
     "metadata": {},
     "output_type": "execute_result"
    }
   ],
   "source": [
    "page4=requests.get(\"https://www.imdb.com/list/ls023757565/?sort=list_order,asc&st_dt=&mode=detail&page=4\")\n",
    "page4"
   ]
  },
  {
   "cell_type": "code",
   "execution_count": 300,
   "id": "359138a6",
   "metadata": {},
   "outputs": [],
   "source": [
    "soup=BeautifulSoup(page4.text)"
   ]
  },
  {
   "cell_type": "code",
   "execution_count": 301,
   "id": "2e9c668a",
   "metadata": {},
   "outputs": [
    {
     "data": {
      "text/plain": [
       "100"
      ]
     },
     "execution_count": 301,
     "metadata": {},
     "output_type": "execute_result"
    }
   ],
   "source": [
    "movie=[]\n",
    "for i in soup.find_all(\"h3\",class_=\"lister-item-header\"):\n",
    "    a=i.text\n",
    "    b=re.sub(\"[\\n\\d'.'\\n\\d+'()']\",\"\",a)\n",
    "    movie.append(b)\n",
    "len(movie)"
   ]
  },
  {
   "cell_type": "code",
   "execution_count": 302,
   "id": "87262595",
   "metadata": {},
   "outputs": [
    {
     "data": {
      "text/plain": [
       "100"
      ]
     },
     "execution_count": 302,
     "metadata": {},
     "output_type": "execute_result"
    }
   ],
   "source": [
    "year=[]\n",
    "for i in soup.find_all(\"span\",class_=\"lister-item-year text-muted unbold\"):\n",
    "    y=i.text\n",
    "    year.append(y)\n",
    "len(year)"
   ]
  },
  {
   "cell_type": "code",
   "execution_count": 308,
   "id": "4c17a6e6",
   "metadata": {},
   "outputs": [],
   "source": [
    "yr = []\n",
    "for i in df3[\"Release_Year\"]:\n",
    "    yr.append(re.sub(\"[()]\",\"\",i))\n",
    "df3[\"Release_Year\"]=yr"
   ]
  },
  {
   "cell_type": "code",
   "execution_count": 309,
   "id": "fc60d2ad",
   "metadata": {},
   "outputs": [
    {
     "data": {
      "text/plain": [
       "100"
      ]
     },
     "execution_count": 309,
     "metadata": {},
     "output_type": "execute_result"
    }
   ],
   "source": [
    "y=[]\n",
    "for i in df3[\"Release_Year\"]:\n",
    "    i = i.replace(\"I\",\"\")\n",
    "    y.append(i)\n",
    "len(y)"
   ]
  },
  {
   "cell_type": "code",
   "execution_count": 310,
   "id": "096c5123",
   "metadata": {},
   "outputs": [
    {
     "data": {
      "text/plain": [
       "100"
      ]
     },
     "execution_count": 310,
     "metadata": {},
     "output_type": "execute_result"
    }
   ],
   "source": [
    "duration=[]\n",
    "for i in soup.find_all(\"span\",class_=\"runtime\"):\n",
    "    d=i.text\n",
    "    duration.append(d)\n",
    "len(duration)"
   ]
  },
  {
   "cell_type": "code",
   "execution_count": 311,
   "id": "72426f9f",
   "metadata": {},
   "outputs": [],
   "source": [
    "dur=[]\n",
    "for i in df3[\"Duration(In Minutes)\"]:\n",
    "    dur.append(i.replace(\"min\",\"\"))\n",
    "df3[\"Duration\"] = dur"
   ]
  },
  {
   "cell_type": "code",
   "execution_count": 312,
   "id": "9a953c44",
   "metadata": {},
   "outputs": [
    {
     "data": {
      "text/plain": [
       "100"
      ]
     },
     "execution_count": 312,
     "metadata": {},
     "output_type": "execute_result"
    }
   ],
   "source": [
    "genre=[]\n",
    "for i in soup.find_all(\"span\",class_=\"genre\"):\n",
    "    g=i.text\n",
    "    genre.append(g)\n",
    "len(genre)"
   ]
  },
  {
   "cell_type": "code",
   "execution_count": 313,
   "id": "0cb38a65",
   "metadata": {},
   "outputs": [],
   "source": [
    "gen = []\n",
    "for i in df3[\"Genre\"]:\n",
    "    gen.append(i.replace(\"\\n\",\"\"))\n",
    "df3[\"Genre\"] = gen"
   ]
  },
  {
   "cell_type": "code",
   "execution_count": 314,
   "id": "7db8dc4f",
   "metadata": {},
   "outputs": [
    {
     "data": {
      "text/plain": [
       "100"
      ]
     },
     "execution_count": 314,
     "metadata": {},
     "output_type": "execute_result"
    }
   ],
   "source": [
    "gro=[]\n",
    "for i in soup.find_all('p', class_='text-muted text-small'):\n",
    "    a=i.text\n",
    "    b=a.split('\\n')[-2]\n",
    "    \n",
    "    gro.append(b)\n",
    "    \n",
    "gross=[]\n",
    "for i,x in enumerate(gro):\n",
    "    if i%3==2:\n",
    "        gross.append(x)\n",
    "        \n",
    "len(gross)"
   ]
  },
  {
   "cell_type": "code",
   "execution_count": 315,
   "id": "fae6d6d0",
   "metadata": {},
   "outputs": [
    {
     "data": {
      "text/plain": [
       "100"
      ]
     },
     "execution_count": 315,
     "metadata": {},
     "output_type": "execute_result"
    }
   ],
   "source": [
    "Grs=[]\n",
    "for i in df3[\"Collection(In Millions)\"]:\n",
    "    i = i.replace(\"$\",\"\")\n",
    "    Grs.append(i)\n",
    "len(Grs)"
   ]
  },
  {
   "cell_type": "code",
   "execution_count": 316,
   "id": "0a27e52a",
   "metadata": {},
   "outputs": [
    {
     "data": {
      "text/plain": [
       "100"
      ]
     },
     "execution_count": 316,
     "metadata": {},
     "output_type": "execute_result"
    }
   ],
   "source": [
    "Gr=[]\n",
    "for i in df3[\"Collection(In Millions)\"]:\n",
    "    i = i.replace(\"M\",\"\")\n",
    "    Gr.append(i)\n",
    "len(Gr)"
   ]
  },
  {
   "cell_type": "code",
   "execution_count": 317,
   "id": "df30ef5f",
   "metadata": {},
   "outputs": [
    {
     "data": {
      "text/plain": [
       "100"
      ]
     },
     "execution_count": 317,
     "metadata": {},
     "output_type": "execute_result"
    }
   ],
   "source": [
    "vot=[]\n",
    "for i in soup.find_all('p', class_='text-muted text-small'):\n",
    "    a=i.text\n",
    "    b=a.split('\\n')[-4]\n",
    "    \n",
    "    vot.append(b)\n",
    "    \n",
    "votings=[]\n",
    "for i,x in enumerate(vot):\n",
    "    if i%3==2:\n",
    "        votings.append(x)\n",
    "len(votings)"
   ]
  },
  {
   "cell_type": "code",
   "execution_count": 318,
   "id": "eb46716b",
   "metadata": {},
   "outputs": [
    {
     "data": {
      "text/plain": [
       "98"
      ]
     },
     "execution_count": 318,
     "metadata": {},
     "output_type": "execute_result"
    }
   ],
   "source": [
    "mt=[]\n",
    "for i in soup.find_all(\"div\",class_=\"inline-block ratings-metascore\"):\n",
    "    a=i.text.split('\\n')[1]\n",
    "    mot = a.strip()\n",
    "    mt.append(mot)\n",
    "len(mt)"
   ]
  },
  {
   "cell_type": "code",
   "execution_count": 319,
   "id": "8c4e87d4",
   "metadata": {},
   "outputs": [
    {
     "data": {
      "text/plain": [
       "100"
      ]
     },
     "execution_count": 319,
     "metadata": {},
     "output_type": "execute_result"
    }
   ],
   "source": [
    "mt.extend([np.nan,np.nan])\n",
    "len(mt)"
   ]
  },
  {
   "cell_type": "code",
   "execution_count": 320,
   "id": "93a89022",
   "metadata": {},
   "outputs": [],
   "source": [
    "df3=pd.DataFrame({'Movie_Name':movie,\n",
    "     'Release_Year':y,\n",
    "     'Duration(In Minutes)':dur,\n",
    "     'Genre':gen,\n",
    "     'Ratings':Name,\n",
    "     'Collection(In Millions)':Gr,\n",
    "     'Votings':votings,\n",
    "     'MetaScore':mt\n",
    "    })"
   ]
  },
  {
   "cell_type": "code",
   "execution_count": 321,
   "id": "8f15dc91",
   "metadata": {},
   "outputs": [
    {
     "data": {
      "text/html": [
       "<div>\n",
       "<style scoped>\n",
       "    .dataframe tbody tr th:only-of-type {\n",
       "        vertical-align: middle;\n",
       "    }\n",
       "\n",
       "    .dataframe tbody tr th {\n",
       "        vertical-align: top;\n",
       "    }\n",
       "\n",
       "    .dataframe thead th {\n",
       "        text-align: right;\n",
       "    }\n",
       "</style>\n",
       "<table border=\"1\" class=\"dataframe\">\n",
       "  <thead>\n",
       "    <tr style=\"text-align: right;\">\n",
       "      <th></th>\n",
       "      <th>Movie_Name</th>\n",
       "      <th>Release_Year</th>\n",
       "      <th>Duration(In Minutes)</th>\n",
       "      <th>Genre</th>\n",
       "      <th>Ratings</th>\n",
       "      <th>Collection(In Millions)</th>\n",
       "      <th>Votings</th>\n",
       "      <th>MetaScore</th>\n",
       "    </tr>\n",
       "  </thead>\n",
       "  <tbody>\n",
       "    <tr>\n",
       "      <th>0</th>\n",
       "      <td>Deliverance</td>\n",
       "      <td>2015</td>\n",
       "      <td>129</td>\n",
       "      <td>Biography, Drama, Sport</td>\n",
       "      <td>8.7</td>\n",
       "      <td>23.38</td>\n",
       "      <td>107,441</td>\n",
       "      <td>80</td>\n",
       "    </tr>\n",
       "    <tr>\n",
       "      <th>1</th>\n",
       "      <td>Goldfinger</td>\n",
       "      <td>2015</td>\n",
       "      <td>119</td>\n",
       "      <td>Action, Drama, War</td>\n",
       "      <td>7.2</td>\n",
       "      <td>159.23</td>\n",
       "      <td>188,485</td>\n",
       "      <td>87</td>\n",
       "    </tr>\n",
       "    <tr>\n",
       "      <th>2</th>\n",
       "      <td>The Omen</td>\n",
       "      <td>2015</td>\n",
       "      <td>109</td>\n",
       "      <td>Biography, Drama, Sport</td>\n",
       "      <td>6.7</td>\n",
       "      <td>52.28</td>\n",
       "      <td>117,321</td>\n",
       "      <td>62</td>\n",
       "    </tr>\n",
       "    <tr>\n",
       "      <th>3</th>\n",
       "      <td>Lone Survivor</td>\n",
       "      <td>2015</td>\n",
       "      <td>89</td>\n",
       "      <td>Drama</td>\n",
       "      <td>8.5</td>\n",
       "      <td>2,616</td>\n",
       "      <td>284,124</td>\n",
       "      <td>60</td>\n",
       "    </tr>\n",
       "    <tr>\n",
       "      <th>4</th>\n",
       "      <td>WonderI</td>\n",
       "      <td>2015</td>\n",
       "      <td>101</td>\n",
       "      <td>Crime, Drama</td>\n",
       "      <td>8.4</td>\n",
       "      <td>0.33</td>\n",
       "      <td>161,012</td>\n",
       "      <td>66</td>\n",
       "    </tr>\n",
       "    <tr>\n",
       "      <th>...</th>\n",
       "      <td>...</td>\n",
       "      <td>...</td>\n",
       "      <td>...</td>\n",
       "      <td>...</td>\n",
       "      <td>...</td>\n",
       "      <td>...</td>\n",
       "      <td>...</td>\n",
       "      <td>...</td>\n",
       "    </tr>\n",
       "    <tr>\n",
       "      <th>95</th>\n",
       "      <td>Takers</td>\n",
       "      <td>2015</td>\n",
       "      <td>119</td>\n",
       "      <td>Action, Crime, Thriller</td>\n",
       "      <td>8.2</td>\n",
       "      <td>166,102</td>\n",
       "      <td>62,404</td>\n",
       "      <td>54</td>\n",
       "    </tr>\n",
       "    <tr>\n",
       "      <th>96</th>\n",
       "      <td>Triple</td>\n",
       "      <td>2015</td>\n",
       "      <td>134</td>\n",
       "      <td>Drama, War</td>\n",
       "      <td>8</td>\n",
       "      <td>48,743</td>\n",
       "      <td>71,934</td>\n",
       "      <td>69</td>\n",
       "    </tr>\n",
       "    <tr>\n",
       "      <th>97</th>\n",
       "      <td>*batteries not included</td>\n",
       "      <td>2015</td>\n",
       "      <td>116</td>\n",
       "      <td>Crime, Drama, Thriller</td>\n",
       "      <td>8.1</td>\n",
       "      <td>103.80</td>\n",
       "      <td>35,469</td>\n",
       "      <td>51</td>\n",
       "    </tr>\n",
       "    <tr>\n",
       "      <th>98</th>\n",
       "      <td>The Drop</td>\n",
       "      <td>2015</td>\n",
       "      <td>114</td>\n",
       "      <td>Adventure, Comedy, Drama</td>\n",
       "      <td>7.2</td>\n",
       "      <td>30.64</td>\n",
       "      <td>151,395</td>\n",
       "      <td>NaN</td>\n",
       "    </tr>\n",
       "    <tr>\n",
       "      <th>99</th>\n",
       "      <td>The InternI</td>\n",
       "      <td>2015</td>\n",
       "      <td>104</td>\n",
       "      <td>Horror, Mystery, Thriller</td>\n",
       "      <td>8</td>\n",
       "      <td>176.04</td>\n",
       "      <td>248,313</td>\n",
       "      <td>NaN</td>\n",
       "    </tr>\n",
       "  </tbody>\n",
       "</table>\n",
       "<p>100 rows × 8 columns</p>\n",
       "</div>"
      ],
      "text/plain": [
       "                 Movie_Name Release_Year Duration(In Minutes)  \\\n",
       "0               Deliverance         2015                 129    \n",
       "1                Goldfinger         2015                 119    \n",
       "2                  The Omen         2015                 109    \n",
       "3             Lone Survivor         2015                  89    \n",
       "4                  WonderI          2015                 101    \n",
       "..                      ...          ...                  ...   \n",
       "95                   Takers         2015                 119    \n",
       "96                  Triple          2015                 134    \n",
       "97  *batteries not included         2015                 116    \n",
       "98                 The Drop         2015                 114    \n",
       "99             The InternI          2015                 104    \n",
       "\n",
       "                                    Genre Ratings Collection(In Millions)  \\\n",
       "0     Biography, Drama, Sport                 8.7                   23.38   \n",
       "1          Action, Drama, War                 7.2                  159.23   \n",
       "2     Biography, Drama, Sport                 6.7                   52.28   \n",
       "3                       Drama                 8.5                   2,616   \n",
       "4                Crime, Drama                 8.4                    0.33   \n",
       "..                                    ...     ...                     ...   \n",
       "95    Action, Crime, Thriller                 8.2                 166,102   \n",
       "96                 Drama, War                   8                  48,743   \n",
       "97     Crime, Drama, Thriller                 8.1                  103.80   \n",
       "98   Adventure, Comedy, Drama                 7.2                   30.64   \n",
       "99  Horror, Mystery, Thriller                   8                  176.04   \n",
       "\n",
       "    Votings MetaScore  \n",
       "0   107,441        80  \n",
       "1   188,485        87  \n",
       "2   117,321        62  \n",
       "3   284,124        60  \n",
       "4   161,012        66  \n",
       "..      ...       ...  \n",
       "95   62,404        54  \n",
       "96   71,934        69  \n",
       "97   35,469        51  \n",
       "98  151,395       NaN  \n",
       "99  248,313       NaN  \n",
       "\n",
       "[100 rows x 8 columns]"
      ]
     },
     "execution_count": 321,
     "metadata": {},
     "output_type": "execute_result"
    }
   ],
   "source": [
    "df3"
   ]
  },
  {
   "cell_type": "code",
   "execution_count": 368,
   "id": "eab03aff",
   "metadata": {},
   "outputs": [
    {
     "data": {
      "text/html": [
       "<div>\n",
       "<style scoped>\n",
       "    .dataframe tbody tr th:only-of-type {\n",
       "        vertical-align: middle;\n",
       "    }\n",
       "\n",
       "    .dataframe tbody tr th {\n",
       "        vertical-align: top;\n",
       "    }\n",
       "\n",
       "    .dataframe thead th {\n",
       "        text-align: right;\n",
       "    }\n",
       "</style>\n",
       "<table border=\"1\" class=\"dataframe\">\n",
       "  <thead>\n",
       "    <tr style=\"text-align: right;\">\n",
       "      <th></th>\n",
       "      <th>Movie_Name</th>\n",
       "      <th>Release_Year</th>\n",
       "      <th>Duration(In Minutes)</th>\n",
       "      <th>Genre</th>\n",
       "      <th>Ratings</th>\n",
       "      <th>Collection(In Millions)</th>\n",
       "      <th>Votings</th>\n",
       "      <th>MetaScore</th>\n",
       "    </tr>\n",
       "  </thead>\n",
       "  <tbody>\n",
       "    <tr>\n",
       "      <th>0</th>\n",
       "      <td>The Matrix</td>\n",
       "      <td>1999</td>\n",
       "      <td>109</td>\n",
       "      <td>Adventure, Drama, Thriller</td>\n",
       "      <td>8.7</td>\n",
       "      <td>7.06</td>\n",
       "      <td>107,441</td>\n",
       "      <td>80</td>\n",
       "    </tr>\n",
       "    <tr>\n",
       "      <th>1</th>\n",
       "      <td>The Matrix Reloaded</td>\n",
       "      <td>2003</td>\n",
       "      <td>110</td>\n",
       "      <td>Action, Adventure, Thriller</td>\n",
       "      <td>7.2</td>\n",
       "      <td>51.08</td>\n",
       "      <td>188,485</td>\n",
       "      <td>87</td>\n",
       "    </tr>\n",
       "    <tr>\n",
       "      <th>2</th>\n",
       "      <td>The Matrix Revolutions</td>\n",
       "      <td>2003</td>\n",
       "      <td>111</td>\n",
       "      <td>Horror, Mystery</td>\n",
       "      <td>6.7</td>\n",
       "      <td>4.27</td>\n",
       "      <td>117,321</td>\n",
       "      <td>62</td>\n",
       "    </tr>\n",
       "    <tr>\n",
       "      <th>3</th>\n",
       "      <td>Alien</td>\n",
       "      <td>1979</td>\n",
       "      <td>121</td>\n",
       "      <td>Action, Biography, Drama</td>\n",
       "      <td>8.5</td>\n",
       "      <td>125.10</td>\n",
       "      <td>284,124</td>\n",
       "      <td>60</td>\n",
       "    </tr>\n",
       "    <tr>\n",
       "      <th>4</th>\n",
       "      <td>Aliens</td>\n",
       "      <td>1986</td>\n",
       "      <td>113</td>\n",
       "      <td>Drama, Family</td>\n",
       "      <td>8.4</td>\n",
       "      <td>132.42</td>\n",
       "      <td>161,012</td>\n",
       "      <td>66</td>\n",
       "    </tr>\n",
       "    <tr>\n",
       "      <th>...</th>\n",
       "      <td>...</td>\n",
       "      <td>...</td>\n",
       "      <td>...</td>\n",
       "      <td>...</td>\n",
       "      <td>...</td>\n",
       "      <td>...</td>\n",
       "      <td>...</td>\n",
       "      <td>...</td>\n",
       "    </tr>\n",
       "    <tr>\n",
       "      <th>195</th>\n",
       "      <td>Home Alone</td>\n",
       "      <td>2021</td>\n",
       "      <td>103</td>\n",
       "      <td>Action, Crime, Thriller</td>\n",
       "      <td>8.2</td>\n",
       "      <td>125.62</td>\n",
       "      <td>555,506</td>\n",
       "      <td>55</td>\n",
       "    </tr>\n",
       "    <tr>\n",
       "      <th>196</th>\n",
       "      <td>The Fly</td>\n",
       "      <td>2017</td>\n",
       "      <td>121</td>\n",
       "      <td>Drama, War</td>\n",
       "      <td>8</td>\n",
       "      <td>333.18</td>\n",
       "      <td>178,258</td>\n",
       "      <td>49</td>\n",
       "    </tr>\n",
       "    <tr>\n",
       "      <th>197</th>\n",
       "      <td>Weird Science</td>\n",
       "      <td>2018</td>\n",
       "      <td>122</td>\n",
       "      <td>Crime, Drama, Thriller</td>\n",
       "      <td>8.1</td>\n",
       "      <td>232.91</td>\n",
       "      <td>88,007</td>\n",
       "      <td>NaN</td>\n",
       "    </tr>\n",
       "    <tr>\n",
       "      <th>198</th>\n",
       "      <td>National Lampoons Vacation</td>\n",
       "      <td>2014</td>\n",
       "      <td>101</td>\n",
       "      <td>Adventure, Comedy, Drama</td>\n",
       "      <td>7.2</td>\n",
       "      <td>256.39</td>\n",
       "      <td>107,715</td>\n",
       "      <td>NaN</td>\n",
       "    </tr>\n",
       "    <tr>\n",
       "      <th>199</th>\n",
       "      <td>National Lampoons Christmas Vacation</td>\n",
       "      <td>2017</td>\n",
       "      <td>108</td>\n",
       "      <td>Horror, Mystery, Thriller</td>\n",
       "      <td>8</td>\n",
       "      <td>106.95</td>\n",
       "      <td>185,646</td>\n",
       "      <td>NaN</td>\n",
       "    </tr>\n",
       "  </tbody>\n",
       "</table>\n",
       "<p>200 rows × 8 columns</p>\n",
       "</div>"
      ],
      "text/plain": [
       "                               Movie_Name Release_Year Duration(In Minutes)  \\\n",
       "0                              The Matrix         1999                 109    \n",
       "1                     The Matrix Reloaded         2003                 110    \n",
       "2                  The Matrix Revolutions         2003                 111    \n",
       "3                                   Alien         1979                 121    \n",
       "4                                  Aliens         1986                 113    \n",
       "..                                    ...          ...                  ...   \n",
       "195                            Home Alone         2021                 103    \n",
       "196                               The Fly         2017                 121    \n",
       "197                         Weird Science         2018                 122    \n",
       "198            National Lampoons Vacation         2014                 101    \n",
       "199  National Lampoons Christmas Vacation         2017                 108    \n",
       "\n",
       "                                       Genre Ratings Collection(In Millions)  \\\n",
       "0     Adventure, Drama, Thriller                 8.7                    7.06   \n",
       "1    Action, Adventure, Thriller                 7.2                   51.08   \n",
       "2                Horror, Mystery                 6.7                    4.27   \n",
       "3       Action, Biography, Drama                 8.5                  125.10   \n",
       "4                  Drama, Family                 8.4                  132.42   \n",
       "..                                       ...     ...                     ...   \n",
       "195      Action, Crime, Thriller                 8.2                  125.62   \n",
       "196                   Drama, War                   8                  333.18   \n",
       "197       Crime, Drama, Thriller                 8.1                  232.91   \n",
       "198     Adventure, Comedy, Drama                 7.2                  256.39   \n",
       "199    Horror, Mystery, Thriller                   8                  106.95   \n",
       "\n",
       "     Votings MetaScore  \n",
       "0    107,441        80  \n",
       "1    188,485        87  \n",
       "2    117,321        62  \n",
       "3    284,124        60  \n",
       "4    161,012        66  \n",
       "..       ...       ...  \n",
       "195  555,506        55  \n",
       "196  178,258        49  \n",
       "197   88,007       NaN  \n",
       "198  107,715       NaN  \n",
       "199  185,646       NaN  \n",
       "\n",
       "[200 rows x 8 columns]"
      ]
     },
     "execution_count": 368,
     "metadata": {},
     "output_type": "execute_result"
    }
   ],
   "source": [
    "dfj = pd.concat([df,df1], axis= 0)\n",
    "\n",
    "dfj.reset_index(drop=True)"
   ]
  },
  {
   "cell_type": "code",
   "execution_count": 369,
   "id": "6d510c29",
   "metadata": {},
   "outputs": [
    {
     "data": {
      "text/html": [
       "<div>\n",
       "<style scoped>\n",
       "    .dataframe tbody tr th:only-of-type {\n",
       "        vertical-align: middle;\n",
       "    }\n",
       "\n",
       "    .dataframe tbody tr th {\n",
       "        vertical-align: top;\n",
       "    }\n",
       "\n",
       "    .dataframe thead th {\n",
       "        text-align: right;\n",
       "    }\n",
       "</style>\n",
       "<table border=\"1\" class=\"dataframe\">\n",
       "  <thead>\n",
       "    <tr style=\"text-align: right;\">\n",
       "      <th></th>\n",
       "      <th>Movie_Name</th>\n",
       "      <th>Release_Year</th>\n",
       "      <th>Duration(In Minutes)</th>\n",
       "      <th>Genre</th>\n",
       "      <th>Ratings</th>\n",
       "      <th>Collection(In Millions)</th>\n",
       "      <th>Votings</th>\n",
       "      <th>MetaScore</th>\n",
       "    </tr>\n",
       "  </thead>\n",
       "  <tbody>\n",
       "    <tr>\n",
       "      <th>0</th>\n",
       "      <td>The Matrix</td>\n",
       "      <td>1999</td>\n",
       "      <td>109</td>\n",
       "      <td>Adventure, Drama, Thriller</td>\n",
       "      <td>8.7</td>\n",
       "      <td>7.06</td>\n",
       "      <td>107,441</td>\n",
       "      <td>80</td>\n",
       "    </tr>\n",
       "    <tr>\n",
       "      <th>1</th>\n",
       "      <td>The Matrix Reloaded</td>\n",
       "      <td>2003</td>\n",
       "      <td>110</td>\n",
       "      <td>Action, Adventure, Thriller</td>\n",
       "      <td>7.2</td>\n",
       "      <td>51.08</td>\n",
       "      <td>188,485</td>\n",
       "      <td>87</td>\n",
       "    </tr>\n",
       "    <tr>\n",
       "      <th>2</th>\n",
       "      <td>The Matrix Revolutions</td>\n",
       "      <td>2003</td>\n",
       "      <td>111</td>\n",
       "      <td>Horror, Mystery</td>\n",
       "      <td>6.7</td>\n",
       "      <td>4.27</td>\n",
       "      <td>117,321</td>\n",
       "      <td>62</td>\n",
       "    </tr>\n",
       "    <tr>\n",
       "      <th>3</th>\n",
       "      <td>Alien</td>\n",
       "      <td>1979</td>\n",
       "      <td>121</td>\n",
       "      <td>Action, Biography, Drama</td>\n",
       "      <td>8.5</td>\n",
       "      <td>125.10</td>\n",
       "      <td>284,124</td>\n",
       "      <td>60</td>\n",
       "    </tr>\n",
       "    <tr>\n",
       "      <th>4</th>\n",
       "      <td>Aliens</td>\n",
       "      <td>1986</td>\n",
       "      <td>113</td>\n",
       "      <td>Drama, Family</td>\n",
       "      <td>8.4</td>\n",
       "      <td>132.42</td>\n",
       "      <td>161,012</td>\n",
       "      <td>66</td>\n",
       "    </tr>\n",
       "    <tr>\n",
       "      <th>...</th>\n",
       "      <td>...</td>\n",
       "      <td>...</td>\n",
       "      <td>...</td>\n",
       "      <td>...</td>\n",
       "      <td>...</td>\n",
       "      <td>...</td>\n",
       "      <td>...</td>\n",
       "      <td>...</td>\n",
       "    </tr>\n",
       "    <tr>\n",
       "      <th>295</th>\n",
       "      <td>Wrath of Man</td>\n",
       "      <td>2021</td>\n",
       "      <td>119</td>\n",
       "      <td>Action, Crime, Thriller</td>\n",
       "      <td>8.2</td>\n",
       "      <td>166,111</td>\n",
       "      <td></td>\n",
       "      <td>68</td>\n",
       "    </tr>\n",
       "    <tr>\n",
       "      <th>296</th>\n",
       "      <td>Mudbound</td>\n",
       "      <td>2017</td>\n",
       "      <td>134</td>\n",
       "      <td>Drama, War</td>\n",
       "      <td>8</td>\n",
       "      <td>48,743</td>\n",
       "      <td></td>\n",
       "      <td>85</td>\n",
       "    </tr>\n",
       "    <tr>\n",
       "      <th>297</th>\n",
       "      <td>The Mule</td>\n",
       "      <td>2018</td>\n",
       "      <td>116</td>\n",
       "      <td>Crime, Drama, Thriller</td>\n",
       "      <td>8.1</td>\n",
       "      <td>103.80</td>\n",
       "      <td>134,569</td>\n",
       "      <td>NaN</td>\n",
       "    </tr>\n",
       "    <tr>\n",
       "      <th>298</th>\n",
       "      <td>Chef</td>\n",
       "      <td>2014</td>\n",
       "      <td>114</td>\n",
       "      <td>Adventure, Comedy, Drama</td>\n",
       "      <td>7.2</td>\n",
       "      <td>30.64</td>\n",
       "      <td>213,390</td>\n",
       "      <td>NaN</td>\n",
       "    </tr>\n",
       "    <tr>\n",
       "      <th>299</th>\n",
       "      <td>Get OutI</td>\n",
       "      <td>I 2017</td>\n",
       "      <td>104</td>\n",
       "      <td>Horror, Mystery, Thriller</td>\n",
       "      <td>8</td>\n",
       "      <td>176.04</td>\n",
       "      <td>567,120</td>\n",
       "      <td>NaN</td>\n",
       "    </tr>\n",
       "  </tbody>\n",
       "</table>\n",
       "<p>300 rows × 8 columns</p>\n",
       "</div>"
      ],
      "text/plain": [
       "                 Movie_Name Release_Year Duration(In Minutes)  \\\n",
       "0                The Matrix         1999                 109    \n",
       "1       The Matrix Reloaded         2003                 110    \n",
       "2    The Matrix Revolutions         2003                 111    \n",
       "3                     Alien         1979                 121    \n",
       "4                    Aliens         1986                 113    \n",
       "..                      ...          ...                  ...   \n",
       "295            Wrath of Man         2021                 119    \n",
       "296                Mudbound         2017                 134    \n",
       "297                The Mule         2018                 116    \n",
       "298                    Chef         2014                 114    \n",
       "299               Get OutI        I 2017                 104    \n",
       "\n",
       "                                       Genre Ratings Collection(In Millions)  \\\n",
       "0     Adventure, Drama, Thriller                 8.7                    7.06   \n",
       "1    Action, Adventure, Thriller                 7.2                   51.08   \n",
       "2                Horror, Mystery                 6.7                    4.27   \n",
       "3       Action, Biography, Drama                 8.5                  125.10   \n",
       "4                  Drama, Family                 8.4                  132.42   \n",
       "..                                       ...     ...                     ...   \n",
       "295      Action, Crime, Thriller                 8.2                 166,111   \n",
       "296                   Drama, War                   8                  48,743   \n",
       "297       Crime, Drama, Thriller                 8.1                  103.80   \n",
       "298     Adventure, Comedy, Drama                 7.2                   30.64   \n",
       "299    Horror, Mystery, Thriller                   8                  176.04   \n",
       "\n",
       "     Votings MetaScore  \n",
       "0    107,441        80  \n",
       "1    188,485        87  \n",
       "2    117,321        62  \n",
       "3    284,124        60  \n",
       "4    161,012        66  \n",
       "..       ...       ...  \n",
       "295                 68  \n",
       "296                 85  \n",
       "297  134,569       NaN  \n",
       "298  213,390       NaN  \n",
       "299  567,120       NaN  \n",
       "\n",
       "[300 rows x 8 columns]"
      ]
     },
     "execution_count": 369,
     "metadata": {},
     "output_type": "execute_result"
    }
   ],
   "source": [
    "dfj1 = pd.concat([dfj,df2], axis= 0)\n",
    "\n",
    "dfj1.reset_index(drop=True)"
   ]
  },
  {
   "cell_type": "code",
   "execution_count": 370,
   "id": "50f4a3d9",
   "metadata": {},
   "outputs": [
    {
     "data": {
      "text/html": [
       "<div>\n",
       "<style scoped>\n",
       "    .dataframe tbody tr th:only-of-type {\n",
       "        vertical-align: middle;\n",
       "    }\n",
       "\n",
       "    .dataframe tbody tr th {\n",
       "        vertical-align: top;\n",
       "    }\n",
       "\n",
       "    .dataframe thead th {\n",
       "        text-align: right;\n",
       "    }\n",
       "</style>\n",
       "<table border=\"1\" class=\"dataframe\">\n",
       "  <thead>\n",
       "    <tr style=\"text-align: right;\">\n",
       "      <th></th>\n",
       "      <th>Movie_Name</th>\n",
       "      <th>Release_Year</th>\n",
       "      <th>Duration(In Minutes)</th>\n",
       "      <th>Genre</th>\n",
       "      <th>Ratings</th>\n",
       "      <th>Collection(In Millions)</th>\n",
       "      <th>Votings</th>\n",
       "      <th>MetaScore</th>\n",
       "    </tr>\n",
       "  </thead>\n",
       "  <tbody>\n",
       "    <tr>\n",
       "      <th>0</th>\n",
       "      <td>The Matrix</td>\n",
       "      <td>1999</td>\n",
       "      <td>109</td>\n",
       "      <td>Adventure, Drama, Thriller</td>\n",
       "      <td>8.7</td>\n",
       "      <td>7.06</td>\n",
       "      <td>107,441</td>\n",
       "      <td>80</td>\n",
       "    </tr>\n",
       "    <tr>\n",
       "      <th>1</th>\n",
       "      <td>The Matrix Reloaded</td>\n",
       "      <td>2003</td>\n",
       "      <td>110</td>\n",
       "      <td>Action, Adventure, Thriller</td>\n",
       "      <td>7.2</td>\n",
       "      <td>51.08</td>\n",
       "      <td>188,485</td>\n",
       "      <td>87</td>\n",
       "    </tr>\n",
       "    <tr>\n",
       "      <th>2</th>\n",
       "      <td>The Matrix Revolutions</td>\n",
       "      <td>2003</td>\n",
       "      <td>111</td>\n",
       "      <td>Horror, Mystery</td>\n",
       "      <td>6.7</td>\n",
       "      <td>4.27</td>\n",
       "      <td>117,321</td>\n",
       "      <td>62</td>\n",
       "    </tr>\n",
       "    <tr>\n",
       "      <th>3</th>\n",
       "      <td>Alien</td>\n",
       "      <td>1979</td>\n",
       "      <td>121</td>\n",
       "      <td>Action, Biography, Drama</td>\n",
       "      <td>8.5</td>\n",
       "      <td>125.10</td>\n",
       "      <td>284,124</td>\n",
       "      <td>60</td>\n",
       "    </tr>\n",
       "    <tr>\n",
       "      <th>4</th>\n",
       "      <td>Aliens</td>\n",
       "      <td>1986</td>\n",
       "      <td>113</td>\n",
       "      <td>Drama, Family</td>\n",
       "      <td>8.4</td>\n",
       "      <td>132.42</td>\n",
       "      <td>161,012</td>\n",
       "      <td>66</td>\n",
       "    </tr>\n",
       "    <tr>\n",
       "      <th>...</th>\n",
       "      <td>...</td>\n",
       "      <td>...</td>\n",
       "      <td>...</td>\n",
       "      <td>...</td>\n",
       "      <td>...</td>\n",
       "      <td>...</td>\n",
       "      <td>...</td>\n",
       "      <td>...</td>\n",
       "    </tr>\n",
       "    <tr>\n",
       "      <th>395</th>\n",
       "      <td>Takers</td>\n",
       "      <td>2015</td>\n",
       "      <td>119</td>\n",
       "      <td>Action, Crime, Thriller</td>\n",
       "      <td>8.2</td>\n",
       "      <td>166,102</td>\n",
       "      <td>62,404</td>\n",
       "      <td>54</td>\n",
       "    </tr>\n",
       "    <tr>\n",
       "      <th>396</th>\n",
       "      <td>Triple</td>\n",
       "      <td>2015</td>\n",
       "      <td>134</td>\n",
       "      <td>Drama, War</td>\n",
       "      <td>8</td>\n",
       "      <td>48,743</td>\n",
       "      <td>71,934</td>\n",
       "      <td>69</td>\n",
       "    </tr>\n",
       "    <tr>\n",
       "      <th>397</th>\n",
       "      <td>*batteries not included</td>\n",
       "      <td>2015</td>\n",
       "      <td>116</td>\n",
       "      <td>Crime, Drama, Thriller</td>\n",
       "      <td>8.1</td>\n",
       "      <td>103.80</td>\n",
       "      <td>35,469</td>\n",
       "      <td>51</td>\n",
       "    </tr>\n",
       "    <tr>\n",
       "      <th>398</th>\n",
       "      <td>The Drop</td>\n",
       "      <td>2015</td>\n",
       "      <td>114</td>\n",
       "      <td>Adventure, Comedy, Drama</td>\n",
       "      <td>7.2</td>\n",
       "      <td>30.64</td>\n",
       "      <td>151,395</td>\n",
       "      <td>NaN</td>\n",
       "    </tr>\n",
       "    <tr>\n",
       "      <th>399</th>\n",
       "      <td>The InternI</td>\n",
       "      <td>2015</td>\n",
       "      <td>104</td>\n",
       "      <td>Horror, Mystery, Thriller</td>\n",
       "      <td>8</td>\n",
       "      <td>176.04</td>\n",
       "      <td>248,313</td>\n",
       "      <td>NaN</td>\n",
       "    </tr>\n",
       "  </tbody>\n",
       "</table>\n",
       "<p>400 rows × 8 columns</p>\n",
       "</div>"
      ],
      "text/plain": [
       "                  Movie_Name Release_Year Duration(In Minutes)  \\\n",
       "0                 The Matrix         1999                 109    \n",
       "1        The Matrix Reloaded         2003                 110    \n",
       "2     The Matrix Revolutions         2003                 111    \n",
       "3                      Alien         1979                 121    \n",
       "4                     Aliens         1986                 113    \n",
       "..                       ...          ...                  ...   \n",
       "395                   Takers         2015                 119    \n",
       "396                  Triple          2015                 134    \n",
       "397  *batteries not included         2015                 116    \n",
       "398                 The Drop         2015                 114    \n",
       "399             The InternI          2015                 104    \n",
       "\n",
       "                                       Genre Ratings Collection(In Millions)  \\\n",
       "0     Adventure, Drama, Thriller                 8.7                    7.06   \n",
       "1    Action, Adventure, Thriller                 7.2                   51.08   \n",
       "2                Horror, Mystery                 6.7                    4.27   \n",
       "3       Action, Biography, Drama                 8.5                  125.10   \n",
       "4                  Drama, Family                 8.4                  132.42   \n",
       "..                                       ...     ...                     ...   \n",
       "395      Action, Crime, Thriller                 8.2                 166,102   \n",
       "396                   Drama, War                   8                  48,743   \n",
       "397       Crime, Drama, Thriller                 8.1                  103.80   \n",
       "398     Adventure, Comedy, Drama                 7.2                   30.64   \n",
       "399    Horror, Mystery, Thriller                   8                  176.04   \n",
       "\n",
       "     Votings MetaScore  \n",
       "0    107,441        80  \n",
       "1    188,485        87  \n",
       "2    117,321        62  \n",
       "3    284,124        60  \n",
       "4    161,012        66  \n",
       "..       ...       ...  \n",
       "395   62,404        54  \n",
       "396   71,934        69  \n",
       "397   35,469        51  \n",
       "398  151,395       NaN  \n",
       "399  248,313       NaN  \n",
       "\n",
       "[400 rows x 8 columns]"
      ]
     },
     "execution_count": 370,
     "metadata": {},
     "output_type": "execute_result"
    }
   ],
   "source": [
    "dfj2 = pd.concat([dfj1,df3], axis= 0)\n",
    "\n",
    "dfj2.reset_index(drop=True)"
   ]
  },
  {
   "cell_type": "code",
   "execution_count": 371,
   "id": "b4439f37",
   "metadata": {},
   "outputs": [
    {
     "data": {
      "text/html": [
       "<div>\n",
       "<style scoped>\n",
       "    .dataframe tbody tr th:only-of-type {\n",
       "        vertical-align: middle;\n",
       "    }\n",
       "\n",
       "    .dataframe tbody tr th {\n",
       "        vertical-align: top;\n",
       "    }\n",
       "\n",
       "    .dataframe thead th {\n",
       "        text-align: right;\n",
       "    }\n",
       "</style>\n",
       "<table border=\"1\" class=\"dataframe\">\n",
       "  <thead>\n",
       "    <tr style=\"text-align: right;\">\n",
       "      <th></th>\n",
       "      <th>Movie_Name</th>\n",
       "      <th>Release_Year</th>\n",
       "      <th>Duration(In Minutes)</th>\n",
       "      <th>Genre</th>\n",
       "      <th>Ratings</th>\n",
       "      <th>Collection(In Millions)</th>\n",
       "      <th>Votings</th>\n",
       "      <th>MetaScore</th>\n",
       "    </tr>\n",
       "  </thead>\n",
       "  <tbody>\n",
       "    <tr>\n",
       "      <th>count</th>\n",
       "      <td>400</td>\n",
       "      <td>400</td>\n",
       "      <td>400</td>\n",
       "      <td>400</td>\n",
       "      <td>400</td>\n",
       "      <td>400</td>\n",
       "      <td>400</td>\n",
       "      <td>390</td>\n",
       "    </tr>\n",
       "    <tr>\n",
       "      <th>unique</th>\n",
       "      <td>397</td>\n",
       "      <td>70</td>\n",
       "      <td>82</td>\n",
       "      <td>83</td>\n",
       "      <td>27</td>\n",
       "      <td>302</td>\n",
       "      <td>271</td>\n",
       "      <td>64</td>\n",
       "    </tr>\n",
       "    <tr>\n",
       "      <th>top</th>\n",
       "      <td>The Hunger Games: Mockingjay - Part</td>\n",
       "      <td>2015</td>\n",
       "      <td>101</td>\n",
       "      <td>Drama</td>\n",
       "      <td>8.2</td>\n",
       "      <td>39.57</td>\n",
       "      <td></td>\n",
       "      <td>64</td>\n",
       "    </tr>\n",
       "    <tr>\n",
       "      <th>freq</th>\n",
       "      <td>2</td>\n",
       "      <td>101</td>\n",
       "      <td>14</td>\n",
       "      <td>29</td>\n",
       "      <td>44</td>\n",
       "      <td>3</td>\n",
       "      <td>35</td>\n",
       "      <td>19</td>\n",
       "    </tr>\n",
       "  </tbody>\n",
       "</table>\n",
       "</div>"
      ],
      "text/plain": [
       "                                  Movie_Name Release_Year  \\\n",
       "count                                    400          400   \n",
       "unique                                   397           70   \n",
       "top     The Hunger Games: Mockingjay - Part          2015   \n",
       "freq                                       2          101   \n",
       "\n",
       "       Duration(In Minutes)              Genre Ratings  \\\n",
       "count                   400                400     400   \n",
       "unique                   82                 83      27   \n",
       "top                    101   Drama                 8.2   \n",
       "freq                     14                 29      44   \n",
       "\n",
       "       Collection(In Millions) Votings MetaScore  \n",
       "count                      400     400       390  \n",
       "unique                     302     271        64  \n",
       "top                      39.57                64  \n",
       "freq                         3      35        19  "
      ]
     },
     "execution_count": 371,
     "metadata": {},
     "output_type": "execute_result"
    }
   ],
   "source": [
    "dfj2.describe()"
   ]
  },
  {
   "cell_type": "code",
   "execution_count": 372,
   "id": "edccf5f9",
   "metadata": {},
   "outputs": [
    {
     "data": {
      "text/plain": [
       "Movie_Name                 object\n",
       "Release_Year               object\n",
       "Duration(In Minutes)       object\n",
       "Genre                      object\n",
       "Ratings                    object\n",
       "Collection(In Millions)    object\n",
       "Votings                    object\n",
       "MetaScore                  object\n",
       "dtype: object"
      ]
     },
     "execution_count": 372,
     "metadata": {},
     "output_type": "execute_result"
    }
   ],
   "source": [
    "dfj2.dtypes"
   ]
  },
  {
   "cell_type": "markdown",
   "id": "c3a6fc82",
   "metadata": {},
   "source": []
  },
  {
   "cell_type": "code",
   "execution_count": 6,
   "id": "59c3261f",
   "metadata": {},
   "outputs": [],
   "source": [
    "#dfj2.to_csv('IMDB_Lis_t.csv')"
   ]
  },
  {
   "cell_type": "code",
   "execution_count": 5,
   "id": "a1af6220",
   "metadata": {},
   "outputs": [
    {
     "data": {
      "text/html": [
       "<div>\n",
       "<style scoped>\n",
       "    .dataframe tbody tr th:only-of-type {\n",
       "        vertical-align: middle;\n",
       "    }\n",
       "\n",
       "    .dataframe tbody tr th {\n",
       "        vertical-align: top;\n",
       "    }\n",
       "\n",
       "    .dataframe thead th {\n",
       "        text-align: right;\n",
       "    }\n",
       "</style>\n",
       "<table border=\"1\" class=\"dataframe\">\n",
       "  <thead>\n",
       "    <tr style=\"text-align: right;\">\n",
       "      <th></th>\n",
       "      <th>Unnamed: 0</th>\n",
       "      <th>Movie_Name</th>\n",
       "      <th>Release_Year</th>\n",
       "      <th>Duration(In Minutes)</th>\n",
       "      <th>Genre</th>\n",
       "      <th>Ratings</th>\n",
       "      <th>Collection(In Millions)</th>\n",
       "      <th>Votings</th>\n",
       "      <th>MetaScore</th>\n",
       "    </tr>\n",
       "  </thead>\n",
       "  <tbody>\n",
       "    <tr>\n",
       "      <th>0</th>\n",
       "      <td>0</td>\n",
       "      <td>The Matrix</td>\n",
       "      <td>1980</td>\n",
       "      <td>129</td>\n",
       "      <td>Biography, Drama, Sport</td>\n",
       "      <td>8.7</td>\n",
       "      <td>171.48</td>\n",
       "      <td>348,069</td>\n",
       "      <td>89.0</td>\n",
       "    </tr>\n",
       "    <tr>\n",
       "      <th>1</th>\n",
       "      <td>1</td>\n",
       "      <td>The Matrix Reloaded</td>\n",
       "      <td>2019</td>\n",
       "      <td>119</td>\n",
       "      <td>Action, Drama, War</td>\n",
       "      <td>7.2</td>\n",
       "      <td>281.49</td>\n",
       "      <td>558,558</td>\n",
       "      <td>78.0</td>\n",
       "    </tr>\n",
       "    <tr>\n",
       "      <th>2</th>\n",
       "      <td>2</td>\n",
       "      <td>The Matrix Revolutions</td>\n",
       "      <td>2003</td>\n",
       "      <td>109</td>\n",
       "      <td>Biography, Drama, Sport</td>\n",
       "      <td>6.7</td>\n",
       "      <td>139.31</td>\n",
       "      <td>40,698</td>\n",
       "      <td>38.0</td>\n",
       "    </tr>\n",
       "    <tr>\n",
       "      <th>3</th>\n",
       "      <td>3</td>\n",
       "      <td>Alien</td>\n",
       "      <td>2004</td>\n",
       "      <td>89</td>\n",
       "      <td>Drama</td>\n",
       "      <td>8.5</td>\n",
       "      <td>78.9</td>\n",
       "      <td>0</td>\n",
       "      <td>86.0</td>\n",
       "    </tr>\n",
       "    <tr>\n",
       "      <th>4</th>\n",
       "      <td>4</td>\n",
       "      <td>Aliens</td>\n",
       "      <td>2006</td>\n",
       "      <td>101</td>\n",
       "      <td>Crime, Drama</td>\n",
       "      <td>8.4</td>\n",
       "      <td>85.16</td>\n",
       "      <td>121,722</td>\n",
       "      <td>72.0</td>\n",
       "    </tr>\n",
       "    <tr>\n",
       "      <th>...</th>\n",
       "      <td>...</td>\n",
       "      <td>...</td>\n",
       "      <td>...</td>\n",
       "      <td>...</td>\n",
       "      <td>...</td>\n",
       "      <td>...</td>\n",
       "      <td>...</td>\n",
       "      <td>...</td>\n",
       "      <td>...</td>\n",
       "    </tr>\n",
       "    <tr>\n",
       "      <th>395</th>\n",
       "      <td>395</td>\n",
       "      <td>Takers</td>\n",
       "      <td>2021</td>\n",
       "      <td>119</td>\n",
       "      <td>Action, Crime, Thriller</td>\n",
       "      <td>8.2</td>\n",
       "      <td>166,102</td>\n",
       "      <td>62,404</td>\n",
       "      <td>54.0</td>\n",
       "    </tr>\n",
       "    <tr>\n",
       "      <th>396</th>\n",
       "      <td>396</td>\n",
       "      <td>Triple</td>\n",
       "      <td>2017</td>\n",
       "      <td>134</td>\n",
       "      <td>Drama, War</td>\n",
       "      <td>8.0</td>\n",
       "      <td>48,743</td>\n",
       "      <td>71,934</td>\n",
       "      <td>69.0</td>\n",
       "    </tr>\n",
       "    <tr>\n",
       "      <th>397</th>\n",
       "      <td>397</td>\n",
       "      <td>*batteries not included</td>\n",
       "      <td>2018</td>\n",
       "      <td>116</td>\n",
       "      <td>Crime, Drama, Thriller</td>\n",
       "      <td>8.1</td>\n",
       "      <td>103.8</td>\n",
       "      <td>35,469</td>\n",
       "      <td>51.0</td>\n",
       "    </tr>\n",
       "    <tr>\n",
       "      <th>398</th>\n",
       "      <td>398</td>\n",
       "      <td>The Drop</td>\n",
       "      <td>2014</td>\n",
       "      <td>114</td>\n",
       "      <td>Adventure, Comedy, Drama</td>\n",
       "      <td>7.2</td>\n",
       "      <td>30.64</td>\n",
       "      <td>151,395</td>\n",
       "      <td>0.0</td>\n",
       "    </tr>\n",
       "    <tr>\n",
       "      <th>399</th>\n",
       "      <td>399</td>\n",
       "      <td>The InternI</td>\n",
       "      <td>2017</td>\n",
       "      <td>104</td>\n",
       "      <td>Horror, Mystery, Thriller</td>\n",
       "      <td>8.0</td>\n",
       "      <td>176.04</td>\n",
       "      <td>248,313</td>\n",
       "      <td>0.0</td>\n",
       "    </tr>\n",
       "  </tbody>\n",
       "</table>\n",
       "<p>400 rows × 9 columns</p>\n",
       "</div>"
      ],
      "text/plain": [
       "     Unnamed: 0               Movie_Name  Release_Year  Duration(In Minutes)  \\\n",
       "0             0               The Matrix          1980                   129   \n",
       "1             1      The Matrix Reloaded          2019                   119   \n",
       "2             2   The Matrix Revolutions          2003                   109   \n",
       "3             3                    Alien          2004                    89   \n",
       "4             4                   Aliens          2006                   101   \n",
       "..          ...                      ...           ...                   ...   \n",
       "395         395                   Takers          2021                   119   \n",
       "396         396                  Triple           2017                   134   \n",
       "397         397  *batteries not included          2018                   116   \n",
       "398         398                 The Drop          2014                   114   \n",
       "399         399             The InternI           2017                   104   \n",
       "\n",
       "                                     Genre  Ratings Collection(In Millions)  \\\n",
       "0      Biography, Drama, Sport                  8.7                  171.48   \n",
       "1           Action, Drama, War                  7.2                  281.49   \n",
       "2      Biography, Drama, Sport                  6.7                  139.31   \n",
       "3                        Drama                  8.5                    78.9   \n",
       "4                 Crime, Drama                  8.4                   85.16   \n",
       "..                                     ...      ...                     ...   \n",
       "395    Action, Crime, Thriller                  8.2                 166,102   \n",
       "396                 Drama, War                  8.0                  48,743   \n",
       "397     Crime, Drama, Thriller                  8.1                   103.8   \n",
       "398   Adventure, Comedy, Drama                  7.2                   30.64   \n",
       "399  Horror, Mystery, Thriller                  8.0                  176.04   \n",
       "\n",
       "     Votings  MetaScore  \n",
       "0    348,069       89.0  \n",
       "1    558,558       78.0  \n",
       "2     40,698       38.0  \n",
       "3          0       86.0  \n",
       "4    121,722       72.0  \n",
       "..       ...        ...  \n",
       "395   62,404       54.0  \n",
       "396   71,934       69.0  \n",
       "397   35,469       51.0  \n",
       "398  151,395        0.0  \n",
       "399  248,313        0.0  \n",
       "\n",
       "[400 rows x 9 columns]"
      ]
     },
     "execution_count": 5,
     "metadata": {},
     "output_type": "execute_result"
    }
   ],
   "source": [
    "dfi=pd.read_csv(\"IMDB List.csv\")\n",
    "dfi"
   ]
  },
  {
   "cell_type": "code",
   "execution_count": 374,
   "id": "55caaa6c",
   "metadata": {},
   "outputs": [
    {
     "name": "stdout",
     "output_type": "stream",
     "text": [
      "<class 'pandas.core.frame.DataFrame'>\n",
      "RangeIndex: 400 entries, 0 to 399\n",
      "Data columns (total 8 columns):\n",
      " #   Column                   Non-Null Count  Dtype  \n",
      "---  ------                   --------------  -----  \n",
      " 0   Movie_Name               398 non-null    object \n",
      " 1   Release_Year             400 non-null    int64  \n",
      " 2   Duration(In Minutes)     400 non-null    int64  \n",
      " 3   Genre                    400 non-null    object \n",
      " 4   Ratings                  400 non-null    float64\n",
      " 5   Collection(In Millions)  400 non-null    object \n",
      " 6   Votings                  359 non-null    object \n",
      " 7   MetaScore                389 non-null    float64\n",
      "dtypes: float64(2), int64(2), object(4)\n",
      "memory usage: 25.1+ KB\n"
     ]
    }
   ],
   "source": [
    "dfi.info()"
   ]
  },
  {
   "cell_type": "code",
   "execution_count": 389,
   "id": "9842faad",
   "metadata": {},
   "outputs": [],
   "source": [
    "#dfi['MetaScore'].fillna(dfi['MetaScore'].mean(),inplace=True)"
   ]
  },
  {
   "cell_type": "code",
   "execution_count": 390,
   "id": "b0c9e4b2",
   "metadata": {},
   "outputs": [
    {
     "data": {
      "text/plain": [
       "0      89.000000\n",
       "1      78.000000\n",
       "2      38.000000\n",
       "3      86.000000\n",
       "4      72.000000\n",
       "         ...    \n",
       "395    54.000000\n",
       "396    69.000000\n",
       "397    51.000000\n",
       "398    66.868895\n",
       "399    66.868895\n",
       "Name: MetaScore, Length: 400, dtype: float64"
      ]
     },
     "execution_count": 390,
     "metadata": {},
     "output_type": "execute_result"
    }
   ],
   "source": [
    "import math\n",
    "dfi['MetaScore'].fillna(math.floor(dfi['MetaScore'].mean()))"
   ]
  },
  {
   "cell_type": "code",
   "execution_count": 391,
   "id": "5b55bf89",
   "metadata": {},
   "outputs": [
    {
     "data": {
      "text/html": [
       "<div>\n",
       "<style scoped>\n",
       "    .dataframe tbody tr th:only-of-type {\n",
       "        vertical-align: middle;\n",
       "    }\n",
       "\n",
       "    .dataframe tbody tr th {\n",
       "        vertical-align: top;\n",
       "    }\n",
       "\n",
       "    .dataframe thead th {\n",
       "        text-align: right;\n",
       "    }\n",
       "</style>\n",
       "<table border=\"1\" class=\"dataframe\">\n",
       "  <thead>\n",
       "    <tr style=\"text-align: right;\">\n",
       "      <th></th>\n",
       "      <th>Movie_Name</th>\n",
       "      <th>Release_Year</th>\n",
       "      <th>Duration(In Minutes)</th>\n",
       "      <th>Genre</th>\n",
       "      <th>Ratings</th>\n",
       "      <th>Collection(In Millions)</th>\n",
       "      <th>Votings</th>\n",
       "      <th>MetaScore</th>\n",
       "    </tr>\n",
       "  </thead>\n",
       "  <tbody>\n",
       "    <tr>\n",
       "      <th>0</th>\n",
       "      <td>The Matrix</td>\n",
       "      <td>1980</td>\n",
       "      <td>129</td>\n",
       "      <td>Biography, Drama, Sport</td>\n",
       "      <td>8.7</td>\n",
       "      <td>171.48</td>\n",
       "      <td>348,069</td>\n",
       "      <td>89.000000</td>\n",
       "    </tr>\n",
       "    <tr>\n",
       "      <th>1</th>\n",
       "      <td>The Matrix Reloaded</td>\n",
       "      <td>2019</td>\n",
       "      <td>119</td>\n",
       "      <td>Action, Drama, War</td>\n",
       "      <td>7.2</td>\n",
       "      <td>281.49</td>\n",
       "      <td>558,558</td>\n",
       "      <td>78.000000</td>\n",
       "    </tr>\n",
       "    <tr>\n",
       "      <th>2</th>\n",
       "      <td>The Matrix Revolutions</td>\n",
       "      <td>2003</td>\n",
       "      <td>109</td>\n",
       "      <td>Biography, Drama, Sport</td>\n",
       "      <td>6.7</td>\n",
       "      <td>139.31</td>\n",
       "      <td>40,698</td>\n",
       "      <td>38.000000</td>\n",
       "    </tr>\n",
       "    <tr>\n",
       "      <th>3</th>\n",
       "      <td>Alien</td>\n",
       "      <td>2004</td>\n",
       "      <td>89</td>\n",
       "      <td>Drama</td>\n",
       "      <td>8.5</td>\n",
       "      <td>78.9</td>\n",
       "      <td>NaN</td>\n",
       "      <td>86.000000</td>\n",
       "    </tr>\n",
       "    <tr>\n",
       "      <th>4</th>\n",
       "      <td>Aliens</td>\n",
       "      <td>2006</td>\n",
       "      <td>101</td>\n",
       "      <td>Crime, Drama</td>\n",
       "      <td>8.4</td>\n",
       "      <td>85.16</td>\n",
       "      <td>121,722</td>\n",
       "      <td>72.000000</td>\n",
       "    </tr>\n",
       "    <tr>\n",
       "      <th>...</th>\n",
       "      <td>...</td>\n",
       "      <td>...</td>\n",
       "      <td>...</td>\n",
       "      <td>...</td>\n",
       "      <td>...</td>\n",
       "      <td>...</td>\n",
       "      <td>...</td>\n",
       "      <td>...</td>\n",
       "    </tr>\n",
       "    <tr>\n",
       "      <th>395</th>\n",
       "      <td>Takers</td>\n",
       "      <td>2021</td>\n",
       "      <td>119</td>\n",
       "      <td>Action, Crime, Thriller</td>\n",
       "      <td>8.2</td>\n",
       "      <td>166,102</td>\n",
       "      <td>62,404</td>\n",
       "      <td>54.000000</td>\n",
       "    </tr>\n",
       "    <tr>\n",
       "      <th>396</th>\n",
       "      <td>Triple</td>\n",
       "      <td>2017</td>\n",
       "      <td>134</td>\n",
       "      <td>Drama, War</td>\n",
       "      <td>8.0</td>\n",
       "      <td>48,743</td>\n",
       "      <td>71,934</td>\n",
       "      <td>69.000000</td>\n",
       "    </tr>\n",
       "    <tr>\n",
       "      <th>397</th>\n",
       "      <td>*batteries not included</td>\n",
       "      <td>2018</td>\n",
       "      <td>116</td>\n",
       "      <td>Crime, Drama, Thriller</td>\n",
       "      <td>8.1</td>\n",
       "      <td>103.8</td>\n",
       "      <td>35,469</td>\n",
       "      <td>51.000000</td>\n",
       "    </tr>\n",
       "    <tr>\n",
       "      <th>398</th>\n",
       "      <td>The Drop</td>\n",
       "      <td>2014</td>\n",
       "      <td>114</td>\n",
       "      <td>Adventure, Comedy, Drama</td>\n",
       "      <td>7.2</td>\n",
       "      <td>30.64</td>\n",
       "      <td>151,395</td>\n",
       "      <td>66.868895</td>\n",
       "    </tr>\n",
       "    <tr>\n",
       "      <th>399</th>\n",
       "      <td>The InternI</td>\n",
       "      <td>2017</td>\n",
       "      <td>104</td>\n",
       "      <td>Horror, Mystery, Thriller</td>\n",
       "      <td>8.0</td>\n",
       "      <td>176.04</td>\n",
       "      <td>248,313</td>\n",
       "      <td>66.868895</td>\n",
       "    </tr>\n",
       "  </tbody>\n",
       "</table>\n",
       "<p>400 rows × 8 columns</p>\n",
       "</div>"
      ],
      "text/plain": [
       "                  Movie_Name  Release_Year  Duration(In Minutes)  \\\n",
       "0                 The Matrix          1980                   129   \n",
       "1        The Matrix Reloaded          2019                   119   \n",
       "2     The Matrix Revolutions          2003                   109   \n",
       "3                      Alien          2004                    89   \n",
       "4                     Aliens          2006                   101   \n",
       "..                       ...           ...                   ...   \n",
       "395                   Takers          2021                   119   \n",
       "396                  Triple           2017                   134   \n",
       "397  *batteries not included          2018                   116   \n",
       "398                 The Drop          2014                   114   \n",
       "399             The InternI           2017                   104   \n",
       "\n",
       "                                     Genre  Ratings Collection(In Millions)  \\\n",
       "0      Biography, Drama, Sport                  8.7                  171.48   \n",
       "1           Action, Drama, War                  7.2                  281.49   \n",
       "2      Biography, Drama, Sport                  6.7                  139.31   \n",
       "3                        Drama                  8.5                    78.9   \n",
       "4                 Crime, Drama                  8.4                   85.16   \n",
       "..                                     ...      ...                     ...   \n",
       "395    Action, Crime, Thriller                  8.2                 166,102   \n",
       "396                 Drama, War                  8.0                  48,743   \n",
       "397     Crime, Drama, Thriller                  8.1                   103.8   \n",
       "398   Adventure, Comedy, Drama                  7.2                   30.64   \n",
       "399  Horror, Mystery, Thriller                  8.0                  176.04   \n",
       "\n",
       "     Votings  MetaScore  \n",
       "0    348,069  89.000000  \n",
       "1    558,558  78.000000  \n",
       "2     40,698  38.000000  \n",
       "3        NaN  86.000000  \n",
       "4    121,722  72.000000  \n",
       "..       ...        ...  \n",
       "395   62,404  54.000000  \n",
       "396   71,934  69.000000  \n",
       "397   35,469  51.000000  \n",
       "398  151,395  66.868895  \n",
       "399  248,313  66.868895  \n",
       "\n",
       "[400 rows x 8 columns]"
      ]
     },
     "execution_count": 391,
     "metadata": {},
     "output_type": "execute_result"
    }
   ],
   "source": [
    "dfi"
   ]
  },
  {
   "cell_type": "code",
   "execution_count": 393,
   "id": "b35c5f22",
   "metadata": {},
   "outputs": [],
   "source": [
    "#fi['Votings'].fillna(dfi['Votings'].mean())"
   ]
  },
  {
   "cell_type": "code",
   "execution_count": 394,
   "id": "e584d3c1",
   "metadata": {},
   "outputs": [],
   "source": [
    "#import math\n",
    "#dfi['Votings'].fillna(math.floor(dfi['Votings'].mode()))"
   ]
  },
  {
   "cell_type": "code",
   "execution_count": 395,
   "id": "7eb62403",
   "metadata": {},
   "outputs": [
    {
     "data": {
      "text/html": [
       "<div>\n",
       "<style scoped>\n",
       "    .dataframe tbody tr th:only-of-type {\n",
       "        vertical-align: middle;\n",
       "    }\n",
       "\n",
       "    .dataframe tbody tr th {\n",
       "        vertical-align: top;\n",
       "    }\n",
       "\n",
       "    .dataframe thead th {\n",
       "        text-align: right;\n",
       "    }\n",
       "</style>\n",
       "<table border=\"1\" class=\"dataframe\">\n",
       "  <thead>\n",
       "    <tr style=\"text-align: right;\">\n",
       "      <th></th>\n",
       "      <th>Movie_Name</th>\n",
       "      <th>Release_Year</th>\n",
       "      <th>Duration(In Minutes)</th>\n",
       "      <th>Genre</th>\n",
       "      <th>Ratings</th>\n",
       "      <th>Collection(In Millions)</th>\n",
       "      <th>Votings</th>\n",
       "      <th>MetaScore</th>\n",
       "    </tr>\n",
       "  </thead>\n",
       "  <tbody>\n",
       "    <tr>\n",
       "      <th>0</th>\n",
       "      <td>The Matrix</td>\n",
       "      <td>1980</td>\n",
       "      <td>129</td>\n",
       "      <td>Biography, Drama, Sport</td>\n",
       "      <td>8.7</td>\n",
       "      <td>171.48</td>\n",
       "      <td>348,069</td>\n",
       "      <td>89.000000</td>\n",
       "    </tr>\n",
       "    <tr>\n",
       "      <th>1</th>\n",
       "      <td>The Matrix Reloaded</td>\n",
       "      <td>2019</td>\n",
       "      <td>119</td>\n",
       "      <td>Action, Drama, War</td>\n",
       "      <td>7.2</td>\n",
       "      <td>281.49</td>\n",
       "      <td>558,558</td>\n",
       "      <td>78.000000</td>\n",
       "    </tr>\n",
       "    <tr>\n",
       "      <th>2</th>\n",
       "      <td>The Matrix Revolutions</td>\n",
       "      <td>2003</td>\n",
       "      <td>109</td>\n",
       "      <td>Biography, Drama, Sport</td>\n",
       "      <td>6.7</td>\n",
       "      <td>139.31</td>\n",
       "      <td>40,698</td>\n",
       "      <td>38.000000</td>\n",
       "    </tr>\n",
       "    <tr>\n",
       "      <th>3</th>\n",
       "      <td>Alien</td>\n",
       "      <td>2004</td>\n",
       "      <td>89</td>\n",
       "      <td>Drama</td>\n",
       "      <td>8.5</td>\n",
       "      <td>78.9</td>\n",
       "      <td>NaN</td>\n",
       "      <td>86.000000</td>\n",
       "    </tr>\n",
       "    <tr>\n",
       "      <th>4</th>\n",
       "      <td>Aliens</td>\n",
       "      <td>2006</td>\n",
       "      <td>101</td>\n",
       "      <td>Crime, Drama</td>\n",
       "      <td>8.4</td>\n",
       "      <td>85.16</td>\n",
       "      <td>121,722</td>\n",
       "      <td>72.000000</td>\n",
       "    </tr>\n",
       "    <tr>\n",
       "      <th>...</th>\n",
       "      <td>...</td>\n",
       "      <td>...</td>\n",
       "      <td>...</td>\n",
       "      <td>...</td>\n",
       "      <td>...</td>\n",
       "      <td>...</td>\n",
       "      <td>...</td>\n",
       "      <td>...</td>\n",
       "    </tr>\n",
       "    <tr>\n",
       "      <th>395</th>\n",
       "      <td>Takers</td>\n",
       "      <td>2021</td>\n",
       "      <td>119</td>\n",
       "      <td>Action, Crime, Thriller</td>\n",
       "      <td>8.2</td>\n",
       "      <td>166,102</td>\n",
       "      <td>62,404</td>\n",
       "      <td>54.000000</td>\n",
       "    </tr>\n",
       "    <tr>\n",
       "      <th>396</th>\n",
       "      <td>Triple</td>\n",
       "      <td>2017</td>\n",
       "      <td>134</td>\n",
       "      <td>Drama, War</td>\n",
       "      <td>8.0</td>\n",
       "      <td>48,743</td>\n",
       "      <td>71,934</td>\n",
       "      <td>69.000000</td>\n",
       "    </tr>\n",
       "    <tr>\n",
       "      <th>397</th>\n",
       "      <td>*batteries not included</td>\n",
       "      <td>2018</td>\n",
       "      <td>116</td>\n",
       "      <td>Crime, Drama, Thriller</td>\n",
       "      <td>8.1</td>\n",
       "      <td>103.8</td>\n",
       "      <td>35,469</td>\n",
       "      <td>51.000000</td>\n",
       "    </tr>\n",
       "    <tr>\n",
       "      <th>398</th>\n",
       "      <td>The Drop</td>\n",
       "      <td>2014</td>\n",
       "      <td>114</td>\n",
       "      <td>Adventure, Comedy, Drama</td>\n",
       "      <td>7.2</td>\n",
       "      <td>30.64</td>\n",
       "      <td>151,395</td>\n",
       "      <td>66.868895</td>\n",
       "    </tr>\n",
       "    <tr>\n",
       "      <th>399</th>\n",
       "      <td>The InternI</td>\n",
       "      <td>2017</td>\n",
       "      <td>104</td>\n",
       "      <td>Horror, Mystery, Thriller</td>\n",
       "      <td>8.0</td>\n",
       "      <td>176.04</td>\n",
       "      <td>248,313</td>\n",
       "      <td>66.868895</td>\n",
       "    </tr>\n",
       "  </tbody>\n",
       "</table>\n",
       "<p>400 rows × 8 columns</p>\n",
       "</div>"
      ],
      "text/plain": [
       "                  Movie_Name  Release_Year  Duration(In Minutes)  \\\n",
       "0                 The Matrix          1980                   129   \n",
       "1        The Matrix Reloaded          2019                   119   \n",
       "2     The Matrix Revolutions          2003                   109   \n",
       "3                      Alien          2004                    89   \n",
       "4                     Aliens          2006                   101   \n",
       "..                       ...           ...                   ...   \n",
       "395                   Takers          2021                   119   \n",
       "396                  Triple           2017                   134   \n",
       "397  *batteries not included          2018                   116   \n",
       "398                 The Drop          2014                   114   \n",
       "399             The InternI           2017                   104   \n",
       "\n",
       "                                     Genre  Ratings Collection(In Millions)  \\\n",
       "0      Biography, Drama, Sport                  8.7                  171.48   \n",
       "1           Action, Drama, War                  7.2                  281.49   \n",
       "2      Biography, Drama, Sport                  6.7                  139.31   \n",
       "3                        Drama                  8.5                    78.9   \n",
       "4                 Crime, Drama                  8.4                   85.16   \n",
       "..                                     ...      ...                     ...   \n",
       "395    Action, Crime, Thriller                  8.2                 166,102   \n",
       "396                 Drama, War                  8.0                  48,743   \n",
       "397     Crime, Drama, Thriller                  8.1                   103.8   \n",
       "398   Adventure, Comedy, Drama                  7.2                   30.64   \n",
       "399  Horror, Mystery, Thriller                  8.0                  176.04   \n",
       "\n",
       "     Votings  MetaScore  \n",
       "0    348,069  89.000000  \n",
       "1    558,558  78.000000  \n",
       "2     40,698  38.000000  \n",
       "3        NaN  86.000000  \n",
       "4    121,722  72.000000  \n",
       "..       ...        ...  \n",
       "395   62,404  54.000000  \n",
       "396   71,934  69.000000  \n",
       "397   35,469  51.000000  \n",
       "398  151,395  66.868895  \n",
       "399  248,313  66.868895  \n",
       "\n",
       "[400 rows x 8 columns]"
      ]
     },
     "execution_count": 395,
     "metadata": {},
     "output_type": "execute_result"
    }
   ],
   "source": [
    "dfi"
   ]
  },
  {
   "cell_type": "code",
   "execution_count": 401,
   "id": "5dc1cb03",
   "metadata": {},
   "outputs": [
    {
     "name": "stdout",
     "output_type": "stream",
     "text": [
      "<class 'pandas.core.frame.DataFrame'>\n",
      "RangeIndex: 400 entries, 0 to 399\n",
      "Data columns (total 8 columns):\n",
      " #   Column                   Non-Null Count  Dtype  \n",
      "---  ------                   --------------  -----  \n",
      " 0   Movie_Name               398 non-null    object \n",
      " 1   Release_Year             400 non-null    int64  \n",
      " 2   Duration(In Minutes)     400 non-null    int64  \n",
      " 3   Genre                    400 non-null    object \n",
      " 4   Ratings                  400 non-null    float64\n",
      " 5   Collection(In Millions)  377 non-null    float64\n",
      " 6   Votings                  0 non-null      float64\n",
      " 7   MetaScore                400 non-null    float64\n",
      "dtypes: float64(4), int64(2), object(2)\n",
      "memory usage: 25.1+ KB\n"
     ]
    }
   ],
   "source": [
    "dfi.info()"
   ]
  },
  {
   "cell_type": "code",
   "execution_count": 403,
   "id": "deca8cf3",
   "metadata": {},
   "outputs": [
    {
     "data": {
      "text/html": [
       "<div>\n",
       "<style scoped>\n",
       "    .dataframe tbody tr th:only-of-type {\n",
       "        vertical-align: middle;\n",
       "    }\n",
       "\n",
       "    .dataframe tbody tr th {\n",
       "        vertical-align: top;\n",
       "    }\n",
       "\n",
       "    .dataframe thead th {\n",
       "        text-align: right;\n",
       "    }\n",
       "</style>\n",
       "<table border=\"1\" class=\"dataframe\">\n",
       "  <thead>\n",
       "    <tr style=\"text-align: right;\">\n",
       "      <th></th>\n",
       "      <th>Movie_Name</th>\n",
       "      <th>Release_Year</th>\n",
       "      <th>Duration(In Minutes)</th>\n",
       "      <th>Genre</th>\n",
       "      <th>Ratings</th>\n",
       "      <th>Collection(In Millions)</th>\n",
       "      <th>Votings</th>\n",
       "      <th>MetaScore</th>\n",
       "    </tr>\n",
       "  </thead>\n",
       "  <tbody>\n",
       "    <tr>\n",
       "      <th>0</th>\n",
       "      <td>The Matrix</td>\n",
       "      <td>1980</td>\n",
       "      <td>129</td>\n",
       "      <td>Biography, Drama, Sport</td>\n",
       "      <td>8.7</td>\n",
       "      <td>171.48</td>\n",
       "      <td>NaN</td>\n",
       "      <td>89.000000</td>\n",
       "    </tr>\n",
       "    <tr>\n",
       "      <th>1</th>\n",
       "      <td>The Matrix Reloaded</td>\n",
       "      <td>2019</td>\n",
       "      <td>119</td>\n",
       "      <td>Action, Drama, War</td>\n",
       "      <td>7.2</td>\n",
       "      <td>281.49</td>\n",
       "      <td>NaN</td>\n",
       "      <td>78.000000</td>\n",
       "    </tr>\n",
       "    <tr>\n",
       "      <th>2</th>\n",
       "      <td>The Matrix Revolutions</td>\n",
       "      <td>2003</td>\n",
       "      <td>109</td>\n",
       "      <td>Biography, Drama, Sport</td>\n",
       "      <td>6.7</td>\n",
       "      <td>139.31</td>\n",
       "      <td>NaN</td>\n",
       "      <td>38.000000</td>\n",
       "    </tr>\n",
       "    <tr>\n",
       "      <th>3</th>\n",
       "      <td>Alien</td>\n",
       "      <td>2004</td>\n",
       "      <td>89</td>\n",
       "      <td>Drama</td>\n",
       "      <td>8.5</td>\n",
       "      <td>78.90</td>\n",
       "      <td>NaN</td>\n",
       "      <td>86.000000</td>\n",
       "    </tr>\n",
       "    <tr>\n",
       "      <th>4</th>\n",
       "      <td>Aliens</td>\n",
       "      <td>2006</td>\n",
       "      <td>101</td>\n",
       "      <td>Crime, Drama</td>\n",
       "      <td>8.4</td>\n",
       "      <td>85.16</td>\n",
       "      <td>NaN</td>\n",
       "      <td>72.000000</td>\n",
       "    </tr>\n",
       "    <tr>\n",
       "      <th>...</th>\n",
       "      <td>...</td>\n",
       "      <td>...</td>\n",
       "      <td>...</td>\n",
       "      <td>...</td>\n",
       "      <td>...</td>\n",
       "      <td>...</td>\n",
       "      <td>...</td>\n",
       "      <td>...</td>\n",
       "    </tr>\n",
       "    <tr>\n",
       "      <th>395</th>\n",
       "      <td>Takers</td>\n",
       "      <td>2021</td>\n",
       "      <td>119</td>\n",
       "      <td>Action, Crime, Thriller</td>\n",
       "      <td>8.2</td>\n",
       "      <td>NaN</td>\n",
       "      <td>NaN</td>\n",
       "      <td>54.000000</td>\n",
       "    </tr>\n",
       "    <tr>\n",
       "      <th>396</th>\n",
       "      <td>Triple</td>\n",
       "      <td>2017</td>\n",
       "      <td>134</td>\n",
       "      <td>Drama, War</td>\n",
       "      <td>8.0</td>\n",
       "      <td>NaN</td>\n",
       "      <td>NaN</td>\n",
       "      <td>69.000000</td>\n",
       "    </tr>\n",
       "    <tr>\n",
       "      <th>397</th>\n",
       "      <td>*batteries not included</td>\n",
       "      <td>2018</td>\n",
       "      <td>116</td>\n",
       "      <td>Crime, Drama, Thriller</td>\n",
       "      <td>8.1</td>\n",
       "      <td>103.80</td>\n",
       "      <td>NaN</td>\n",
       "      <td>51.000000</td>\n",
       "    </tr>\n",
       "    <tr>\n",
       "      <th>398</th>\n",
       "      <td>The Drop</td>\n",
       "      <td>2014</td>\n",
       "      <td>114</td>\n",
       "      <td>Adventure, Comedy, Drama</td>\n",
       "      <td>7.2</td>\n",
       "      <td>30.64</td>\n",
       "      <td>NaN</td>\n",
       "      <td>66.868895</td>\n",
       "    </tr>\n",
       "    <tr>\n",
       "      <th>399</th>\n",
       "      <td>The InternI</td>\n",
       "      <td>2017</td>\n",
       "      <td>104</td>\n",
       "      <td>Horror, Mystery, Thriller</td>\n",
       "      <td>8.0</td>\n",
       "      <td>176.04</td>\n",
       "      <td>NaN</td>\n",
       "      <td>66.868895</td>\n",
       "    </tr>\n",
       "  </tbody>\n",
       "</table>\n",
       "<p>400 rows × 8 columns</p>\n",
       "</div>"
      ],
      "text/plain": [
       "                  Movie_Name  Release_Year  Duration(In Minutes)  \\\n",
       "0                 The Matrix          1980                   129   \n",
       "1        The Matrix Reloaded          2019                   119   \n",
       "2     The Matrix Revolutions          2003                   109   \n",
       "3                      Alien          2004                    89   \n",
       "4                     Aliens          2006                   101   \n",
       "..                       ...           ...                   ...   \n",
       "395                   Takers          2021                   119   \n",
       "396                  Triple           2017                   134   \n",
       "397  *batteries not included          2018                   116   \n",
       "398                 The Drop          2014                   114   \n",
       "399             The InternI           2017                   104   \n",
       "\n",
       "                                     Genre  Ratings  Collection(In Millions)  \\\n",
       "0      Biography, Drama, Sport                  8.7                   171.48   \n",
       "1           Action, Drama, War                  7.2                   281.49   \n",
       "2      Biography, Drama, Sport                  6.7                   139.31   \n",
       "3                        Drama                  8.5                    78.90   \n",
       "4                 Crime, Drama                  8.4                    85.16   \n",
       "..                                     ...      ...                      ...   \n",
       "395    Action, Crime, Thriller                  8.2                      NaN   \n",
       "396                 Drama, War                  8.0                      NaN   \n",
       "397     Crime, Drama, Thriller                  8.1                   103.80   \n",
       "398   Adventure, Comedy, Drama                  7.2                    30.64   \n",
       "399  Horror, Mystery, Thriller                  8.0                   176.04   \n",
       "\n",
       "     Votings  MetaScore  \n",
       "0        NaN  89.000000  \n",
       "1        NaN  78.000000  \n",
       "2        NaN  38.000000  \n",
       "3        NaN  86.000000  \n",
       "4        NaN  72.000000  \n",
       "..       ...        ...  \n",
       "395      NaN  54.000000  \n",
       "396      NaN  69.000000  \n",
       "397      NaN  51.000000  \n",
       "398      NaN  66.868895  \n",
       "399      NaN  66.868895  \n",
       "\n",
       "[400 rows x 8 columns]"
      ]
     },
     "execution_count": 403,
     "metadata": {},
     "output_type": "execute_result"
    }
   ],
   "source": [
    "dfi"
   ]
  },
  {
   "cell_type": "code",
   "execution_count": 399,
   "id": "7692ed36",
   "metadata": {
    "scrolled": true
   },
   "outputs": [
    {
     "data": {
      "text/plain": [
       "dtype('float64')"
      ]
     },
     "execution_count": 399,
     "metadata": {},
     "output_type": "execute_result"
    }
   ],
   "source": [
    "dfi['Collection(In Millions)']=pd.to_numeric(dfi['Collection(In Millions)'],errors='coerce')\n",
    "dfi['Collection(In Millions)'].dtypes"
   ]
  },
  {
   "cell_type": "code",
   "execution_count": null,
   "id": "997af783",
   "metadata": {},
   "outputs": [],
   "source": []
  },
  {
   "cell_type": "code",
   "execution_count": 7,
   "id": "871558de",
   "metadata": {},
   "outputs": [],
   "source": [
    "df = pd.read_csv(\"IMDB_List_Edited1.csv\")"
   ]
  },
  {
   "cell_type": "code",
   "execution_count": 8,
   "id": "7ee99562",
   "metadata": {},
   "outputs": [
    {
     "name": "stdout",
     "output_type": "stream",
     "text": [
      "<class 'pandas.core.frame.DataFrame'>\n",
      "RangeIndex: 400 entries, 0 to 399\n",
      "Data columns (total 8 columns):\n",
      " #   Column                   Non-Null Count  Dtype  \n",
      "---  ------                   --------------  -----  \n",
      " 0   Movie_Name               398 non-null    object \n",
      " 1   Release_Year             400 non-null    int64  \n",
      " 2   Duration(In Minutes)     400 non-null    int64  \n",
      " 3   Genre                    400 non-null    object \n",
      " 4   Ratings                  400 non-null    float64\n",
      " 5   Collection(In Millions)  400 non-null    object \n",
      " 6   Votings                  359 non-null    object \n",
      " 7   MetaScore                389 non-null    float64\n",
      "dtypes: float64(2), int64(2), object(4)\n",
      "memory usage: 25.1+ KB\n"
     ]
    }
   ],
   "source": [
    "df.info()"
   ]
  },
  {
   "cell_type": "code",
   "execution_count": 9,
   "id": "e034cc8d",
   "metadata": {},
   "outputs": [],
   "source": [
    "df[\"MetaScore\"]=df[\"MetaScore\"].fillna(0)"
   ]
  },
  {
   "cell_type": "code",
   "execution_count": 10,
   "id": "060af2cb",
   "metadata": {},
   "outputs": [],
   "source": [
    "df[\"Votings\"]=df[\"Votings\"].fillna(0)"
   ]
  },
  {
   "cell_type": "code",
   "execution_count": 11,
   "id": "316a19d9",
   "metadata": {},
   "outputs": [
    {
     "data": {
      "text/html": [
       "<div>\n",
       "<style scoped>\n",
       "    .dataframe tbody tr th:only-of-type {\n",
       "        vertical-align: middle;\n",
       "    }\n",
       "\n",
       "    .dataframe tbody tr th {\n",
       "        vertical-align: top;\n",
       "    }\n",
       "\n",
       "    .dataframe thead th {\n",
       "        text-align: right;\n",
       "    }\n",
       "</style>\n",
       "<table border=\"1\" class=\"dataframe\">\n",
       "  <thead>\n",
       "    <tr style=\"text-align: right;\">\n",
       "      <th></th>\n",
       "      <th>Movie_Name</th>\n",
       "      <th>Release_Year</th>\n",
       "      <th>Duration(In Minutes)</th>\n",
       "      <th>Genre</th>\n",
       "      <th>Ratings</th>\n",
       "      <th>Collection(In Millions)</th>\n",
       "      <th>Votings</th>\n",
       "      <th>MetaScore</th>\n",
       "    </tr>\n",
       "  </thead>\n",
       "  <tbody>\n",
       "    <tr>\n",
       "      <th>0</th>\n",
       "      <td>The Matrix</td>\n",
       "      <td>1980</td>\n",
       "      <td>129</td>\n",
       "      <td>Biography, Drama, Sport</td>\n",
       "      <td>8.7</td>\n",
       "      <td>171.48</td>\n",
       "      <td>348,069</td>\n",
       "      <td>89.0</td>\n",
       "    </tr>\n",
       "    <tr>\n",
       "      <th>1</th>\n",
       "      <td>The Matrix Reloaded</td>\n",
       "      <td>2019</td>\n",
       "      <td>119</td>\n",
       "      <td>Action, Drama, War</td>\n",
       "      <td>7.2</td>\n",
       "      <td>281.49</td>\n",
       "      <td>558,558</td>\n",
       "      <td>78.0</td>\n",
       "    </tr>\n",
       "    <tr>\n",
       "      <th>2</th>\n",
       "      <td>The Matrix Revolutions</td>\n",
       "      <td>2003</td>\n",
       "      <td>109</td>\n",
       "      <td>Biography, Drama, Sport</td>\n",
       "      <td>6.7</td>\n",
       "      <td>139.31</td>\n",
       "      <td>40,698</td>\n",
       "      <td>38.0</td>\n",
       "    </tr>\n",
       "    <tr>\n",
       "      <th>3</th>\n",
       "      <td>Alien</td>\n",
       "      <td>2004</td>\n",
       "      <td>89</td>\n",
       "      <td>Drama</td>\n",
       "      <td>8.5</td>\n",
       "      <td>78.9</td>\n",
       "      <td>0</td>\n",
       "      <td>86.0</td>\n",
       "    </tr>\n",
       "    <tr>\n",
       "      <th>4</th>\n",
       "      <td>Aliens</td>\n",
       "      <td>2006</td>\n",
       "      <td>101</td>\n",
       "      <td>Crime, Drama</td>\n",
       "      <td>8.4</td>\n",
       "      <td>85.16</td>\n",
       "      <td>121,722</td>\n",
       "      <td>72.0</td>\n",
       "    </tr>\n",
       "    <tr>\n",
       "      <th>...</th>\n",
       "      <td>...</td>\n",
       "      <td>...</td>\n",
       "      <td>...</td>\n",
       "      <td>...</td>\n",
       "      <td>...</td>\n",
       "      <td>...</td>\n",
       "      <td>...</td>\n",
       "      <td>...</td>\n",
       "    </tr>\n",
       "    <tr>\n",
       "      <th>395</th>\n",
       "      <td>Takers</td>\n",
       "      <td>2021</td>\n",
       "      <td>119</td>\n",
       "      <td>Action, Crime, Thriller</td>\n",
       "      <td>8.2</td>\n",
       "      <td>166,102</td>\n",
       "      <td>62,404</td>\n",
       "      <td>54.0</td>\n",
       "    </tr>\n",
       "    <tr>\n",
       "      <th>396</th>\n",
       "      <td>Triple</td>\n",
       "      <td>2017</td>\n",
       "      <td>134</td>\n",
       "      <td>Drama, War</td>\n",
       "      <td>8.0</td>\n",
       "      <td>48,743</td>\n",
       "      <td>71,934</td>\n",
       "      <td>69.0</td>\n",
       "    </tr>\n",
       "    <tr>\n",
       "      <th>397</th>\n",
       "      <td>*batteries not included</td>\n",
       "      <td>2018</td>\n",
       "      <td>116</td>\n",
       "      <td>Crime, Drama, Thriller</td>\n",
       "      <td>8.1</td>\n",
       "      <td>103.8</td>\n",
       "      <td>35,469</td>\n",
       "      <td>51.0</td>\n",
       "    </tr>\n",
       "    <tr>\n",
       "      <th>398</th>\n",
       "      <td>The Drop</td>\n",
       "      <td>2014</td>\n",
       "      <td>114</td>\n",
       "      <td>Adventure, Comedy, Drama</td>\n",
       "      <td>7.2</td>\n",
       "      <td>30.64</td>\n",
       "      <td>151,395</td>\n",
       "      <td>0.0</td>\n",
       "    </tr>\n",
       "    <tr>\n",
       "      <th>399</th>\n",
       "      <td>The InternI</td>\n",
       "      <td>2017</td>\n",
       "      <td>104</td>\n",
       "      <td>Horror, Mystery, Thriller</td>\n",
       "      <td>8.0</td>\n",
       "      <td>176.04</td>\n",
       "      <td>248,313</td>\n",
       "      <td>0.0</td>\n",
       "    </tr>\n",
       "  </tbody>\n",
       "</table>\n",
       "<p>400 rows × 8 columns</p>\n",
       "</div>"
      ],
      "text/plain": [
       "                  Movie_Name  Release_Year  Duration(In Minutes)  \\\n",
       "0                 The Matrix          1980                   129   \n",
       "1        The Matrix Reloaded          2019                   119   \n",
       "2     The Matrix Revolutions          2003                   109   \n",
       "3                      Alien          2004                    89   \n",
       "4                     Aliens          2006                   101   \n",
       "..                       ...           ...                   ...   \n",
       "395                   Takers          2021                   119   \n",
       "396                  Triple           2017                   134   \n",
       "397  *batteries not included          2018                   116   \n",
       "398                 The Drop          2014                   114   \n",
       "399             The InternI           2017                   104   \n",
       "\n",
       "                                     Genre  Ratings Collection(In Millions)  \\\n",
       "0      Biography, Drama, Sport                  8.7                  171.48   \n",
       "1           Action, Drama, War                  7.2                  281.49   \n",
       "2      Biography, Drama, Sport                  6.7                  139.31   \n",
       "3                        Drama                  8.5                    78.9   \n",
       "4                 Crime, Drama                  8.4                   85.16   \n",
       "..                                     ...      ...                     ...   \n",
       "395    Action, Crime, Thriller                  8.2                 166,102   \n",
       "396                 Drama, War                  8.0                  48,743   \n",
       "397     Crime, Drama, Thriller                  8.1                   103.8   \n",
       "398   Adventure, Comedy, Drama                  7.2                   30.64   \n",
       "399  Horror, Mystery, Thriller                  8.0                  176.04   \n",
       "\n",
       "     Votings  MetaScore  \n",
       "0    348,069       89.0  \n",
       "1    558,558       78.0  \n",
       "2     40,698       38.0  \n",
       "3          0       86.0  \n",
       "4    121,722       72.0  \n",
       "..       ...        ...  \n",
       "395   62,404       54.0  \n",
       "396   71,934       69.0  \n",
       "397   35,469       51.0  \n",
       "398  151,395        0.0  \n",
       "399  248,313        0.0  \n",
       "\n",
       "[400 rows x 8 columns]"
      ]
     },
     "execution_count": 11,
     "metadata": {},
     "output_type": "execute_result"
    }
   ],
   "source": [
    "df"
   ]
  },
  {
   "cell_type": "code",
   "execution_count": 12,
   "id": "650cf635",
   "metadata": {},
   "outputs": [
    {
     "data": {
      "text/html": [
       "<div>\n",
       "<style scoped>\n",
       "    .dataframe tbody tr th:only-of-type {\n",
       "        vertical-align: middle;\n",
       "    }\n",
       "\n",
       "    .dataframe tbody tr th {\n",
       "        vertical-align: top;\n",
       "    }\n",
       "\n",
       "    .dataframe thead th {\n",
       "        text-align: right;\n",
       "    }\n",
       "</style>\n",
       "<table border=\"1\" class=\"dataframe\">\n",
       "  <thead>\n",
       "    <tr style=\"text-align: right;\">\n",
       "      <th></th>\n",
       "      <th>Movie_Name</th>\n",
       "      <th>Release_Year</th>\n",
       "      <th>Duration(In Minutes)</th>\n",
       "      <th>Genre</th>\n",
       "      <th>Ratings</th>\n",
       "      <th>Collection(In Millions)</th>\n",
       "      <th>Votings</th>\n",
       "      <th>MetaScore</th>\n",
       "    </tr>\n",
       "  </thead>\n",
       "  <tbody>\n",
       "    <tr>\n",
       "      <th>59</th>\n",
       "      <td>NaN</td>\n",
       "      <td>2008</td>\n",
       "      <td>114</td>\n",
       "      <td>Action, Crime, Thriller</td>\n",
       "      <td>7.6</td>\n",
       "      <td>210.61</td>\n",
       "      <td>249,882</td>\n",
       "      <td>60.0</td>\n",
       "    </tr>\n",
       "    <tr>\n",
       "      <th>201</th>\n",
       "      <td>NaN</td>\n",
       "      <td>2019</td>\n",
       "      <td>119</td>\n",
       "      <td>Action, Drama, War</td>\n",
       "      <td>7.2</td>\n",
       "      <td>281.49</td>\n",
       "      <td>558,564</td>\n",
       "      <td>78.0</td>\n",
       "    </tr>\n",
       "  </tbody>\n",
       "</table>\n",
       "</div>"
      ],
      "text/plain": [
       "    Movie_Name  Release_Year  Duration(In Minutes)  \\\n",
       "59         NaN          2008                   114   \n",
       "201        NaN          2019                   119   \n",
       "\n",
       "                                   Genre  Ratings Collection(In Millions)  \\\n",
       "59   Action, Crime, Thriller                  7.6                  210.61   \n",
       "201       Action, Drama, War                  7.2                  281.49   \n",
       "\n",
       "     Votings  MetaScore  \n",
       "59   249,882       60.0  \n",
       "201  558,564       78.0  "
      ]
     },
     "execution_count": 12,
     "metadata": {},
     "output_type": "execute_result"
    }
   ],
   "source": [
    "df[df[\"Movie_Name\"].isnull()]"
   ]
  },
  {
   "cell_type": "code",
   "execution_count": 13,
   "id": "fa3e5971",
   "metadata": {},
   "outputs": [],
   "source": [
    "df.iloc[59,0] = \"300\""
   ]
  },
  {
   "cell_type": "code",
   "execution_count": 14,
   "id": "08098fc9",
   "metadata": {},
   "outputs": [],
   "source": [
    "df.to_csv(\"IMDB List.csv\")"
   ]
  },
  {
   "cell_type": "code",
   "execution_count": 2,
   "id": "60a893ff",
   "metadata": {},
   "outputs": [
    {
     "ename": "FileNotFoundError",
     "evalue": "[Errno 2] No such file or directory: 'IMDB_List.csv'",
     "output_type": "error",
     "traceback": [
      "\u001b[1;31m---------------------------------------------------------------------------\u001b[0m",
      "\u001b[1;31mFileNotFoundError\u001b[0m                         Traceback (most recent call last)",
      "\u001b[1;32m~\\AppData\\Local\\Temp/ipykernel_14756/2612045549.py\u001b[0m in \u001b[0;36m<module>\u001b[1;34m\u001b[0m\n\u001b[1;32m----> 1\u001b[1;33m \u001b[0mdf\u001b[0m \u001b[1;33m=\u001b[0m \u001b[0mpd\u001b[0m\u001b[1;33m.\u001b[0m\u001b[0mread_csv\u001b[0m\u001b[1;33m(\u001b[0m\u001b[1;34m\"IMDB_List.csv\"\u001b[0m\u001b[1;33m)\u001b[0m\u001b[1;33m\u001b[0m\u001b[1;33m\u001b[0m\u001b[0m\n\u001b[0m",
      "\u001b[1;32m~\\anaconda3\\lib\\site-packages\\pandas\\util\\_decorators.py\u001b[0m in \u001b[0;36mwrapper\u001b[1;34m(*args, **kwargs)\u001b[0m\n\u001b[0;32m    309\u001b[0m                     \u001b[0mstacklevel\u001b[0m\u001b[1;33m=\u001b[0m\u001b[0mstacklevel\u001b[0m\u001b[1;33m,\u001b[0m\u001b[1;33m\u001b[0m\u001b[1;33m\u001b[0m\u001b[0m\n\u001b[0;32m    310\u001b[0m                 )\n\u001b[1;32m--> 311\u001b[1;33m             \u001b[1;32mreturn\u001b[0m \u001b[0mfunc\u001b[0m\u001b[1;33m(\u001b[0m\u001b[1;33m*\u001b[0m\u001b[0margs\u001b[0m\u001b[1;33m,\u001b[0m \u001b[1;33m**\u001b[0m\u001b[0mkwargs\u001b[0m\u001b[1;33m)\u001b[0m\u001b[1;33m\u001b[0m\u001b[1;33m\u001b[0m\u001b[0m\n\u001b[0m\u001b[0;32m    312\u001b[0m \u001b[1;33m\u001b[0m\u001b[0m\n\u001b[0;32m    313\u001b[0m         \u001b[1;32mreturn\u001b[0m \u001b[0mwrapper\u001b[0m\u001b[1;33m\u001b[0m\u001b[1;33m\u001b[0m\u001b[0m\n",
      "\u001b[1;32m~\\anaconda3\\lib\\site-packages\\pandas\\io\\parsers\\readers.py\u001b[0m in \u001b[0;36mread_csv\u001b[1;34m(filepath_or_buffer, sep, delimiter, header, names, index_col, usecols, squeeze, prefix, mangle_dupe_cols, dtype, engine, converters, true_values, false_values, skipinitialspace, skiprows, skipfooter, nrows, na_values, keep_default_na, na_filter, verbose, skip_blank_lines, parse_dates, infer_datetime_format, keep_date_col, date_parser, dayfirst, cache_dates, iterator, chunksize, compression, thousands, decimal, lineterminator, quotechar, quoting, doublequote, escapechar, comment, encoding, encoding_errors, dialect, error_bad_lines, warn_bad_lines, on_bad_lines, delim_whitespace, low_memory, memory_map, float_precision, storage_options)\u001b[0m\n\u001b[0;32m    584\u001b[0m     \u001b[0mkwds\u001b[0m\u001b[1;33m.\u001b[0m\u001b[0mupdate\u001b[0m\u001b[1;33m(\u001b[0m\u001b[0mkwds_defaults\u001b[0m\u001b[1;33m)\u001b[0m\u001b[1;33m\u001b[0m\u001b[1;33m\u001b[0m\u001b[0m\n\u001b[0;32m    585\u001b[0m \u001b[1;33m\u001b[0m\u001b[0m\n\u001b[1;32m--> 586\u001b[1;33m     \u001b[1;32mreturn\u001b[0m \u001b[0m_read\u001b[0m\u001b[1;33m(\u001b[0m\u001b[0mfilepath_or_buffer\u001b[0m\u001b[1;33m,\u001b[0m \u001b[0mkwds\u001b[0m\u001b[1;33m)\u001b[0m\u001b[1;33m\u001b[0m\u001b[1;33m\u001b[0m\u001b[0m\n\u001b[0m\u001b[0;32m    587\u001b[0m \u001b[1;33m\u001b[0m\u001b[0m\n\u001b[0;32m    588\u001b[0m \u001b[1;33m\u001b[0m\u001b[0m\n",
      "\u001b[1;32m~\\anaconda3\\lib\\site-packages\\pandas\\io\\parsers\\readers.py\u001b[0m in \u001b[0;36m_read\u001b[1;34m(filepath_or_buffer, kwds)\u001b[0m\n\u001b[0;32m    480\u001b[0m \u001b[1;33m\u001b[0m\u001b[0m\n\u001b[0;32m    481\u001b[0m     \u001b[1;31m# Create the parser.\u001b[0m\u001b[1;33m\u001b[0m\u001b[1;33m\u001b[0m\u001b[0m\n\u001b[1;32m--> 482\u001b[1;33m     \u001b[0mparser\u001b[0m \u001b[1;33m=\u001b[0m \u001b[0mTextFileReader\u001b[0m\u001b[1;33m(\u001b[0m\u001b[0mfilepath_or_buffer\u001b[0m\u001b[1;33m,\u001b[0m \u001b[1;33m**\u001b[0m\u001b[0mkwds\u001b[0m\u001b[1;33m)\u001b[0m\u001b[1;33m\u001b[0m\u001b[1;33m\u001b[0m\u001b[0m\n\u001b[0m\u001b[0;32m    483\u001b[0m \u001b[1;33m\u001b[0m\u001b[0m\n\u001b[0;32m    484\u001b[0m     \u001b[1;32mif\u001b[0m \u001b[0mchunksize\u001b[0m \u001b[1;32mor\u001b[0m \u001b[0miterator\u001b[0m\u001b[1;33m:\u001b[0m\u001b[1;33m\u001b[0m\u001b[1;33m\u001b[0m\u001b[0m\n",
      "\u001b[1;32m~\\anaconda3\\lib\\site-packages\\pandas\\io\\parsers\\readers.py\u001b[0m in \u001b[0;36m__init__\u001b[1;34m(self, f, engine, **kwds)\u001b[0m\n\u001b[0;32m    809\u001b[0m             \u001b[0mself\u001b[0m\u001b[1;33m.\u001b[0m\u001b[0moptions\u001b[0m\u001b[1;33m[\u001b[0m\u001b[1;34m\"has_index_names\"\u001b[0m\u001b[1;33m]\u001b[0m \u001b[1;33m=\u001b[0m \u001b[0mkwds\u001b[0m\u001b[1;33m[\u001b[0m\u001b[1;34m\"has_index_names\"\u001b[0m\u001b[1;33m]\u001b[0m\u001b[1;33m\u001b[0m\u001b[1;33m\u001b[0m\u001b[0m\n\u001b[0;32m    810\u001b[0m \u001b[1;33m\u001b[0m\u001b[0m\n\u001b[1;32m--> 811\u001b[1;33m         \u001b[0mself\u001b[0m\u001b[1;33m.\u001b[0m\u001b[0m_engine\u001b[0m \u001b[1;33m=\u001b[0m \u001b[0mself\u001b[0m\u001b[1;33m.\u001b[0m\u001b[0m_make_engine\u001b[0m\u001b[1;33m(\u001b[0m\u001b[0mself\u001b[0m\u001b[1;33m.\u001b[0m\u001b[0mengine\u001b[0m\u001b[1;33m)\u001b[0m\u001b[1;33m\u001b[0m\u001b[1;33m\u001b[0m\u001b[0m\n\u001b[0m\u001b[0;32m    812\u001b[0m \u001b[1;33m\u001b[0m\u001b[0m\n\u001b[0;32m    813\u001b[0m     \u001b[1;32mdef\u001b[0m \u001b[0mclose\u001b[0m\u001b[1;33m(\u001b[0m\u001b[0mself\u001b[0m\u001b[1;33m)\u001b[0m\u001b[1;33m:\u001b[0m\u001b[1;33m\u001b[0m\u001b[1;33m\u001b[0m\u001b[0m\n",
      "\u001b[1;32m~\\anaconda3\\lib\\site-packages\\pandas\\io\\parsers\\readers.py\u001b[0m in \u001b[0;36m_make_engine\u001b[1;34m(self, engine)\u001b[0m\n\u001b[0;32m   1038\u001b[0m             )\n\u001b[0;32m   1039\u001b[0m         \u001b[1;31m# error: Too many arguments for \"ParserBase\"\u001b[0m\u001b[1;33m\u001b[0m\u001b[1;33m\u001b[0m\u001b[0m\n\u001b[1;32m-> 1040\u001b[1;33m         \u001b[1;32mreturn\u001b[0m \u001b[0mmapping\u001b[0m\u001b[1;33m[\u001b[0m\u001b[0mengine\u001b[0m\u001b[1;33m]\u001b[0m\u001b[1;33m(\u001b[0m\u001b[0mself\u001b[0m\u001b[1;33m.\u001b[0m\u001b[0mf\u001b[0m\u001b[1;33m,\u001b[0m \u001b[1;33m**\u001b[0m\u001b[0mself\u001b[0m\u001b[1;33m.\u001b[0m\u001b[0moptions\u001b[0m\u001b[1;33m)\u001b[0m  \u001b[1;31m# type: ignore[call-arg]\u001b[0m\u001b[1;33m\u001b[0m\u001b[1;33m\u001b[0m\u001b[0m\n\u001b[0m\u001b[0;32m   1041\u001b[0m \u001b[1;33m\u001b[0m\u001b[0m\n\u001b[0;32m   1042\u001b[0m     \u001b[1;32mdef\u001b[0m \u001b[0m_failover_to_python\u001b[0m\u001b[1;33m(\u001b[0m\u001b[0mself\u001b[0m\u001b[1;33m)\u001b[0m\u001b[1;33m:\u001b[0m\u001b[1;33m\u001b[0m\u001b[1;33m\u001b[0m\u001b[0m\n",
      "\u001b[1;32m~\\anaconda3\\lib\\site-packages\\pandas\\io\\parsers\\c_parser_wrapper.py\u001b[0m in \u001b[0;36m__init__\u001b[1;34m(self, src, **kwds)\u001b[0m\n\u001b[0;32m     49\u001b[0m \u001b[1;33m\u001b[0m\u001b[0m\n\u001b[0;32m     50\u001b[0m         \u001b[1;31m# open handles\u001b[0m\u001b[1;33m\u001b[0m\u001b[1;33m\u001b[0m\u001b[0m\n\u001b[1;32m---> 51\u001b[1;33m         \u001b[0mself\u001b[0m\u001b[1;33m.\u001b[0m\u001b[0m_open_handles\u001b[0m\u001b[1;33m(\u001b[0m\u001b[0msrc\u001b[0m\u001b[1;33m,\u001b[0m \u001b[0mkwds\u001b[0m\u001b[1;33m)\u001b[0m\u001b[1;33m\u001b[0m\u001b[1;33m\u001b[0m\u001b[0m\n\u001b[0m\u001b[0;32m     52\u001b[0m         \u001b[1;32massert\u001b[0m \u001b[0mself\u001b[0m\u001b[1;33m.\u001b[0m\u001b[0mhandles\u001b[0m \u001b[1;32mis\u001b[0m \u001b[1;32mnot\u001b[0m \u001b[1;32mNone\u001b[0m\u001b[1;33m\u001b[0m\u001b[1;33m\u001b[0m\u001b[0m\n\u001b[0;32m     53\u001b[0m \u001b[1;33m\u001b[0m\u001b[0m\n",
      "\u001b[1;32m~\\anaconda3\\lib\\site-packages\\pandas\\io\\parsers\\base_parser.py\u001b[0m in \u001b[0;36m_open_handles\u001b[1;34m(self, src, kwds)\u001b[0m\n\u001b[0;32m    220\u001b[0m         \u001b[0mLet\u001b[0m \u001b[0mthe\u001b[0m \u001b[0mreaders\u001b[0m \u001b[0mopen\u001b[0m \u001b[0mIOHandles\u001b[0m \u001b[0mafter\u001b[0m \u001b[0mthey\u001b[0m \u001b[0mare\u001b[0m \u001b[0mdone\u001b[0m \u001b[1;32mwith\u001b[0m \u001b[0mtheir\u001b[0m \u001b[0mpotential\u001b[0m \u001b[0mraises\u001b[0m\u001b[1;33m.\u001b[0m\u001b[1;33m\u001b[0m\u001b[1;33m\u001b[0m\u001b[0m\n\u001b[0;32m    221\u001b[0m         \"\"\"\n\u001b[1;32m--> 222\u001b[1;33m         self.handles = get_handle(\n\u001b[0m\u001b[0;32m    223\u001b[0m             \u001b[0msrc\u001b[0m\u001b[1;33m,\u001b[0m\u001b[1;33m\u001b[0m\u001b[1;33m\u001b[0m\u001b[0m\n\u001b[0;32m    224\u001b[0m             \u001b[1;34m\"r\"\u001b[0m\u001b[1;33m,\u001b[0m\u001b[1;33m\u001b[0m\u001b[1;33m\u001b[0m\u001b[0m\n",
      "\u001b[1;32m~\\anaconda3\\lib\\site-packages\\pandas\\io\\common.py\u001b[0m in \u001b[0;36mget_handle\u001b[1;34m(path_or_buf, mode, encoding, compression, memory_map, is_text, errors, storage_options)\u001b[0m\n\u001b[0;32m    700\u001b[0m         \u001b[1;32mif\u001b[0m \u001b[0mioargs\u001b[0m\u001b[1;33m.\u001b[0m\u001b[0mencoding\u001b[0m \u001b[1;32mand\u001b[0m \u001b[1;34m\"b\"\u001b[0m \u001b[1;32mnot\u001b[0m \u001b[1;32min\u001b[0m \u001b[0mioargs\u001b[0m\u001b[1;33m.\u001b[0m\u001b[0mmode\u001b[0m\u001b[1;33m:\u001b[0m\u001b[1;33m\u001b[0m\u001b[1;33m\u001b[0m\u001b[0m\n\u001b[0;32m    701\u001b[0m             \u001b[1;31m# Encoding\u001b[0m\u001b[1;33m\u001b[0m\u001b[1;33m\u001b[0m\u001b[0m\n\u001b[1;32m--> 702\u001b[1;33m             handle = open(\n\u001b[0m\u001b[0;32m    703\u001b[0m                 \u001b[0mhandle\u001b[0m\u001b[1;33m,\u001b[0m\u001b[1;33m\u001b[0m\u001b[1;33m\u001b[0m\u001b[0m\n\u001b[0;32m    704\u001b[0m                 \u001b[0mioargs\u001b[0m\u001b[1;33m.\u001b[0m\u001b[0mmode\u001b[0m\u001b[1;33m,\u001b[0m\u001b[1;33m\u001b[0m\u001b[1;33m\u001b[0m\u001b[0m\n",
      "\u001b[1;31mFileNotFoundError\u001b[0m: [Errno 2] No such file or directory: 'IMDB_List.csv'"
     ]
    }
   ],
   "source": [
    "df = pd.read_csv(\"IMDB_List.csv\")"
   ]
  },
  {
   "cell_type": "code",
   "execution_count": 9,
   "id": "63cc41d9",
   "metadata": {},
   "outputs": [
    {
     "data": {
      "text/html": [
       "<div>\n",
       "<style scoped>\n",
       "    .dataframe tbody tr th:only-of-type {\n",
       "        vertical-align: middle;\n",
       "    }\n",
       "\n",
       "    .dataframe tbody tr th {\n",
       "        vertical-align: top;\n",
       "    }\n",
       "\n",
       "    .dataframe thead th {\n",
       "        text-align: right;\n",
       "    }\n",
       "</style>\n",
       "<table border=\"1\" class=\"dataframe\">\n",
       "  <thead>\n",
       "    <tr style=\"text-align: right;\">\n",
       "      <th></th>\n",
       "      <th>Unnamed: 0</th>\n",
       "      <th>Movie_Name</th>\n",
       "      <th>Release_Year</th>\n",
       "      <th>Duration(In Minutes)</th>\n",
       "      <th>Genre</th>\n",
       "      <th>Ratings</th>\n",
       "      <th>Collection(In Millions)</th>\n",
       "      <th>Votings</th>\n",
       "      <th>MetaScore</th>\n",
       "    </tr>\n",
       "  </thead>\n",
       "  <tbody>\n",
       "    <tr>\n",
       "      <th>0</th>\n",
       "      <td>0</td>\n",
       "      <td>The Matrix</td>\n",
       "      <td>1980</td>\n",
       "      <td>129</td>\n",
       "      <td>Biography, Drama, Sport</td>\n",
       "      <td>8.7</td>\n",
       "      <td>171.48</td>\n",
       "      <td>348,069</td>\n",
       "      <td>89.0</td>\n",
       "    </tr>\n",
       "    <tr>\n",
       "      <th>1</th>\n",
       "      <td>1</td>\n",
       "      <td>The Matrix Reloaded</td>\n",
       "      <td>2019</td>\n",
       "      <td>119</td>\n",
       "      <td>Action, Drama, War</td>\n",
       "      <td>7.2</td>\n",
       "      <td>281.49</td>\n",
       "      <td>558,558</td>\n",
       "      <td>78.0</td>\n",
       "    </tr>\n",
       "    <tr>\n",
       "      <th>2</th>\n",
       "      <td>2</td>\n",
       "      <td>The Matrix Revolutions</td>\n",
       "      <td>2003</td>\n",
       "      <td>109</td>\n",
       "      <td>Biography, Drama, Sport</td>\n",
       "      <td>6.7</td>\n",
       "      <td>139.31</td>\n",
       "      <td>40,698</td>\n",
       "      <td>38.0</td>\n",
       "    </tr>\n",
       "    <tr>\n",
       "      <th>3</th>\n",
       "      <td>3</td>\n",
       "      <td>Alien</td>\n",
       "      <td>2004</td>\n",
       "      <td>89</td>\n",
       "      <td>Drama</td>\n",
       "      <td>8.5</td>\n",
       "      <td>78.9</td>\n",
       "      <td>0</td>\n",
       "      <td>86.0</td>\n",
       "    </tr>\n",
       "    <tr>\n",
       "      <th>4</th>\n",
       "      <td>4</td>\n",
       "      <td>Aliens</td>\n",
       "      <td>2006</td>\n",
       "      <td>101</td>\n",
       "      <td>Crime, Drama</td>\n",
       "      <td>8.4</td>\n",
       "      <td>85.16</td>\n",
       "      <td>121,722</td>\n",
       "      <td>72.0</td>\n",
       "    </tr>\n",
       "    <tr>\n",
       "      <th>...</th>\n",
       "      <td>...</td>\n",
       "      <td>...</td>\n",
       "      <td>...</td>\n",
       "      <td>...</td>\n",
       "      <td>...</td>\n",
       "      <td>...</td>\n",
       "      <td>...</td>\n",
       "      <td>...</td>\n",
       "      <td>...</td>\n",
       "    </tr>\n",
       "    <tr>\n",
       "      <th>395</th>\n",
       "      <td>395</td>\n",
       "      <td>Takers</td>\n",
       "      <td>2021</td>\n",
       "      <td>119</td>\n",
       "      <td>Action, Crime, Thriller</td>\n",
       "      <td>8.2</td>\n",
       "      <td>166,102</td>\n",
       "      <td>62,404</td>\n",
       "      <td>54.0</td>\n",
       "    </tr>\n",
       "    <tr>\n",
       "      <th>396</th>\n",
       "      <td>396</td>\n",
       "      <td>Triple</td>\n",
       "      <td>2017</td>\n",
       "      <td>134</td>\n",
       "      <td>Drama, War</td>\n",
       "      <td>8.0</td>\n",
       "      <td>48,743</td>\n",
       "      <td>71,934</td>\n",
       "      <td>69.0</td>\n",
       "    </tr>\n",
       "    <tr>\n",
       "      <th>397</th>\n",
       "      <td>397</td>\n",
       "      <td>*batteries not included</td>\n",
       "      <td>2018</td>\n",
       "      <td>116</td>\n",
       "      <td>Crime, Drama, Thriller</td>\n",
       "      <td>8.1</td>\n",
       "      <td>103.8</td>\n",
       "      <td>35,469</td>\n",
       "      <td>51.0</td>\n",
       "    </tr>\n",
       "    <tr>\n",
       "      <th>398</th>\n",
       "      <td>398</td>\n",
       "      <td>The Drop</td>\n",
       "      <td>2014</td>\n",
       "      <td>114</td>\n",
       "      <td>Adventure, Comedy, Drama</td>\n",
       "      <td>7.2</td>\n",
       "      <td>30.64</td>\n",
       "      <td>151,395</td>\n",
       "      <td>0.0</td>\n",
       "    </tr>\n",
       "    <tr>\n",
       "      <th>399</th>\n",
       "      <td>399</td>\n",
       "      <td>The InternI</td>\n",
       "      <td>2017</td>\n",
       "      <td>104</td>\n",
       "      <td>Horror, Mystery, Thriller</td>\n",
       "      <td>8.0</td>\n",
       "      <td>176.04</td>\n",
       "      <td>248,313</td>\n",
       "      <td>0.0</td>\n",
       "    </tr>\n",
       "  </tbody>\n",
       "</table>\n",
       "<p>400 rows × 9 columns</p>\n",
       "</div>"
      ],
      "text/plain": [
       "     Unnamed: 0               Movie_Name  Release_Year  Duration(In Minutes)  \\\n",
       "0             0               The Matrix          1980                   129   \n",
       "1             1      The Matrix Reloaded          2019                   119   \n",
       "2             2   The Matrix Revolutions          2003                   109   \n",
       "3             3                    Alien          2004                    89   \n",
       "4             4                   Aliens          2006                   101   \n",
       "..          ...                      ...           ...                   ...   \n",
       "395         395                   Takers          2021                   119   \n",
       "396         396                  Triple           2017                   134   \n",
       "397         397  *batteries not included          2018                   116   \n",
       "398         398                 The Drop          2014                   114   \n",
       "399         399             The InternI           2017                   104   \n",
       "\n",
       "                                     Genre  Ratings Collection(In Millions)  \\\n",
       "0      Biography, Drama, Sport                  8.7                  171.48   \n",
       "1           Action, Drama, War                  7.2                  281.49   \n",
       "2      Biography, Drama, Sport                  6.7                  139.31   \n",
       "3                        Drama                  8.5                    78.9   \n",
       "4                 Crime, Drama                  8.4                   85.16   \n",
       "..                                     ...      ...                     ...   \n",
       "395    Action, Crime, Thriller                  8.2                 166,102   \n",
       "396                 Drama, War                  8.0                  48,743   \n",
       "397     Crime, Drama, Thriller                  8.1                   103.8   \n",
       "398   Adventure, Comedy, Drama                  7.2                   30.64   \n",
       "399  Horror, Mystery, Thriller                  8.0                  176.04   \n",
       "\n",
       "     Votings  MetaScore  \n",
       "0    348,069       89.0  \n",
       "1    558,558       78.0  \n",
       "2     40,698       38.0  \n",
       "3          0       86.0  \n",
       "4    121,722       72.0  \n",
       "..       ...        ...  \n",
       "395   62,404       54.0  \n",
       "396   71,934       69.0  \n",
       "397   35,469       51.0  \n",
       "398  151,395        0.0  \n",
       "399  248,313        0.0  \n",
       "\n",
       "[400 rows x 9 columns]"
      ]
     },
     "execution_count": 9,
     "metadata": {},
     "output_type": "execute_result"
    }
   ],
   "source": [
    "df"
   ]
  },
  {
   "cell_type": "code",
   "execution_count": 11,
   "id": "f664df6f",
   "metadata": {},
   "outputs": [
    {
     "name": "stdout",
     "output_type": "stream",
     "text": [
      "<class 'pandas.core.frame.DataFrame'>\n",
      "RangeIndex: 400 entries, 0 to 399\n",
      "Data columns (total 9 columns):\n",
      " #   Column                   Non-Null Count  Dtype  \n",
      "---  ------                   --------------  -----  \n",
      " 0   Unnamed: 0               400 non-null    int64  \n",
      " 1   Movie_Name               400 non-null    object \n",
      " 2   Release_Year             400 non-null    int64  \n",
      " 3   Duration(In Minutes)     400 non-null    int64  \n",
      " 4   Genre                    400 non-null    object \n",
      " 5   Ratings                  400 non-null    float64\n",
      " 6   Collection(In Millions)  400 non-null    object \n",
      " 7   Votings                  400 non-null    object \n",
      " 8   MetaScore                400 non-null    float64\n",
      "dtypes: float64(2), int64(3), object(4)\n",
      "memory usage: 28.2+ KB\n"
     ]
    }
   ],
   "source": [
    "df.info()"
   ]
  },
  {
   "cell_type": "code",
   "execution_count": 12,
   "id": "66d3f3b5",
   "metadata": {},
   "outputs": [],
   "source": [
    "df.drop(\"Unnamed: 0\",axis=1,inplace=True)"
   ]
  },
  {
   "cell_type": "code",
   "execution_count": 19,
   "id": "e023a4ce",
   "metadata": {},
   "outputs": [
    {
     "data": {
      "text/html": [
       "<div>\n",
       "<style scoped>\n",
       "    .dataframe tbody tr th:only-of-type {\n",
       "        vertical-align: middle;\n",
       "    }\n",
       "\n",
       "    .dataframe tbody tr th {\n",
       "        vertical-align: top;\n",
       "    }\n",
       "\n",
       "    .dataframe thead th {\n",
       "        text-align: right;\n",
       "    }\n",
       "</style>\n",
       "<table border=\"1\" class=\"dataframe\">\n",
       "  <thead>\n",
       "    <tr style=\"text-align: right;\">\n",
       "      <th></th>\n",
       "      <th>Movie_Name</th>\n",
       "      <th>Release_Year</th>\n",
       "      <th>Duration(In Minutes)</th>\n",
       "      <th>Genre</th>\n",
       "      <th>Ratings</th>\n",
       "      <th>Collection(In Millions)</th>\n",
       "      <th>Votings</th>\n",
       "      <th>MetaScore</th>\n",
       "    </tr>\n",
       "  </thead>\n",
       "  <tbody>\n",
       "    <tr>\n",
       "      <th>0</th>\n",
       "      <td>The Matrix</td>\n",
       "      <td>1980</td>\n",
       "      <td>129</td>\n",
       "      <td>Biography, Drama, Sport</td>\n",
       "      <td>8.7</td>\n",
       "      <td>171.48</td>\n",
       "      <td>348,069</td>\n",
       "      <td>89.0</td>\n",
       "    </tr>\n",
       "    <tr>\n",
       "      <th>1</th>\n",
       "      <td>The Matrix Reloaded</td>\n",
       "      <td>2019</td>\n",
       "      <td>119</td>\n",
       "      <td>Action, Drama, War</td>\n",
       "      <td>7.2</td>\n",
       "      <td>281.49</td>\n",
       "      <td>558,558</td>\n",
       "      <td>78.0</td>\n",
       "    </tr>\n",
       "    <tr>\n",
       "      <th>2</th>\n",
       "      <td>The Matrix Revolutions</td>\n",
       "      <td>2003</td>\n",
       "      <td>109</td>\n",
       "      <td>Biography, Drama, Sport</td>\n",
       "      <td>6.7</td>\n",
       "      <td>139.31</td>\n",
       "      <td>40,698</td>\n",
       "      <td>38.0</td>\n",
       "    </tr>\n",
       "    <tr>\n",
       "      <th>3</th>\n",
       "      <td>Alien</td>\n",
       "      <td>2004</td>\n",
       "      <td>89</td>\n",
       "      <td>Drama</td>\n",
       "      <td>8.5</td>\n",
       "      <td>78.9</td>\n",
       "      <td>0</td>\n",
       "      <td>86.0</td>\n",
       "    </tr>\n",
       "    <tr>\n",
       "      <th>4</th>\n",
       "      <td>Aliens</td>\n",
       "      <td>2006</td>\n",
       "      <td>101</td>\n",
       "      <td>Crime, Drama</td>\n",
       "      <td>8.4</td>\n",
       "      <td>85.16</td>\n",
       "      <td>121,722</td>\n",
       "      <td>72.0</td>\n",
       "    </tr>\n",
       "    <tr>\n",
       "      <th>...</th>\n",
       "      <td>...</td>\n",
       "      <td>...</td>\n",
       "      <td>...</td>\n",
       "      <td>...</td>\n",
       "      <td>...</td>\n",
       "      <td>...</td>\n",
       "      <td>...</td>\n",
       "      <td>...</td>\n",
       "    </tr>\n",
       "    <tr>\n",
       "      <th>395</th>\n",
       "      <td>Takers</td>\n",
       "      <td>2021</td>\n",
       "      <td>119</td>\n",
       "      <td>Action, Crime, Thriller</td>\n",
       "      <td>8.2</td>\n",
       "      <td>166,102</td>\n",
       "      <td>62,404</td>\n",
       "      <td>54.0</td>\n",
       "    </tr>\n",
       "    <tr>\n",
       "      <th>396</th>\n",
       "      <td>Triple</td>\n",
       "      <td>2017</td>\n",
       "      <td>134</td>\n",
       "      <td>Drama, War</td>\n",
       "      <td>8.0</td>\n",
       "      <td>48,743</td>\n",
       "      <td>71,934</td>\n",
       "      <td>69.0</td>\n",
       "    </tr>\n",
       "    <tr>\n",
       "      <th>397</th>\n",
       "      <td>*batteries not included</td>\n",
       "      <td>2018</td>\n",
       "      <td>116</td>\n",
       "      <td>Crime, Drama, Thriller</td>\n",
       "      <td>8.1</td>\n",
       "      <td>103.8</td>\n",
       "      <td>35,469</td>\n",
       "      <td>51.0</td>\n",
       "    </tr>\n",
       "    <tr>\n",
       "      <th>398</th>\n",
       "      <td>The Drop</td>\n",
       "      <td>2014</td>\n",
       "      <td>114</td>\n",
       "      <td>Adventure, Comedy, Drama</td>\n",
       "      <td>7.2</td>\n",
       "      <td>30.64</td>\n",
       "      <td>151,395</td>\n",
       "      <td>0.0</td>\n",
       "    </tr>\n",
       "    <tr>\n",
       "      <th>399</th>\n",
       "      <td>The InternI</td>\n",
       "      <td>2017</td>\n",
       "      <td>104</td>\n",
       "      <td>Horror, Mystery, Thriller</td>\n",
       "      <td>8.0</td>\n",
       "      <td>176.04</td>\n",
       "      <td>248,313</td>\n",
       "      <td>0.0</td>\n",
       "    </tr>\n",
       "  </tbody>\n",
       "</table>\n",
       "<p>400 rows × 8 columns</p>\n",
       "</div>"
      ],
      "text/plain": [
       "                  Movie_Name  Release_Year  Duration(In Minutes)  \\\n",
       "0                 The Matrix          1980                   129   \n",
       "1        The Matrix Reloaded          2019                   119   \n",
       "2     The Matrix Revolutions          2003                   109   \n",
       "3                      Alien          2004                    89   \n",
       "4                     Aliens          2006                   101   \n",
       "..                       ...           ...                   ...   \n",
       "395                   Takers          2021                   119   \n",
       "396                  Triple           2017                   134   \n",
       "397  *batteries not included          2018                   116   \n",
       "398                 The Drop          2014                   114   \n",
       "399             The InternI           2017                   104   \n",
       "\n",
       "                                     Genre  Ratings Collection(In Millions)  \\\n",
       "0      Biography, Drama, Sport                  8.7                  171.48   \n",
       "1           Action, Drama, War                  7.2                  281.49   \n",
       "2      Biography, Drama, Sport                  6.7                  139.31   \n",
       "3                        Drama                  8.5                    78.9   \n",
       "4                 Crime, Drama                  8.4                   85.16   \n",
       "..                                     ...      ...                     ...   \n",
       "395    Action, Crime, Thriller                  8.2                 166,102   \n",
       "396                 Drama, War                  8.0                  48,743   \n",
       "397     Crime, Drama, Thriller                  8.1                   103.8   \n",
       "398   Adventure, Comedy, Drama                  7.2                   30.64   \n",
       "399  Horror, Mystery, Thriller                  8.0                  176.04   \n",
       "\n",
       "     Votings  MetaScore  \n",
       "0    348,069       89.0  \n",
       "1    558,558       78.0  \n",
       "2     40,698       38.0  \n",
       "3          0       86.0  \n",
       "4    121,722       72.0  \n",
       "..       ...        ...  \n",
       "395   62,404       54.0  \n",
       "396   71,934       69.0  \n",
       "397   35,469       51.0  \n",
       "398  151,395        0.0  \n",
       "399  248,313        0.0  \n",
       "\n",
       "[400 rows x 8 columns]"
      ]
     },
     "execution_count": 19,
     "metadata": {},
     "output_type": "execute_result"
    }
   ],
   "source": [
    "df"
   ]
  },
  {
   "cell_type": "code",
   "execution_count": 28,
   "id": "87b1ba23",
   "metadata": {},
   "outputs": [
    {
     "name": "stdout",
     "output_type": "stream",
     "text": [
      "<class 'pandas.core.frame.DataFrame'>\n",
      "RangeIndex: 400 entries, 0 to 399\n",
      "Data columns (total 8 columns):\n",
      " #   Column                   Non-Null Count  Dtype  \n",
      "---  ------                   --------------  -----  \n",
      " 0   Movie_Name               400 non-null    object \n",
      " 1   Release_Year             400 non-null    int64  \n",
      " 2   Duration(In Minutes)     400 non-null    int64  \n",
      " 3   Genre                    400 non-null    object \n",
      " 4   Ratings                  400 non-null    float64\n",
      " 5   Collection(In Millions)  400 non-null    object \n",
      " 6   Votings                  400 non-null    object \n",
      " 7   MetaScore                400 non-null    float64\n",
      "dtypes: float64(2), int64(2), object(4)\n",
      "memory usage: 25.1+ KB\n"
     ]
    }
   ],
   "source": [
    "df.info()"
   ]
  },
  {
   "cell_type": "code",
   "execution_count": 20,
   "id": "cae52161",
   "metadata": {},
   "outputs": [
    {
     "data": {
      "text/plain": [
       "array([8.7, 7.2, 6.7, 8.5, 8.4, 6.4, 7. , 8.3, 8.8, 7.6, 7.4, 9. , 8.1,\n",
       "       8.6, 7.9, 7.8, 7.3, 7.1, 8.2, 7.7, 9.2, 6.2, 7.5, 6.8, 6.3, 8. ,\n",
       "       8.9])"
      ]
     },
     "execution_count": 20,
     "metadata": {},
     "output_type": "execute_result"
    }
   ],
   "source": [
    "df[\"Ratings\"].unique()"
   ]
  },
  {
   "cell_type": "code",
   "execution_count": null,
   "id": "c2f3ef4e",
   "metadata": {},
   "outputs": [],
   "source": [
    "df[df[\"Ratings\"]"
   ]
  },
  {
   "cell_type": "code",
   "execution_count": 430,
   "id": "fce36093",
   "metadata": {},
   "outputs": [],
   "source": [
    "df[\"Release_Year\"] = df[\"Release_Year\"].astype(int)"
   ]
  },
  {
   "cell_type": "code",
   "execution_count": 434,
   "id": "312e1442",
   "metadata": {},
   "outputs": [],
   "source": [
    "df[\"Votings\"] = df[\"Votings\"].astype(int)"
   ]
  },
  {
   "cell_type": "code",
   "execution_count": 431,
   "id": "f6e0dc4e",
   "metadata": {},
   "outputs": [],
   "source": [
    "b = []\n",
    "for i in df[\"Votings\"]:\n",
    "    a = re.sub(\",\",\"\",i)\n",
    "    b.append(a)"
   ]
  },
  {
   "cell_type": "code",
   "execution_count": 433,
   "id": "070b1191",
   "metadata": {},
   "outputs": [],
   "source": [
    "df[\"Votings\"] = b"
   ]
  },
  {
   "cell_type": "code",
   "execution_count": 436,
   "id": "ed9e13e4",
   "metadata": {},
   "outputs": [
    {
     "data": {
      "text/plain": [
       "0      348069\n",
       "1      558558\n",
       "2       40698\n",
       "3           0\n",
       "4      121722\n",
       "        ...  \n",
       "395     62404\n",
       "396     71934\n",
       "397     35469\n",
       "398    151395\n",
       "399    248313\n",
       "Name: Votings, Length: 400, dtype: int32"
      ]
     },
     "execution_count": 436,
     "metadata": {},
     "output_type": "execute_result"
    }
   ],
   "source": [
    "df['Votings'].fillna(df['Votings'].mean())"
   ]
  },
  {
   "cell_type": "code",
   "execution_count": 29,
   "id": "53612825",
   "metadata": {
    "scrolled": true
   },
   "outputs": [
    {
     "data": {
      "text/plain": [
       "2019    32\n",
       "2017    28\n",
       "1990    28\n",
       "1997    24\n",
       "2000    16\n",
       "2015    16\n",
       "2014    16\n",
       "1984    16\n",
       "2006    12\n",
       "2008    12\n",
       "2018    12\n",
       "2004    12\n",
       "1978    12\n",
       "1982    12\n",
       "1999    12\n",
       "2013     8\n",
       "2012     8\n",
       "1989     8\n",
       "1992     8\n",
       "1987     8\n",
       "2020     8\n",
       "1998     4\n",
       "2010     4\n",
       "2002     4\n",
       "1956     4\n",
       "1967     4\n",
       "1939     4\n",
       "1954     4\n",
       "2011     4\n",
       "1993     4\n",
       "1980     4\n",
       "1963     4\n",
       "1985     4\n",
       "1979     4\n",
       "1976     4\n",
       "1973     4\n",
       "1991     4\n",
       "1983     4\n",
       "1986     4\n",
       "1988     4\n",
       "2005     4\n",
       "2016     4\n",
       "2003     4\n",
       "2021     4\n",
       "Name: Release_Year, dtype: int64"
      ]
     },
     "execution_count": 29,
     "metadata": {},
     "output_type": "execute_result"
    }
   ],
   "source": [
    "df[\"Release_Year\"].value_counts()"
   ]
  },
  {
   "cell_type": "markdown",
   "id": "45e23d61",
   "metadata": {},
   "source": [
    "## EDA "
   ]
  },
  {
   "cell_type": "code",
   "execution_count": 11,
   "id": "60d934c5",
   "metadata": {},
   "outputs": [],
   "source": [
    "import pandas as pd\n",
    "import seaborn as sns\n",
    "import matplotlib.pyplot as plt\n",
    "import plotly.express as px"
   ]
  },
  {
   "cell_type": "markdown",
   "id": "06dc9601",
   "metadata": {},
   "source": [
    "### HeatMap"
   ]
  },
  {
   "cell_type": "code",
   "execution_count": 14,
   "id": "39bebe21",
   "metadata": {},
   "outputs": [
    {
     "data": {
      "text/html": [
       "<div>\n",
       "<style scoped>\n",
       "    .dataframe tbody tr th:only-of-type {\n",
       "        vertical-align: middle;\n",
       "    }\n",
       "\n",
       "    .dataframe tbody tr th {\n",
       "        vertical-align: top;\n",
       "    }\n",
       "\n",
       "    .dataframe thead th {\n",
       "        text-align: right;\n",
       "    }\n",
       "</style>\n",
       "<table border=\"1\" class=\"dataframe\">\n",
       "  <thead>\n",
       "    <tr style=\"text-align: right;\">\n",
       "      <th></th>\n",
       "      <th>Release_Year</th>\n",
       "      <th>Duration(In Minutes)</th>\n",
       "      <th>Ratings</th>\n",
       "      <th>MetaScore</th>\n",
       "    </tr>\n",
       "  </thead>\n",
       "  <tbody>\n",
       "    <tr>\n",
       "      <th>Release_Year</th>\n",
       "      <td>1.000000</td>\n",
       "      <td>0.111235</td>\n",
       "      <td>-0.202170</td>\n",
       "      <td>-0.045277</td>\n",
       "    </tr>\n",
       "    <tr>\n",
       "      <th>Duration(In Minutes)</th>\n",
       "      <td>0.111235</td>\n",
       "      <td>1.000000</td>\n",
       "      <td>0.056632</td>\n",
       "      <td>0.150863</td>\n",
       "    </tr>\n",
       "    <tr>\n",
       "      <th>Ratings</th>\n",
       "      <td>-0.202170</td>\n",
       "      <td>0.056632</td>\n",
       "      <td>1.000000</td>\n",
       "      <td>0.117973</td>\n",
       "    </tr>\n",
       "    <tr>\n",
       "      <th>MetaScore</th>\n",
       "      <td>-0.045277</td>\n",
       "      <td>0.150863</td>\n",
       "      <td>0.117973</td>\n",
       "      <td>1.000000</td>\n",
       "    </tr>\n",
       "  </tbody>\n",
       "</table>\n",
       "</div>"
      ],
      "text/plain": [
       "                      Release_Year  Duration(In Minutes)   Ratings  MetaScore\n",
       "Release_Year              1.000000              0.111235 -0.202170  -0.045277\n",
       "Duration(In Minutes)      0.111235              1.000000  0.056632   0.150863\n",
       "Ratings                  -0.202170              0.056632  1.000000   0.117973\n",
       "MetaScore                -0.045277              0.150863  0.117973   1.000000"
      ]
     },
     "execution_count": 14,
     "metadata": {},
     "output_type": "execute_result"
    }
   ],
   "source": [
    "num_df=df.select_dtypes(include=['number'])\n",
    "num_df.corr()"
   ]
  },
  {
   "cell_type": "code",
   "execution_count": 15,
   "id": "f2b5e0c5",
   "metadata": {},
   "outputs": [
    {
     "data": {
      "image/png": "[encoded data removed]",
      "text/plain": [
       "<Figure size 1080x720 with 2 Axes>"
      ]
     },
     "metadata": {
      "needs_background": "light"
     },
     "output_type": "display_data"
    }
   ],
   "source": [
    "plt.figure(figsize=(15,10))\n",
    "sns.heatmap(num_df.corr(),annot=True)\n",
    "plt.show()"
   ]
  },
  {
   "cell_type": "code",
   "execution_count": 16,
   "id": "fc8d1c10",
   "metadata": {},
   "outputs": [
    {
     "data": {
      "text/plain": [
       "<AxesSubplot:>"
      ]
     },
     "execution_count": 16,
     "metadata": {},
     "output_type": "execute_result"
    },
    {
     "data": {
      "image/png": "[encoded data removed]",
      "text/plain": [
       "<Figure size 432x288 with 1 Axes>"
      ]
     },
     "metadata": {
      "needs_background": "light"
     },
     "output_type": "display_data"
    }
   ],
   "source": [
    "df['Ratings'].value_counts().plot.bar()"
   ]
  },
  {
   "cell_type": "code",
   "execution_count": 19,
   "id": "fb63176d",
   "metadata": {},
   "outputs": [
    {
     "data": {
      "text/plain": [
       "<AxesSubplot:>"
      ]
     },
     "execution_count": 19,
     "metadata": {},
     "output_type": "execute_result"
    },
    {
     "data": {
      "image/png": "[encoded data removed]",
      "text/plain": [
       "<Figure size 432x288 with 1 Axes>"
      ]
     },
     "metadata": {
      "needs_background": "light"
     },
     "output_type": "display_data"
    }
   ],
   "source": [
    "df[\"Ratings\"].hist(bins=4)"
   ]
  },
  {
   "cell_type": "code",
   "execution_count": 17,
   "id": "05b11273",
   "metadata": {},
   "outputs": [
    {
     "data": {
      "text/plain": [
       "<AxesSubplot:xlabel='Ratings', ylabel='count'>"
      ]
     },
     "execution_count": 17,
     "metadata": {},
     "output_type": "execute_result"
    },
    {
     "data": {
      "image/png": "[encoded data removed]",
      "text/plain": [
       "<Figure size 720x360 with 1 Axes>"
      ]
     },
     "metadata": {
      "needs_background": "light"
     },
     "output_type": "display_data"
    }
   ],
   "source": [
    "plt.figure(figsize=(10,5))\n",
    "plt.xticks(rotation = 90)\n",
    "sns.countplot(x='Ratings',data=df)"
   ]
  },
  {
   "cell_type": "code",
   "execution_count": 18,
   "id": "174593d5",
   "metadata": {},
   "outputs": [
    {
     "data": {
      "image/png": "[encoded data removed]",
      "text/plain": [
       "<Figure size 1440x1080 with 1 Axes>"
      ]
     },
     "metadata": {},
     "output_type": "display_data"
    }
   ],
   "source": [
    "plt.figure(figsize=(20,15))\n",
    "df[\"Ratings\"].value_counts().plot.pie(autopct=\"%.1f%%\")\n",
    "plt.show()"
   ]
  },
  {
   "cell_type": "code",
   "execution_count": 19,
   "id": "9c517aab",
   "metadata": {},
   "outputs": [
    {
     "data": {
      "text/plain": [
       "<AxesSubplot:>"
      ]
     },
     "execution_count": 19,
     "metadata": {},
     "output_type": "execute_result"
    },
    {
     "data": {
      "image/png": "[encoded data removed]",
      "text/plain": [
       "<Figure size 432x288 with 1 Axes>"
      ]
     },
     "metadata": {
      "needs_background": "light"
     },
     "output_type": "display_data"
    }
   ],
   "source": [
    "df.boxplot(column=\"Duration(In Minutes)\")"
   ]
  },
  {
   "cell_type": "code",
   "execution_count": 20,
   "id": "b5187a27",
   "metadata": {},
   "outputs": [
    {
     "name": "stderr",
     "output_type": "stream",
     "text": [
      "C:\\ProgramData\\Anaconda3\\lib\\site-packages\\seaborn\\_decorators.py:36: FutureWarning: Pass the following variable as a keyword arg: x. From version 0.12, the only valid positional argument will be `data`, and passing other arguments without an explicit keyword will result in an error or misinterpretation.\n",
      "  warnings.warn(\n"
     ]
    },
    {
     "data": {
      "text/plain": [
       "<AxesSubplot:xlabel='Duration(In Minutes)'>"
      ]
     },
     "execution_count": 20,
     "metadata": {},
     "output_type": "execute_result"
    },
    {
     "data": {
      "image/png": "[encoded data removed]",
      "text/plain": [
       "<Figure size 432x288 with 1 Axes>"
      ]
     },
     "metadata": {
      "needs_background": "light"
     },
     "output_type": "display_data"
    }
   ],
   "source": [
    "sns.boxplot(df[\"Duration(In Minutes)\"])"
   ]
  },
  {
   "cell_type": "code",
   "execution_count": null,
   "id": "dc3dafbb",
   "metadata": {},
   "outputs": [],
   "source": []
  },
  {
   "cell_type": "code",
   "execution_count": 21,
   "id": "58827530",
   "metadata": {},
   "outputs": [
    {
     "name": "stderr",
     "output_type": "stream",
     "text": [
      "C:\\ProgramData\\Anaconda3\\lib\\site-packages\\seaborn\\_decorators.py:36: FutureWarning: Pass the following variable as a keyword arg: x. From version 0.12, the only valid positional argument will be `data`, and passing other arguments without an explicit keyword will result in an error or misinterpretation.\n",
      "  warnings.warn(\n"
     ]
    },
    {
     "data": {
      "text/plain": [
       "<AxesSubplot:xlabel='Duration(In Minutes)'>"
      ]
     },
     "execution_count": 21,
     "metadata": {},
     "output_type": "execute_result"
    },
    {
     "data": {
      "image/png": "[encoded data removed]",
      "text/plain": [
       "<Figure size 432x288 with 1 Axes>"
      ]
     },
     "metadata": {
      "needs_background": "light"
     },
     "output_type": "display_data"
    }
   ],
   "source": [
    "sns.violinplot(df[\"Duration(In Minutes)\"])"
   ]
  },
  {
   "cell_type": "markdown",
   "id": "af688843",
   "metadata": {},
   "source": [
    "# num vs num"
   ]
  },
  {
   "cell_type": "code",
   "execution_count": 22,
   "id": "0ca8dce3",
   "metadata": {},
   "outputs": [
    {
     "data": {
      "text/plain": [
       "<matplotlib.collections.PathCollection at 0x211f53d1310>"
      ]
     },
     "execution_count": 22,
     "metadata": {},
     "output_type": "execute_result"
    },
    {
     "data": {
      "image/png": "[encoded data removed]",
      "text/plain": [
       "<Figure size 432x288 with 1 Axes>"
      ]
     },
     "metadata": {
      "needs_background": "light"
     },
     "output_type": "display_data"
    }
   ],
   "source": [
    "plt.scatter(df[\"Release_Year\"],df[\"Ratings\"])"
   ]
  },
  {
   "cell_type": "code",
   "execution_count": 23,
   "id": "5f74044f",
   "metadata": {},
   "outputs": [
    {
     "data": {
      "text/plain": [
       "-0.20216961880118134"
      ]
     },
     "execution_count": 23,
     "metadata": {},
     "output_type": "execute_result"
    }
   ],
   "source": [
    "df[\"Release_Year\"].corr(df[\"Ratings\"])"
   ]
  },
  {
   "cell_type": "code",
   "execution_count": 24,
   "id": "9c2d1322",
   "metadata": {},
   "outputs": [
    {
     "data": {
      "text/plain": [
       "<AxesSubplot:xlabel='Release_Year', ylabel='Ratings'>"
      ]
     },
     "execution_count": 24,
     "metadata": {},
     "output_type": "execute_result"
    },
    {
     "data": {
      "image/png": "[encoded data removed]",
      "text/plain": [
       "<Figure size 432x288 with 1 Axes>"
      ]
     },
     "metadata": {
      "needs_background": "light"
     },
     "output_type": "display_data"
    }
   ],
   "source": [
    "sns.lineplot(x=\"Release_Year\",y=\"Ratings\",data=df)"
   ]
  },
  {
   "cell_type": "markdown",
   "id": "ed0c2e67",
   "metadata": {},
   "source": [
    "# cate vs num"
   ]
  },
  {
   "cell_type": "code",
   "execution_count": 25,
   "id": "abbbf7bf",
   "metadata": {},
   "outputs": [
    {
     "data": {
      "text/plain": [
       "<AxesSubplot:xlabel='Genre', ylabel='Ratings'>"
      ]
     },
     "execution_count": 25,
     "metadata": {},
     "output_type": "execute_result"
    },
    {
     "data": {
      "image/png": "[encoded data removed]",
      "text/plain": [
       "<Figure size 1440x360 with 1 Axes>"
      ]
     },
     "metadata": {
      "needs_background": "light"
     },
     "output_type": "display_data"
    }
   ],
   "source": [
    "plt.figure(figsize=(20,5))\n",
    "plt.xticks(rotation=90)\n",
    "sns.boxplot(x=\"Genre\",y=\"Ratings\",data=df)"
   ]
  },
  {
   "cell_type": "code",
   "execution_count": 26,
   "id": "4e9393a6",
   "metadata": {},
   "outputs": [
    {
     "data": {
      "text/html": [
       "<div>\n",
       "<style scoped>\n",
       "    .dataframe tbody tr th:only-of-type {\n",
       "        vertical-align: middle;\n",
       "    }\n",
       "\n",
       "    .dataframe tbody tr th {\n",
       "        vertical-align: top;\n",
       "    }\n",
       "\n",
       "    .dataframe thead th {\n",
       "        text-align: right;\n",
       "    }\n",
       "</style>\n",
       "<table border=\"1\" class=\"dataframe\">\n",
       "  <thead>\n",
       "    <tr style=\"text-align: right;\">\n",
       "      <th></th>\n",
       "      <th>Movie_Name</th>\n",
       "      <th>Release_Year</th>\n",
       "      <th>Duration(In Minutes)</th>\n",
       "      <th>Genre</th>\n",
       "      <th>Ratings</th>\n",
       "      <th>Collection(In Millions)</th>\n",
       "      <th>Votings</th>\n",
       "      <th>MetaScore</th>\n",
       "    </tr>\n",
       "  </thead>\n",
       "  <tbody>\n",
       "    <tr>\n",
       "      <th>0</th>\n",
       "      <td>The Matrix</td>\n",
       "      <td>1980</td>\n",
       "      <td>129</td>\n",
       "      <td>Biography, Drama, Sport</td>\n",
       "      <td>8.7</td>\n",
       "      <td>171.48</td>\n",
       "      <td>348,069</td>\n",
       "      <td>89.0</td>\n",
       "    </tr>\n",
       "  </tbody>\n",
       "</table>\n",
       "</div>"
      ],
      "text/plain": [
       "   Movie_Name  Release_Year  Duration(In Minutes)  \\\n",
       "0  The Matrix          1980                   129   \n",
       "\n",
       "                                 Genre  Ratings Collection(In Millions)  \\\n",
       "0  Biography, Drama, Sport                  8.7                  171.48   \n",
       "\n",
       "   Votings  MetaScore  \n",
       "0  348,069       89.0  "
      ]
     },
     "execution_count": 26,
     "metadata": {},
     "output_type": "execute_result"
    }
   ],
   "source": [
    "df.head(1)"
   ]
  },
  {
   "cell_type": "code",
   "execution_count": 17,
   "id": "a55511db",
   "metadata": {
    "scrolled": true
   },
   "outputs": [
    {
     "data": {
      "text/plain": [
       "<AxesSubplot:xlabel='Genre', ylabel='Ratings'>"
      ]
     },
     "execution_count": 17,
     "metadata": {},
     "output_type": "execute_result"
    },
    {
     "data": {
      "image/png": "[encoded data removed]",
      "text/plain": [
       "<Figure size 1440x360 with 1 Axes>"
      ]
     },
     "metadata": {
      "needs_background": "light"
     },
     "output_type": "display_data"
    }
   ],
   "source": [
    "plt.figure(figsize=(20,5))\n",
    "plt.xticks(rotation=90)\n",
    "sns.barplot(x=\"Genre\",y=\"Ratings\",data=df)"
   ]
  },
  {
   "cell_type": "code",
   "execution_count": 14,
   "id": "428de596",
   "metadata": {},
   "outputs": [
    {
     "data": {
      "application/vnd.plotly.v1+json": {
       "config": {
        "plotlyServerURL": "https://plot.ly"
       },
       "data": [
        {
         "alignmentgroup": "True",
         "hovertemplate": "color=Biography, Drama, Sport            <br>index=%{x}<br>value=%{y}<extra></extra>",
         "legendgroup": "Biography, Drama, Sport            ",
         "marker": {
          "color": "#636efa",
          "pattern": {
           "shape": ""
          }
         },
         "name": "Biography, Drama, Sport            ",
         "offsetgroup": "Biography, Drama, Sport            ",
         "orientation": "v",
         "showlegend": true,
         "textposition": "auto",
         "type": "bar",
         "x": [
          0,
          2,
          100,
          102,
          200,
          202,
          300,
          302
         ],
         "xaxis": "x",
         "y": [
          8.7,
          6.7,
          8.7,
          6.7,
          8.7,
          6.7,
          8.7,
          6.7
         ],
         "yaxis": "y"
        },
        {
         "alignmentgroup": "True",
         "hovertemplate": "color=Action, Drama, War            <br>index=%{x}<br>value=%{y}<extra></extra>",
         "legendgroup": "Action, Drama, War            ",
         "marker": {
          "color": "#EF553B",
          "pattern": {
           "shape": ""
          }
         },
         "name": "Action, Drama, War            ",
         "offsetgroup": "Action, Drama, War            ",
         "orientation": "v",
         "showlegend": true,
         "textposition": "auto",
         "type": "bar",
         "x": [
          1,
          101,
          201,
          301
         ],
         "xaxis": "x",
         "y": [
          7.2,
          7.2,
          7.2,
          7.2
         ],
         "yaxis": "y"
        },
        {
         "alignmentgroup": "True",
         "hovertemplate": "color=Drama            <br>index=%{x}<br>value=%{y}<extra></extra>",
         "legendgroup": "Drama            ",
         "marker": {
          "color": "#00cc96",
          "pattern": {
           "shape": ""
          }
         },
         "name": "Drama            ",
         "offsetgroup": "Drama            ",
         "orientation": "v",
         "showlegend": true,
         "textposition": "auto",
         "type": "bar",
         "x": [
          3,
          5,
          33,
          34,
          52,
          77,
          83,
          90,
          92,
          103,
          105,
          133,
          134,
          152,
          177,
          183,
          190,
          192,
          203,
          205,
          233,
          234,
          252,
          277,
          283,
          290,
          292,
          303,
          305,
          333,
          334,
          352,
          377,
          383,
          390,
          392
         ],
         "xaxis": "x",
         "y": [
          8.5,
          6.4,
          7.4,
          8.2,
          8.1,
          8.1,
          8.8,
          7.6,
          7.2,
          8.5,
          6.4,
          7.4,
          8.2,
          8.1,
          8.1,
          8.8,
          7.6,
          7.2,
          8.5,
          6.4,
          7.4,
          8.2,
          8.1,
          8.1,
          8.8,
          7.6,
          7.2,
          8.5,
          6.4,
          7.4,
          8.2,
          8.1,
          8.1,
          8.8,
          7.6,
          7.2
         ],
         "yaxis": "y"
        },
        {
         "alignmentgroup": "True",
         "hovertemplate": "color=Crime, Drama            <br>index=%{x}<br>value=%{y}<extra></extra>",
         "legendgroup": "Crime, Drama            ",
         "marker": {
          "color": "#ab63fa",
          "pattern": {
           "shape": ""
          }
         },
         "name": "Crime, Drama            ",
         "offsetgroup": "Crime, Drama            ",
         "orientation": "v",
         "showlegend": true,
         "textposition": "auto",
         "type": "bar",
         "x": [
          4,
          82,
          104,
          182,
          204,
          282,
          304,
          382
         ],
         "xaxis": "x",
         "y": [
          8.4,
          8.2,
          8.4,
          8.2,
          8.4,
          8.2,
          8.4,
          8.2
         ],
         "yaxis": "y"
        },
        {
         "alignmentgroup": "True",
         "hovertemplate": "color=Horror, Thriller            <br>index=%{x}<br>value=%{y}<extra></extra>",
         "legendgroup": "Horror, Thriller            ",
         "marker": {
          "color": "#FFA15A",
          "pattern": {
           "shape": ""
          }
         },
         "name": "Horror, Thriller            ",
         "offsetgroup": "Horror, Thriller            ",
         "orientation": "v",
         "showlegend": true,
         "textposition": "auto",
         "type": "bar",
         "x": [
          6,
          13,
          44,
          106,
          113,
          144,
          206,
          213,
          244,
          306,
          313,
          344
         ],
         "xaxis": "x",
         "y": [
          7,
          8.1,
          7.5,
          7,
          8.1,
          7.5,
          7,
          8.1,
          7.5,
          7,
          8.1,
          7.5
         ],
         "yaxis": "y"
        },
        {
         "alignmentgroup": "True",
         "hovertemplate": "color=Comedy, Romance            <br>index=%{x}<br>value=%{y}<extra></extra>",
         "legendgroup": "Comedy, Romance            ",
         "marker": {
          "color": "#19d3f3",
          "pattern": {
           "shape": ""
          }
         },
         "name": "Comedy, Romance            ",
         "offsetgroup": "Comedy, Romance            ",
         "orientation": "v",
         "showlegend": true,
         "textposition": "auto",
         "type": "bar",
         "x": [
          7,
          80,
          107,
          180,
          207,
          280,
          307,
          380
         ],
         "xaxis": "x",
         "y": [
          8.3,
          7.5,
          8.3,
          7.5,
          8.3,
          7.5,
          8.3,
          7.5
         ],
         "yaxis": "y"
        },
        {
         "alignmentgroup": "True",
         "hovertemplate": "color=Drama, Mystery, Sci-Fi            <br>index=%{x}<br>value=%{y}<extra></extra>",
         "legendgroup": "Drama, Mystery, Sci-Fi            ",
         "marker": {
          "color": "#FF6692",
          "pattern": {
           "shape": ""
          }
         },
         "name": "Drama, Mystery, Sci-Fi            ",
         "offsetgroup": "Drama, Mystery, Sci-Fi            ",
         "orientation": "v",
         "showlegend": true,
         "textposition": "auto",
         "type": "bar",
         "x": [
          8,
          108,
          208,
          308
         ],
         "xaxis": "x",
         "y": [
          8.8,
          8.8,
          8.8,
          8.8
         ],
         "yaxis": "y"
        },
        {
         "alignmentgroup": "True",
         "hovertemplate": "color=Drama, Fantasy, Romance            <br>index=%{x}<br>value=%{y}<extra></extra>",
         "legendgroup": "Drama, Fantasy, Romance            ",
         "marker": {
          "color": "#B6E880",
          "pattern": {
           "shape": ""
          }
         },
         "name": "Drama, Fantasy, Romance            ",
         "offsetgroup": "Drama, Fantasy, Romance            ",
         "orientation": "v",
         "showlegend": true,
         "textposition": "auto",
         "type": "bar",
         "x": [
          9,
          73,
          109,
          173,
          209,
          273,
          309,
          373
         ],
         "xaxis": "x",
         "y": [
          7.6,
          7.5,
          7.6,
          7.5,
          7.6,
          7.5,
          7.6,
          7.5
         ],
         "yaxis": "y"
        },
        {
         "alignmentgroup": "True",
         "hovertemplate": "color=Drama, Music, Romance            <br>index=%{x}<br>value=%{y}<extra></extra>",
         "legendgroup": "Drama, Music, Romance            ",
         "marker": {
          "color": "#FF97FF",
          "pattern": {
           "shape": ""
          }
         },
         "name": "Drama, Music, Romance            ",
         "offsetgroup": "Drama, Music, Romance            ",
         "orientation": "v",
         "showlegend": true,
         "textposition": "auto",
         "type": "bar",
         "x": [
          10,
          110,
          210,
          310
         ],
         "xaxis": "x",
         "y": [
          7.6,
          7.6,
          7.6,
          7.6
         ],
         "yaxis": "y"
        },
        {
         "alignmentgroup": "True",
         "hovertemplate": "color=Comedy, Fantasy            <br>index=%{x}<br>value=%{y}<extra></extra>",
         "legendgroup": "Comedy, Fantasy            ",
         "marker": {
          "color": "#FECB52",
          "pattern": {
           "shape": ""
          }
         },
         "name": "Comedy, Fantasy            ",
         "offsetgroup": "Comedy, Fantasy            ",
         "orientation": "v",
         "showlegend": true,
         "textposition": "auto",
         "type": "bar",
         "x": [
          11,
          111,
          211,
          311
         ],
         "xaxis": "x",
         "y": [
          7.4,
          7.4,
          7.4,
          7.4
         ],
         "yaxis": "y"
        },
        {
         "alignmentgroup": "True",
         "hovertemplate": "color=Adventure, Family, Fantasy            <br>index=%{x}<br>value=%{y}<extra></extra>",
         "legendgroup": "Adventure, Family, Fantasy            ",
         "marker": {
          "color": "#636efa",
          "pattern": {
           "shape": ""
          }
         },
         "name": "Adventure, Family, Fantasy            ",
         "offsetgroup": "Adventure, Family, Fantasy            ",
         "orientation": "v",
         "showlegend": true,
         "textposition": "auto",
         "type": "bar",
         "x": [
          12,
          63,
          112,
          163,
          212,
          263,
          312,
          363
         ],
         "xaxis": "x",
         "y": [
          9,
          7.1,
          9,
          7.1,
          9,
          7.1,
          9,
          7.1
         ],
         "yaxis": "y"
        },
        {
         "alignmentgroup": "True",
         "hovertemplate": "color=Comedy            <br>index=%{x}<br>value=%{y}<extra></extra>",
         "legendgroup": "Comedy            ",
         "marker": {
          "color": "#EF553B",
          "pattern": {
           "shape": ""
          }
         },
         "name": "Comedy            ",
         "offsetgroup": "Comedy            ",
         "orientation": "v",
         "showlegend": true,
         "textposition": "auto",
         "type": "bar",
         "x": [
          14,
          114,
          214,
          314
         ],
         "xaxis": "x",
         "y": [
          8.6,
          8.6,
          8.6,
          8.6
         ],
         "yaxis": "y"
        },
        {
         "alignmentgroup": "True",
         "hovertemplate": "color=Comedy, Horror            <br>index=%{x}<br>value=%{y}<extra></extra>",
         "legendgroup": "Comedy, Horror            ",
         "marker": {
          "color": "#00cc96",
          "pattern": {
           "shape": ""
          }
         },
         "name": "Comedy, Horror            ",
         "offsetgroup": "Comedy, Horror            ",
         "orientation": "v",
         "showlegend": true,
         "textposition": "auto",
         "type": "bar",
         "x": [
          15,
          115,
          215,
          315
         ],
         "xaxis": "x",
         "y": [
          7.9,
          7.9,
          7.9,
          7.9
         ],
         "yaxis": "y"
        },
        {
         "alignmentgroup": "True",
         "hovertemplate": "color=Drama, Romance            <br>index=%{x}<br>value=%{y}<extra></extra>",
         "legendgroup": "Drama, Romance            ",
         "marker": {
          "color": "#ab63fa",
          "pattern": {
           "shape": ""
          }
         },
         "name": "Drama, Romance            ",
         "offsetgroup": "Drama, Romance            ",
         "orientation": "v",
         "showlegend": true,
         "textposition": "auto",
         "type": "bar",
         "x": [
          16,
          116,
          216,
          316
         ],
         "xaxis": "x",
         "y": [
          7.8,
          7.8,
          7.8,
          7.8
         ],
         "yaxis": "y"
        },
        {
         "alignmentgroup": "True",
         "hovertemplate": "color=Action, Comedy, Fantasy            <br>index=%{x}<br>value=%{y}<extra></extra>",
         "legendgroup": "Action, Comedy, Fantasy            ",
         "marker": {
          "color": "#FFA15A",
          "pattern": {
           "shape": ""
          }
         },
         "name": "Action, Comedy, Fantasy            ",
         "offsetgroup": "Action, Comedy, Fantasy            ",
         "orientation": "v",
         "showlegend": true,
         "textposition": "auto",
         "type": "bar",
         "x": [
          17,
          18,
          117,
          118,
          217,
          218,
          317,
          318
         ],
         "xaxis": "x",
         "y": [
          8.4,
          7.3,
          8.4,
          7.3,
          8.4,
          7.3,
          8.4,
          7.3
         ],
         "yaxis": "y"
        },
        {
         "alignmentgroup": "True",
         "hovertemplate": "color=Comedy, Fantasy, Horror            <br>index=%{x}<br>value=%{y}<extra></extra>",
         "legendgroup": "Comedy, Fantasy, Horror            ",
         "marker": {
          "color": "#19d3f3",
          "pattern": {
           "shape": ""
          }
         },
         "name": "Comedy, Fantasy, Horror            ",
         "offsetgroup": "Comedy, Fantasy, Horror            ",
         "orientation": "v",
         "showlegend": true,
         "textposition": "auto",
         "type": "bar",
         "x": [
          19,
          119,
          219,
          319
         ],
         "xaxis": "x",
         "y": [
          7.6,
          7.6,
          7.6,
          7.6
         ],
         "yaxis": "y"
        },
        {
         "alignmentgroup": "True",
         "hovertemplate": "color=Comedy, Drama, Romance            <br>index=%{x}<br>value=%{y}<extra></extra>",
         "legendgroup": "Comedy, Drama, Romance            ",
         "marker": {
          "color": "#FF6692",
          "pattern": {
           "shape": ""
          }
         },
         "name": "Comedy, Drama, Romance            ",
         "offsetgroup": "Comedy, Drama, Romance            ",
         "orientation": "v",
         "showlegend": true,
         "textposition": "auto",
         "type": "bar",
         "x": [
          20,
          79,
          120,
          179,
          220,
          279,
          320,
          379
         ],
         "xaxis": "x",
         "y": [
          7.1,
          8.9,
          7.1,
          8.9,
          7.1,
          8.9,
          7.1,
          8.9
         ],
         "yaxis": "y"
        },
        {
         "alignmentgroup": "True",
         "hovertemplate": "color=Comedy, Sport            <br>index=%{x}<br>value=%{y}<extra></extra>",
         "legendgroup": "Comedy, Sport            ",
         "marker": {
          "color": "#B6E880",
          "pattern": {
           "shape": ""
          }
         },
         "name": "Comedy, Sport            ",
         "offsetgroup": "Comedy, Sport            ",
         "orientation": "v",
         "showlegend": true,
         "textposition": "auto",
         "type": "bar",
         "x": [
          21,
          121,
          221,
          321
         ],
         "xaxis": "x",
         "y": [
          8.2,
          8.2,
          8.2,
          8.2
         ],
         "yaxis": "y"
        },
        {
         "alignmentgroup": "True",
         "hovertemplate": "color=Action, Adventure, Comedy            <br>index=%{x}<br>value=%{y}<extra></extra>",
         "legendgroup": "Action, Adventure, Comedy            ",
         "marker": {
          "color": "#FF97FF",
          "pattern": {
           "shape": ""
          }
         },
         "name": "Action, Adventure, Comedy            ",
         "offsetgroup": "Action, Adventure, Comedy            ",
         "orientation": "v",
         "showlegend": true,
         "textposition": "auto",
         "type": "bar",
         "x": [
          22,
          47,
          62,
          122,
          147,
          162,
          222,
          247,
          262,
          322,
          347,
          362
         ],
         "xaxis": "x",
         "y": [
          7.8,
          8.4,
          7.6,
          7.8,
          8.4,
          7.6,
          7.8,
          8.4,
          7.6,
          7.8,
          8.4,
          7.6
         ],
         "yaxis": "y"
        },
        {
         "alignmentgroup": "True",
         "hovertemplate": "color=Comedy, Horror, Mystery            <br>index=%{x}<br>value=%{y}<extra></extra>",
         "legendgroup": "Comedy, Horror, Mystery            ",
         "marker": {
          "color": "#FECB52",
          "pattern": {
           "shape": ""
          }
         },
         "name": "Comedy, Horror, Mystery            ",
         "offsetgroup": "Comedy, Horror, Mystery            ",
         "orientation": "v",
         "showlegend": true,
         "textposition": "auto",
         "type": "bar",
         "x": [
          23,
          123,
          223,
          323
         ],
         "xaxis": "x",
         "y": [
          8.6,
          8.6,
          8.6,
          8.6
         ],
         "yaxis": "y"
        },
        {
         "alignmentgroup": "True",
         "hovertemplate": "color=Action, Adventure, Fantasy            <br>index=%{x}<br>value=%{y}<extra></extra>",
         "legendgroup": "Action, Adventure, Fantasy            ",
         "marker": {
          "color": "#636efa",
          "pattern": {
           "shape": ""
          }
         },
         "name": "Action, Adventure, Fantasy            ",
         "offsetgroup": "Action, Adventure, Fantasy            ",
         "orientation": "v",
         "showlegend": true,
         "textposition": "auto",
         "type": "bar",
         "x": [
          24,
          25,
          124,
          125,
          224,
          225,
          324,
          325
         ],
         "xaxis": "x",
         "y": [
          8.2,
          9,
          8.2,
          9,
          8.2,
          9,
          8.2,
          9
         ],
         "yaxis": "y"
        },
        {
         "alignmentgroup": "True",
         "hovertemplate": "color=Comedy, Music, Romance            <br>index=%{x}<br>value=%{y}<extra></extra>",
         "legendgroup": "Comedy, Music, Romance            ",
         "marker": {
          "color": "#EF553B",
          "pattern": {
           "shape": ""
          }
         },
         "name": "Comedy, Music, Romance            ",
         "offsetgroup": "Comedy, Music, Romance            ",
         "orientation": "v",
         "showlegend": true,
         "textposition": "auto",
         "type": "bar",
         "x": [
          26,
          126,
          226,
          326
         ],
         "xaxis": "x",
         "y": [
          8.4,
          8.4,
          8.4,
          8.4
         ],
         "yaxis": "y"
        },
        {
         "alignmentgroup": "True",
         "hovertemplate": "color=Action, Adventure, Sci-Fi            <br>index=%{x}<br>value=%{y}<extra></extra>",
         "legendgroup": "Action, Adventure, Sci-Fi            ",
         "marker": {
          "color": "#00cc96",
          "pattern": {
           "shape": ""
          }
         },
         "name": "Action, Adventure, Sci-Fi            ",
         "offsetgroup": "Action, Adventure, Sci-Fi            ",
         "orientation": "v",
         "showlegend": true,
         "textposition": "auto",
         "type": "bar",
         "x": [
          27,
          57,
          65,
          66,
          86,
          88,
          91,
          127,
          157,
          165,
          166,
          186,
          188,
          191,
          227,
          257,
          265,
          266,
          286,
          288,
          291,
          327,
          357,
          365,
          366,
          386,
          388,
          391
         ],
         "xaxis": "x",
         "y": [
          8.6,
          8.1,
          7.5,
          7.3,
          8,
          7.3,
          7.5,
          8.6,
          8.1,
          7.5,
          7.3,
          8,
          7.3,
          7.5,
          8.6,
          8.1,
          7.5,
          7.3,
          8,
          7.3,
          7.5,
          8.6,
          8.1,
          7.5,
          7.3,
          8,
          7.3,
          7.5
         ],
         "yaxis": "y"
        },
        {
         "alignmentgroup": "True",
         "hovertemplate": "color=Action, Drama, Horror            <br>index=%{x}<br>value=%{y}<extra></extra>",
         "legendgroup": "Action, Drama, Horror            ",
         "marker": {
          "color": "#ab63fa",
          "pattern": {
           "shape": ""
          }
         },
         "name": "Action, Drama, Horror            ",
         "offsetgroup": "Action, Drama, Horror            ",
         "orientation": "v",
         "showlegend": true,
         "textposition": "auto",
         "type": "bar",
         "x": [
          28,
          128,
          228,
          328
         ],
         "xaxis": "x",
         "y": [
          8.7,
          8.7,
          8.7,
          8.7
         ],
         "yaxis": "y"
        },
        {
         "alignmentgroup": "True",
         "hovertemplate": "color=Horror, Mystery, Thriller            <br>index=%{x}<br>value=%{y}<extra></extra>",
         "legendgroup": "Horror, Mystery, Thriller            ",
         "marker": {
          "color": "#FFA15A",
          "pattern": {
           "shape": ""
          }
         },
         "name": "Horror, Mystery, Thriller            ",
         "offsetgroup": "Horror, Mystery, Thriller            ",
         "orientation": "v",
         "showlegend": true,
         "textposition": "auto",
         "type": "bar",
         "x": [
          29,
          70,
          99,
          129,
          170,
          199,
          229,
          270,
          299,
          329,
          370,
          399
         ],
         "xaxis": "x",
         "y": [
          8.3,
          7.5,
          8,
          8.3,
          7.5,
          8,
          8.3,
          7.5,
          8,
          8.3,
          7.5,
          8
         ],
         "yaxis": "y"
        },
        {
         "alignmentgroup": "True",
         "hovertemplate": "color=Action, Adventure            <br>index=%{x}<br>value=%{y}<extra></extra>",
         "legendgroup": "Action, Adventure            ",
         "marker": {
          "color": "#19d3f3",
          "pattern": {
           "shape": ""
          }
         },
         "name": "Action, Adventure            ",
         "offsetgroup": "Action, Adventure            ",
         "orientation": "v",
         "showlegend": true,
         "textposition": "auto",
         "type": "bar",
         "x": [
          30,
          130,
          230,
          330
         ],
         "xaxis": "x",
         "y": [
          7.8,
          7.8,
          7.8,
          7.8
         ],
         "yaxis": "y"
        },
        {
         "alignmentgroup": "True",
         "hovertemplate": "color=Action, Crime, Fantasy            <br>index=%{x}<br>value=%{y}<extra></extra>",
         "legendgroup": "Action, Crime, Fantasy            ",
         "marker": {
          "color": "#FF6692",
          "pattern": {
           "shape": ""
          }
         },
         "name": "Action, Crime, Fantasy            ",
         "offsetgroup": "Action, Crime, Fantasy            ",
         "orientation": "v",
         "showlegend": true,
         "textposition": "auto",
         "type": "bar",
         "x": [
          31,
          131,
          231,
          331
         ],
         "xaxis": "x",
         "y": [
          8.5,
          8.5,
          8.5,
          8.5
         ],
         "yaxis": "y"
        },
        {
         "alignmentgroup": "True",
         "hovertemplate": "color=Action, Crime, Thriller            <br>index=%{x}<br>value=%{y}<extra></extra>",
         "legendgroup": "Action, Crime, Thriller            ",
         "marker": {
          "color": "#B6E880",
          "pattern": {
           "shape": ""
          }
         },
         "name": "Action, Crime, Thriller            ",
         "offsetgroup": "Action, Crime, Thriller            ",
         "orientation": "v",
         "showlegend": true,
         "textposition": "auto",
         "type": "bar",
         "x": [
          32,
          59,
          93,
          95,
          132,
          159,
          193,
          195,
          232,
          259,
          293,
          295,
          332,
          359,
          393,
          395
         ],
         "xaxis": "x",
         "y": [
          7.8,
          7.6,
          8.5,
          8.2,
          7.8,
          7.6,
          8.5,
          8.2,
          7.8,
          7.6,
          8.5,
          8.2,
          7.8,
          7.6,
          8.5,
          8.2
         ],
         "yaxis": "y"
        },
        {
         "alignmentgroup": "True",
         "hovertemplate": "color=Comedy, Drama            <br>index=%{x}<br>value=%{y}<extra></extra>",
         "legendgroup": "Comedy, Drama            ",
         "marker": {
          "color": "#FF97FF",
          "pattern": {
           "shape": ""
          }
         },
         "name": "Comedy, Drama            ",
         "offsetgroup": "Comedy, Drama            ",
         "orientation": "v",
         "showlegend": true,
         "textposition": "auto",
         "type": "bar",
         "x": [
          35,
          64,
          78,
          135,
          164,
          178,
          235,
          264,
          278,
          335,
          364,
          378
         ],
         "xaxis": "x",
         "y": [
          7.7,
          8.2,
          8.8,
          7.7,
          8.2,
          8.8,
          7.7,
          8.2,
          8.8,
          7.7,
          8.2,
          8.8
         ],
         "yaxis": "y"
        },
        {
         "alignmentgroup": "True",
         "hovertemplate": "color=Action, Adventure, Drama            <br>index=%{x}<br>value=%{y}<extra></extra>",
         "legendgroup": "Action, Adventure, Drama            ",
         "marker": {
          "color": "#FECB52",
          "pattern": {
           "shape": ""
          }
         },
         "name": "Action, Adventure, Drama            ",
         "offsetgroup": "Action, Adventure, Drama            ",
         "orientation": "v",
         "showlegend": true,
         "textposition": "auto",
         "type": "bar",
         "x": [
          36,
          89,
          136,
          189,
          236,
          289,
          336,
          389
         ],
         "xaxis": "x",
         "y": [
          8.5,
          7.2,
          8.5,
          7.2,
          8.5,
          7.2,
          8.5,
          7.2
         ],
         "yaxis": "y"
        },
        {
         "alignmentgroup": "True",
         "hovertemplate": "color=Action, Drama, Sci-Fi            <br>index=%{x}<br>value=%{y}<extra></extra>",
         "legendgroup": "Action, Drama, Sci-Fi            ",
         "marker": {
          "color": "#636efa",
          "pattern": {
           "shape": ""
          }
         },
         "name": "Action, Drama, Sci-Fi            ",
         "offsetgroup": "Action, Drama, Sci-Fi            ",
         "orientation": "v",
         "showlegend": true,
         "textposition": "auto",
         "type": "bar",
         "x": [
          37,
          137,
          237,
          337
         ],
         "xaxis": "x",
         "y": [
          9.2,
          9.2,
          9.2,
          9.2
         ],
         "yaxis": "y"
        },
        {
         "alignmentgroup": "True",
         "hovertemplate": "color=Drama, Sport            <br>index=%{x}<br>value=%{y}<extra></extra>",
         "legendgroup": "Drama, Sport            ",
         "marker": {
          "color": "#EF553B",
          "pattern": {
           "shape": ""
          }
         },
         "name": "Drama, Sport            ",
         "offsetgroup": "Drama, Sport            ",
         "orientation": "v",
         "showlegend": true,
         "textposition": "auto",
         "type": "bar",
         "x": [
          38,
          39,
          40,
          41,
          42,
          138,
          139,
          140,
          141,
          142,
          238,
          239,
          240,
          241,
          242,
          338,
          339,
          340,
          341,
          342
         ],
         "xaxis": "x",
         "y": [
          9,
          7.6,
          8.6,
          8.7,
          7.8,
          9,
          7.6,
          8.6,
          8.7,
          7.8,
          9,
          7.6,
          8.6,
          8.7,
          7.8,
          9,
          7.6,
          8.6,
          8.7,
          7.8
         ],
         "yaxis": "y"
        },
        {
         "alignmentgroup": "True",
         "hovertemplate": "color=Biography, Crime, Drama            <br>index=%{x}<br>value=%{y}<extra></extra>",
         "legendgroup": "Biography, Crime, Drama            ",
         "marker": {
          "color": "#00cc96",
          "pattern": {
           "shape": ""
          }
         },
         "name": "Biography, Crime, Drama            ",
         "offsetgroup": "Biography, Crime, Drama            ",
         "orientation": "v",
         "showlegend": true,
         "textposition": "auto",
         "type": "bar",
         "x": [
          43,
          61,
          94,
          143,
          161,
          194,
          243,
          261,
          294,
          343,
          361,
          394
         ],
         "xaxis": "x",
         "y": [
          6.2,
          8.3,
          7.7,
          6.2,
          8.3,
          7.7,
          6.2,
          8.3,
          7.7,
          6.2,
          8.3,
          7.7
         ],
         "yaxis": "y"
        },
        {
         "alignmentgroup": "True",
         "hovertemplate": "color=Action, Adventure, Family            <br>index=%{x}<br>value=%{y}<extra></extra>",
         "legendgroup": "Action, Adventure, Family            ",
         "marker": {
          "color": "#ab63fa",
          "pattern": {
           "shape": ""
          }
         },
         "name": "Action, Adventure, Family            ",
         "offsetgroup": "Action, Adventure, Family            ",
         "orientation": "v",
         "showlegend": true,
         "textposition": "auto",
         "type": "bar",
         "x": [
          45,
          145,
          245,
          345
         ],
         "xaxis": "x",
         "y": [
          8.6,
          8.6,
          8.6,
          8.6
         ],
         "yaxis": "y"
        },
        {
         "alignmentgroup": "True",
         "hovertemplate": "color=Horror, Mystery            <br>index=%{x}<br>value=%{y}<extra></extra>",
         "legendgroup": "Horror, Mystery            ",
         "marker": {
          "color": "#FFA15A",
          "pattern": {
           "shape": ""
          }
         },
         "name": "Horror, Mystery            ",
         "offsetgroup": "Horror, Mystery            ",
         "orientation": "v",
         "showlegend": true,
         "textposition": "auto",
         "type": "bar",
         "x": [
          46,
          146,
          246,
          346
         ],
         "xaxis": "x",
         "y": [
          7.8,
          7.8,
          7.8,
          7.8
         ],
         "yaxis": "y"
        },
        {
         "alignmentgroup": "True",
         "hovertemplate": "color=Crime, Drama, Thriller            <br>index=%{x}<br>value=%{y}<extra></extra>",
         "legendgroup": "Crime, Drama, Thriller            ",
         "marker": {
          "color": "#19d3f3",
          "pattern": {
           "shape": ""
          }
         },
         "name": "Crime, Drama, Thriller            ",
         "offsetgroup": "Crime, Drama, Thriller            ",
         "orientation": "v",
         "showlegend": true,
         "textposition": "auto",
         "type": "bar",
         "x": [
          48,
          50,
          97,
          148,
          150,
          197,
          248,
          250,
          297,
          348,
          350,
          397
         ],
         "xaxis": "x",
         "y": [
          8.1,
          8.2,
          8.1,
          8.1,
          8.2,
          8.1,
          8.1,
          8.2,
          8.1,
          8.1,
          8.2,
          8.1
         ],
         "yaxis": "y"
        },
        {
         "alignmentgroup": "True",
         "hovertemplate": "color=Biography, Drama, History            <br>index=%{x}<br>value=%{y}<extra></extra>",
         "legendgroup": "Biography, Drama, History            ",
         "marker": {
          "color": "#FF6692",
          "pattern": {
           "shape": ""
          }
         },
         "name": "Biography, Drama, History            ",
         "offsetgroup": "Biography, Drama, History            ",
         "orientation": "v",
         "showlegend": true,
         "textposition": "auto",
         "type": "bar",
         "x": [
          49,
          149,
          249,
          349
         ],
         "xaxis": "x",
         "y": [
          8.6,
          8.6,
          8.6,
          8.6
         ],
         "yaxis": "y"
        },
        {
         "alignmentgroup": "True",
         "hovertemplate": "color=Action, Drama, History            <br>index=%{x}<br>value=%{y}<extra></extra>",
         "legendgroup": "Action, Drama, History            ",
         "marker": {
          "color": "#B6E880",
          "pattern": {
           "shape": ""
          }
         },
         "name": "Action, Drama, History            ",
         "offsetgroup": "Action, Drama, History            ",
         "orientation": "v",
         "showlegend": true,
         "textposition": "auto",
         "type": "bar",
         "x": [
          51,
          151,
          251,
          351
         ],
         "xaxis": "x",
         "y": [
          7.7,
          7.7,
          7.7,
          7.7
         ],
         "yaxis": "y"
        },
        {
         "alignmentgroup": "True",
         "hovertemplate": "color=Crime, Drama, Mystery            <br>index=%{x}<br>value=%{y}<extra></extra>",
         "legendgroup": "Crime, Drama, Mystery            ",
         "marker": {
          "color": "#FF97FF",
          "pattern": {
           "shape": ""
          }
         },
         "name": "Crime, Drama, Mystery            ",
         "offsetgroup": "Crime, Drama, Mystery            ",
         "orientation": "v",
         "showlegend": true,
         "textposition": "auto",
         "type": "bar",
         "x": [
          53,
          76,
          153,
          176,
          253,
          276,
          353,
          376
         ],
         "xaxis": "x",
         "y": [
          7.7,
          8,
          7.7,
          8,
          7.7,
          8,
          7.7,
          8
         ],
         "yaxis": "y"
        },
        {
         "alignmentgroup": "True",
         "hovertemplate": "color=Action, Comedy, Crime            <br>index=%{x}<br>value=%{y}<extra></extra>",
         "legendgroup": "Action, Comedy, Crime            ",
         "marker": {
          "color": "#FECB52",
          "pattern": {
           "shape": ""
          }
         },
         "name": "Action, Comedy, Crime            ",
         "offsetgroup": "Action, Comedy, Crime            ",
         "orientation": "v",
         "showlegend": true,
         "textposition": "auto",
         "type": "bar",
         "x": [
          54,
          60,
          154,
          160,
          254,
          260,
          354,
          360
         ],
         "xaxis": "x",
         "y": [
          8.3,
          6.8,
          8.3,
          6.8,
          8.3,
          6.8,
          8.3,
          6.8
         ],
         "yaxis": "y"
        },
        {
         "alignmentgroup": "True",
         "hovertemplate": "color=Horror, Sci-Fi            <br>index=%{x}<br>value=%{y}<extra></extra>",
         "legendgroup": "Horror, Sci-Fi            ",
         "marker": {
          "color": "#636efa",
          "pattern": {
           "shape": ""
          }
         },
         "name": "Horror, Sci-Fi            ",
         "offsetgroup": "Horror, Sci-Fi            ",
         "orientation": "v",
         "showlegend": true,
         "textposition": "auto",
         "type": "bar",
         "x": [
          55,
          155,
          255,
          355
         ],
         "xaxis": "x",
         "y": [
          7.7,
          7.7,
          7.7,
          7.7
         ],
         "yaxis": "y"
        },
        {
         "alignmentgroup": "True",
         "hovertemplate": "color=Comedy, Crime, Drama            <br>index=%{x}<br>value=%{y}<extra></extra>",
         "legendgroup": "Comedy, Crime, Drama            ",
         "marker": {
          "color": "#EF553B",
          "pattern": {
           "shape": ""
          }
         },
         "name": "Comedy, Crime, Drama            ",
         "offsetgroup": "Comedy, Crime, Drama            ",
         "orientation": "v",
         "showlegend": true,
         "textposition": "auto",
         "type": "bar",
         "x": [
          56,
          156,
          256,
          356
         ],
         "xaxis": "x",
         "y": [
          8.2,
          8.2,
          8.2,
          8.2
         ],
         "yaxis": "y"
        },
        {
         "alignmentgroup": "True",
         "hovertemplate": "color=Mystery, Thriller            <br>index=%{x}<br>value=%{y}<extra></extra>",
         "legendgroup": "Mystery, Thriller            ",
         "marker": {
          "color": "#00cc96",
          "pattern": {
           "shape": ""
          }
         },
         "name": "Mystery, Thriller            ",
         "offsetgroup": "Mystery, Thriller            ",
         "orientation": "v",
         "showlegend": true,
         "textposition": "auto",
         "type": "bar",
         "x": [
          58,
          158,
          258,
          358
         ],
         "xaxis": "x",
         "y": [
          8.1,
          8.1,
          8.1,
          8.1
         ],
         "yaxis": "y"
        },
        {
         "alignmentgroup": "True",
         "hovertemplate": "color=Action, Drama, Fantasy            <br>index=%{x}<br>value=%{y}<extra></extra>",
         "legendgroup": "Action, Drama, Fantasy            ",
         "marker": {
          "color": "#ab63fa",
          "pattern": {
           "shape": ""
          }
         },
         "name": "Action, Drama, Fantasy            ",
         "offsetgroup": "Action, Drama, Fantasy            ",
         "orientation": "v",
         "showlegend": true,
         "textposition": "auto",
         "type": "bar",
         "x": [
          67,
          167,
          267,
          367
         ],
         "xaxis": "x",
         "y": [
          6.3,
          6.3,
          6.3,
          6.3
         ],
         "yaxis": "y"
        },
        {
         "alignmentgroup": "True",
         "hovertemplate": "color=Biography, Drama            <br>index=%{x}<br>value=%{y}<extra></extra>",
         "legendgroup": "Biography, Drama            ",
         "marker": {
          "color": "#FFA15A",
          "pattern": {
           "shape": ""
          }
         },
         "name": "Biography, Drama            ",
         "offsetgroup": "Biography, Drama            ",
         "orientation": "v",
         "showlegend": true,
         "textposition": "auto",
         "type": "bar",
         "x": [
          68,
          85,
          168,
          185,
          268,
          285,
          368,
          385
         ],
         "xaxis": "x",
         "y": [
          6.8,
          7.7,
          6.8,
          7.7,
          6.8,
          7.7,
          6.8,
          7.7
         ],
         "yaxis": "y"
        },
        {
         "alignmentgroup": "True",
         "hovertemplate": "color=Horror, Sci-Fi, Thriller            <br>index=%{x}<br>value=%{y}<extra></extra>",
         "legendgroup": "Horror, Sci-Fi, Thriller            ",
         "marker": {
          "color": "#19d3f3",
          "pattern": {
           "shape": ""
          }
         },
         "name": "Horror, Sci-Fi, Thriller            ",
         "offsetgroup": "Horror, Sci-Fi, Thriller            ",
         "orientation": "v",
         "showlegend": true,
         "textposition": "auto",
         "type": "bar",
         "x": [
          69,
          71,
          169,
          171,
          269,
          271,
          369,
          371
         ],
         "xaxis": "x",
         "y": [
          7.8,
          8.2,
          7.8,
          8.2,
          7.8,
          8.2,
          7.8,
          8.2
         ],
         "yaxis": "y"
        },
        {
         "alignmentgroup": "True",
         "hovertemplate": "color=Action, Horror, Sci-Fi            <br>index=%{x}<br>value=%{y}<extra></extra>",
         "legendgroup": "Action, Horror, Sci-Fi            ",
         "marker": {
          "color": "#FF6692",
          "pattern": {
           "shape": ""
          }
         },
         "name": "Action, Horror, Sci-Fi            ",
         "offsetgroup": "Action, Horror, Sci-Fi            ",
         "orientation": "v",
         "showlegend": true,
         "textposition": "auto",
         "type": "bar",
         "x": [
          72,
          172,
          272,
          372
         ],
         "xaxis": "x",
         "y": [
          8.4,
          8.4,
          8.4,
          8.4
         ],
         "yaxis": "y"
        },
        {
         "alignmentgroup": "True",
         "hovertemplate": "color=Action, Adventure, Biography            <br>index=%{x}<br>value=%{y}<extra></extra>",
         "legendgroup": "Action, Adventure, Biography            ",
         "marker": {
          "color": "#B6E880",
          "pattern": {
           "shape": ""
          }
         },
         "name": "Action, Adventure, Biography            ",
         "offsetgroup": "Action, Adventure, Biography            ",
         "orientation": "v",
         "showlegend": true,
         "textposition": "auto",
         "type": "bar",
         "x": [
          74,
          174,
          274,
          374
         ],
         "xaxis": "x",
         "y": [
          8.2,
          8.2,
          8.2,
          8.2
         ],
         "yaxis": "y"
        },
        {
         "alignmentgroup": "True",
         "hovertemplate": "color=Crime, Drama, Horror            <br>index=%{x}<br>value=%{y}<extra></extra>",
         "legendgroup": "Crime, Drama, Horror            ",
         "marker": {
          "color": "#FF97FF",
          "pattern": {
           "shape": ""
          }
         },
         "name": "Crime, Drama, Horror            ",
         "offsetgroup": "Crime, Drama, Horror            ",
         "orientation": "v",
         "showlegend": true,
         "textposition": "auto",
         "type": "bar",
         "x": [
          75,
          175,
          275,
          375
         ],
         "xaxis": "x",
         "y": [
          8.1,
          8.1,
          8.1,
          8.1
         ],
         "yaxis": "y"
        },
        {
         "alignmentgroup": "True",
         "hovertemplate": "color=Crime, Drama, Film-Noir            <br>index=%{x}<br>value=%{y}<extra></extra>",
         "legendgroup": "Crime, Drama, Film-Noir            ",
         "marker": {
          "color": "#FECB52",
          "pattern": {
           "shape": ""
          }
         },
         "name": "Crime, Drama, Film-Noir            ",
         "offsetgroup": "Crime, Drama, Film-Noir            ",
         "orientation": "v",
         "showlegend": true,
         "textposition": "auto",
         "type": "bar",
         "x": [
          81,
          181,
          281,
          381
         ],
         "xaxis": "x",
         "y": [
          7.6,
          7.6,
          7.6,
          7.6
         ],
         "yaxis": "y"
        },
        {
         "alignmentgroup": "True",
         "hovertemplate": "color=Action, Crime, Drama            <br>index=%{x}<br>value=%{y}<extra></extra>",
         "legendgroup": "Action, Crime, Drama            ",
         "marker": {
          "color": "#636efa",
          "pattern": {
           "shape": ""
          }
         },
         "name": "Action, Crime, Drama            ",
         "offsetgroup": "Action, Crime, Drama            ",
         "orientation": "v",
         "showlegend": true,
         "textposition": "auto",
         "type": "bar",
         "x": [
          84,
          184,
          284,
          384
         ],
         "xaxis": "x",
         "y": [
          7.4,
          7.4,
          7.4,
          7.4
         ],
         "yaxis": "y"
        },
        {
         "alignmentgroup": "True",
         "hovertemplate": "color=Adventure, Mystery, Sci-Fi            <br>index=%{x}<br>value=%{y}<extra></extra>",
         "legendgroup": "Adventure, Mystery, Sci-Fi            ",
         "marker": {
          "color": "#EF553B",
          "pattern": {
           "shape": ""
          }
         },
         "name": "Adventure, Mystery, Sci-Fi            ",
         "offsetgroup": "Adventure, Mystery, Sci-Fi            ",
         "orientation": "v",
         "showlegend": true,
         "textposition": "auto",
         "type": "bar",
         "x": [
          87,
          187,
          287,
          387
         ],
         "xaxis": "x",
         "y": [
          8.2,
          8.2,
          8.2,
          8.2
         ],
         "yaxis": "y"
        },
        {
         "alignmentgroup": "True",
         "hovertemplate": "color=Drama, War            <br>index=%{x}<br>value=%{y}<extra></extra>",
         "legendgroup": "Drama, War            ",
         "marker": {
          "color": "#00cc96",
          "pattern": {
           "shape": ""
          }
         },
         "name": "Drama, War            ",
         "offsetgroup": "Drama, War            ",
         "orientation": "v",
         "showlegend": true,
         "textposition": "auto",
         "type": "bar",
         "x": [
          96,
          196,
          296,
          396
         ],
         "xaxis": "x",
         "y": [
          8,
          8,
          8,
          8
         ],
         "yaxis": "y"
        },
        {
         "alignmentgroup": "True",
         "hovertemplate": "color=Adventure, Comedy, Drama            <br>index=%{x}<br>value=%{y}<extra></extra>",
         "legendgroup": "Adventure, Comedy, Drama            ",
         "marker": {
          "color": "#ab63fa",
          "pattern": {
           "shape": ""
          }
         },
         "name": "Adventure, Comedy, Drama            ",
         "offsetgroup": "Adventure, Comedy, Drama            ",
         "orientation": "v",
         "showlegend": true,
         "textposition": "auto",
         "type": "bar",
         "x": [
          98,
          198,
          298,
          398
         ],
         "xaxis": "x",
         "y": [
          7.2,
          7.2,
          7.2,
          7.2
         ],
         "yaxis": "y"
        }
       ],
       "layout": {
        "barmode": "relative",
        "legend": {
         "title": {
          "text": "color"
         },
         "tracegroupgap": 0
        },
        "margin": {
         "t": 60
        },
        "template": {
         "data": {
          "bar": [
           {
            "error_x": {
             "color": "#2a3f5f"
            },
            "error_y": {
             "color": "#2a3f5f"
            },
            "marker": {
             "line": {
              "color": "#E5ECF6",
              "width": 0.5
             },
             "pattern": {
              "fillmode": "overlay",
              "size": 10,
              "solidity": 0.2
             }
            },
            "type": "bar"
           }
          ],
          "barpolar": [
           {
            "marker": {
             "line": {
              "color": "#E5ECF6",
              "width": 0.5
             },
             "pattern": {
              "fillmode": "overlay",
              "size": 10,
              "solidity": 0.2
             }
            },
            "type": "barpolar"
           }
          ],
          "carpet": [
           {
            "aaxis": {
             "endlinecolor": "#2a3f5f",
             "gridcolor": "white",
             "linecolor": "white",
             "minorgridcolor": "white",
             "startlinecolor": "#2a3f5f"
            },
            "baxis": {
             "endlinecolor": "#2a3f5f",
             "gridcolor": "white",
             "linecolor": "white",
             "minorgridcolor": "white",
             "startlinecolor": "#2a3f5f"
            },
            "type": "carpet"
           }
          ],
          "choropleth": [
           {
            "colorbar": {
             "outlinewidth": 0,
             "ticks": ""
            },
            "type": "choropleth"
           }
          ],
          "contour": [
           {
            "colorbar": {
             "outlinewidth": 0,
             "ticks": ""
            },
            "colorscale": [
             [
              0,
              "#0d0887"
             ],
             [
              0.1111111111111111,
              "#46039f"
             ],
             [
              0.2222222222222222,
              "#7201a8"
             ],
             [
              0.3333333333333333,
              "#9c179e"
             ],
             [
              0.4444444444444444,
              "#bd3786"
             ],
             [
              0.5555555555555556,
              "#d8576b"
             ],
             [
              0.6666666666666666,
              "#ed7953"
             ],
             [
              0.7777777777777778,
              "#fb9f3a"
             ],
             [
              0.8888888888888888,
              "#fdca26"
             ],
             [
              1,
              "#f0f921"
             ]
            ],
            "type": "contour"
           }
          ],
          "contourcarpet": [
           {
            "colorbar": {
             "outlinewidth": 0,
             "ticks": ""
            },
            "type": "contourcarpet"
           }
          ],
          "heatmap": [
           {
            "colorbar": {
             "outlinewidth": 0,
             "ticks": ""
            },
            "colorscale": [
             [
              0,
              "#0d0887"
             ],
             [
              0.1111111111111111,
              "#46039f"
             ],
             [
              0.2222222222222222,
              "#7201a8"
             ],
             [
              0.3333333333333333,
              "#9c179e"
             ],
             [
              0.4444444444444444,
              "#bd3786"
             ],
             [
              0.5555555555555556,
              "#d8576b"
             ],
             [
              0.6666666666666666,
              "#ed7953"
             ],
             [
              0.7777777777777778,
              "#fb9f3a"
             ],
             [
              0.8888888888888888,
              "#fdca26"
             ],
             [
              1,
              "#f0f921"
             ]
            ],
            "type": "heatmap"
           }
          ],
          "heatmapgl": [
           {
            "colorbar": {
             "outlinewidth": 0,
             "ticks": ""
            },
            "colorscale": [
             [
              0,
              "#0d0887"
             ],
             [
              0.1111111111111111,
              "#46039f"
             ],
             [
              0.2222222222222222,
              "#7201a8"
             ],
             [
              0.3333333333333333,
              "#9c179e"
             ],
             [
              0.4444444444444444,
              "#bd3786"
             ],
             [
              0.5555555555555556,
              "#d8576b"
             ],
             [
              0.6666666666666666,
              "#ed7953"
             ],
             [
              0.7777777777777778,
              "#fb9f3a"
             ],
             [
              0.8888888888888888,
              "#fdca26"
             ],
             [
              1,
              "#f0f921"
             ]
            ],
            "type": "heatmapgl"
           }
          ],
          "histogram": [
           {
            "marker": {
             "pattern": {
              "fillmode": "overlay",
              "size": 10,
              "solidity": 0.2
             }
            },
            "type": "histogram"
           }
          ],
          "histogram2d": [
           {
            "colorbar": {
             "outlinewidth": 0,
             "ticks": ""
            },
            "colorscale": [
             [
              0,
              "#0d0887"
             ],
             [
              0.1111111111111111,
              "#46039f"
             ],
             [
              0.2222222222222222,
              "#7201a8"
             ],
             [
              0.3333333333333333,
              "#9c179e"
             ],
             [
              0.4444444444444444,
              "#bd3786"
             ],
             [
              0.5555555555555556,
              "#d8576b"
             ],
             [
              0.6666666666666666,
              "#ed7953"
             ],
             [
              0.7777777777777778,
              "#fb9f3a"
             ],
             [
              0.8888888888888888,
              "#fdca26"
             ],
             [
              1,
              "#f0f921"
             ]
            ],
            "type": "histogram2d"
           }
          ],
          "histogram2dcontour": [
           {
            "colorbar": {
             "outlinewidth": 0,
             "ticks": ""
            },
            "colorscale": [
             [
              0,
              "#0d0887"
             ],
             [
              0.1111111111111111,
              "#46039f"
             ],
             [
              0.2222222222222222,
              "#7201a8"
             ],
             [
              0.3333333333333333,
              "#9c179e"
             ],
             [
              0.4444444444444444,
              "#bd3786"
             ],
             [
              0.5555555555555556,
              "#d8576b"
             ],
             [
              0.6666666666666666,
              "#ed7953"
             ],
             [
              0.7777777777777778,
              "#fb9f3a"
             ],
             [
              0.8888888888888888,
              "#fdca26"
             ],
             [
              1,
              "#f0f921"
             ]
            ],
            "type": "histogram2dcontour"
           }
          ],
          "mesh3d": [
           {
            "colorbar": {
             "outlinewidth": 0,
             "ticks": ""
            },
            "type": "mesh3d"
           }
          ],
          "parcoords": [
           {
            "line": {
             "colorbar": {
              "outlinewidth": 0,
              "ticks": ""
             }
            },
            "type": "parcoords"
           }
          ],
          "pie": [
           {
            "automargin": true,
            "type": "pie"
           }
          ],
          "scatter": [
           {
            "fillpattern": {
             "fillmode": "overlay",
             "size": 10,
             "solidity": 0.2
            },
            "type": "scatter"
           }
          ],
          "scatter3d": [
           {
            "line": {
             "colorbar": {
              "outlinewidth": 0,
              "ticks": ""
             }
            },
            "marker": {
             "colorbar": {
              "outlinewidth": 0,
              "ticks": ""
             }
            },
            "type": "scatter3d"
           }
          ],
          "scattercarpet": [
           {
            "marker": {
             "colorbar": {
              "outlinewidth": 0,
              "ticks": ""
             }
            },
            "type": "scattercarpet"
           }
          ],
          "scattergeo": [
           {
            "marker": {
             "colorbar": {
              "outlinewidth": 0,
              "ticks": ""
             }
            },
            "type": "scattergeo"
           }
          ],
          "scattergl": [
           {
            "marker": {
             "colorbar": {
              "outlinewidth": 0,
              "ticks": ""
             }
            },
            "type": "scattergl"
           }
          ],
          "scattermapbox": [
           {
            "marker": {
             "colorbar": {
              "outlinewidth": 0,
              "ticks": ""
             }
            },
            "type": "scattermapbox"
           }
          ],
          "scatterpolar": [
           {
            "marker": {
             "colorbar": {
              "outlinewidth": 0,
              "ticks": ""
             }
            },
            "type": "scatterpolar"
           }
          ],
          "scatterpolargl": [
           {
            "marker": {
             "colorbar": {
              "outlinewidth": 0,
              "ticks": ""
             }
            },
            "type": "scatterpolargl"
           }
          ],
          "scatterternary": [
           {
            "marker": {
             "colorbar": {
              "outlinewidth": 0,
              "ticks": ""
             }
            },
            "type": "scatterternary"
           }
          ],
          "surface": [
           {
            "colorbar": {
             "outlinewidth": 0,
             "ticks": ""
            },
            "colorscale": [
             [
              0,
              "#0d0887"
             ],
             [
              0.1111111111111111,
              "#46039f"
             ],
             [
              0.2222222222222222,
              "#7201a8"
             ],
             [
              0.3333333333333333,
              "#9c179e"
             ],
             [
              0.4444444444444444,
              "#bd3786"
             ],
             [
              0.5555555555555556,
              "#d8576b"
             ],
             [
              0.6666666666666666,
              "#ed7953"
             ],
             [
              0.7777777777777778,
              "#fb9f3a"
             ],
             [
              0.8888888888888888,
              "#fdca26"
             ],
             [
              1,
              "#f0f921"
             ]
            ],
            "type": "surface"
           }
          ],
          "table": [
           {
            "cells": {
             "fill": {
              "color": "#EBF0F8"
             },
             "line": {
              "color": "white"
             }
            },
            "header": {
             "fill": {
              "color": "#C8D4E3"
             },
             "line": {
              "color": "white"
             }
            },
            "type": "table"
           }
          ]
         },
         "layout": {
          "annotationdefaults": {
           "arrowcolor": "#2a3f5f",
           "arrowhead": 0,
           "arrowwidth": 1
          },
          "autotypenumbers": "strict",
          "coloraxis": {
           "colorbar": {
            "outlinewidth": 0,
            "ticks": ""
           }
          },
          "colorscale": {
           "diverging": [
            [
             0,
             "#8e0152"
            ],
            [
             0.1,
             "#c51b7d"
            ],
            [
             0.2,
             "#de77ae"
            ],
            [
             0.3,
             "#f1b6da"
            ],
            [
             0.4,
             "#fde0ef"
            ],
            [
             0.5,
             "#f7f7f7"
            ],
            [
             0.6,
             "#e6f5d0"
            ],
            [
             0.7,
             "#b8e186"
            ],
            [
             0.8,
             "#7fbc41"
            ],
            [
             0.9,
             "#4d9221"
            ],
            [
             1,
             "#276419"
            ]
           ],
           "sequential": [
            [
             0,
             "#0d0887"
            ],
            [
             0.1111111111111111,
             "#46039f"
            ],
            [
             0.2222222222222222,
             "#7201a8"
            ],
            [
             0.3333333333333333,
             "#9c179e"
            ],
            [
             0.4444444444444444,
             "#bd3786"
            ],
            [
             0.5555555555555556,
             "#d8576b"
            ],
            [
             0.6666666666666666,
             "#ed7953"
            ],
            [
             0.7777777777777778,
             "#fb9f3a"
            ],
            [
             0.8888888888888888,
             "#fdca26"
            ],
            [
             1,
             "#f0f921"
            ]
           ],
           "sequentialminus": [
            [
             0,
             "#0d0887"
            ],
            [
             0.1111111111111111,
             "#46039f"
            ],
            [
             0.2222222222222222,
             "#7201a8"
            ],
            [
             0.3333333333333333,
             "#9c179e"
            ],
            [
             0.4444444444444444,
             "#bd3786"
            ],
            [
             0.5555555555555556,
             "#d8576b"
            ],
            [
             0.6666666666666666,
             "#ed7953"
            ],
            [
             0.7777777777777778,
             "#fb9f3a"
            ],
            [
             0.8888888888888888,
             "#fdca26"
            ],
            [
             1,
             "#f0f921"
            ]
           ]
          },
          "colorway": [
           "#636efa",
           "#EF553B",
           "#00cc96",
           "#ab63fa",
           "#FFA15A",
           "#19d3f3",
           "#FF6692",
           "#B6E880",
           "#FF97FF",
           "#FECB52"
          ],
          "font": {
           "color": "#2a3f5f"
          },
          "geo": {
           "bgcolor": "white",
           "lakecolor": "white",
           "landcolor": "#E5ECF6",
           "showlakes": true,
           "showland": true,
           "subunitcolor": "white"
          },
          "hoverlabel": {
           "align": "left"
          },
          "hovermode": "closest",
          "mapbox": {
           "style": "light"
          },
          "paper_bgcolor": "white",
          "plot_bgcolor": "#E5ECF6",
          "polar": {
           "angularaxis": {
            "gridcolor": "white",
            "linecolor": "white",
            "ticks": ""
           },
           "bgcolor": "#E5ECF6",
           "radialaxis": {
            "gridcolor": "white",
            "linecolor": "white",
            "ticks": ""
           }
          },
          "scene": {
           "xaxis": {
            "backgroundcolor": "#E5ECF6",
            "gridcolor": "white",
            "gridwidth": 2,
            "linecolor": "white",
            "showbackground": true,
            "ticks": "",
            "zerolinecolor": "white"
           },
           "yaxis": {
            "backgroundcolor": "#E5ECF6",
            "gridcolor": "white",
            "gridwidth": 2,
            "linecolor": "white",
            "showbackground": true,
            "ticks": "",
            "zerolinecolor": "white"
           },
           "zaxis": {
            "backgroundcolor": "#E5ECF6",
            "gridcolor": "white",
            "gridwidth": 2,
            "linecolor": "white",
            "showbackground": true,
            "ticks": "",
            "zerolinecolor": "white"
           }
          },
          "shapedefaults": {
           "line": {
            "color": "#2a3f5f"
           }
          },
          "ternary": {
           "aaxis": {
            "gridcolor": "white",
            "linecolor": "white",
            "ticks": ""
           },
           "baxis": {
            "gridcolor": "white",
            "linecolor": "white",
            "ticks": ""
           },
           "bgcolor": "#E5ECF6",
           "caxis": {
            "gridcolor": "white",
            "linecolor": "white",
            "ticks": ""
           }
          },
          "title": {
           "x": 0.05
          },
          "xaxis": {
           "automargin": true,
           "gridcolor": "white",
           "linecolor": "white",
           "ticks": "",
           "title": {
            "standoff": 15
           },
           "zerolinecolor": "white",
           "zerolinewidth": 2
          },
          "yaxis": {
           "automargin": true,
           "gridcolor": "white",
           "linecolor": "white",
           "ticks": "",
           "title": {
            "standoff": 15
           },
           "zerolinecolor": "white",
           "zerolinewidth": 2
          }
         }
        },
        "xaxis": {
         "anchor": "y",
         "categoryorder": "sum descending",
         "domain": [
          0,
          1
         ],
         "title": {
          "text": "index"
         }
        },
        "yaxis": {
         "anchor": "x",
         "domain": [
          0,
          1
         ],
         "title": {
          "text": "value"
         }
        }
       }
      },
      "text/html": [
       "<div>                            <div id=\"9537e55a-c2b2-4c59-9df8-1acdc515e685\" class=\"plotly-graph-div\" style=\"height:525px; width:100%;\"></div>            <script type=\"text/javascript\">                require([\"plotly\"], function(Plotly) {                    window.PLOTLYENV=window.PLOTLYENV || {};                                    if (document.getElementById(\"9537e55a-c2b2-4c59-9df8-1acdc515e685\")) {                    Plotly.newPlot(                        \"9537e55a-c2b2-4c59-9df8-1acdc515e685\",                        [{\"alignmentgroup\":\"True\",\"hovertemplate\":\"color=Biography, Drama, Sport            <br>index=%{x}<br>value=%{y}<extra></extra>\",\"legendgroup\":\"Biography, Drama, Sport            \",\"marker\":{\"color\":\"#636efa\",\"pattern\":{\"shape\":\"\"}},\"name\":\"Biography, Drama, Sport            \",\"offsetgroup\":\"Biography, Drama, Sport            \",\"orientation\":\"v\",\"showlegend\":true,\"textposition\":\"auto\",\"x\":[0,2,100,102,200,202,300,302],\"xaxis\":\"x\",\"y\":[8.7,6.7,8.7,6.7,8.7,6.7,8.7,6.7],\"yaxis\":\"y\",\"type\":\"bar\"},{\"alignmentgroup\":\"True\",\"hovertemplate\":\"color=Action, Drama, War            <br>index=%{x}<br>value=%{y}<extra></extra>\",\"legendgroup\":\"Action, Drama, War            \",\"marker\":{\"color\":\"#EF553B\",\"pattern\":{\"shape\":\"\"}},\"name\":\"Action, Drama, War            \",\"offsetgroup\":\"Action, Drama, War            \",\"orientation\":\"v\",\"showlegend\":true,\"textposition\":\"auto\",\"x\":[1,101,201,301],\"xaxis\":\"x\",\"y\":[7.2,7.2,7.2,7.2],\"yaxis\":\"y\",\"type\":\"bar\"},{\"alignmentgroup\":\"True\",\"hovertemplate\":\"color=Drama            <br>index=%{x}<br>value=%{y}<extra></extra>\",\"legendgroup\":\"Drama            \",\"marker\":{\"color\":\"#00cc96\",\"pattern\":{\"shape\":\"\"}},\"name\":\"Drama            \",\"offsetgroup\":\"Drama            \",\"orientation\":\"v\",\"showlegend\":true,\"textposition\":\"auto\",\"x\":[3,5,33,34,52,77,83,90,92,103,105,133,134,152,177,183,190,192,203,205,233,234,252,277,283,290,292,303,305,333,334,352,377,383,390,392],\"xaxis\":\"x\",\"y\":[8.5,6.4,7.4,8.2,8.1,8.1,8.8,7.6,7.2,8.5,6.4,7.4,8.2,8.1,8.1,8.8,7.6,7.2,8.5,6.4,7.4,8.2,8.1,8.1,8.8,7.6,7.2,8.5,6.4,7.4,8.2,8.1,8.1,8.8,7.6,7.2],\"yaxis\":\"y\",\"type\":\"bar\"},{\"alignmentgroup\":\"True\",\"hovertemplate\":\"color=Crime, Drama            <br>index=%{x}<br>value=%{y}<extra></extra>\",\"legendgroup\":\"Crime, Drama            \",\"marker\":{\"color\":\"#ab63fa\",\"pattern\":{\"shape\":\"\"}},\"name\":\"Crime, Drama            \",\"offsetgroup\":\"Crime, Drama            \",\"orientation\":\"v\",\"showlegend\":true,\"textposition\":\"auto\",\"x\":[4,82,104,182,204,282,304,382],\"xaxis\":\"x\",\"y\":[8.4,8.2,8.4,8.2,8.4,8.2,8.4,8.2],\"yaxis\":\"y\",\"type\":\"bar\"},{\"alignmentgroup\":\"True\",\"hovertemplate\":\"color=Horror, Thriller            <br>index=%{x}<br>value=%{y}<extra></extra>\",\"legendgroup\":\"Horror, Thriller            \",\"marker\":{\"color\":\"#FFA15A\",\"pattern\":{\"shape\":\"\"}},\"name\":\"Horror, Thriller            \",\"offsetgroup\":\"Horror, Thriller            \",\"orientation\":\"v\",\"showlegend\":true,\"textposition\":\"auto\",\"x\":[6,13,44,106,113,144,206,213,244,306,313,344],\"xaxis\":\"x\",\"y\":[7.0,8.1,7.5,7.0,8.1,7.5,7.0,8.1,7.5,7.0,8.1,7.5],\"yaxis\":\"y\",\"type\":\"bar\"},{\"alignmentgroup\":\"True\",\"hovertemplate\":\"color=Comedy, Romance            <br>index=%{x}<br>value=%{y}<extra></extra>\",\"legendgroup\":\"Comedy, Romance            \",\"marker\":{\"color\":\"#19d3f3\",\"pattern\":{\"shape\":\"\"}},\"name\":\"Comedy, Romance            \",\"offsetgroup\":\"Comedy, Romance            \",\"orientation\":\"v\",\"showlegend\":true,\"textposition\":\"auto\",\"x\":[7,80,107,180,207,280,307,380],\"xaxis\":\"x\",\"y\":[8.3,7.5,8.3,7.5,8.3,7.5,8.3,7.5],\"yaxis\":\"y\",\"type\":\"bar\"},{\"alignmentgroup\":\"True\",\"hovertemplate\":\"color=Drama, Mystery, Sci-Fi            <br>index=%{x}<br>value=%{y}<extra></extra>\",\"legendgroup\":\"Drama, Mystery, Sci-Fi            \",\"marker\":{\"color\":\"#FF6692\",\"pattern\":{\"shape\":\"\"}},\"name\":\"Drama, Mystery, Sci-Fi            \",\"offsetgroup\":\"Drama, Mystery, Sci-Fi            \",\"orientation\":\"v\",\"showlegend\":true,\"textposition\":\"auto\",\"x\":[8,108,208,308],\"xaxis\":\"x\",\"y\":[8.8,8.8,8.8,8.8],\"yaxis\":\"y\",\"type\":\"bar\"},{\"alignmentgroup\":\"True\",\"hovertemplate\":\"color=Drama, Fantasy, Romance            <br>index=%{x}<br>value=%{y}<extra></extra>\",\"legendgroup\":\"Drama, Fantasy, Romance            \",\"marker\":{\"color\":\"#B6E880\",\"pattern\":{\"shape\":\"\"}},\"name\":\"Drama, Fantasy, Romance            \",\"offsetgroup\":\"Drama, Fantasy, Romance            \",\"orientation\":\"v\",\"showlegend\":true,\"textposition\":\"auto\",\"x\":[9,73,109,173,209,273,309,373],\"xaxis\":\"x\",\"y\":[7.6,7.5,7.6,7.5,7.6,7.5,7.6,7.5],\"yaxis\":\"y\",\"type\":\"bar\"},{\"alignmentgroup\":\"True\",\"hovertemplate\":\"color=Drama, Music, Romance            <br>index=%{x}<br>value=%{y}<extra></extra>\",\"legendgroup\":\"Drama, Music, Romance            \",\"marker\":{\"color\":\"#FF97FF\",\"pattern\":{\"shape\":\"\"}},\"name\":\"Drama, Music, Romance            \",\"offsetgroup\":\"Drama, Music, Romance            \",\"orientation\":\"v\",\"showlegend\":true,\"textposition\":\"auto\",\"x\":[10,110,210,310],\"xaxis\":\"x\",\"y\":[7.6,7.6,7.6,7.6],\"yaxis\":\"y\",\"type\":\"bar\"},{\"alignmentgroup\":\"True\",\"hovertemplate\":\"color=Comedy, Fantasy            <br>index=%{x}<br>value=%{y}<extra></extra>\",\"legendgroup\":\"Comedy, Fantasy            \",\"marker\":{\"color\":\"#FECB52\",\"pattern\":{\"shape\":\"\"}},\"name\":\"Comedy, Fantasy            \",\"offsetgroup\":\"Comedy, Fantasy            \",\"orientation\":\"v\",\"showlegend\":true,\"textposition\":\"auto\",\"x\":[11,111,211,311],\"xaxis\":\"x\",\"y\":[7.4,7.4,7.4,7.4],\"yaxis\":\"y\",\"type\":\"bar\"},{\"alignmentgroup\":\"True\",\"hovertemplate\":\"color=Adventure, Family, Fantasy            <br>index=%{x}<br>value=%{y}<extra></extra>\",\"legendgroup\":\"Adventure, Family, Fantasy            \",\"marker\":{\"color\":\"#636efa\",\"pattern\":{\"shape\":\"\"}},\"name\":\"Adventure, Family, Fantasy            \",\"offsetgroup\":\"Adventure, Family, Fantasy            \",\"orientation\":\"v\",\"showlegend\":true,\"textposition\":\"auto\",\"x\":[12,63,112,163,212,263,312,363],\"xaxis\":\"x\",\"y\":[9.0,7.1,9.0,7.1,9.0,7.1,9.0,7.1],\"yaxis\":\"y\",\"type\":\"bar\"},{\"alignmentgroup\":\"True\",\"hovertemplate\":\"color=Comedy            <br>index=%{x}<br>value=%{y}<extra></extra>\",\"legendgroup\":\"Comedy            \",\"marker\":{\"color\":\"#EF553B\",\"pattern\":{\"shape\":\"\"}},\"name\":\"Comedy            \",\"offsetgroup\":\"Comedy            \",\"orientation\":\"v\",\"showlegend\":true,\"textposition\":\"auto\",\"x\":[14,114,214,314],\"xaxis\":\"x\",\"y\":[8.6,8.6,8.6,8.6],\"yaxis\":\"y\",\"type\":\"bar\"},{\"alignmentgroup\":\"True\",\"hovertemplate\":\"color=Comedy, Horror            <br>index=%{x}<br>value=%{y}<extra></extra>\",\"legendgroup\":\"Comedy, Horror            \",\"marker\":{\"color\":\"#00cc96\",\"pattern\":{\"shape\":\"\"}},\"name\":\"Comedy, Horror            \",\"offsetgroup\":\"Comedy, Horror            \",\"orientation\":\"v\",\"showlegend\":true,\"textposition\":\"auto\",\"x\":[15,115,215,315],\"xaxis\":\"x\",\"y\":[7.9,7.9,7.9,7.9],\"yaxis\":\"y\",\"type\":\"bar\"},{\"alignmentgroup\":\"True\",\"hovertemplate\":\"color=Drama, Romance            <br>index=%{x}<br>value=%{y}<extra></extra>\",\"legendgroup\":\"Drama, Romance            \",\"marker\":{\"color\":\"#ab63fa\",\"pattern\":{\"shape\":\"\"}},\"name\":\"Drama, Romance            \",\"offsetgroup\":\"Drama, Romance            \",\"orientation\":\"v\",\"showlegend\":true,\"textposition\":\"auto\",\"x\":[16,116,216,316],\"xaxis\":\"x\",\"y\":[7.8,7.8,7.8,7.8],\"yaxis\":\"y\",\"type\":\"bar\"},{\"alignmentgroup\":\"True\",\"hovertemplate\":\"color=Action, Comedy, Fantasy            <br>index=%{x}<br>value=%{y}<extra></extra>\",\"legendgroup\":\"Action, Comedy, Fantasy            \",\"marker\":{\"color\":\"#FFA15A\",\"pattern\":{\"shape\":\"\"}},\"name\":\"Action, Comedy, Fantasy            \",\"offsetgroup\":\"Action, Comedy, Fantasy            \",\"orientation\":\"v\",\"showlegend\":true,\"textposition\":\"auto\",\"x\":[17,18,117,118,217,218,317,318],\"xaxis\":\"x\",\"y\":[8.4,7.3,8.4,7.3,8.4,7.3,8.4,7.3],\"yaxis\":\"y\",\"type\":\"bar\"},{\"alignmentgroup\":\"True\",\"hovertemplate\":\"color=Comedy, Fantasy, Horror            <br>index=%{x}<br>value=%{y}<extra></extra>\",\"legendgroup\":\"Comedy, Fantasy, Horror            \",\"marker\":{\"color\":\"#19d3f3\",\"pattern\":{\"shape\":\"\"}},\"name\":\"Comedy, Fantasy, Horror            \",\"offsetgroup\":\"Comedy, Fantasy, Horror            \",\"orientation\":\"v\",\"showlegend\":true,\"textposition\":\"auto\",\"x\":[19,119,219,319],\"xaxis\":\"x\",\"y\":[7.6,7.6,7.6,7.6],\"yaxis\":\"y\",\"type\":\"bar\"},{\"alignmentgroup\":\"True\",\"hovertemplate\":\"color=Comedy, Drama, Romance            <br>index=%{x}<br>value=%{y}<extra></extra>\",\"legendgroup\":\"Comedy, Drama, Romance            \",\"marker\":{\"color\":\"#FF6692\",\"pattern\":{\"shape\":\"\"}},\"name\":\"Comedy, Drama, Romance            \",\"offsetgroup\":\"Comedy, Drama, Romance            \",\"orientation\":\"v\",\"showlegend\":true,\"textposition\":\"auto\",\"x\":[20,79,120,179,220,279,320,379],\"xaxis\":\"x\",\"y\":[7.1,8.9,7.1,8.9,7.1,8.9,7.1,8.9],\"yaxis\":\"y\",\"type\":\"bar\"},{\"alignmentgroup\":\"True\",\"hovertemplate\":\"color=Comedy, Sport            <br>index=%{x}<br>value=%{y}<extra></extra>\",\"legendgroup\":\"Comedy, Sport            \",\"marker\":{\"color\":\"#B6E880\",\"pattern\":{\"shape\":\"\"}},\"name\":\"Comedy, Sport            \",\"offsetgroup\":\"Comedy, Sport            \",\"orientation\":\"v\",\"showlegend\":true,\"textposition\":\"auto\",\"x\":[21,121,221,321],\"xaxis\":\"x\",\"y\":[8.2,8.2,8.2,8.2],\"yaxis\":\"y\",\"type\":\"bar\"},{\"alignmentgroup\":\"True\",\"hovertemplate\":\"color=Action, Adventure, Comedy            <br>index=%{x}<br>value=%{y}<extra></extra>\",\"legendgroup\":\"Action, Adventure, Comedy            \",\"marker\":{\"color\":\"#FF97FF\",\"pattern\":{\"shape\":\"\"}},\"name\":\"Action, Adventure, Comedy            \",\"offsetgroup\":\"Action, Adventure, Comedy            \",\"orientation\":\"v\",\"showlegend\":true,\"textposition\":\"auto\",\"x\":[22,47,62,122,147,162,222,247,262,322,347,362],\"xaxis\":\"x\",\"y\":[7.8,8.4,7.6,7.8,8.4,7.6,7.8,8.4,7.6,7.8,8.4,7.6],\"yaxis\":\"y\",\"type\":\"bar\"},{\"alignmentgroup\":\"True\",\"hovertemplate\":\"color=Comedy, Horror, Mystery            <br>index=%{x}<br>value=%{y}<extra></extra>\",\"legendgroup\":\"Comedy, Horror, Mystery            \",\"marker\":{\"color\":\"#FECB52\",\"pattern\":{\"shape\":\"\"}},\"name\":\"Comedy, Horror, Mystery            \",\"offsetgroup\":\"Comedy, Horror, Mystery            \",\"orientation\":\"v\",\"showlegend\":true,\"textposition\":\"auto\",\"x\":[23,123,223,323],\"xaxis\":\"x\",\"y\":[8.6,8.6,8.6,8.6],\"yaxis\":\"y\",\"type\":\"bar\"},{\"alignmentgroup\":\"True\",\"hovertemplate\":\"color=Action, Adventure, Fantasy            <br>index=%{x}<br>value=%{y}<extra></extra>\",\"legendgroup\":\"Action, Adventure, Fantasy            \",\"marker\":{\"color\":\"#636efa\",\"pattern\":{\"shape\":\"\"}},\"name\":\"Action, Adventure, Fantasy            \",\"offsetgroup\":\"Action, Adventure, Fantasy            \",\"orientation\":\"v\",\"showlegend\":true,\"textposition\":\"auto\",\"x\":[24,25,124,125,224,225,324,325],\"xaxis\":\"x\",\"y\":[8.2,9.0,8.2,9.0,8.2,9.0,8.2,9.0],\"yaxis\":\"y\",\"type\":\"bar\"},{\"alignmentgroup\":\"True\",\"hovertemplate\":\"color=Comedy, Music, Romance            <br>index=%{x}<br>value=%{y}<extra></extra>\",\"legendgroup\":\"Comedy, Music, Romance            \",\"marker\":{\"color\":\"#EF553B\",\"pattern\":{\"shape\":\"\"}},\"name\":\"Comedy, Music, Romance            \",\"offsetgroup\":\"Comedy, Music, Romance            \",\"orientation\":\"v\",\"showlegend\":true,\"textposition\":\"auto\",\"x\":[26,126,226,326],\"xaxis\":\"x\",\"y\":[8.4,8.4,8.4,8.4],\"yaxis\":\"y\",\"type\":\"bar\"},{\"alignmentgroup\":\"True\",\"hovertemplate\":\"color=Action, Adventure, Sci-Fi            <br>index=%{x}<br>value=%{y}<extra></extra>\",\"legendgroup\":\"Action, Adventure, Sci-Fi            \",\"marker\":{\"color\":\"#00cc96\",\"pattern\":{\"shape\":\"\"}},\"name\":\"Action, Adventure, Sci-Fi            \",\"offsetgroup\":\"Action, Adventure, Sci-Fi            \",\"orientation\":\"v\",\"showlegend\":true,\"textposition\":\"auto\",\"x\":[27,57,65,66,86,88,91,127,157,165,166,186,188,191,227,257,265,266,286,288,291,327,357,365,366,386,388,391],\"xaxis\":\"x\",\"y\":[8.6,8.1,7.5,7.3,8.0,7.3,7.5,8.6,8.1,7.5,7.3,8.0,7.3,7.5,8.6,8.1,7.5,7.3,8.0,7.3,7.5,8.6,8.1,7.5,7.3,8.0,7.3,7.5],\"yaxis\":\"y\",\"type\":\"bar\"},{\"alignmentgroup\":\"True\",\"hovertemplate\":\"color=Action, Drama, Horror            <br>index=%{x}<br>value=%{y}<extra></extra>\",\"legendgroup\":\"Action, Drama, Horror            \",\"marker\":{\"color\":\"#ab63fa\",\"pattern\":{\"shape\":\"\"}},\"name\":\"Action, Drama, Horror            \",\"offsetgroup\":\"Action, Drama, Horror            \",\"orientation\":\"v\",\"showlegend\":true,\"textposition\":\"auto\",\"x\":[28,128,228,328],\"xaxis\":\"x\",\"y\":[8.7,8.7,8.7,8.7],\"yaxis\":\"y\",\"type\":\"bar\"},{\"alignmentgroup\":\"True\",\"hovertemplate\":\"color=Horror, Mystery, Thriller            <br>index=%{x}<br>value=%{y}<extra></extra>\",\"legendgroup\":\"Horror, Mystery, Thriller            \",\"marker\":{\"color\":\"#FFA15A\",\"pattern\":{\"shape\":\"\"}},\"name\":\"Horror, Mystery, Thriller            \",\"offsetgroup\":\"Horror, Mystery, Thriller            \",\"orientation\":\"v\",\"showlegend\":true,\"textposition\":\"auto\",\"x\":[29,70,99,129,170,199,229,270,299,329,370,399],\"xaxis\":\"x\",\"y\":[8.3,7.5,8.0,8.3,7.5,8.0,8.3,7.5,8.0,8.3,7.5,8.0],\"yaxis\":\"y\",\"type\":\"bar\"},{\"alignmentgroup\":\"True\",\"hovertemplate\":\"color=Action, Adventure            <br>index=%{x}<br>value=%{y}<extra></extra>\",\"legendgroup\":\"Action, Adventure            \",\"marker\":{\"color\":\"#19d3f3\",\"pattern\":{\"shape\":\"\"}},\"name\":\"Action, Adventure            \",\"offsetgroup\":\"Action, Adventure            \",\"orientation\":\"v\",\"showlegend\":true,\"textposition\":\"auto\",\"x\":[30,130,230,330],\"xaxis\":\"x\",\"y\":[7.8,7.8,7.8,7.8],\"yaxis\":\"y\",\"type\":\"bar\"},{\"alignmentgroup\":\"True\",\"hovertemplate\":\"color=Action, Crime, Fantasy            <br>index=%{x}<br>value=%{y}<extra></extra>\",\"legendgroup\":\"Action, Crime, Fantasy            \",\"marker\":{\"color\":\"#FF6692\",\"pattern\":{\"shape\":\"\"}},\"name\":\"Action, Crime, Fantasy            \",\"offsetgroup\":\"Action, Crime, Fantasy            \",\"orientation\":\"v\",\"showlegend\":true,\"textposition\":\"auto\",\"x\":[31,131,231,331],\"xaxis\":\"x\",\"y\":[8.5,8.5,8.5,8.5],\"yaxis\":\"y\",\"type\":\"bar\"},{\"alignmentgroup\":\"True\",\"hovertemplate\":\"color=Action, Crime, Thriller            <br>index=%{x}<br>value=%{y}<extra></extra>\",\"legendgroup\":\"Action, Crime, Thriller            \",\"marker\":{\"color\":\"#B6E880\",\"pattern\":{\"shape\":\"\"}},\"name\":\"Action, Crime, Thriller            \",\"offsetgroup\":\"Action, Crime, Thriller            \",\"orientation\":\"v\",\"showlegend\":true,\"textposition\":\"auto\",\"x\":[32,59,93,95,132,159,193,195,232,259,293,295,332,359,393,395],\"xaxis\":\"x\",\"y\":[7.8,7.6,8.5,8.2,7.8,7.6,8.5,8.2,7.8,7.6,8.5,8.2,7.8,7.6,8.5,8.2],\"yaxis\":\"y\",\"type\":\"bar\"},{\"alignmentgroup\":\"True\",\"hovertemplate\":\"color=Comedy, Drama            <br>index=%{x}<br>value=%{y}<extra></extra>\",\"legendgroup\":\"Comedy, Drama            \",\"marker\":{\"color\":\"#FF97FF\",\"pattern\":{\"shape\":\"\"}},\"name\":\"Comedy, Drama            \",\"offsetgroup\":\"Comedy, Drama            \",\"orientation\":\"v\",\"showlegend\":true,\"textposition\":\"auto\",\"x\":[35,64,78,135,164,178,235,264,278,335,364,378],\"xaxis\":\"x\",\"y\":[7.7,8.2,8.8,7.7,8.2,8.8,7.7,8.2,8.8,7.7,8.2,8.8],\"yaxis\":\"y\",\"type\":\"bar\"},{\"alignmentgroup\":\"True\",\"hovertemplate\":\"color=Action, Adventure, Drama            <br>index=%{x}<br>value=%{y}<extra></extra>\",\"legendgroup\":\"Action, Adventure, Drama            \",\"marker\":{\"color\":\"#FECB52\",\"pattern\":{\"shape\":\"\"}},\"name\":\"Action, Adventure, Drama            \",\"offsetgroup\":\"Action, Adventure, Drama            \",\"orientation\":\"v\",\"showlegend\":true,\"textposition\":\"auto\",\"x\":[36,89,136,189,236,289,336,389],\"xaxis\":\"x\",\"y\":[8.5,7.2,8.5,7.2,8.5,7.2,8.5,7.2],\"yaxis\":\"y\",\"type\":\"bar\"},{\"alignmentgroup\":\"True\",\"hovertemplate\":\"color=Action, Drama, Sci-Fi            <br>index=%{x}<br>value=%{y}<extra></extra>\",\"legendgroup\":\"Action, Drama, Sci-Fi            \",\"marker\":{\"color\":\"#636efa\",\"pattern\":{\"shape\":\"\"}},\"name\":\"Action, Drama, Sci-Fi            \",\"offsetgroup\":\"Action, Drama, Sci-Fi            \",\"orientation\":\"v\",\"showlegend\":true,\"textposition\":\"auto\",\"x\":[37,137,237,337],\"xaxis\":\"x\",\"y\":[9.2,9.2,9.2,9.2],\"yaxis\":\"y\",\"type\":\"bar\"},{\"alignmentgroup\":\"True\",\"hovertemplate\":\"color=Drama, Sport            <br>index=%{x}<br>value=%{y}<extra></extra>\",\"legendgroup\":\"Drama, Sport            \",\"marker\":{\"color\":\"#EF553B\",\"pattern\":{\"shape\":\"\"}},\"name\":\"Drama, Sport            \",\"offsetgroup\":\"Drama, Sport            \",\"orientation\":\"v\",\"showlegend\":true,\"textposition\":\"auto\",\"x\":[38,39,40,41,42,138,139,140,141,142,238,239,240,241,242,338,339,340,341,342],\"xaxis\":\"x\",\"y\":[9.0,7.6,8.6,8.7,7.8,9.0,7.6,8.6,8.7,7.8,9.0,7.6,8.6,8.7,7.8,9.0,7.6,8.6,8.7,7.8],\"yaxis\":\"y\",\"type\":\"bar\"},{\"alignmentgroup\":\"True\",\"hovertemplate\":\"color=Biography, Crime, Drama            <br>index=%{x}<br>value=%{y}<extra></extra>\",\"legendgroup\":\"Biography, Crime, Drama            \",\"marker\":{\"color\":\"#00cc96\",\"pattern\":{\"shape\":\"\"}},\"name\":\"Biography, Crime, Drama            \",\"offsetgroup\":\"Biography, Crime, Drama            \",\"orientation\":\"v\",\"showlegend\":true,\"textposition\":\"auto\",\"x\":[43,61,94,143,161,194,243,261,294,343,361,394],\"xaxis\":\"x\",\"y\":[6.2,8.3,7.7,6.2,8.3,7.7,6.2,8.3,7.7,6.2,8.3,7.7],\"yaxis\":\"y\",\"type\":\"bar\"},{\"alignmentgroup\":\"True\",\"hovertemplate\":\"color=Action, Adventure, Family            <br>index=%{x}<br>value=%{y}<extra></extra>\",\"legendgroup\":\"Action, Adventure, Family            \",\"marker\":{\"color\":\"#ab63fa\",\"pattern\":{\"shape\":\"\"}},\"name\":\"Action, Adventure, Family            \",\"offsetgroup\":\"Action, Adventure, Family            \",\"orientation\":\"v\",\"showlegend\":true,\"textposition\":\"auto\",\"x\":[45,145,245,345],\"xaxis\":\"x\",\"y\":[8.6,8.6,8.6,8.6],\"yaxis\":\"y\",\"type\":\"bar\"},{\"alignmentgroup\":\"True\",\"hovertemplate\":\"color=Horror, Mystery            <br>index=%{x}<br>value=%{y}<extra></extra>\",\"legendgroup\":\"Horror, Mystery            \",\"marker\":{\"color\":\"#FFA15A\",\"pattern\":{\"shape\":\"\"}},\"name\":\"Horror, Mystery            \",\"offsetgroup\":\"Horror, Mystery            \",\"orientation\":\"v\",\"showlegend\":true,\"textposition\":\"auto\",\"x\":[46,146,246,346],\"xaxis\":\"x\",\"y\":[7.8,7.8,7.8,7.8],\"yaxis\":\"y\",\"type\":\"bar\"},{\"alignmentgroup\":\"True\",\"hovertemplate\":\"color=Crime, Drama, Thriller            <br>index=%{x}<br>value=%{y}<extra></extra>\",\"legendgroup\":\"Crime, Drama, Thriller            \",\"marker\":{\"color\":\"#19d3f3\",\"pattern\":{\"shape\":\"\"}},\"name\":\"Crime, Drama, Thriller            \",\"offsetgroup\":\"Crime, Drama, Thriller            \",\"orientation\":\"v\",\"showlegend\":true,\"textposition\":\"auto\",\"x\":[48,50,97,148,150,197,248,250,297,348,350,397],\"xaxis\":\"x\",\"y\":[8.1,8.2,8.1,8.1,8.2,8.1,8.1,8.2,8.1,8.1,8.2,8.1],\"yaxis\":\"y\",\"type\":\"bar\"},{\"alignmentgroup\":\"True\",\"hovertemplate\":\"color=Biography, Drama, History            <br>index=%{x}<br>value=%{y}<extra></extra>\",\"legendgroup\":\"Biography, Drama, History            \",\"marker\":{\"color\":\"#FF6692\",\"pattern\":{\"shape\":\"\"}},\"name\":\"Biography, Drama, History            \",\"offsetgroup\":\"Biography, Drama, History            \",\"orientation\":\"v\",\"showlegend\":true,\"textposition\":\"auto\",\"x\":[49,149,249,349],\"xaxis\":\"x\",\"y\":[8.6,8.6,8.6,8.6],\"yaxis\":\"y\",\"type\":\"bar\"},{\"alignmentgroup\":\"True\",\"hovertemplate\":\"color=Action, Drama, History            <br>index=%{x}<br>value=%{y}<extra></extra>\",\"legendgroup\":\"Action, Drama, History            \",\"marker\":{\"color\":\"#B6E880\",\"pattern\":{\"shape\":\"\"}},\"name\":\"Action, Drama, History            \",\"offsetgroup\":\"Action, Drama, History            \",\"orientation\":\"v\",\"showlegend\":true,\"textposition\":\"auto\",\"x\":[51,151,251,351],\"xaxis\":\"x\",\"y\":[7.7,7.7,7.7,7.7],\"yaxis\":\"y\",\"type\":\"bar\"},{\"alignmentgroup\":\"True\",\"hovertemplate\":\"color=Crime, Drama, Mystery            <br>index=%{x}<br>value=%{y}<extra></extra>\",\"legendgroup\":\"Crime, Drama, Mystery            \",\"marker\":{\"color\":\"#FF97FF\",\"pattern\":{\"shape\":\"\"}},\"name\":\"Crime, Drama, Mystery            \",\"offsetgroup\":\"Crime, Drama, Mystery            \",\"orientation\":\"v\",\"showlegend\":true,\"textposition\":\"auto\",\"x\":[53,76,153,176,253,276,353,376],\"xaxis\":\"x\",\"y\":[7.7,8.0,7.7,8.0,7.7,8.0,7.7,8.0],\"yaxis\":\"y\",\"type\":\"bar\"},{\"alignmentgroup\":\"True\",\"hovertemplate\":\"color=Action, Comedy, Crime            <br>index=%{x}<br>value=%{y}<extra></extra>\",\"legendgroup\":\"Action, Comedy, Crime            \",\"marker\":{\"color\":\"#FECB52\",\"pattern\":{\"shape\":\"\"}},\"name\":\"Action, Comedy, Crime            \",\"offsetgroup\":\"Action, Comedy, Crime            \",\"orientation\":\"v\",\"showlegend\":true,\"textposition\":\"auto\",\"x\":[54,60,154,160,254,260,354,360],\"xaxis\":\"x\",\"y\":[8.3,6.8,8.3,6.8,8.3,6.8,8.3,6.8],\"yaxis\":\"y\",\"type\":\"bar\"},{\"alignmentgroup\":\"True\",\"hovertemplate\":\"color=Horror, Sci-Fi            <br>index=%{x}<br>value=%{y}<extra></extra>\",\"legendgroup\":\"Horror, Sci-Fi            \",\"marker\":{\"color\":\"#636efa\",\"pattern\":{\"shape\":\"\"}},\"name\":\"Horror, Sci-Fi            \",\"offsetgroup\":\"Horror, Sci-Fi            \",\"orientation\":\"v\",\"showlegend\":true,\"textposition\":\"auto\",\"x\":[55,155,255,355],\"xaxis\":\"x\",\"y\":[7.7,7.7,7.7,7.7],\"yaxis\":\"y\",\"type\":\"bar\"},{\"alignmentgroup\":\"True\",\"hovertemplate\":\"color=Comedy, Crime, Drama            <br>index=%{x}<br>value=%{y}<extra></extra>\",\"legendgroup\":\"Comedy, Crime, Drama            \",\"marker\":{\"color\":\"#EF553B\",\"pattern\":{\"shape\":\"\"}},\"name\":\"Comedy, Crime, Drama            \",\"offsetgroup\":\"Comedy, Crime, Drama            \",\"orientation\":\"v\",\"showlegend\":true,\"textposition\":\"auto\",\"x\":[56,156,256,356],\"xaxis\":\"x\",\"y\":[8.2,8.2,8.2,8.2],\"yaxis\":\"y\",\"type\":\"bar\"},{\"alignmentgroup\":\"True\",\"hovertemplate\":\"color=Mystery, Thriller            <br>index=%{x}<br>value=%{y}<extra></extra>\",\"legendgroup\":\"Mystery, Thriller            \",\"marker\":{\"color\":\"#00cc96\",\"pattern\":{\"shape\":\"\"}},\"name\":\"Mystery, Thriller            \",\"offsetgroup\":\"Mystery, Thriller            \",\"orientation\":\"v\",\"showlegend\":true,\"textposition\":\"auto\",\"x\":[58,158,258,358],\"xaxis\":\"x\",\"y\":[8.1,8.1,8.1,8.1],\"yaxis\":\"y\",\"type\":\"bar\"},{\"alignmentgroup\":\"True\",\"hovertemplate\":\"color=Action, Drama, Fantasy            <br>index=%{x}<br>value=%{y}<extra></extra>\",\"legendgroup\":\"Action, Drama, Fantasy            \",\"marker\":{\"color\":\"#ab63fa\",\"pattern\":{\"shape\":\"\"}},\"name\":\"Action, Drama, Fantasy            \",\"offsetgroup\":\"Action, Drama, Fantasy            \",\"orientation\":\"v\",\"showlegend\":true,\"textposition\":\"auto\",\"x\":[67,167,267,367],\"xaxis\":\"x\",\"y\":[6.3,6.3,6.3,6.3],\"yaxis\":\"y\",\"type\":\"bar\"},{\"alignmentgroup\":\"True\",\"hovertemplate\":\"color=Biography, Drama            <br>index=%{x}<br>value=%{y}<extra></extra>\",\"legendgroup\":\"Biography, Drama            \",\"marker\":{\"color\":\"#FFA15A\",\"pattern\":{\"shape\":\"\"}},\"name\":\"Biography, Drama            \",\"offsetgroup\":\"Biography, Drama            \",\"orientation\":\"v\",\"showlegend\":true,\"textposition\":\"auto\",\"x\":[68,85,168,185,268,285,368,385],\"xaxis\":\"x\",\"y\":[6.8,7.7,6.8,7.7,6.8,7.7,6.8,7.7],\"yaxis\":\"y\",\"type\":\"bar\"},{\"alignmentgroup\":\"True\",\"hovertemplate\":\"color=Horror, Sci-Fi, Thriller            <br>index=%{x}<br>value=%{y}<extra></extra>\",\"legendgroup\":\"Horror, Sci-Fi, Thriller            \",\"marker\":{\"color\":\"#19d3f3\",\"pattern\":{\"shape\":\"\"}},\"name\":\"Horror, Sci-Fi, Thriller            \",\"offsetgroup\":\"Horror, Sci-Fi, Thriller            \",\"orientation\":\"v\",\"showlegend\":true,\"textposition\":\"auto\",\"x\":[69,71,169,171,269,271,369,371],\"xaxis\":\"x\",\"y\":[7.8,8.2,7.8,8.2,7.8,8.2,7.8,8.2],\"yaxis\":\"y\",\"type\":\"bar\"},{\"alignmentgroup\":\"True\",\"hovertemplate\":\"color=Action, Horror, Sci-Fi            <br>index=%{x}<br>value=%{y}<extra></extra>\",\"legendgroup\":\"Action, Horror, Sci-Fi            \",\"marker\":{\"color\":\"#FF6692\",\"pattern\":{\"shape\":\"\"}},\"name\":\"Action, Horror, Sci-Fi            \",\"offsetgroup\":\"Action, Horror, Sci-Fi            \",\"orientation\":\"v\",\"showlegend\":true,\"textposition\":\"auto\",\"x\":[72,172,272,372],\"xaxis\":\"x\",\"y\":[8.4,8.4,8.4,8.4],\"yaxis\":\"y\",\"type\":\"bar\"},{\"alignmentgroup\":\"True\",\"hovertemplate\":\"color=Action, Adventure, Biography            <br>index=%{x}<br>value=%{y}<extra></extra>\",\"legendgroup\":\"Action, Adventure, Biography            \",\"marker\":{\"color\":\"#B6E880\",\"pattern\":{\"shape\":\"\"}},\"name\":\"Action, Adventure, Biography            \",\"offsetgroup\":\"Action, Adventure, Biography            \",\"orientation\":\"v\",\"showlegend\":true,\"textposition\":\"auto\",\"x\":[74,174,274,374],\"xaxis\":\"x\",\"y\":[8.2,8.2,8.2,8.2],\"yaxis\":\"y\",\"type\":\"bar\"},{\"alignmentgroup\":\"True\",\"hovertemplate\":\"color=Crime, Drama, Horror            <br>index=%{x}<br>value=%{y}<extra></extra>\",\"legendgroup\":\"Crime, Drama, Horror            \",\"marker\":{\"color\":\"#FF97FF\",\"pattern\":{\"shape\":\"\"}},\"name\":\"Crime, Drama, Horror            \",\"offsetgroup\":\"Crime, Drama, Horror            \",\"orientation\":\"v\",\"showlegend\":true,\"textposition\":\"auto\",\"x\":[75,175,275,375],\"xaxis\":\"x\",\"y\":[8.1,8.1,8.1,8.1],\"yaxis\":\"y\",\"type\":\"bar\"},{\"alignmentgroup\":\"True\",\"hovertemplate\":\"color=Crime, Drama, Film-Noir            <br>index=%{x}<br>value=%{y}<extra></extra>\",\"legendgroup\":\"Crime, Drama, Film-Noir            \",\"marker\":{\"color\":\"#FECB52\",\"pattern\":{\"shape\":\"\"}},\"name\":\"Crime, Drama, Film-Noir            \",\"offsetgroup\":\"Crime, Drama, Film-Noir            \",\"orientation\":\"v\",\"showlegend\":true,\"textposition\":\"auto\",\"x\":[81,181,281,381],\"xaxis\":\"x\",\"y\":[7.6,7.6,7.6,7.6],\"yaxis\":\"y\",\"type\":\"bar\"},{\"alignmentgroup\":\"True\",\"hovertemplate\":\"color=Action, Crime, Drama            <br>index=%{x}<br>value=%{y}<extra></extra>\",\"legendgroup\":\"Action, Crime, Drama            \",\"marker\":{\"color\":\"#636efa\",\"pattern\":{\"shape\":\"\"}},\"name\":\"Action, Crime, Drama            \",\"offsetgroup\":\"Action, Crime, Drama            \",\"orientation\":\"v\",\"showlegend\":true,\"textposition\":\"auto\",\"x\":[84,184,284,384],\"xaxis\":\"x\",\"y\":[7.4,7.4,7.4,7.4],\"yaxis\":\"y\",\"type\":\"bar\"},{\"alignmentgroup\":\"True\",\"hovertemplate\":\"color=Adventure, Mystery, Sci-Fi            <br>index=%{x}<br>value=%{y}<extra></extra>\",\"legendgroup\":\"Adventure, Mystery, Sci-Fi            \",\"marker\":{\"color\":\"#EF553B\",\"pattern\":{\"shape\":\"\"}},\"name\":\"Adventure, Mystery, Sci-Fi            \",\"offsetgroup\":\"Adventure, Mystery, Sci-Fi            \",\"orientation\":\"v\",\"showlegend\":true,\"textposition\":\"auto\",\"x\":[87,187,287,387],\"xaxis\":\"x\",\"y\":[8.2,8.2,8.2,8.2],\"yaxis\":\"y\",\"type\":\"bar\"},{\"alignmentgroup\":\"True\",\"hovertemplate\":\"color=Drama, War            <br>index=%{x}<br>value=%{y}<extra></extra>\",\"legendgroup\":\"Drama, War            \",\"marker\":{\"color\":\"#00cc96\",\"pattern\":{\"shape\":\"\"}},\"name\":\"Drama, War            \",\"offsetgroup\":\"Drama, War            \",\"orientation\":\"v\",\"showlegend\":true,\"textposition\":\"auto\",\"x\":[96,196,296,396],\"xaxis\":\"x\",\"y\":[8.0,8.0,8.0,8.0],\"yaxis\":\"y\",\"type\":\"bar\"},{\"alignmentgroup\":\"True\",\"hovertemplate\":\"color=Adventure, Comedy, Drama            <br>index=%{x}<br>value=%{y}<extra></extra>\",\"legendgroup\":\"Adventure, Comedy, Drama            \",\"marker\":{\"color\":\"#ab63fa\",\"pattern\":{\"shape\":\"\"}},\"name\":\"Adventure, Comedy, Drama            \",\"offsetgroup\":\"Adventure, Comedy, Drama            \",\"orientation\":\"v\",\"showlegend\":true,\"textposition\":\"auto\",\"x\":[98,198,298,398],\"xaxis\":\"x\",\"y\":[7.2,7.2,7.2,7.2],\"yaxis\":\"y\",\"type\":\"bar\"}],                        {\"template\":{\"data\":{\"histogram2dcontour\":[{\"type\":\"histogram2dcontour\",\"colorbar\":{\"outlinewidth\":0,\"ticks\":\"\"},\"colorscale\":[[0.0,\"#0d0887\"],[0.1111111111111111,\"#46039f\"],[0.2222222222222222,\"#7201a8\"],[0.3333333333333333,\"#9c179e\"],[0.4444444444444444,\"#bd3786\"],[0.5555555555555556,\"#d8576b\"],[0.6666666666666666,\"#ed7953\"],[0.7777777777777778,\"#fb9f3a\"],[0.8888888888888888,\"#fdca26\"],[1.0,\"#f0f921\"]]}],\"choropleth\":[{\"type\":\"choropleth\",\"colorbar\":{\"outlinewidth\":0,\"ticks\":\"\"}}],\"histogram2d\":[{\"type\":\"histogram2d\",\"colorbar\":{\"outlinewidth\":0,\"ticks\":\"\"},\"colorscale\":[[0.0,\"#0d0887\"],[0.1111111111111111,\"#46039f\"],[0.2222222222222222,\"#7201a8\"],[0.3333333333333333,\"#9c179e\"],[0.4444444444444444,\"#bd3786\"],[0.5555555555555556,\"#d8576b\"],[0.6666666666666666,\"#ed7953\"],[0.7777777777777778,\"#fb9f3a\"],[0.8888888888888888,\"#fdca26\"],[1.0,\"#f0f921\"]]}],\"heatmap\":[{\"type\":\"heatmap\",\"colorbar\":{\"outlinewidth\":0,\"ticks\":\"\"},\"colorscale\":[[0.0,\"#0d0887\"],[0.1111111111111111,\"#46039f\"],[0.2222222222222222,\"#7201a8\"],[0.3333333333333333,\"#9c179e\"],[0.4444444444444444,\"#bd3786\"],[0.5555555555555556,\"#d8576b\"],[0.6666666666666666,\"#ed7953\"],[0.7777777777777778,\"#fb9f3a\"],[0.8888888888888888,\"#fdca26\"],[1.0,\"#f0f921\"]]}],\"heatmapgl\":[{\"type\":\"heatmapgl\",\"colorbar\":{\"outlinewidth\":0,\"ticks\":\"\"},\"colorscale\":[[0.0,\"#0d0887\"],[0.1111111111111111,\"#46039f\"],[0.2222222222222222,\"#7201a8\"],[0.3333333333333333,\"#9c179e\"],[0.4444444444444444,\"#bd3786\"],[0.5555555555555556,\"#d8576b\"],[0.6666666666666666,\"#ed7953\"],[0.7777777777777778,\"#fb9f3a\"],[0.8888888888888888,\"#fdca26\"],[1.0,\"#f0f921\"]]}],\"contourcarpet\":[{\"type\":\"contourcarpet\",\"colorbar\":{\"outlinewidth\":0,\"ticks\":\"\"}}],\"contour\":[{\"type\":\"contour\",\"colorbar\":{\"outlinewidth\":0,\"ticks\":\"\"},\"colorscale\":[[0.0,\"#0d0887\"],[0.1111111111111111,\"#46039f\"],[0.2222222222222222,\"#7201a8\"],[0.3333333333333333,\"#9c179e\"],[0.4444444444444444,\"#bd3786\"],[0.5555555555555556,\"#d8576b\"],[0.6666666666666666,\"#ed7953\"],[0.7777777777777778,\"#fb9f3a\"],[0.8888888888888888,\"#fdca26\"],[1.0,\"#f0f921\"]]}],\"surface\":[{\"type\":\"surface\",\"colorbar\":{\"outlinewidth\":0,\"ticks\":\"\"},\"colorscale\":[[0.0,\"#0d0887\"],[0.1111111111111111,\"#46039f\"],[0.2222222222222222,\"#7201a8\"],[0.3333333333333333,\"#9c179e\"],[0.4444444444444444,\"#bd3786\"],[0.5555555555555556,\"#d8576b\"],[0.6666666666666666,\"#ed7953\"],[0.7777777777777778,\"#fb9f3a\"],[0.8888888888888888,\"#fdca26\"],[1.0,\"#f0f921\"]]}],\"mesh3d\":[{\"type\":\"mesh3d\",\"colorbar\":{\"outlinewidth\":0,\"ticks\":\"\"}}],\"scatter\":[{\"fillpattern\":{\"fillmode\":\"overlay\",\"size\":10,\"solidity\":0.2},\"type\":\"scatter\"}],\"parcoords\":[{\"type\":\"parcoords\",\"line\":{\"colorbar\":{\"outlinewidth\":0,\"ticks\":\"\"}}}],\"scatterpolargl\":[{\"type\":\"scatterpolargl\",\"marker\":{\"colorbar\":{\"outlinewidth\":0,\"ticks\":\"\"}}}],\"bar\":[{\"error_x\":{\"color\":\"#2a3f5f\"},\"error_y\":{\"color\":\"#2a3f5f\"},\"marker\":{\"line\":{\"color\":\"#E5ECF6\",\"width\":0.5},\"pattern\":{\"fillmode\":\"overlay\",\"size\":10,\"solidity\":0.2}},\"type\":\"bar\"}],\"scattergeo\":[{\"type\":\"scattergeo\",\"marker\":{\"colorbar\":{\"outlinewidth\":0,\"ticks\":\"\"}}}],\"scatterpolar\":[{\"type\":\"scatterpolar\",\"marker\":{\"colorbar\":{\"outlinewidth\":0,\"ticks\":\"\"}}}],\"histogram\":[{\"marker\":{\"pattern\":{\"fillmode\":\"overlay\",\"size\":10,\"solidity\":0.2}},\"type\":\"histogram\"}],\"scattergl\":[{\"type\":\"scattergl\",\"marker\":{\"colorbar\":{\"outlinewidth\":0,\"ticks\":\"\"}}}],\"scatter3d\":[{\"type\":\"scatter3d\",\"line\":{\"colorbar\":{\"outlinewidth\":0,\"ticks\":\"\"}},\"marker\":{\"colorbar\":{\"outlinewidth\":0,\"ticks\":\"\"}}}],\"scattermapbox\":[{\"type\":\"scattermapbox\",\"marker\":{\"colorbar\":{\"outlinewidth\":0,\"ticks\":\"\"}}}],\"scatterternary\":[{\"type\":\"scatterternary\",\"marker\":{\"colorbar\":{\"outlinewidth\":0,\"ticks\":\"\"}}}],\"scattercarpet\":[{\"type\":\"scattercarpet\",\"marker\":{\"colorbar\":{\"outlinewidth\":0,\"ticks\":\"\"}}}],\"carpet\":[{\"aaxis\":{\"endlinecolor\":\"#2a3f5f\",\"gridcolor\":\"white\",\"linecolor\":\"white\",\"minorgridcolor\":\"white\",\"startlinecolor\":\"#2a3f5f\"},\"baxis\":{\"endlinecolor\":\"#2a3f5f\",\"gridcolor\":\"white\",\"linecolor\":\"white\",\"minorgridcolor\":\"white\",\"startlinecolor\":\"#2a3f5f\"},\"type\":\"carpet\"}],\"table\":[{\"cells\":{\"fill\":{\"color\":\"#EBF0F8\"},\"line\":{\"color\":\"white\"}},\"header\":{\"fill\":{\"color\":\"#C8D4E3\"},\"line\":{\"color\":\"white\"}},\"type\":\"table\"}],\"barpolar\":[{\"marker\":{\"line\":{\"color\":\"#E5ECF6\",\"width\":0.5},\"pattern\":{\"fillmode\":\"overlay\",\"size\":10,\"solidity\":0.2}},\"type\":\"barpolar\"}],\"pie\":[{\"automargin\":true,\"type\":\"pie\"}]},\"layout\":{\"autotypenumbers\":\"strict\",\"colorway\":[\"#636efa\",\"#EF553B\",\"#00cc96\",\"#ab63fa\",\"#FFA15A\",\"#19d3f3\",\"#FF6692\",\"#B6E880\",\"#FF97FF\",\"#FECB52\"],\"font\":{\"color\":\"#2a3f5f\"},\"hovermode\":\"closest\",\"hoverlabel\":{\"align\":\"left\"},\"paper_bgcolor\":\"white\",\"plot_bgcolor\":\"#E5ECF6\",\"polar\":{\"bgcolor\":\"#E5ECF6\",\"angularaxis\":{\"gridcolor\":\"white\",\"linecolor\":\"white\",\"ticks\":\"\"},\"radialaxis\":{\"gridcolor\":\"white\",\"linecolor\":\"white\",\"ticks\":\"\"}},\"ternary\":{\"bgcolor\":\"#E5ECF6\",\"aaxis\":{\"gridcolor\":\"white\",\"linecolor\":\"white\",\"ticks\":\"\"},\"baxis\":{\"gridcolor\":\"white\",\"linecolor\":\"white\",\"ticks\":\"\"},\"caxis\":{\"gridcolor\":\"white\",\"linecolor\":\"white\",\"ticks\":\"\"}},\"coloraxis\":{\"colorbar\":{\"outlinewidth\":0,\"ticks\":\"\"}},\"colorscale\":{\"sequential\":[[0.0,\"#0d0887\"],[0.1111111111111111,\"#46039f\"],[0.2222222222222222,\"#7201a8\"],[0.3333333333333333,\"#9c179e\"],[0.4444444444444444,\"#bd3786\"],[0.5555555555555556,\"#d8576b\"],[0.6666666666666666,\"#ed7953\"],[0.7777777777777778,\"#fb9f3a\"],[0.8888888888888888,\"#fdca26\"],[1.0,\"#f0f921\"]],\"sequentialminus\":[[0.0,\"#0d0887\"],[0.1111111111111111,\"#46039f\"],[0.2222222222222222,\"#7201a8\"],[0.3333333333333333,\"#9c179e\"],[0.4444444444444444,\"#bd3786\"],[0.5555555555555556,\"#d8576b\"],[0.6666666666666666,\"#ed7953\"],[0.7777777777777778,\"#fb9f3a\"],[0.8888888888888888,\"#fdca26\"],[1.0,\"#f0f921\"]],\"diverging\":[[0,\"#8e0152\"],[0.1,\"#c51b7d\"],[0.2,\"#de77ae\"],[0.3,\"#f1b6da\"],[0.4,\"#fde0ef\"],[0.5,\"#f7f7f7\"],[0.6,\"#e6f5d0\"],[0.7,\"#b8e186\"],[0.8,\"#7fbc41\"],[0.9,\"#4d9221\"],[1,\"#276419\"]]},\"xaxis\":{\"gridcolor\":\"white\",\"linecolor\":\"white\",\"ticks\":\"\",\"title\":{\"standoff\":15},\"zerolinecolor\":\"white\",\"automargin\":true,\"zerolinewidth\":2},\"yaxis\":{\"gridcolor\":\"white\",\"linecolor\":\"white\",\"ticks\":\"\",\"title\":{\"standoff\":15},\"zerolinecolor\":\"white\",\"automargin\":true,\"zerolinewidth\":2},\"scene\":{\"xaxis\":{\"backgroundcolor\":\"#E5ECF6\",\"gridcolor\":\"white\",\"linecolor\":\"white\",\"showbackground\":true,\"ticks\":\"\",\"zerolinecolor\":\"white\",\"gridwidth\":2},\"yaxis\":{\"backgroundcolor\":\"#E5ECF6\",\"gridcolor\":\"white\",\"linecolor\":\"white\",\"showbackground\":true,\"ticks\":\"\",\"zerolinecolor\":\"white\",\"gridwidth\":2},\"zaxis\":{\"backgroundcolor\":\"#E5ECF6\",\"gridcolor\":\"white\",\"linecolor\":\"white\",\"showbackground\":true,\"ticks\":\"\",\"zerolinecolor\":\"white\",\"gridwidth\":2}},\"shapedefaults\":{\"line\":{\"color\":\"#2a3f5f\"}},\"annotationdefaults\":{\"arrowcolor\":\"#2a3f5f\",\"arrowhead\":0,\"arrowwidth\":1},\"geo\":{\"bgcolor\":\"white\",\"landcolor\":\"#E5ECF6\",\"subunitcolor\":\"white\",\"showland\":true,\"showlakes\":true,\"lakecolor\":\"white\"},\"title\":{\"x\":0.05},\"mapbox\":{\"style\":\"light\"}}},\"xaxis\":{\"anchor\":\"y\",\"domain\":[0.0,1.0],\"title\":{\"text\":\"index\"},\"categoryorder\":\"sum descending\"},\"yaxis\":{\"anchor\":\"x\",\"domain\":[0.0,1.0],\"title\":{\"text\":\"value\"}},\"legend\":{\"title\":{\"text\":\"color\"},\"tracegroupgap\":0},\"margin\":{\"t\":60},\"barmode\":\"relative\"},                        {\"responsive\": true}                    ).then(function(){\n",
       "                            \n",
       "var gd = document.getElementById('9537e55a-c2b2-4c59-9df8-1acdc515e685');\n",
       "var x = new MutationObserver(function (mutations, observer) {{\n",
       "        var display = window.getComputedStyle(gd).display;\n",
       "        if (!display || display === 'none') {{\n",
       "            console.log([gd, 'removed!']);\n",
       "            Plotly.purge(gd);\n",
       "            observer.disconnect();\n",
       "        }}\n",
       "}});\n",
       "\n",
       "// Listen for the removal of the full notebook cells\n",
       "var notebookContainer = gd.closest('#notebook-container');\n",
       "if (notebookContainer) {{\n",
       "    x.observe(notebookContainer, {childList: true});\n",
       "}}\n",
       "\n",
       "// Listen for the clearing of the current output cell\n",
       "var outputEl = gd.closest('.output');\n",
       "if (outputEl) {{\n",
       "    x.observe(outputEl, {childList: true});\n",
       "}}\n",
       "\n",
       "                        })                };                });            </script>        </div>"
      ]
     },
     "metadata": {},
     "output_type": "display_data"
    }
   ],
   "source": [
    "fig = px.bar(df[\"Ratings\"],color=df[\"Genre\"])\n",
    "fig.update_xaxes(categoryorder=\"sum descending\")"
   ]
  },
  {
   "cell_type": "code",
   "execution_count": null,
   "id": "76e4e6d8",
   "metadata": {},
   "outputs": [],
   "source": []
  },
  {
   "cell_type": "code",
   "execution_count": null,
   "id": "85b61e5d",
   "metadata": {},
   "outputs": [],
   "source": []
  }
 ],
 "metadata": {
  "kernelspec": {
   "display_name": "Python 3 (ipykernel)",
   "language": "python",
   "name": "python3"
  },
  "language_info": {
   "codemirror_mode": {
    "name": "ipython",
    "version": 3
   },
   "file_extension": ".py",
   "mimetype": "text/x-python",
   "name": "python",
   "nbconvert_exporter": "python",
   "pygments_lexer": "ipython3",
   "version": "3.9.12"
  }
 },
 "nbformat": 4,
 "nbformat_minor": 5
}
